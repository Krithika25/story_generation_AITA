{
  "nbformat": 4,
  "nbformat_minor": 0,
  "metadata": {
    "colab": {
      "name": "With _KeyBERT_Keywords.ipynb",
      "provenance": [],
      "machine_shape": "hm"
    },
    "kernelspec": {
      "name": "python3",
      "display_name": "Python 3"
    },
    "language_info": {
      "name": "python"
    },
    "accelerator": "GPU",
    "widgets": {
      "application/vnd.jupyter.widget-state+json": {
        "5d3b141f32f9468c93eed0a7007473b8": {
          "model_module": "@jupyter-widgets/controls",
          "model_name": "HBoxModel",
          "model_module_version": "1.5.0",
          "state": {
            "_dom_classes": [],
            "_model_module": "@jupyter-widgets/controls",
            "_model_module_version": "1.5.0",
            "_model_name": "HBoxModel",
            "_view_count": null,
            "_view_module": "@jupyter-widgets/controls",
            "_view_module_version": "1.5.0",
            "_view_name": "HBoxView",
            "box_style": "",
            "children": [
              "IPY_MODEL_47e8c87b90be4fb695cb6e11b20faae4",
              "IPY_MODEL_f631972ccc9f45d188c4a359f853ccc8",
              "IPY_MODEL_f92a0badaf15476ba227aecc1545222d"
            ],
            "layout": "IPY_MODEL_539858929cda4d8c9aec3d1cf5366d22"
          }
        },
        "47e8c87b90be4fb695cb6e11b20faae4": {
          "model_module": "@jupyter-widgets/controls",
          "model_name": "HTMLModel",
          "model_module_version": "1.5.0",
          "state": {
            "_dom_classes": [],
            "_model_module": "@jupyter-widgets/controls",
            "_model_module_version": "1.5.0",
            "_model_name": "HTMLModel",
            "_view_count": null,
            "_view_module": "@jupyter-widgets/controls",
            "_view_module_version": "1.5.0",
            "_view_name": "HTMLView",
            "description": "",
            "description_tooltip": null,
            "layout": "IPY_MODEL_8aaeae7f7f324b1391ba307fb9d468bf",
            "placeholder": "​",
            "style": "IPY_MODEL_9d26e1fa82594d348d2566278dc166a7",
            "value": "Downloading: 100%"
          }
        },
        "f631972ccc9f45d188c4a359f853ccc8": {
          "model_module": "@jupyter-widgets/controls",
          "model_name": "FloatProgressModel",
          "model_module_version": "1.5.0",
          "state": {
            "_dom_classes": [],
            "_model_module": "@jupyter-widgets/controls",
            "_model_module_version": "1.5.0",
            "_model_name": "FloatProgressModel",
            "_view_count": null,
            "_view_module": "@jupyter-widgets/controls",
            "_view_module_version": "1.5.0",
            "_view_name": "ProgressView",
            "bar_style": "success",
            "description": "",
            "description_tooltip": null,
            "layout": "IPY_MODEL_624de30f9a60499390456ab9473bb5c1",
            "max": 1042301,
            "min": 0,
            "orientation": "horizontal",
            "style": "IPY_MODEL_8f5838dff8bf4ba1870a3b79d6e5955c",
            "value": 1042301
          }
        },
        "f92a0badaf15476ba227aecc1545222d": {
          "model_module": "@jupyter-widgets/controls",
          "model_name": "HTMLModel",
          "model_module_version": "1.5.0",
          "state": {
            "_dom_classes": [],
            "_model_module": "@jupyter-widgets/controls",
            "_model_module_version": "1.5.0",
            "_model_name": "HTMLModel",
            "_view_count": null,
            "_view_module": "@jupyter-widgets/controls",
            "_view_module_version": "1.5.0",
            "_view_name": "HTMLView",
            "description": "",
            "description_tooltip": null,
            "layout": "IPY_MODEL_d82f760d3ffb418db263d025bbe27585",
            "placeholder": "​",
            "style": "IPY_MODEL_fc32310c024e4dbc97b8ad77572c0006",
            "value": " 0.99M/0.99M [00:01&lt;00:00, 1.04MB/s]"
          }
        },
        "539858929cda4d8c9aec3d1cf5366d22": {
          "model_module": "@jupyter-widgets/base",
          "model_name": "LayoutModel",
          "model_module_version": "1.2.0",
          "state": {
            "_model_module": "@jupyter-widgets/base",
            "_model_module_version": "1.2.0",
            "_model_name": "LayoutModel",
            "_view_count": null,
            "_view_module": "@jupyter-widgets/base",
            "_view_module_version": "1.2.0",
            "_view_name": "LayoutView",
            "align_content": null,
            "align_items": null,
            "align_self": null,
            "border": null,
            "bottom": null,
            "display": null,
            "flex": null,
            "flex_flow": null,
            "grid_area": null,
            "grid_auto_columns": null,
            "grid_auto_flow": null,
            "grid_auto_rows": null,
            "grid_column": null,
            "grid_gap": null,
            "grid_row": null,
            "grid_template_areas": null,
            "grid_template_columns": null,
            "grid_template_rows": null,
            "height": null,
            "justify_content": null,
            "justify_items": null,
            "left": null,
            "margin": null,
            "max_height": null,
            "max_width": null,
            "min_height": null,
            "min_width": null,
            "object_fit": null,
            "object_position": null,
            "order": null,
            "overflow": null,
            "overflow_x": null,
            "overflow_y": null,
            "padding": null,
            "right": null,
            "top": null,
            "visibility": null,
            "width": null
          }
        },
        "8aaeae7f7f324b1391ba307fb9d468bf": {
          "model_module": "@jupyter-widgets/base",
          "model_name": "LayoutModel",
          "model_module_version": "1.2.0",
          "state": {
            "_model_module": "@jupyter-widgets/base",
            "_model_module_version": "1.2.0",
            "_model_name": "LayoutModel",
            "_view_count": null,
            "_view_module": "@jupyter-widgets/base",
            "_view_module_version": "1.2.0",
            "_view_name": "LayoutView",
            "align_content": null,
            "align_items": null,
            "align_self": null,
            "border": null,
            "bottom": null,
            "display": null,
            "flex": null,
            "flex_flow": null,
            "grid_area": null,
            "grid_auto_columns": null,
            "grid_auto_flow": null,
            "grid_auto_rows": null,
            "grid_column": null,
            "grid_gap": null,
            "grid_row": null,
            "grid_template_areas": null,
            "grid_template_columns": null,
            "grid_template_rows": null,
            "height": null,
            "justify_content": null,
            "justify_items": null,
            "left": null,
            "margin": null,
            "max_height": null,
            "max_width": null,
            "min_height": null,
            "min_width": null,
            "object_fit": null,
            "object_position": null,
            "order": null,
            "overflow": null,
            "overflow_x": null,
            "overflow_y": null,
            "padding": null,
            "right": null,
            "top": null,
            "visibility": null,
            "width": null
          }
        },
        "9d26e1fa82594d348d2566278dc166a7": {
          "model_module": "@jupyter-widgets/controls",
          "model_name": "DescriptionStyleModel",
          "model_module_version": "1.5.0",
          "state": {
            "_model_module": "@jupyter-widgets/controls",
            "_model_module_version": "1.5.0",
            "_model_name": "DescriptionStyleModel",
            "_view_count": null,
            "_view_module": "@jupyter-widgets/base",
            "_view_module_version": "1.2.0",
            "_view_name": "StyleView",
            "description_width": ""
          }
        },
        "624de30f9a60499390456ab9473bb5c1": {
          "model_module": "@jupyter-widgets/base",
          "model_name": "LayoutModel",
          "model_module_version": "1.2.0",
          "state": {
            "_model_module": "@jupyter-widgets/base",
            "_model_module_version": "1.2.0",
            "_model_name": "LayoutModel",
            "_view_count": null,
            "_view_module": "@jupyter-widgets/base",
            "_view_module_version": "1.2.0",
            "_view_name": "LayoutView",
            "align_content": null,
            "align_items": null,
            "align_self": null,
            "border": null,
            "bottom": null,
            "display": null,
            "flex": null,
            "flex_flow": null,
            "grid_area": null,
            "grid_auto_columns": null,
            "grid_auto_flow": null,
            "grid_auto_rows": null,
            "grid_column": null,
            "grid_gap": null,
            "grid_row": null,
            "grid_template_areas": null,
            "grid_template_columns": null,
            "grid_template_rows": null,
            "height": null,
            "justify_content": null,
            "justify_items": null,
            "left": null,
            "margin": null,
            "max_height": null,
            "max_width": null,
            "min_height": null,
            "min_width": null,
            "object_fit": null,
            "object_position": null,
            "order": null,
            "overflow": null,
            "overflow_x": null,
            "overflow_y": null,
            "padding": null,
            "right": null,
            "top": null,
            "visibility": null,
            "width": null
          }
        },
        "8f5838dff8bf4ba1870a3b79d6e5955c": {
          "model_module": "@jupyter-widgets/controls",
          "model_name": "ProgressStyleModel",
          "model_module_version": "1.5.0",
          "state": {
            "_model_module": "@jupyter-widgets/controls",
            "_model_module_version": "1.5.0",
            "_model_name": "ProgressStyleModel",
            "_view_count": null,
            "_view_module": "@jupyter-widgets/base",
            "_view_module_version": "1.2.0",
            "_view_name": "StyleView",
            "bar_color": null,
            "description_width": ""
          }
        },
        "d82f760d3ffb418db263d025bbe27585": {
          "model_module": "@jupyter-widgets/base",
          "model_name": "LayoutModel",
          "model_module_version": "1.2.0",
          "state": {
            "_model_module": "@jupyter-widgets/base",
            "_model_module_version": "1.2.0",
            "_model_name": "LayoutModel",
            "_view_count": null,
            "_view_module": "@jupyter-widgets/base",
            "_view_module_version": "1.2.0",
            "_view_name": "LayoutView",
            "align_content": null,
            "align_items": null,
            "align_self": null,
            "border": null,
            "bottom": null,
            "display": null,
            "flex": null,
            "flex_flow": null,
            "grid_area": null,
            "grid_auto_columns": null,
            "grid_auto_flow": null,
            "grid_auto_rows": null,
            "grid_column": null,
            "grid_gap": null,
            "grid_row": null,
            "grid_template_areas": null,
            "grid_template_columns": null,
            "grid_template_rows": null,
            "height": null,
            "justify_content": null,
            "justify_items": null,
            "left": null,
            "margin": null,
            "max_height": null,
            "max_width": null,
            "min_height": null,
            "min_width": null,
            "object_fit": null,
            "object_position": null,
            "order": null,
            "overflow": null,
            "overflow_x": null,
            "overflow_y": null,
            "padding": null,
            "right": null,
            "top": null,
            "visibility": null,
            "width": null
          }
        },
        "fc32310c024e4dbc97b8ad77572c0006": {
          "model_module": "@jupyter-widgets/controls",
          "model_name": "DescriptionStyleModel",
          "model_module_version": "1.5.0",
          "state": {
            "_model_module": "@jupyter-widgets/controls",
            "_model_module_version": "1.5.0",
            "_model_name": "DescriptionStyleModel",
            "_view_count": null,
            "_view_module": "@jupyter-widgets/base",
            "_view_module_version": "1.2.0",
            "_view_name": "StyleView",
            "description_width": ""
          }
        },
        "4401951a646c417eb68a36ccc7acf785": {
          "model_module": "@jupyter-widgets/controls",
          "model_name": "HBoxModel",
          "model_module_version": "1.5.0",
          "state": {
            "_dom_classes": [],
            "_model_module": "@jupyter-widgets/controls",
            "_model_module_version": "1.5.0",
            "_model_name": "HBoxModel",
            "_view_count": null,
            "_view_module": "@jupyter-widgets/controls",
            "_view_module_version": "1.5.0",
            "_view_name": "HBoxView",
            "box_style": "",
            "children": [
              "IPY_MODEL_f7c8cf353e764c789bd06fea594ce81b",
              "IPY_MODEL_71f72731957044d0a4896c5fa1e92e33",
              "IPY_MODEL_1882fc336c714f35bcf8f54366e68a6e"
            ],
            "layout": "IPY_MODEL_763fd3123db6438392ef89105250c638"
          }
        },
        "f7c8cf353e764c789bd06fea594ce81b": {
          "model_module": "@jupyter-widgets/controls",
          "model_name": "HTMLModel",
          "model_module_version": "1.5.0",
          "state": {
            "_dom_classes": [],
            "_model_module": "@jupyter-widgets/controls",
            "_model_module_version": "1.5.0",
            "_model_name": "HTMLModel",
            "_view_count": null,
            "_view_module": "@jupyter-widgets/controls",
            "_view_module_version": "1.5.0",
            "_view_name": "HTMLView",
            "description": "",
            "description_tooltip": null,
            "layout": "IPY_MODEL_78854f7343e7439bbe86934e35dc22c5",
            "placeholder": "​",
            "style": "IPY_MODEL_de065f90a36948faacb9962873b9c3fe",
            "value": "Downloading: 100%"
          }
        },
        "71f72731957044d0a4896c5fa1e92e33": {
          "model_module": "@jupyter-widgets/controls",
          "model_name": "FloatProgressModel",
          "model_module_version": "1.5.0",
          "state": {
            "_dom_classes": [],
            "_model_module": "@jupyter-widgets/controls",
            "_model_module_version": "1.5.0",
            "_model_name": "FloatProgressModel",
            "_view_count": null,
            "_view_module": "@jupyter-widgets/controls",
            "_view_module_version": "1.5.0",
            "_view_name": "ProgressView",
            "bar_style": "success",
            "description": "",
            "description_tooltip": null,
            "layout": "IPY_MODEL_2ca703767cde471b83fab8e6888074ca",
            "max": 456318,
            "min": 0,
            "orientation": "horizontal",
            "style": "IPY_MODEL_793c3bb1fdb0469caad89a74efd3261b",
            "value": 456318
          }
        },
        "1882fc336c714f35bcf8f54366e68a6e": {
          "model_module": "@jupyter-widgets/controls",
          "model_name": "HTMLModel",
          "model_module_version": "1.5.0",
          "state": {
            "_dom_classes": [],
            "_model_module": "@jupyter-widgets/controls",
            "_model_module_version": "1.5.0",
            "_model_name": "HTMLModel",
            "_view_count": null,
            "_view_module": "@jupyter-widgets/controls",
            "_view_module_version": "1.5.0",
            "_view_name": "HTMLView",
            "description": "",
            "description_tooltip": null,
            "layout": "IPY_MODEL_623b109d241f42c6973899a3a1ec67bf",
            "placeholder": "​",
            "style": "IPY_MODEL_a344a6b1977a47299a777a051157e349",
            "value": " 446k/446k [00:01&lt;00:00, 526kB/s]"
          }
        },
        "763fd3123db6438392ef89105250c638": {
          "model_module": "@jupyter-widgets/base",
          "model_name": "LayoutModel",
          "model_module_version": "1.2.0",
          "state": {
            "_model_module": "@jupyter-widgets/base",
            "_model_module_version": "1.2.0",
            "_model_name": "LayoutModel",
            "_view_count": null,
            "_view_module": "@jupyter-widgets/base",
            "_view_module_version": "1.2.0",
            "_view_name": "LayoutView",
            "align_content": null,
            "align_items": null,
            "align_self": null,
            "border": null,
            "bottom": null,
            "display": null,
            "flex": null,
            "flex_flow": null,
            "grid_area": null,
            "grid_auto_columns": null,
            "grid_auto_flow": null,
            "grid_auto_rows": null,
            "grid_column": null,
            "grid_gap": null,
            "grid_row": null,
            "grid_template_areas": null,
            "grid_template_columns": null,
            "grid_template_rows": null,
            "height": null,
            "justify_content": null,
            "justify_items": null,
            "left": null,
            "margin": null,
            "max_height": null,
            "max_width": null,
            "min_height": null,
            "min_width": null,
            "object_fit": null,
            "object_position": null,
            "order": null,
            "overflow": null,
            "overflow_x": null,
            "overflow_y": null,
            "padding": null,
            "right": null,
            "top": null,
            "visibility": null,
            "width": null
          }
        },
        "78854f7343e7439bbe86934e35dc22c5": {
          "model_module": "@jupyter-widgets/base",
          "model_name": "LayoutModel",
          "model_module_version": "1.2.0",
          "state": {
            "_model_module": "@jupyter-widgets/base",
            "_model_module_version": "1.2.0",
            "_model_name": "LayoutModel",
            "_view_count": null,
            "_view_module": "@jupyter-widgets/base",
            "_view_module_version": "1.2.0",
            "_view_name": "LayoutView",
            "align_content": null,
            "align_items": null,
            "align_self": null,
            "border": null,
            "bottom": null,
            "display": null,
            "flex": null,
            "flex_flow": null,
            "grid_area": null,
            "grid_auto_columns": null,
            "grid_auto_flow": null,
            "grid_auto_rows": null,
            "grid_column": null,
            "grid_gap": null,
            "grid_row": null,
            "grid_template_areas": null,
            "grid_template_columns": null,
            "grid_template_rows": null,
            "height": null,
            "justify_content": null,
            "justify_items": null,
            "left": null,
            "margin": null,
            "max_height": null,
            "max_width": null,
            "min_height": null,
            "min_width": null,
            "object_fit": null,
            "object_position": null,
            "order": null,
            "overflow": null,
            "overflow_x": null,
            "overflow_y": null,
            "padding": null,
            "right": null,
            "top": null,
            "visibility": null,
            "width": null
          }
        },
        "de065f90a36948faacb9962873b9c3fe": {
          "model_module": "@jupyter-widgets/controls",
          "model_name": "DescriptionStyleModel",
          "model_module_version": "1.5.0",
          "state": {
            "_model_module": "@jupyter-widgets/controls",
            "_model_module_version": "1.5.0",
            "_model_name": "DescriptionStyleModel",
            "_view_count": null,
            "_view_module": "@jupyter-widgets/base",
            "_view_module_version": "1.2.0",
            "_view_name": "StyleView",
            "description_width": ""
          }
        },
        "2ca703767cde471b83fab8e6888074ca": {
          "model_module": "@jupyter-widgets/base",
          "model_name": "LayoutModel",
          "model_module_version": "1.2.0",
          "state": {
            "_model_module": "@jupyter-widgets/base",
            "_model_module_version": "1.2.0",
            "_model_name": "LayoutModel",
            "_view_count": null,
            "_view_module": "@jupyter-widgets/base",
            "_view_module_version": "1.2.0",
            "_view_name": "LayoutView",
            "align_content": null,
            "align_items": null,
            "align_self": null,
            "border": null,
            "bottom": null,
            "display": null,
            "flex": null,
            "flex_flow": null,
            "grid_area": null,
            "grid_auto_columns": null,
            "grid_auto_flow": null,
            "grid_auto_rows": null,
            "grid_column": null,
            "grid_gap": null,
            "grid_row": null,
            "grid_template_areas": null,
            "grid_template_columns": null,
            "grid_template_rows": null,
            "height": null,
            "justify_content": null,
            "justify_items": null,
            "left": null,
            "margin": null,
            "max_height": null,
            "max_width": null,
            "min_height": null,
            "min_width": null,
            "object_fit": null,
            "object_position": null,
            "order": null,
            "overflow": null,
            "overflow_x": null,
            "overflow_y": null,
            "padding": null,
            "right": null,
            "top": null,
            "visibility": null,
            "width": null
          }
        },
        "793c3bb1fdb0469caad89a74efd3261b": {
          "model_module": "@jupyter-widgets/controls",
          "model_name": "ProgressStyleModel",
          "model_module_version": "1.5.0",
          "state": {
            "_model_module": "@jupyter-widgets/controls",
            "_model_module_version": "1.5.0",
            "_model_name": "ProgressStyleModel",
            "_view_count": null,
            "_view_module": "@jupyter-widgets/base",
            "_view_module_version": "1.2.0",
            "_view_name": "StyleView",
            "bar_color": null,
            "description_width": ""
          }
        },
        "623b109d241f42c6973899a3a1ec67bf": {
          "model_module": "@jupyter-widgets/base",
          "model_name": "LayoutModel",
          "model_module_version": "1.2.0",
          "state": {
            "_model_module": "@jupyter-widgets/base",
            "_model_module_version": "1.2.0",
            "_model_name": "LayoutModel",
            "_view_count": null,
            "_view_module": "@jupyter-widgets/base",
            "_view_module_version": "1.2.0",
            "_view_name": "LayoutView",
            "align_content": null,
            "align_items": null,
            "align_self": null,
            "border": null,
            "bottom": null,
            "display": null,
            "flex": null,
            "flex_flow": null,
            "grid_area": null,
            "grid_auto_columns": null,
            "grid_auto_flow": null,
            "grid_auto_rows": null,
            "grid_column": null,
            "grid_gap": null,
            "grid_row": null,
            "grid_template_areas": null,
            "grid_template_columns": null,
            "grid_template_rows": null,
            "height": null,
            "justify_content": null,
            "justify_items": null,
            "left": null,
            "margin": null,
            "max_height": null,
            "max_width": null,
            "min_height": null,
            "min_width": null,
            "object_fit": null,
            "object_position": null,
            "order": null,
            "overflow": null,
            "overflow_x": null,
            "overflow_y": null,
            "padding": null,
            "right": null,
            "top": null,
            "visibility": null,
            "width": null
          }
        },
        "a344a6b1977a47299a777a051157e349": {
          "model_module": "@jupyter-widgets/controls",
          "model_name": "DescriptionStyleModel",
          "model_module_version": "1.5.0",
          "state": {
            "_model_module": "@jupyter-widgets/controls",
            "_model_module_version": "1.5.0",
            "_model_name": "DescriptionStyleModel",
            "_view_count": null,
            "_view_module": "@jupyter-widgets/base",
            "_view_module_version": "1.2.0",
            "_view_name": "StyleView",
            "description_width": ""
          }
        },
        "f55b67561ff44610bc732f6e844ea377": {
          "model_module": "@jupyter-widgets/controls",
          "model_name": "HBoxModel",
          "model_module_version": "1.5.0",
          "state": {
            "_dom_classes": [],
            "_model_module": "@jupyter-widgets/controls",
            "_model_module_version": "1.5.0",
            "_model_name": "HBoxModel",
            "_view_count": null,
            "_view_module": "@jupyter-widgets/controls",
            "_view_module_version": "1.5.0",
            "_view_name": "HBoxView",
            "box_style": "",
            "children": [
              "IPY_MODEL_4e1975233ec54882a138bc48a590b4fd",
              "IPY_MODEL_80d591215d054300b65017278991651d",
              "IPY_MODEL_cdb50fc87e294807aff3e5f647d2e04e"
            ],
            "layout": "IPY_MODEL_05a4a2d96f784218822de68f9dddafb9"
          }
        },
        "4e1975233ec54882a138bc48a590b4fd": {
          "model_module": "@jupyter-widgets/controls",
          "model_name": "HTMLModel",
          "model_module_version": "1.5.0",
          "state": {
            "_dom_classes": [],
            "_model_module": "@jupyter-widgets/controls",
            "_model_module_version": "1.5.0",
            "_model_name": "HTMLModel",
            "_view_count": null,
            "_view_module": "@jupyter-widgets/controls",
            "_view_module_version": "1.5.0",
            "_view_name": "HTMLView",
            "description": "",
            "description_tooltip": null,
            "layout": "IPY_MODEL_d5c8453d1d2d43d29f3252a9fe6a4d07",
            "placeholder": "​",
            "style": "IPY_MODEL_6ad76b0572ec460f879bb2bdf4320ed3",
            "value": "Downloading: 100%"
          }
        },
        "80d591215d054300b65017278991651d": {
          "model_module": "@jupyter-widgets/controls",
          "model_name": "FloatProgressModel",
          "model_module_version": "1.5.0",
          "state": {
            "_dom_classes": [],
            "_model_module": "@jupyter-widgets/controls",
            "_model_module_version": "1.5.0",
            "_model_name": "FloatProgressModel",
            "_view_count": null,
            "_view_module": "@jupyter-widgets/controls",
            "_view_module_version": "1.5.0",
            "_view_name": "ProgressView",
            "bar_style": "success",
            "description": "",
            "description_tooltip": null,
            "layout": "IPY_MODEL_ae73f4b03d384235a248ee381704ba11",
            "max": 665,
            "min": 0,
            "orientation": "horizontal",
            "style": "IPY_MODEL_ebabea33c3834b44be4716276b9904fb",
            "value": 665
          }
        },
        "cdb50fc87e294807aff3e5f647d2e04e": {
          "model_module": "@jupyter-widgets/controls",
          "model_name": "HTMLModel",
          "model_module_version": "1.5.0",
          "state": {
            "_dom_classes": [],
            "_model_module": "@jupyter-widgets/controls",
            "_model_module_version": "1.5.0",
            "_model_name": "HTMLModel",
            "_view_count": null,
            "_view_module": "@jupyter-widgets/controls",
            "_view_module_version": "1.5.0",
            "_view_name": "HTMLView",
            "description": "",
            "description_tooltip": null,
            "layout": "IPY_MODEL_c7ad0f14af7d47aabad6965d42350c75",
            "placeholder": "​",
            "style": "IPY_MODEL_7e6d872372354ad4aee92d37aec54975",
            "value": " 665/665 [00:00&lt;00:00, 26.9kB/s]"
          }
        },
        "05a4a2d96f784218822de68f9dddafb9": {
          "model_module": "@jupyter-widgets/base",
          "model_name": "LayoutModel",
          "model_module_version": "1.2.0",
          "state": {
            "_model_module": "@jupyter-widgets/base",
            "_model_module_version": "1.2.0",
            "_model_name": "LayoutModel",
            "_view_count": null,
            "_view_module": "@jupyter-widgets/base",
            "_view_module_version": "1.2.0",
            "_view_name": "LayoutView",
            "align_content": null,
            "align_items": null,
            "align_self": null,
            "border": null,
            "bottom": null,
            "display": null,
            "flex": null,
            "flex_flow": null,
            "grid_area": null,
            "grid_auto_columns": null,
            "grid_auto_flow": null,
            "grid_auto_rows": null,
            "grid_column": null,
            "grid_gap": null,
            "grid_row": null,
            "grid_template_areas": null,
            "grid_template_columns": null,
            "grid_template_rows": null,
            "height": null,
            "justify_content": null,
            "justify_items": null,
            "left": null,
            "margin": null,
            "max_height": null,
            "max_width": null,
            "min_height": null,
            "min_width": null,
            "object_fit": null,
            "object_position": null,
            "order": null,
            "overflow": null,
            "overflow_x": null,
            "overflow_y": null,
            "padding": null,
            "right": null,
            "top": null,
            "visibility": null,
            "width": null
          }
        },
        "d5c8453d1d2d43d29f3252a9fe6a4d07": {
          "model_module": "@jupyter-widgets/base",
          "model_name": "LayoutModel",
          "model_module_version": "1.2.0",
          "state": {
            "_model_module": "@jupyter-widgets/base",
            "_model_module_version": "1.2.0",
            "_model_name": "LayoutModel",
            "_view_count": null,
            "_view_module": "@jupyter-widgets/base",
            "_view_module_version": "1.2.0",
            "_view_name": "LayoutView",
            "align_content": null,
            "align_items": null,
            "align_self": null,
            "border": null,
            "bottom": null,
            "display": null,
            "flex": null,
            "flex_flow": null,
            "grid_area": null,
            "grid_auto_columns": null,
            "grid_auto_flow": null,
            "grid_auto_rows": null,
            "grid_column": null,
            "grid_gap": null,
            "grid_row": null,
            "grid_template_areas": null,
            "grid_template_columns": null,
            "grid_template_rows": null,
            "height": null,
            "justify_content": null,
            "justify_items": null,
            "left": null,
            "margin": null,
            "max_height": null,
            "max_width": null,
            "min_height": null,
            "min_width": null,
            "object_fit": null,
            "object_position": null,
            "order": null,
            "overflow": null,
            "overflow_x": null,
            "overflow_y": null,
            "padding": null,
            "right": null,
            "top": null,
            "visibility": null,
            "width": null
          }
        },
        "6ad76b0572ec460f879bb2bdf4320ed3": {
          "model_module": "@jupyter-widgets/controls",
          "model_name": "DescriptionStyleModel",
          "model_module_version": "1.5.0",
          "state": {
            "_model_module": "@jupyter-widgets/controls",
            "_model_module_version": "1.5.0",
            "_model_name": "DescriptionStyleModel",
            "_view_count": null,
            "_view_module": "@jupyter-widgets/base",
            "_view_module_version": "1.2.0",
            "_view_name": "StyleView",
            "description_width": ""
          }
        },
        "ae73f4b03d384235a248ee381704ba11": {
          "model_module": "@jupyter-widgets/base",
          "model_name": "LayoutModel",
          "model_module_version": "1.2.0",
          "state": {
            "_model_module": "@jupyter-widgets/base",
            "_model_module_version": "1.2.0",
            "_model_name": "LayoutModel",
            "_view_count": null,
            "_view_module": "@jupyter-widgets/base",
            "_view_module_version": "1.2.0",
            "_view_name": "LayoutView",
            "align_content": null,
            "align_items": null,
            "align_self": null,
            "border": null,
            "bottom": null,
            "display": null,
            "flex": null,
            "flex_flow": null,
            "grid_area": null,
            "grid_auto_columns": null,
            "grid_auto_flow": null,
            "grid_auto_rows": null,
            "grid_column": null,
            "grid_gap": null,
            "grid_row": null,
            "grid_template_areas": null,
            "grid_template_columns": null,
            "grid_template_rows": null,
            "height": null,
            "justify_content": null,
            "justify_items": null,
            "left": null,
            "margin": null,
            "max_height": null,
            "max_width": null,
            "min_height": null,
            "min_width": null,
            "object_fit": null,
            "object_position": null,
            "order": null,
            "overflow": null,
            "overflow_x": null,
            "overflow_y": null,
            "padding": null,
            "right": null,
            "top": null,
            "visibility": null,
            "width": null
          }
        },
        "ebabea33c3834b44be4716276b9904fb": {
          "model_module": "@jupyter-widgets/controls",
          "model_name": "ProgressStyleModel",
          "model_module_version": "1.5.0",
          "state": {
            "_model_module": "@jupyter-widgets/controls",
            "_model_module_version": "1.5.0",
            "_model_name": "ProgressStyleModel",
            "_view_count": null,
            "_view_module": "@jupyter-widgets/base",
            "_view_module_version": "1.2.0",
            "_view_name": "StyleView",
            "bar_color": null,
            "description_width": ""
          }
        },
        "c7ad0f14af7d47aabad6965d42350c75": {
          "model_module": "@jupyter-widgets/base",
          "model_name": "LayoutModel",
          "model_module_version": "1.2.0",
          "state": {
            "_model_module": "@jupyter-widgets/base",
            "_model_module_version": "1.2.0",
            "_model_name": "LayoutModel",
            "_view_count": null,
            "_view_module": "@jupyter-widgets/base",
            "_view_module_version": "1.2.0",
            "_view_name": "LayoutView",
            "align_content": null,
            "align_items": null,
            "align_self": null,
            "border": null,
            "bottom": null,
            "display": null,
            "flex": null,
            "flex_flow": null,
            "grid_area": null,
            "grid_auto_columns": null,
            "grid_auto_flow": null,
            "grid_auto_rows": null,
            "grid_column": null,
            "grid_gap": null,
            "grid_row": null,
            "grid_template_areas": null,
            "grid_template_columns": null,
            "grid_template_rows": null,
            "height": null,
            "justify_content": null,
            "justify_items": null,
            "left": null,
            "margin": null,
            "max_height": null,
            "max_width": null,
            "min_height": null,
            "min_width": null,
            "object_fit": null,
            "object_position": null,
            "order": null,
            "overflow": null,
            "overflow_x": null,
            "overflow_y": null,
            "padding": null,
            "right": null,
            "top": null,
            "visibility": null,
            "width": null
          }
        },
        "7e6d872372354ad4aee92d37aec54975": {
          "model_module": "@jupyter-widgets/controls",
          "model_name": "DescriptionStyleModel",
          "model_module_version": "1.5.0",
          "state": {
            "_model_module": "@jupyter-widgets/controls",
            "_model_module_version": "1.5.0",
            "_model_name": "DescriptionStyleModel",
            "_view_count": null,
            "_view_module": "@jupyter-widgets/base",
            "_view_module_version": "1.2.0",
            "_view_name": "StyleView",
            "description_width": ""
          }
        },
        "f422136da96747208807521e26088325": {
          "model_module": "@jupyter-widgets/controls",
          "model_name": "HBoxModel",
          "model_module_version": "1.5.0",
          "state": {
            "_dom_classes": [],
            "_model_module": "@jupyter-widgets/controls",
            "_model_module_version": "1.5.0",
            "_model_name": "HBoxModel",
            "_view_count": null,
            "_view_module": "@jupyter-widgets/controls",
            "_view_module_version": "1.5.0",
            "_view_name": "HBoxView",
            "box_style": "",
            "children": [
              "IPY_MODEL_10f3ab60b21d4d8181fed401dd283a84",
              "IPY_MODEL_37d788789ae847a4913d209b785f1c0c",
              "IPY_MODEL_7e19df0ee67b46a981af52e2185045b9"
            ],
            "layout": "IPY_MODEL_63d85a2ef69941c6bea7a9a2d442485a"
          }
        },
        "10f3ab60b21d4d8181fed401dd283a84": {
          "model_module": "@jupyter-widgets/controls",
          "model_name": "HTMLModel",
          "model_module_version": "1.5.0",
          "state": {
            "_dom_classes": [],
            "_model_module": "@jupyter-widgets/controls",
            "_model_module_version": "1.5.0",
            "_model_name": "HTMLModel",
            "_view_count": null,
            "_view_module": "@jupyter-widgets/controls",
            "_view_module_version": "1.5.0",
            "_view_name": "HTMLView",
            "description": "",
            "description_tooltip": null,
            "layout": "IPY_MODEL_a998559ea79440f4b4a484188ce6ea9e",
            "placeholder": "​",
            "style": "IPY_MODEL_ff8309375b4640149b7ca46fff5155f7",
            "value": "Downloading: 100%"
          }
        },
        "37d788789ae847a4913d209b785f1c0c": {
          "model_module": "@jupyter-widgets/controls",
          "model_name": "FloatProgressModel",
          "model_module_version": "1.5.0",
          "state": {
            "_dom_classes": [],
            "_model_module": "@jupyter-widgets/controls",
            "_model_module_version": "1.5.0",
            "_model_name": "FloatProgressModel",
            "_view_count": null,
            "_view_module": "@jupyter-widgets/controls",
            "_view_module_version": "1.5.0",
            "_view_name": "ProgressView",
            "bar_style": "success",
            "description": "",
            "description_tooltip": null,
            "layout": "IPY_MODEL_6fec887766c4424580b1d9dd36e21050",
            "max": 548118077,
            "min": 0,
            "orientation": "horizontal",
            "style": "IPY_MODEL_60a998298c6349648ab209f93b34d14c",
            "value": 548118077
          }
        },
        "7e19df0ee67b46a981af52e2185045b9": {
          "model_module": "@jupyter-widgets/controls",
          "model_name": "HTMLModel",
          "model_module_version": "1.5.0",
          "state": {
            "_dom_classes": [],
            "_model_module": "@jupyter-widgets/controls",
            "_model_module_version": "1.5.0",
            "_model_name": "HTMLModel",
            "_view_count": null,
            "_view_module": "@jupyter-widgets/controls",
            "_view_module_version": "1.5.0",
            "_view_name": "HTMLView",
            "description": "",
            "description_tooltip": null,
            "layout": "IPY_MODEL_627aa4c9ecfc464dacbbfce5329e9f4f",
            "placeholder": "​",
            "style": "IPY_MODEL_9c23ecf0012746dfaa2c7897f3cad7ae",
            "value": " 523M/523M [00:13&lt;00:00, 40.3MB/s]"
          }
        },
        "63d85a2ef69941c6bea7a9a2d442485a": {
          "model_module": "@jupyter-widgets/base",
          "model_name": "LayoutModel",
          "model_module_version": "1.2.0",
          "state": {
            "_model_module": "@jupyter-widgets/base",
            "_model_module_version": "1.2.0",
            "_model_name": "LayoutModel",
            "_view_count": null,
            "_view_module": "@jupyter-widgets/base",
            "_view_module_version": "1.2.0",
            "_view_name": "LayoutView",
            "align_content": null,
            "align_items": null,
            "align_self": null,
            "border": null,
            "bottom": null,
            "display": null,
            "flex": null,
            "flex_flow": null,
            "grid_area": null,
            "grid_auto_columns": null,
            "grid_auto_flow": null,
            "grid_auto_rows": null,
            "grid_column": null,
            "grid_gap": null,
            "grid_row": null,
            "grid_template_areas": null,
            "grid_template_columns": null,
            "grid_template_rows": null,
            "height": null,
            "justify_content": null,
            "justify_items": null,
            "left": null,
            "margin": null,
            "max_height": null,
            "max_width": null,
            "min_height": null,
            "min_width": null,
            "object_fit": null,
            "object_position": null,
            "order": null,
            "overflow": null,
            "overflow_x": null,
            "overflow_y": null,
            "padding": null,
            "right": null,
            "top": null,
            "visibility": null,
            "width": null
          }
        },
        "a998559ea79440f4b4a484188ce6ea9e": {
          "model_module": "@jupyter-widgets/base",
          "model_name": "LayoutModel",
          "model_module_version": "1.2.0",
          "state": {
            "_model_module": "@jupyter-widgets/base",
            "_model_module_version": "1.2.0",
            "_model_name": "LayoutModel",
            "_view_count": null,
            "_view_module": "@jupyter-widgets/base",
            "_view_module_version": "1.2.0",
            "_view_name": "LayoutView",
            "align_content": null,
            "align_items": null,
            "align_self": null,
            "border": null,
            "bottom": null,
            "display": null,
            "flex": null,
            "flex_flow": null,
            "grid_area": null,
            "grid_auto_columns": null,
            "grid_auto_flow": null,
            "grid_auto_rows": null,
            "grid_column": null,
            "grid_gap": null,
            "grid_row": null,
            "grid_template_areas": null,
            "grid_template_columns": null,
            "grid_template_rows": null,
            "height": null,
            "justify_content": null,
            "justify_items": null,
            "left": null,
            "margin": null,
            "max_height": null,
            "max_width": null,
            "min_height": null,
            "min_width": null,
            "object_fit": null,
            "object_position": null,
            "order": null,
            "overflow": null,
            "overflow_x": null,
            "overflow_y": null,
            "padding": null,
            "right": null,
            "top": null,
            "visibility": null,
            "width": null
          }
        },
        "ff8309375b4640149b7ca46fff5155f7": {
          "model_module": "@jupyter-widgets/controls",
          "model_name": "DescriptionStyleModel",
          "model_module_version": "1.5.0",
          "state": {
            "_model_module": "@jupyter-widgets/controls",
            "_model_module_version": "1.5.0",
            "_model_name": "DescriptionStyleModel",
            "_view_count": null,
            "_view_module": "@jupyter-widgets/base",
            "_view_module_version": "1.2.0",
            "_view_name": "StyleView",
            "description_width": ""
          }
        },
        "6fec887766c4424580b1d9dd36e21050": {
          "model_module": "@jupyter-widgets/base",
          "model_name": "LayoutModel",
          "model_module_version": "1.2.0",
          "state": {
            "_model_module": "@jupyter-widgets/base",
            "_model_module_version": "1.2.0",
            "_model_name": "LayoutModel",
            "_view_count": null,
            "_view_module": "@jupyter-widgets/base",
            "_view_module_version": "1.2.0",
            "_view_name": "LayoutView",
            "align_content": null,
            "align_items": null,
            "align_self": null,
            "border": null,
            "bottom": null,
            "display": null,
            "flex": null,
            "flex_flow": null,
            "grid_area": null,
            "grid_auto_columns": null,
            "grid_auto_flow": null,
            "grid_auto_rows": null,
            "grid_column": null,
            "grid_gap": null,
            "grid_row": null,
            "grid_template_areas": null,
            "grid_template_columns": null,
            "grid_template_rows": null,
            "height": null,
            "justify_content": null,
            "justify_items": null,
            "left": null,
            "margin": null,
            "max_height": null,
            "max_width": null,
            "min_height": null,
            "min_width": null,
            "object_fit": null,
            "object_position": null,
            "order": null,
            "overflow": null,
            "overflow_x": null,
            "overflow_y": null,
            "padding": null,
            "right": null,
            "top": null,
            "visibility": null,
            "width": null
          }
        },
        "60a998298c6349648ab209f93b34d14c": {
          "model_module": "@jupyter-widgets/controls",
          "model_name": "ProgressStyleModel",
          "model_module_version": "1.5.0",
          "state": {
            "_model_module": "@jupyter-widgets/controls",
            "_model_module_version": "1.5.0",
            "_model_name": "ProgressStyleModel",
            "_view_count": null,
            "_view_module": "@jupyter-widgets/base",
            "_view_module_version": "1.2.0",
            "_view_name": "StyleView",
            "bar_color": null,
            "description_width": ""
          }
        },
        "627aa4c9ecfc464dacbbfce5329e9f4f": {
          "model_module": "@jupyter-widgets/base",
          "model_name": "LayoutModel",
          "model_module_version": "1.2.0",
          "state": {
            "_model_module": "@jupyter-widgets/base",
            "_model_module_version": "1.2.0",
            "_model_name": "LayoutModel",
            "_view_count": null,
            "_view_module": "@jupyter-widgets/base",
            "_view_module_version": "1.2.0",
            "_view_name": "LayoutView",
            "align_content": null,
            "align_items": null,
            "align_self": null,
            "border": null,
            "bottom": null,
            "display": null,
            "flex": null,
            "flex_flow": null,
            "grid_area": null,
            "grid_auto_columns": null,
            "grid_auto_flow": null,
            "grid_auto_rows": null,
            "grid_column": null,
            "grid_gap": null,
            "grid_row": null,
            "grid_template_areas": null,
            "grid_template_columns": null,
            "grid_template_rows": null,
            "height": null,
            "justify_content": null,
            "justify_items": null,
            "left": null,
            "margin": null,
            "max_height": null,
            "max_width": null,
            "min_height": null,
            "min_width": null,
            "object_fit": null,
            "object_position": null,
            "order": null,
            "overflow": null,
            "overflow_x": null,
            "overflow_y": null,
            "padding": null,
            "right": null,
            "top": null,
            "visibility": null,
            "width": null
          }
        },
        "9c23ecf0012746dfaa2c7897f3cad7ae": {
          "model_module": "@jupyter-widgets/controls",
          "model_name": "DescriptionStyleModel",
          "model_module_version": "1.5.0",
          "state": {
            "_model_module": "@jupyter-widgets/controls",
            "_model_module_version": "1.5.0",
            "_model_name": "DescriptionStyleModel",
            "_view_count": null,
            "_view_module": "@jupyter-widgets/base",
            "_view_module_version": "1.2.0",
            "_view_name": "StyleView",
            "description_width": ""
          }
        }
      }
    }
  },
  "cells": [
    {
      "cell_type": "code",
      "execution_count": null,
      "metadata": {
        "colab": {
          "base_uri": "https://localhost:8080/"
        },
        "id": "Ouv1PBIDZvuu",
        "outputId": "63930235-6c2a-434c-8877-8bb5277722f2"
      },
      "outputs": [
        {
          "output_type": "stream",
          "name": "stdout",
          "text": [
            "Drive already mounted at /content/drive; to attempt to forcibly remount, call drive.mount(\"/content/drive\", force_remount=True).\n"
          ]
        }
      ],
      "source": [
        "from google.colab import drive\n",
        "drive.mount('/content/drive')"
      ]
    },
    {
      "cell_type": "code",
      "source": [
        "!pip install transformers\n",
        "!pip install datasets"
      ],
      "metadata": {
        "colab": {
          "base_uri": "https://localhost:8080/"
        },
        "id": "2aGtcA6pchpj",
        "outputId": "2b5ffef9-b606-4b18-8077-7010aff82eff"
      },
      "execution_count": null,
      "outputs": [
        {
          "output_type": "stream",
          "name": "stdout",
          "text": [
            "Collecting transformers\n",
            "  Downloading transformers-4.18.0-py3-none-any.whl (4.0 MB)\n",
            "\u001b[K     |████████████████████████████████| 4.0 MB 30.1 MB/s \n",
            "\u001b[?25hRequirement already satisfied: regex!=2019.12.17 in /usr/local/lib/python3.7/dist-packages (from transformers) (2019.12.20)\n",
            "Requirement already satisfied: numpy>=1.17 in /usr/local/lib/python3.7/dist-packages (from transformers) (1.21.6)\n",
            "Requirement already satisfied: requests in /usr/local/lib/python3.7/dist-packages (from transformers) (2.23.0)\n",
            "Collecting pyyaml>=5.1\n",
            "  Downloading PyYAML-6.0-cp37-cp37m-manylinux_2_5_x86_64.manylinux1_x86_64.manylinux_2_12_x86_64.manylinux2010_x86_64.whl (596 kB)\n",
            "\u001b[K     |████████████████████████████████| 596 kB 70.5 MB/s \n",
            "\u001b[?25hRequirement already satisfied: tqdm>=4.27 in /usr/local/lib/python3.7/dist-packages (from transformers) (4.64.0)\n",
            "Requirement already satisfied: filelock in /usr/local/lib/python3.7/dist-packages (from transformers) (3.6.0)\n",
            "Collecting huggingface-hub<1.0,>=0.1.0\n",
            "  Downloading huggingface_hub-0.5.1-py3-none-any.whl (77 kB)\n",
            "\u001b[K     |████████████████████████████████| 77 kB 7.6 MB/s \n",
            "\u001b[?25hCollecting tokenizers!=0.11.3,<0.13,>=0.11.1\n",
            "  Downloading tokenizers-0.12.1-cp37-cp37m-manylinux_2_12_x86_64.manylinux2010_x86_64.whl (6.6 MB)\n",
            "\u001b[K     |████████████████████████████████| 6.6 MB 72.2 MB/s \n",
            "\u001b[?25hRequirement already satisfied: packaging>=20.0 in /usr/local/lib/python3.7/dist-packages (from transformers) (21.3)\n",
            "Collecting sacremoses\n",
            "  Downloading sacremoses-0.0.49-py3-none-any.whl (895 kB)\n",
            "\u001b[K     |████████████████████████████████| 895 kB 86.7 MB/s \n",
            "\u001b[?25hRequirement already satisfied: importlib-metadata in /usr/local/lib/python3.7/dist-packages (from transformers) (4.11.3)\n",
            "Requirement already satisfied: typing-extensions>=3.7.4.3 in /usr/local/lib/python3.7/dist-packages (from huggingface-hub<1.0,>=0.1.0->transformers) (4.1.1)\n",
            "Requirement already satisfied: pyparsing!=3.0.5,>=2.0.2 in /usr/local/lib/python3.7/dist-packages (from packaging>=20.0->transformers) (3.0.8)\n",
            "Requirement already satisfied: zipp>=0.5 in /usr/local/lib/python3.7/dist-packages (from importlib-metadata->transformers) (3.8.0)\n",
            "Requirement already satisfied: idna<3,>=2.5 in /usr/local/lib/python3.7/dist-packages (from requests->transformers) (2.10)\n",
            "Requirement already satisfied: chardet<4,>=3.0.2 in /usr/local/lib/python3.7/dist-packages (from requests->transformers) (3.0.4)\n",
            "Requirement already satisfied: certifi>=2017.4.17 in /usr/local/lib/python3.7/dist-packages (from requests->transformers) (2021.10.8)\n",
            "Requirement already satisfied: urllib3!=1.25.0,!=1.25.1,<1.26,>=1.21.1 in /usr/local/lib/python3.7/dist-packages (from requests->transformers) (1.24.3)\n",
            "Requirement already satisfied: joblib in /usr/local/lib/python3.7/dist-packages (from sacremoses->transformers) (1.1.0)\n",
            "Requirement already satisfied: click in /usr/local/lib/python3.7/dist-packages (from sacremoses->transformers) (7.1.2)\n",
            "Requirement already satisfied: six in /usr/local/lib/python3.7/dist-packages (from sacremoses->transformers) (1.15.0)\n",
            "Installing collected packages: pyyaml, tokenizers, sacremoses, huggingface-hub, transformers\n",
            "  Attempting uninstall: pyyaml\n",
            "    Found existing installation: PyYAML 3.13\n",
            "    Uninstalling PyYAML-3.13:\n",
            "      Successfully uninstalled PyYAML-3.13\n",
            "Successfully installed huggingface-hub-0.5.1 pyyaml-6.0 sacremoses-0.0.49 tokenizers-0.12.1 transformers-4.18.0\n",
            "Collecting datasets\n",
            "  Downloading datasets-2.1.0-py3-none-any.whl (325 kB)\n",
            "\u001b[K     |████████████████████████████████| 325 kB 30.6 MB/s \n",
            "\u001b[?25hRequirement already satisfied: numpy>=1.17 in /usr/local/lib/python3.7/dist-packages (from datasets) (1.21.6)\n",
            "Requirement already satisfied: pandas in /usr/local/lib/python3.7/dist-packages (from datasets) (1.3.5)\n",
            "Requirement already satisfied: pyarrow>=5.0.0 in /usr/local/lib/python3.7/dist-packages (from datasets) (6.0.1)\n",
            "Requirement already satisfied: packaging in /usr/local/lib/python3.7/dist-packages (from datasets) (21.3)\n",
            "Requirement already satisfied: tqdm>=4.62.1 in /usr/local/lib/python3.7/dist-packages (from datasets) (4.64.0)\n",
            "Collecting aiohttp\n",
            "  Downloading aiohttp-3.8.1-cp37-cp37m-manylinux_2_5_x86_64.manylinux1_x86_64.manylinux_2_12_x86_64.manylinux2010_x86_64.whl (1.1 MB)\n",
            "\u001b[K     |████████████████████████████████| 1.1 MB 25.5 MB/s \n",
            "\u001b[?25hRequirement already satisfied: huggingface-hub<1.0.0,>=0.1.0 in /usr/local/lib/python3.7/dist-packages (from datasets) (0.5.1)\n",
            "Requirement already satisfied: importlib-metadata in /usr/local/lib/python3.7/dist-packages (from datasets) (4.11.3)\n",
            "Requirement already satisfied: dill in /usr/local/lib/python3.7/dist-packages (from datasets) (0.3.4)\n",
            "Collecting xxhash\n",
            "  Downloading xxhash-3.0.0-cp37-cp37m-manylinux_2_17_x86_64.manylinux2014_x86_64.whl (212 kB)\n",
            "\u001b[K     |████████████████████████████████| 212 kB 72.5 MB/s \n",
            "\u001b[?25hCollecting fsspec[http]>=2021.05.0\n",
            "  Downloading fsspec-2022.3.0-py3-none-any.whl (136 kB)\n",
            "\u001b[K     |████████████████████████████████| 136 kB 62.6 MB/s \n",
            "\u001b[?25hRequirement already satisfied: requests>=2.19.0 in /usr/local/lib/python3.7/dist-packages (from datasets) (2.23.0)\n",
            "Collecting responses<0.19\n",
            "  Downloading responses-0.18.0-py3-none-any.whl (38 kB)\n",
            "Requirement already satisfied: multiprocess in /usr/local/lib/python3.7/dist-packages (from datasets) (0.70.12.2)\n",
            "Requirement already satisfied: pyyaml in /usr/local/lib/python3.7/dist-packages (from huggingface-hub<1.0.0,>=0.1.0->datasets) (6.0)\n",
            "Requirement already satisfied: typing-extensions>=3.7.4.3 in /usr/local/lib/python3.7/dist-packages (from huggingface-hub<1.0.0,>=0.1.0->datasets) (4.1.1)\n",
            "Requirement already satisfied: filelock in /usr/local/lib/python3.7/dist-packages (from huggingface-hub<1.0.0,>=0.1.0->datasets) (3.6.0)\n",
            "Requirement already satisfied: pyparsing!=3.0.5,>=2.0.2 in /usr/local/lib/python3.7/dist-packages (from packaging->datasets) (3.0.8)\n",
            "Requirement already satisfied: idna<3,>=2.5 in /usr/local/lib/python3.7/dist-packages (from requests>=2.19.0->datasets) (2.10)\n",
            "Requirement already satisfied: urllib3!=1.25.0,!=1.25.1,<1.26,>=1.21.1 in /usr/local/lib/python3.7/dist-packages (from requests>=2.19.0->datasets) (1.24.3)\n",
            "Requirement already satisfied: certifi>=2017.4.17 in /usr/local/lib/python3.7/dist-packages (from requests>=2.19.0->datasets) (2021.10.8)\n",
            "Requirement already satisfied: chardet<4,>=3.0.2 in /usr/local/lib/python3.7/dist-packages (from requests>=2.19.0->datasets) (3.0.4)\n",
            "Collecting urllib3!=1.25.0,!=1.25.1,<1.26,>=1.21.1\n",
            "  Downloading urllib3-1.25.11-py2.py3-none-any.whl (127 kB)\n",
            "\u001b[K     |████████████████████████████████| 127 kB 73.5 MB/s \n",
            "\u001b[?25hCollecting frozenlist>=1.1.1\n",
            "  Downloading frozenlist-1.3.0-cp37-cp37m-manylinux_2_5_x86_64.manylinux1_x86_64.manylinux_2_17_x86_64.manylinux2014_x86_64.whl (144 kB)\n",
            "\u001b[K     |████████████████████████████████| 144 kB 70.1 MB/s \n",
            "\u001b[?25hCollecting yarl<2.0,>=1.0\n",
            "  Downloading yarl-1.7.2-cp37-cp37m-manylinux_2_5_x86_64.manylinux1_x86_64.manylinux_2_12_x86_64.manylinux2010_x86_64.whl (271 kB)\n",
            "\u001b[K     |████████████████████████████████| 271 kB 74.4 MB/s \n",
            "\u001b[?25hRequirement already satisfied: attrs>=17.3.0 in /usr/local/lib/python3.7/dist-packages (from aiohttp->datasets) (21.4.0)\n",
            "Collecting asynctest==0.13.0\n",
            "  Downloading asynctest-0.13.0-py3-none-any.whl (26 kB)\n",
            "Collecting async-timeout<5.0,>=4.0.0a3\n",
            "  Downloading async_timeout-4.0.2-py3-none-any.whl (5.8 kB)\n",
            "Collecting aiosignal>=1.1.2\n",
            "  Downloading aiosignal-1.2.0-py3-none-any.whl (8.2 kB)\n",
            "Collecting multidict<7.0,>=4.5\n",
            "  Downloading multidict-6.0.2-cp37-cp37m-manylinux_2_17_x86_64.manylinux2014_x86_64.whl (94 kB)\n",
            "\u001b[K     |████████████████████████████████| 94 kB 4.2 MB/s \n",
            "\u001b[?25hRequirement already satisfied: charset-normalizer<3.0,>=2.0 in /usr/local/lib/python3.7/dist-packages (from aiohttp->datasets) (2.0.12)\n",
            "Requirement already satisfied: zipp>=0.5 in /usr/local/lib/python3.7/dist-packages (from importlib-metadata->datasets) (3.8.0)\n",
            "Requirement already satisfied: python-dateutil>=2.7.3 in /usr/local/lib/python3.7/dist-packages (from pandas->datasets) (2.8.2)\n",
            "Requirement already satisfied: pytz>=2017.3 in /usr/local/lib/python3.7/dist-packages (from pandas->datasets) (2022.1)\n",
            "Requirement already satisfied: six>=1.5 in /usr/local/lib/python3.7/dist-packages (from python-dateutil>=2.7.3->pandas->datasets) (1.15.0)\n",
            "Installing collected packages: multidict, frozenlist, yarl, urllib3, asynctest, async-timeout, aiosignal, fsspec, aiohttp, xxhash, responses, datasets\n",
            "  Attempting uninstall: urllib3\n",
            "    Found existing installation: urllib3 1.24.3\n",
            "    Uninstalling urllib3-1.24.3:\n",
            "      Successfully uninstalled urllib3-1.24.3\n",
            "\u001b[31mERROR: pip's dependency resolver does not currently take into account all the packages that are installed. This behaviour is the source of the following dependency conflicts.\n",
            "datascience 0.10.6 requires folium==0.2.1, but you have folium 0.8.3 which is incompatible.\u001b[0m\n",
            "Successfully installed aiohttp-3.8.1 aiosignal-1.2.0 async-timeout-4.0.2 asynctest-0.13.0 datasets-2.1.0 frozenlist-1.3.0 fsspec-2022.3.0 multidict-6.0.2 responses-0.18.0 urllib3-1.25.11 xxhash-3.0.0 yarl-1.7.2\n"
          ]
        }
      ]
    },
    {
      "cell_type": "code",
      "source": [
        "import pandas as pd\n",
        "import numpy as np\n",
        "from transformers import GPT2LMHeadModel, GPT2Tokenizer\n",
        "import random\n",
        "import torch\n",
        "from torch.utils.data import Dataset, DataLoader\n",
        "from transformers import GPT2Tokenizer, GPT2LMHeadModel, AdamW, get_linear_schedule_with_warmup\n",
        "from tqdm import tqdm, trange\n",
        "import torch.nn.functional as F\n",
        "import csv\n",
        "import ast"
      ],
      "metadata": {
        "id": "CcGCidJWcnDG"
      },
      "execution_count": null,
      "outputs": []
    },
    {
      "cell_type": "code",
      "source": [
        "train_data = pd.read_csv('/content/drive/MyDrive/NLP_Proj/data_with_keywords_train.csv')\n",
        "test_data = pd.read_csv('/content/drive/MyDrive/NLP_Proj/data_with_keywords_test.csv')"
      ],
      "metadata": {
        "id": "VGg-PFa3c9D_"
      },
      "execution_count": null,
      "outputs": []
    },
    {
      "cell_type": "code",
      "source": [
        "train_data_truncated = train_data[train_data['verdict'].isin(['asshole', 'not the asshole'])]\n",
        "test_data_truncated = test_data[test_data['verdict'].isin(['asshole', 'not the asshole'])]\n",
        "len(test_data_truncated)"
      ],
      "metadata": {
        "colab": {
          "base_uri": "https://localhost:8080/"
        },
        "id": "zVDFtd7VdIEA",
        "outputId": "50f5b28d-5f7e-43f1-ec22-46f31a47937e"
      },
      "execution_count": null,
      "outputs": [
        {
          "output_type": "execute_result",
          "data": {
            "text/plain": [
              "1002"
            ]
          },
          "metadata": {},
          "execution_count": 6
        }
      ]
    },
    {
      "cell_type": "code",
      "source": [
        "test_data_truncated.head()"
      ],
      "metadata": {
        "colab": {
          "base_uri": "https://localhost:8080/",
          "height": 597
        },
        "id": "Gj5fOeksdVN0",
        "outputId": "64d1ec27-10ca-478e-ec2a-120180c028a2"
      },
      "execution_count": null,
      "outputs": [
        {
          "output_type": "execute_result",
          "data": {
            "text/plain": [
              "   Unnamed: 0  Unnamed: 0.1  \\\n",
              "0          32            32   \n",
              "1        5205          5205   \n",
              "2        7963          7963   \n",
              "3       32594         32594   \n",
              "4       30160         30160   \n",
              "\n",
              "                                               title  \\\n",
              "0  aita for being mad @ my gf for agreeing to tak...   \n",
              "1  aita for demanding a product for the price adv...   \n",
              "2  aita for telling my mother off because she kee...   \n",
              "3  aita for refusing to take an elderly man’s blo...   \n",
              "4         aita for not tipping a bathroom attendant?   \n",
              "\n",
              "                                                body  num_comments  \\\n",
              "0  (background: our school has a rule that undrec...          13.0   \n",
              "1  tl;dr - bought something on amazon for \\~$10 d...          33.0   \n",
              "2  i'm 16, still living at home with my mother. \\...           8.0   \n",
              "3  i recently started a new job as a caregiver. i...          63.0   \n",
              "4  me (23f) and a few of my friends went to a bar...          91.0   \n",
              "\n",
              "           verdict  word_count  has_tldr  has_background  has_update  \\\n",
              "0  not the asshole         264     False            True       False   \n",
              "1          asshole         346     False           False       False   \n",
              "2  not the asshole         273     False           False       False   \n",
              "3  not the asshole         330     False           False       False   \n",
              "4  not the asshole         301     False           False       False   \n",
              "\n",
              "   has_edit                                           keywords  \\\n",
              "0     False  ['take another girl', 'prom', 'mad', 'gf', 'ai...   \n",
              "1     False  ['price advertised', 'amazon )?', 'product', '...   \n",
              "2     False  ['keeps commenting', 'telling', 'mother', 'eat...   \n",
              "3     False  ['elderly man ’', 'blood sugar', '’', 'take', ...   \n",
              "4      True          ['bathroom attendant', 'tipping', 'aita']   \n",
              "\n",
              "                                      title_key_word  \n",
              "0     ['gf agreeing', 'aita', 'prom', 'mad', 'girl']  \n",
              "1  ['aita demanding', 'product price', 'amazon', ...  \n",
              "2  ['aita telling', 'keeps commenting', 'eat', 'm...  \n",
              "3  ['refusing elderly', 'man blood', 'aita', 'sug...  \n",
              "4  ['aita tipping', 'bathroom', 'attendant', 'tip...  "
            ],
            "text/html": [
              "\n",
              "  <div id=\"df-7e167fe1-4d32-4413-b7cd-463086741db2\">\n",
              "    <div class=\"colab-df-container\">\n",
              "      <div>\n",
              "<style scoped>\n",
              "    .dataframe tbody tr th:only-of-type {\n",
              "        vertical-align: middle;\n",
              "    }\n",
              "\n",
              "    .dataframe tbody tr th {\n",
              "        vertical-align: top;\n",
              "    }\n",
              "\n",
              "    .dataframe thead th {\n",
              "        text-align: right;\n",
              "    }\n",
              "</style>\n",
              "<table border=\"1\" class=\"dataframe\">\n",
              "  <thead>\n",
              "    <tr style=\"text-align: right;\">\n",
              "      <th></th>\n",
              "      <th>Unnamed: 0</th>\n",
              "      <th>Unnamed: 0.1</th>\n",
              "      <th>title</th>\n",
              "      <th>body</th>\n",
              "      <th>num_comments</th>\n",
              "      <th>verdict</th>\n",
              "      <th>word_count</th>\n",
              "      <th>has_tldr</th>\n",
              "      <th>has_background</th>\n",
              "      <th>has_update</th>\n",
              "      <th>has_edit</th>\n",
              "      <th>keywords</th>\n",
              "      <th>title_key_word</th>\n",
              "    </tr>\n",
              "  </thead>\n",
              "  <tbody>\n",
              "    <tr>\n",
              "      <th>0</th>\n",
              "      <td>32</td>\n",
              "      <td>32</td>\n",
              "      <td>aita for being mad @ my gf for agreeing to tak...</td>\n",
              "      <td>(background: our school has a rule that undrec...</td>\n",
              "      <td>13.0</td>\n",
              "      <td>not the asshole</td>\n",
              "      <td>264</td>\n",
              "      <td>False</td>\n",
              "      <td>True</td>\n",
              "      <td>False</td>\n",
              "      <td>False</td>\n",
              "      <td>['take another girl', 'prom', 'mad', 'gf', 'ai...</td>\n",
              "      <td>['gf agreeing', 'aita', 'prom', 'mad', 'girl']</td>\n",
              "    </tr>\n",
              "    <tr>\n",
              "      <th>1</th>\n",
              "      <td>5205</td>\n",
              "      <td>5205</td>\n",
              "      <td>aita for demanding a product for the price adv...</td>\n",
              "      <td>tl;dr - bought something on amazon for \\~$10 d...</td>\n",
              "      <td>33.0</td>\n",
              "      <td>asshole</td>\n",
              "      <td>346</td>\n",
              "      <td>False</td>\n",
              "      <td>False</td>\n",
              "      <td>False</td>\n",
              "      <td>False</td>\n",
              "      <td>['price advertised', 'amazon )?', 'product', '...</td>\n",
              "      <td>['aita demanding', 'product price', 'amazon', ...</td>\n",
              "    </tr>\n",
              "    <tr>\n",
              "      <th>2</th>\n",
              "      <td>7963</td>\n",
              "      <td>7963</td>\n",
              "      <td>aita for telling my mother off because she kee...</td>\n",
              "      <td>i'm 16, still living at home with my mother. \\...</td>\n",
              "      <td>8.0</td>\n",
              "      <td>not the asshole</td>\n",
              "      <td>273</td>\n",
              "      <td>False</td>\n",
              "      <td>False</td>\n",
              "      <td>False</td>\n",
              "      <td>False</td>\n",
              "      <td>['keeps commenting', 'telling', 'mother', 'eat...</td>\n",
              "      <td>['aita telling', 'keeps commenting', 'eat', 'm...</td>\n",
              "    </tr>\n",
              "    <tr>\n",
              "      <th>3</th>\n",
              "      <td>32594</td>\n",
              "      <td>32594</td>\n",
              "      <td>aita for refusing to take an elderly man’s blo...</td>\n",
              "      <td>i recently started a new job as a caregiver. i...</td>\n",
              "      <td>63.0</td>\n",
              "      <td>not the asshole</td>\n",
              "      <td>330</td>\n",
              "      <td>False</td>\n",
              "      <td>False</td>\n",
              "      <td>False</td>\n",
              "      <td>False</td>\n",
              "      <td>['elderly man ’', 'blood sugar', '’', 'take', ...</td>\n",
              "      <td>['refusing elderly', 'man blood', 'aita', 'sug...</td>\n",
              "    </tr>\n",
              "    <tr>\n",
              "      <th>4</th>\n",
              "      <td>30160</td>\n",
              "      <td>30160</td>\n",
              "      <td>aita for not tipping a bathroom attendant?</td>\n",
              "      <td>me (23f) and a few of my friends went to a bar...</td>\n",
              "      <td>91.0</td>\n",
              "      <td>not the asshole</td>\n",
              "      <td>301</td>\n",
              "      <td>False</td>\n",
              "      <td>False</td>\n",
              "      <td>False</td>\n",
              "      <td>True</td>\n",
              "      <td>['bathroom attendant', 'tipping', 'aita']</td>\n",
              "      <td>['aita tipping', 'bathroom', 'attendant', 'tip...</td>\n",
              "    </tr>\n",
              "  </tbody>\n",
              "</table>\n",
              "</div>\n",
              "      <button class=\"colab-df-convert\" onclick=\"convertToInteractive('df-7e167fe1-4d32-4413-b7cd-463086741db2')\"\n",
              "              title=\"Convert this dataframe to an interactive table.\"\n",
              "              style=\"display:none;\">\n",
              "        \n",
              "  <svg xmlns=\"http://www.w3.org/2000/svg\" height=\"24px\"viewBox=\"0 0 24 24\"\n",
              "       width=\"24px\">\n",
              "    <path d=\"M0 0h24v24H0V0z\" fill=\"none\"/>\n",
              "    <path d=\"M18.56 5.44l.94 2.06.94-2.06 2.06-.94-2.06-.94-.94-2.06-.94 2.06-2.06.94zm-11 1L8.5 8.5l.94-2.06 2.06-.94-2.06-.94L8.5 2.5l-.94 2.06-2.06.94zm10 10l.94 2.06.94-2.06 2.06-.94-2.06-.94-.94-2.06-.94 2.06-2.06.94z\"/><path d=\"M17.41 7.96l-1.37-1.37c-.4-.4-.92-.59-1.43-.59-.52 0-1.04.2-1.43.59L10.3 9.45l-7.72 7.72c-.78.78-.78 2.05 0 2.83L4 21.41c.39.39.9.59 1.41.59.51 0 1.02-.2 1.41-.59l7.78-7.78 2.81-2.81c.8-.78.8-2.07 0-2.86zM5.41 20L4 18.59l7.72-7.72 1.47 1.35L5.41 20z\"/>\n",
              "  </svg>\n",
              "      </button>\n",
              "      \n",
              "  <style>\n",
              "    .colab-df-container {\n",
              "      display:flex;\n",
              "      flex-wrap:wrap;\n",
              "      gap: 12px;\n",
              "    }\n",
              "\n",
              "    .colab-df-convert {\n",
              "      background-color: #E8F0FE;\n",
              "      border: none;\n",
              "      border-radius: 50%;\n",
              "      cursor: pointer;\n",
              "      display: none;\n",
              "      fill: #1967D2;\n",
              "      height: 32px;\n",
              "      padding: 0 0 0 0;\n",
              "      width: 32px;\n",
              "    }\n",
              "\n",
              "    .colab-df-convert:hover {\n",
              "      background-color: #E2EBFA;\n",
              "      box-shadow: 0px 1px 2px rgba(60, 64, 67, 0.3), 0px 1px 3px 1px rgba(60, 64, 67, 0.15);\n",
              "      fill: #174EA6;\n",
              "    }\n",
              "\n",
              "    [theme=dark] .colab-df-convert {\n",
              "      background-color: #3B4455;\n",
              "      fill: #D2E3FC;\n",
              "    }\n",
              "\n",
              "    [theme=dark] .colab-df-convert:hover {\n",
              "      background-color: #434B5C;\n",
              "      box-shadow: 0px 1px 3px 1px rgba(0, 0, 0, 0.15);\n",
              "      filter: drop-shadow(0px 1px 2px rgba(0, 0, 0, 0.3));\n",
              "      fill: #FFFFFF;\n",
              "    }\n",
              "  </style>\n",
              "\n",
              "      <script>\n",
              "        const buttonEl =\n",
              "          document.querySelector('#df-7e167fe1-4d32-4413-b7cd-463086741db2 button.colab-df-convert');\n",
              "        buttonEl.style.display =\n",
              "          google.colab.kernel.accessAllowed ? 'block' : 'none';\n",
              "\n",
              "        async function convertToInteractive(key) {\n",
              "          const element = document.querySelector('#df-7e167fe1-4d32-4413-b7cd-463086741db2');\n",
              "          const dataTable =\n",
              "            await google.colab.kernel.invokeFunction('convertToInteractive',\n",
              "                                                     [key], {});\n",
              "          if (!dataTable) return;\n",
              "\n",
              "          const docLinkHtml = 'Like what you see? Visit the ' +\n",
              "            '<a target=\"_blank\" href=https://colab.research.google.com/notebooks/data_table.ipynb>data table notebook</a>'\n",
              "            + ' to learn more about interactive tables.';\n",
              "          element.innerHTML = '';\n",
              "          dataTable['output_type'] = 'display_data';\n",
              "          await google.colab.output.renderOutput(dataTable, element);\n",
              "          const docLink = document.createElement('div');\n",
              "          docLink.innerHTML = docLinkHtml;\n",
              "          element.appendChild(docLink);\n",
              "        }\n",
              "      </script>\n",
              "    </div>\n",
              "  </div>\n",
              "  "
            ]
          },
          "metadata": {},
          "execution_count": 7
        }
      ]
    },
    {
      "cell_type": "code",
      "source": [
        "test_data_truncated = test_data_truncated[['title', 'body', 'verdict', 'keywords']]"
      ],
      "metadata": {
        "id": "I6Vvs62ydXlr"
      },
      "execution_count": null,
      "outputs": []
    },
    {
      "cell_type": "code",
      "source": [
        "test_data_truncated = test_data_truncated.fillna('')\n",
        "test_data_truncated"
      ],
      "metadata": {
        "colab": {
          "base_uri": "https://localhost:8080/",
          "height": 423
        },
        "id": "KDUwxieAdepQ",
        "outputId": "3cce80fa-aa50-4339-a3c9-570d529bb0e4"
      },
      "execution_count": null,
      "outputs": [
        {
          "output_type": "execute_result",
          "data": {
            "text/plain": [
              "                                                  title  \\\n",
              "0     aita for being mad @ my gf for agreeing to tak...   \n",
              "1     aita for demanding a product for the price adv...   \n",
              "2     aita for telling my mother off because she kee...   \n",
              "3     aita for refusing to take an elderly man’s blo...   \n",
              "4            aita for not tipping a bathroom attendant?   \n",
              "...                                                 ...   \n",
              "997   aita for telling my mom she was rude and overs...   \n",
              "998       aita for cutting contact with a close friend?   \n",
              "999   aita for eating my snacks after a volleyball g...   \n",
              "1000  aita for refusing to take an order someone els...   \n",
              "1001  wibta if i invite office friends to dinner wit...   \n",
              "\n",
              "                                                   body          verdict  \\\n",
              "0     (background: our school has a rule that undrec...  not the asshole   \n",
              "1     tl;dr - bought something on amazon for \\~$10 d...          asshole   \n",
              "2     i'm 16, still living at home with my mother. \\...  not the asshole   \n",
              "3     i recently started a new job as a caregiver. i...  not the asshole   \n",
              "4     me (23f) and a few of my friends went to a bar...  not the asshole   \n",
              "...                                                 ...              ...   \n",
              "997   throwaway\\n\\ni (27 f) was recently left in a d...          asshole   \n",
              "998   i have agroup of friends i met in highschool. ...  not the asshole   \n",
              "999   i recently discovered this subreddit and have ...  not the asshole   \n",
              "1000  this happened a few months ago. i work as a pi...          asshole   \n",
              "1001  i(26m) along with an office friend(27m) who is...          asshole   \n",
              "\n",
              "                                               keywords  \n",
              "0     ['take another girl', 'prom', 'mad', 'gf', 'ai...  \n",
              "1     ['price advertised', 'amazon )?', 'product', '...  \n",
              "2     ['keeps commenting', 'telling', 'mother', 'eat...  \n",
              "3     ['elderly man ’', 'blood sugar', '’', 'take', ...  \n",
              "4             ['bathroom attendant', 'tipping', 'aita']  \n",
              "...                                                 ...  \n",
              "997   ['telling', 'rude', 'overstepping', 'mom', 'ai...  \n",
              "998         ['cutting contact', 'close friend', 'aita']  \n",
              "999   ['teammates brought snacks', 'volleyball game'...  \n",
              "1000  ['order someone else forgot half', 'take', 're...  \n",
              "1001  ['wife joins us', 'invite office friends', 'di...  \n",
              "\n",
              "[1002 rows x 4 columns]"
            ],
            "text/html": [
              "\n",
              "  <div id=\"df-faf36021-b1df-42a1-87ad-861ef94e4b63\">\n",
              "    <div class=\"colab-df-container\">\n",
              "      <div>\n",
              "<style scoped>\n",
              "    .dataframe tbody tr th:only-of-type {\n",
              "        vertical-align: middle;\n",
              "    }\n",
              "\n",
              "    .dataframe tbody tr th {\n",
              "        vertical-align: top;\n",
              "    }\n",
              "\n",
              "    .dataframe thead th {\n",
              "        text-align: right;\n",
              "    }\n",
              "</style>\n",
              "<table border=\"1\" class=\"dataframe\">\n",
              "  <thead>\n",
              "    <tr style=\"text-align: right;\">\n",
              "      <th></th>\n",
              "      <th>title</th>\n",
              "      <th>body</th>\n",
              "      <th>verdict</th>\n",
              "      <th>keywords</th>\n",
              "    </tr>\n",
              "  </thead>\n",
              "  <tbody>\n",
              "    <tr>\n",
              "      <th>0</th>\n",
              "      <td>aita for being mad @ my gf for agreeing to tak...</td>\n",
              "      <td>(background: our school has a rule that undrec...</td>\n",
              "      <td>not the asshole</td>\n",
              "      <td>['take another girl', 'prom', 'mad', 'gf', 'ai...</td>\n",
              "    </tr>\n",
              "    <tr>\n",
              "      <th>1</th>\n",
              "      <td>aita for demanding a product for the price adv...</td>\n",
              "      <td>tl;dr - bought something on amazon for \\~$10 d...</td>\n",
              "      <td>asshole</td>\n",
              "      <td>['price advertised', 'amazon )?', 'product', '...</td>\n",
              "    </tr>\n",
              "    <tr>\n",
              "      <th>2</th>\n",
              "      <td>aita for telling my mother off because she kee...</td>\n",
              "      <td>i'm 16, still living at home with my mother. \\...</td>\n",
              "      <td>not the asshole</td>\n",
              "      <td>['keeps commenting', 'telling', 'mother', 'eat...</td>\n",
              "    </tr>\n",
              "    <tr>\n",
              "      <th>3</th>\n",
              "      <td>aita for refusing to take an elderly man’s blo...</td>\n",
              "      <td>i recently started a new job as a caregiver. i...</td>\n",
              "      <td>not the asshole</td>\n",
              "      <td>['elderly man ’', 'blood sugar', '’', 'take', ...</td>\n",
              "    </tr>\n",
              "    <tr>\n",
              "      <th>4</th>\n",
              "      <td>aita for not tipping a bathroom attendant?</td>\n",
              "      <td>me (23f) and a few of my friends went to a bar...</td>\n",
              "      <td>not the asshole</td>\n",
              "      <td>['bathroom attendant', 'tipping', 'aita']</td>\n",
              "    </tr>\n",
              "    <tr>\n",
              "      <th>...</th>\n",
              "      <td>...</td>\n",
              "      <td>...</td>\n",
              "      <td>...</td>\n",
              "      <td>...</td>\n",
              "    </tr>\n",
              "    <tr>\n",
              "      <th>997</th>\n",
              "      <td>aita for telling my mom she was rude and overs...</td>\n",
              "      <td>throwaway\\n\\ni (27 f) was recently left in a d...</td>\n",
              "      <td>asshole</td>\n",
              "      <td>['telling', 'rude', 'overstepping', 'mom', 'ai...</td>\n",
              "    </tr>\n",
              "    <tr>\n",
              "      <th>998</th>\n",
              "      <td>aita for cutting contact with a close friend?</td>\n",
              "      <td>i have agroup of friends i met in highschool. ...</td>\n",
              "      <td>not the asshole</td>\n",
              "      <td>['cutting contact', 'close friend', 'aita']</td>\n",
              "    </tr>\n",
              "    <tr>\n",
              "      <th>999</th>\n",
              "      <td>aita for eating my snacks after a volleyball g...</td>\n",
              "      <td>i recently discovered this subreddit and have ...</td>\n",
              "      <td>not the asshole</td>\n",
              "      <td>['teammates brought snacks', 'volleyball game'...</td>\n",
              "    </tr>\n",
              "    <tr>\n",
              "      <th>1000</th>\n",
              "      <td>aita for refusing to take an order someone els...</td>\n",
              "      <td>this happened a few months ago. i work as a pi...</td>\n",
              "      <td>asshole</td>\n",
              "      <td>['order someone else forgot half', 'take', 're...</td>\n",
              "    </tr>\n",
              "    <tr>\n",
              "      <th>1001</th>\n",
              "      <td>wibta if i invite office friends to dinner wit...</td>\n",
              "      <td>i(26m) along with an office friend(27m) who is...</td>\n",
              "      <td>asshole</td>\n",
              "      <td>['wife joins us', 'invite office friends', 'di...</td>\n",
              "    </tr>\n",
              "  </tbody>\n",
              "</table>\n",
              "<p>1002 rows × 4 columns</p>\n",
              "</div>\n",
              "      <button class=\"colab-df-convert\" onclick=\"convertToInteractive('df-faf36021-b1df-42a1-87ad-861ef94e4b63')\"\n",
              "              title=\"Convert this dataframe to an interactive table.\"\n",
              "              style=\"display:none;\">\n",
              "        \n",
              "  <svg xmlns=\"http://www.w3.org/2000/svg\" height=\"24px\"viewBox=\"0 0 24 24\"\n",
              "       width=\"24px\">\n",
              "    <path d=\"M0 0h24v24H0V0z\" fill=\"none\"/>\n",
              "    <path d=\"M18.56 5.44l.94 2.06.94-2.06 2.06-.94-2.06-.94-.94-2.06-.94 2.06-2.06.94zm-11 1L8.5 8.5l.94-2.06 2.06-.94-2.06-.94L8.5 2.5l-.94 2.06-2.06.94zm10 10l.94 2.06.94-2.06 2.06-.94-2.06-.94-.94-2.06-.94 2.06-2.06.94z\"/><path d=\"M17.41 7.96l-1.37-1.37c-.4-.4-.92-.59-1.43-.59-.52 0-1.04.2-1.43.59L10.3 9.45l-7.72 7.72c-.78.78-.78 2.05 0 2.83L4 21.41c.39.39.9.59 1.41.59.51 0 1.02-.2 1.41-.59l7.78-7.78 2.81-2.81c.8-.78.8-2.07 0-2.86zM5.41 20L4 18.59l7.72-7.72 1.47 1.35L5.41 20z\"/>\n",
              "  </svg>\n",
              "      </button>\n",
              "      \n",
              "  <style>\n",
              "    .colab-df-container {\n",
              "      display:flex;\n",
              "      flex-wrap:wrap;\n",
              "      gap: 12px;\n",
              "    }\n",
              "\n",
              "    .colab-df-convert {\n",
              "      background-color: #E8F0FE;\n",
              "      border: none;\n",
              "      border-radius: 50%;\n",
              "      cursor: pointer;\n",
              "      display: none;\n",
              "      fill: #1967D2;\n",
              "      height: 32px;\n",
              "      padding: 0 0 0 0;\n",
              "      width: 32px;\n",
              "    }\n",
              "\n",
              "    .colab-df-convert:hover {\n",
              "      background-color: #E2EBFA;\n",
              "      box-shadow: 0px 1px 2px rgba(60, 64, 67, 0.3), 0px 1px 3px 1px rgba(60, 64, 67, 0.15);\n",
              "      fill: #174EA6;\n",
              "    }\n",
              "\n",
              "    [theme=dark] .colab-df-convert {\n",
              "      background-color: #3B4455;\n",
              "      fill: #D2E3FC;\n",
              "    }\n",
              "\n",
              "    [theme=dark] .colab-df-convert:hover {\n",
              "      background-color: #434B5C;\n",
              "      box-shadow: 0px 1px 3px 1px rgba(0, 0, 0, 0.15);\n",
              "      filter: drop-shadow(0px 1px 2px rgba(0, 0, 0, 0.3));\n",
              "      fill: #FFFFFF;\n",
              "    }\n",
              "  </style>\n",
              "\n",
              "      <script>\n",
              "        const buttonEl =\n",
              "          document.querySelector('#df-faf36021-b1df-42a1-87ad-861ef94e4b63 button.colab-df-convert');\n",
              "        buttonEl.style.display =\n",
              "          google.colab.kernel.accessAllowed ? 'block' : 'none';\n",
              "\n",
              "        async function convertToInteractive(key) {\n",
              "          const element = document.querySelector('#df-faf36021-b1df-42a1-87ad-861ef94e4b63');\n",
              "          const dataTable =\n",
              "            await google.colab.kernel.invokeFunction('convertToInteractive',\n",
              "                                                     [key], {});\n",
              "          if (!dataTable) return;\n",
              "\n",
              "          const docLinkHtml = 'Like what you see? Visit the ' +\n",
              "            '<a target=\"_blank\" href=https://colab.research.google.com/notebooks/data_table.ipynb>data table notebook</a>'\n",
              "            + ' to learn more about interactive tables.';\n",
              "          element.innerHTML = '';\n",
              "          dataTable['output_type'] = 'display_data';\n",
              "          await google.colab.output.renderOutput(dataTable, element);\n",
              "          const docLink = document.createElement('div');\n",
              "          docLink.innerHTML = docLinkHtml;\n",
              "          element.appendChild(docLink);\n",
              "        }\n",
              "      </script>\n",
              "    </div>\n",
              "  </div>\n",
              "  "
            ]
          },
          "metadata": {},
          "execution_count": 9
        }
      ]
    },
    {
      "cell_type": "code",
      "source": [
        "print(data_truncated.iloc[37511].title)\n",
        "print(data_truncated.iloc[37511].keywords)"
      ],
      "metadata": {
        "colab": {
          "base_uri": "https://localhost:8080/"
        },
        "id": "7FC5OZTrdf0r",
        "outputId": "527f27bf-d512-4e45-abbf-0d44082a0427"
      },
      "execution_count": null,
      "outputs": [
        {
          "output_type": "stream",
          "name": "stdout",
          "text": [
            "aita for being disrespectful with my mum over her hating anime?\n",
            "['hating anime', 'mum', 'disrespectful', 'aita']\n"
          ]
        }
      ]
    },
    {
      "cell_type": "code",
      "source": [
        "TOKENS_THRESHOLD = 200\n",
        "def filter_fn(row):\n",
        "    if len(row['body'].split()) > TOKENS_THRESHOLD:\n",
        "        return True\n",
        "    else:\n",
        "        return False\n",
        "\n",
        "data_truncated = test_data_truncated[test_data_truncated.apply(filter_fn, axis=1)]\n",
        "data_truncated = data_truncated.reset_index()\n",
        "data_truncated"
      ],
      "metadata": {
        "colab": {
          "base_uri": "https://localhost:8080/",
          "height": 423
        },
        "id": "W6EyNmLGdhvy",
        "outputId": "85b90c4f-4007-417f-89b9-88f640470185"
      },
      "execution_count": null,
      "outputs": [
        {
          "output_type": "execute_result",
          "data": {
            "text/plain": [
              "       index                                              title  \\\n",
              "0          0  aita for asking my boyfriend to drive me to th...   \n",
              "1          1  aita for buying a phone off of my close friend...   \n",
              "2          2  aita for not answering my phone to my mom duri...   \n",
              "3          3  aita for asking my girlfriend to straighten he...   \n",
              "4          4  aita for telling my girlfriend to stop eating ...   \n",
              "...      ...                                                ...   \n",
              "29328  37507  aita for letting someone sit in my seat at the...   \n",
              "29329  37508  aita for venting in a kind of nasty way about ...   \n",
              "29330  37509  wibta if i asked my neighbor to help with the ...   \n",
              "29331  37510  aita for not wanting my fiancée to invite her ...   \n",
              "29332  37511  aita for being disrespectful with my mum over ...   \n",
              "\n",
              "                                                    body          verdict  \\\n",
              "0      i am very, very sick right now with the flu. i...  not the asshole   \n",
              "1      my friend let’s call her zoe & her ex let’s ca...  not the asshole   \n",
              "2      3 months ago i was going to a sleepover with m...          asshole   \n",
              "3      so some backstory. my girlfriend has really be...          asshole   \n",
              "4      weird title, and this’ll sound fake, but it’s ...          asshole   \n",
              "...                                                  ...              ...   \n",
              "29328  i went to watch a play with my girlfriend last...          asshole   \n",
              "29329  so i was hanging out with my friend and i star...          asshole   \n",
              "29330  tl;dr at the bottom.\\n\\n\\n**i will also likely...          asshole   \n",
              "29331  my fiancée and i have been dating 3 years, eng...          asshole   \n",
              "29332  so a little backstory: i am 15 yrs old and i w...  not the asshole   \n",
              "\n",
              "                                                keywords  \n",
              "0      ['hospital', 'drive', 'boyfriend', 'asking', '...  \n",
              "1      ['close friend ’', 'ex boyfriend', 'phone', 'b...  \n",
              "2      ['sleepover', 'phone', 'mom', 'answering', 'ai...  \n",
              "3      ['straighten', 'hair', 'girlfriend', 'asking',...  \n",
              "4      ['stop eating “ baby snacks ”?', 'telling', 'g...  \n",
              "...                                                  ...  \n",
              "29328  ['letting someone sit', 'theatre', 'seat', 'ai...  \n",
              "29329  ['nasty way', 'venting', 'kind', 'classmates',...  \n",
              "29330  ['wibta', 'tree', 'removing', 'neighbor', 'hom...  \n",
              "29331  ['wedding', 'wanting', 'stepdaughter', 'invite...  \n",
              "29332   ['hating anime', 'mum', 'disrespectful', 'aita']  \n",
              "\n",
              "[29333 rows x 5 columns]"
            ],
            "text/html": [
              "\n",
              "  <div id=\"df-5ebe11e0-7b81-4ebd-baf3-2139c6c8a9cd\">\n",
              "    <div class=\"colab-df-container\">\n",
              "      <div>\n",
              "<style scoped>\n",
              "    .dataframe tbody tr th:only-of-type {\n",
              "        vertical-align: middle;\n",
              "    }\n",
              "\n",
              "    .dataframe tbody tr th {\n",
              "        vertical-align: top;\n",
              "    }\n",
              "\n",
              "    .dataframe thead th {\n",
              "        text-align: right;\n",
              "    }\n",
              "</style>\n",
              "<table border=\"1\" class=\"dataframe\">\n",
              "  <thead>\n",
              "    <tr style=\"text-align: right;\">\n",
              "      <th></th>\n",
              "      <th>index</th>\n",
              "      <th>title</th>\n",
              "      <th>body</th>\n",
              "      <th>verdict</th>\n",
              "      <th>keywords</th>\n",
              "    </tr>\n",
              "  </thead>\n",
              "  <tbody>\n",
              "    <tr>\n",
              "      <th>0</th>\n",
              "      <td>0</td>\n",
              "      <td>aita for asking my boyfriend to drive me to th...</td>\n",
              "      <td>i am very, very sick right now with the flu. i...</td>\n",
              "      <td>not the asshole</td>\n",
              "      <td>['hospital', 'drive', 'boyfriend', 'asking', '...</td>\n",
              "    </tr>\n",
              "    <tr>\n",
              "      <th>1</th>\n",
              "      <td>1</td>\n",
              "      <td>aita for buying a phone off of my close friend...</td>\n",
              "      <td>my friend let’s call her zoe &amp; her ex let’s ca...</td>\n",
              "      <td>not the asshole</td>\n",
              "      <td>['close friend ’', 'ex boyfriend', 'phone', 'b...</td>\n",
              "    </tr>\n",
              "    <tr>\n",
              "      <th>2</th>\n",
              "      <td>2</td>\n",
              "      <td>aita for not answering my phone to my mom duri...</td>\n",
              "      <td>3 months ago i was going to a sleepover with m...</td>\n",
              "      <td>asshole</td>\n",
              "      <td>['sleepover', 'phone', 'mom', 'answering', 'ai...</td>\n",
              "    </tr>\n",
              "    <tr>\n",
              "      <th>3</th>\n",
              "      <td>3</td>\n",
              "      <td>aita for asking my girlfriend to straighten he...</td>\n",
              "      <td>so some backstory. my girlfriend has really be...</td>\n",
              "      <td>asshole</td>\n",
              "      <td>['straighten', 'hair', 'girlfriend', 'asking',...</td>\n",
              "    </tr>\n",
              "    <tr>\n",
              "      <th>4</th>\n",
              "      <td>4</td>\n",
              "      <td>aita for telling my girlfriend to stop eating ...</td>\n",
              "      <td>weird title, and this’ll sound fake, but it’s ...</td>\n",
              "      <td>asshole</td>\n",
              "      <td>['stop eating “ baby snacks ”?', 'telling', 'g...</td>\n",
              "    </tr>\n",
              "    <tr>\n",
              "      <th>...</th>\n",
              "      <td>...</td>\n",
              "      <td>...</td>\n",
              "      <td>...</td>\n",
              "      <td>...</td>\n",
              "      <td>...</td>\n",
              "    </tr>\n",
              "    <tr>\n",
              "      <th>29328</th>\n",
              "      <td>37507</td>\n",
              "      <td>aita for letting someone sit in my seat at the...</td>\n",
              "      <td>i went to watch a play with my girlfriend last...</td>\n",
              "      <td>asshole</td>\n",
              "      <td>['letting someone sit', 'theatre', 'seat', 'ai...</td>\n",
              "    </tr>\n",
              "    <tr>\n",
              "      <th>29329</th>\n",
              "      <td>37508</td>\n",
              "      <td>aita for venting in a kind of nasty way about ...</td>\n",
              "      <td>so i was hanging out with my friend and i star...</td>\n",
              "      <td>asshole</td>\n",
              "      <td>['nasty way', 'venting', 'kind', 'classmates',...</td>\n",
              "    </tr>\n",
              "    <tr>\n",
              "      <th>29330</th>\n",
              "      <td>37509</td>\n",
              "      <td>wibta if i asked my neighbor to help with the ...</td>\n",
              "      <td>tl;dr at the bottom.\\n\\n\\n**i will also likely...</td>\n",
              "      <td>asshole</td>\n",
              "      <td>['wibta', 'tree', 'removing', 'neighbor', 'hom...</td>\n",
              "    </tr>\n",
              "    <tr>\n",
              "      <th>29331</th>\n",
              "      <td>37510</td>\n",
              "      <td>aita for not wanting my fiancée to invite her ...</td>\n",
              "      <td>my fiancée and i have been dating 3 years, eng...</td>\n",
              "      <td>asshole</td>\n",
              "      <td>['wedding', 'wanting', 'stepdaughter', 'invite...</td>\n",
              "    </tr>\n",
              "    <tr>\n",
              "      <th>29332</th>\n",
              "      <td>37511</td>\n",
              "      <td>aita for being disrespectful with my mum over ...</td>\n",
              "      <td>so a little backstory: i am 15 yrs old and i w...</td>\n",
              "      <td>not the asshole</td>\n",
              "      <td>['hating anime', 'mum', 'disrespectful', 'aita']</td>\n",
              "    </tr>\n",
              "  </tbody>\n",
              "</table>\n",
              "<p>29333 rows × 5 columns</p>\n",
              "</div>\n",
              "      <button class=\"colab-df-convert\" onclick=\"convertToInteractive('df-5ebe11e0-7b81-4ebd-baf3-2139c6c8a9cd')\"\n",
              "              title=\"Convert this dataframe to an interactive table.\"\n",
              "              style=\"display:none;\">\n",
              "        \n",
              "  <svg xmlns=\"http://www.w3.org/2000/svg\" height=\"24px\"viewBox=\"0 0 24 24\"\n",
              "       width=\"24px\">\n",
              "    <path d=\"M0 0h24v24H0V0z\" fill=\"none\"/>\n",
              "    <path d=\"M18.56 5.44l.94 2.06.94-2.06 2.06-.94-2.06-.94-.94-2.06-.94 2.06-2.06.94zm-11 1L8.5 8.5l.94-2.06 2.06-.94-2.06-.94L8.5 2.5l-.94 2.06-2.06.94zm10 10l.94 2.06.94-2.06 2.06-.94-2.06-.94-.94-2.06-.94 2.06-2.06.94z\"/><path d=\"M17.41 7.96l-1.37-1.37c-.4-.4-.92-.59-1.43-.59-.52 0-1.04.2-1.43.59L10.3 9.45l-7.72 7.72c-.78.78-.78 2.05 0 2.83L4 21.41c.39.39.9.59 1.41.59.51 0 1.02-.2 1.41-.59l7.78-7.78 2.81-2.81c.8-.78.8-2.07 0-2.86zM5.41 20L4 18.59l7.72-7.72 1.47 1.35L5.41 20z\"/>\n",
              "  </svg>\n",
              "      </button>\n",
              "      \n",
              "  <style>\n",
              "    .colab-df-container {\n",
              "      display:flex;\n",
              "      flex-wrap:wrap;\n",
              "      gap: 12px;\n",
              "    }\n",
              "\n",
              "    .colab-df-convert {\n",
              "      background-color: #E8F0FE;\n",
              "      border: none;\n",
              "      border-radius: 50%;\n",
              "      cursor: pointer;\n",
              "      display: none;\n",
              "      fill: #1967D2;\n",
              "      height: 32px;\n",
              "      padding: 0 0 0 0;\n",
              "      width: 32px;\n",
              "    }\n",
              "\n",
              "    .colab-df-convert:hover {\n",
              "      background-color: #E2EBFA;\n",
              "      box-shadow: 0px 1px 2px rgba(60, 64, 67, 0.3), 0px 1px 3px 1px rgba(60, 64, 67, 0.15);\n",
              "      fill: #174EA6;\n",
              "    }\n",
              "\n",
              "    [theme=dark] .colab-df-convert {\n",
              "      background-color: #3B4455;\n",
              "      fill: #D2E3FC;\n",
              "    }\n",
              "\n",
              "    [theme=dark] .colab-df-convert:hover {\n",
              "      background-color: #434B5C;\n",
              "      box-shadow: 0px 1px 3px 1px rgba(0, 0, 0, 0.15);\n",
              "      filter: drop-shadow(0px 1px 2px rgba(0, 0, 0, 0.3));\n",
              "      fill: #FFFFFF;\n",
              "    }\n",
              "  </style>\n",
              "\n",
              "      <script>\n",
              "        const buttonEl =\n",
              "          document.querySelector('#df-5ebe11e0-7b81-4ebd-baf3-2139c6c8a9cd button.colab-df-convert');\n",
              "        buttonEl.style.display =\n",
              "          google.colab.kernel.accessAllowed ? 'block' : 'none';\n",
              "\n",
              "        async function convertToInteractive(key) {\n",
              "          const element = document.querySelector('#df-5ebe11e0-7b81-4ebd-baf3-2139c6c8a9cd');\n",
              "          const dataTable =\n",
              "            await google.colab.kernel.invokeFunction('convertToInteractive',\n",
              "                                                     [key], {});\n",
              "          if (!dataTable) return;\n",
              "\n",
              "          const docLinkHtml = 'Like what you see? Visit the ' +\n",
              "            '<a target=\"_blank\" href=https://colab.research.google.com/notebooks/data_table.ipynb>data table notebook</a>'\n",
              "            + ' to learn more about interactive tables.';\n",
              "          element.innerHTML = '';\n",
              "          dataTable['output_type'] = 'display_data';\n",
              "          await google.colab.output.renderOutput(dataTable, element);\n",
              "          const docLink = document.createElement('div');\n",
              "          docLink.innerHTML = docLinkHtml;\n",
              "          element.appendChild(docLink);\n",
              "        }\n",
              "      </script>\n",
              "    </div>\n",
              "  </div>\n",
              "  "
            ]
          },
          "metadata": {},
          "execution_count": 10
        }
      ]
    },
    {
      "cell_type": "code",
      "source": [
        "data_small = data_truncated.sample(n=25000)\n",
        "data_small"
      ],
      "metadata": {
        "colab": {
          "base_uri": "https://localhost:8080/",
          "height": 423
        },
        "id": "ZLAtMUKCdjrz",
        "outputId": "f7c4f661-a687-4f15-fddd-a4bdd3ced109"
      },
      "execution_count": null,
      "outputs": [
        {
          "output_type": "execute_result",
          "data": {
            "text/plain": [
              "       index                                              title  \\\n",
              "7034    9062  aita for taking alcohol even if we all paid fo...   \n",
              "1802    2342  aita for trying to date one of my closest frie...   \n",
              "24692  31559  wibta if i accepted my grandmothers inheritanc...   \n",
              "318      401             aita for not changing my wedding date?   \n",
              "23800  30435       aita for telling my ex \"why would you care\"?   \n",
              "...      ...                                                ...   \n",
              "400      509  wibta if i stopped being friends with someone ...   \n",
              "28183  36039  aita for offering waaay low on some guitar gea...   \n",
              "20644  26413  aita (d&d edition) for \"sharing\" a bad guy wit...   \n",
              "14384  18410       wibta if i reported my parents dangerous dog   \n",
              "19341  24748  aita for pushing my now ex gf out of my house ...   \n",
              "\n",
              "                                                    body          verdict  \\\n",
              "7034   it was my friend's 25th birthday last week and...  not the asshole   \n",
              "1802   some backstory:\\n\\nabout 3 and a half years on...          asshole   \n",
              "24692  i am not from an english speaking country, so ...  not the asshole   \n",
              "318    we got engaged in late 2018. my stbh and i cou...  not the asshole   \n",
              "23800  for context, we are still going to the same sc...          asshole   \n",
              "...                                                  ...              ...   \n",
              "400    wibta if i (34f) stopped being friends with my...  not the asshole   \n",
              "28183  so my coworker found out that my son and i are...          asshole   \n",
              "20644  disclaimer: if you don't play dungeons and dra...  not the asshole   \n",
              "14384  not sure if this is against the rules or not, ...  not the asshole   \n",
              "19341  so before i begin when i say push i don't mean...          asshole   \n",
              "\n",
              "                                                keywords  \n",
              "7034             ['taking alcohol even', 'paid', 'aita']  \n",
              "1802   ['closest friend ’', 'past abuser', 'date one'...  \n",
              "24692  ['grandmothers inheritance leaving', 'wibta', ...  \n",
              "318                 ['wedding date', 'changing', 'aita']  \n",
              "23800      ['care \"?', 'would', 'telling', 'ex', 'aita']  \n",
              "...                                                  ...  \n",
              "400    ['29 years', 'wibta', 'wedding', 'stopped', 's...  \n",
              "28183  ['offering waaay low', 'guitar gear', 'coworke...  \n",
              "20644  ['entire party', 'bad guy', 'sharing', 'editio...  \n",
              "14384     ['parents dangerous dog', 'wibta', 'reported']  \n",
              "19341  ['ex gf', 'pushing', 'house', 'came', 'break',...  \n",
              "\n",
              "[25000 rows x 5 columns]"
            ],
            "text/html": [
              "\n",
              "  <div id=\"df-1c91cbef-9b7e-46f2-ac6e-93de6d6486b2\">\n",
              "    <div class=\"colab-df-container\">\n",
              "      <div>\n",
              "<style scoped>\n",
              "    .dataframe tbody tr th:only-of-type {\n",
              "        vertical-align: middle;\n",
              "    }\n",
              "\n",
              "    .dataframe tbody tr th {\n",
              "        vertical-align: top;\n",
              "    }\n",
              "\n",
              "    .dataframe thead th {\n",
              "        text-align: right;\n",
              "    }\n",
              "</style>\n",
              "<table border=\"1\" class=\"dataframe\">\n",
              "  <thead>\n",
              "    <tr style=\"text-align: right;\">\n",
              "      <th></th>\n",
              "      <th>index</th>\n",
              "      <th>title</th>\n",
              "      <th>body</th>\n",
              "      <th>verdict</th>\n",
              "      <th>keywords</th>\n",
              "    </tr>\n",
              "  </thead>\n",
              "  <tbody>\n",
              "    <tr>\n",
              "      <th>7034</th>\n",
              "      <td>9062</td>\n",
              "      <td>aita for taking alcohol even if we all paid fo...</td>\n",
              "      <td>it was my friend's 25th birthday last week and...</td>\n",
              "      <td>not the asshole</td>\n",
              "      <td>['taking alcohol even', 'paid', 'aita']</td>\n",
              "    </tr>\n",
              "    <tr>\n",
              "      <th>1802</th>\n",
              "      <td>2342</td>\n",
              "      <td>aita for trying to date one of my closest frie...</td>\n",
              "      <td>some backstory:\\n\\nabout 3 and a half years on...</td>\n",
              "      <td>asshole</td>\n",
              "      <td>['closest friend ’', 'past abuser', 'date one'...</td>\n",
              "    </tr>\n",
              "    <tr>\n",
              "      <th>24692</th>\n",
              "      <td>31559</td>\n",
              "      <td>wibta if i accepted my grandmothers inheritanc...</td>\n",
              "      <td>i am not from an english speaking country, so ...</td>\n",
              "      <td>not the asshole</td>\n",
              "      <td>['grandmothers inheritance leaving', 'wibta', ...</td>\n",
              "    </tr>\n",
              "    <tr>\n",
              "      <th>318</th>\n",
              "      <td>401</td>\n",
              "      <td>aita for not changing my wedding date?</td>\n",
              "      <td>we got engaged in late 2018. my stbh and i cou...</td>\n",
              "      <td>not the asshole</td>\n",
              "      <td>['wedding date', 'changing', 'aita']</td>\n",
              "    </tr>\n",
              "    <tr>\n",
              "      <th>23800</th>\n",
              "      <td>30435</td>\n",
              "      <td>aita for telling my ex \"why would you care\"?</td>\n",
              "      <td>for context, we are still going to the same sc...</td>\n",
              "      <td>asshole</td>\n",
              "      <td>['care \"?', 'would', 'telling', 'ex', 'aita']</td>\n",
              "    </tr>\n",
              "    <tr>\n",
              "      <th>...</th>\n",
              "      <td>...</td>\n",
              "      <td>...</td>\n",
              "      <td>...</td>\n",
              "      <td>...</td>\n",
              "      <td>...</td>\n",
              "    </tr>\n",
              "    <tr>\n",
              "      <th>400</th>\n",
              "      <td>509</td>\n",
              "      <td>wibta if i stopped being friends with someone ...</td>\n",
              "      <td>wibta if i (34f) stopped being friends with my...</td>\n",
              "      <td>not the asshole</td>\n",
              "      <td>['29 years', 'wibta', 'wedding', 'stopped', 's...</td>\n",
              "    </tr>\n",
              "    <tr>\n",
              "      <th>28183</th>\n",
              "      <td>36039</td>\n",
              "      <td>aita for offering waaay low on some guitar gea...</td>\n",
              "      <td>so my coworker found out that my son and i are...</td>\n",
              "      <td>asshole</td>\n",
              "      <td>['offering waaay low', 'guitar gear', 'coworke...</td>\n",
              "    </tr>\n",
              "    <tr>\n",
              "      <th>20644</th>\n",
              "      <td>26413</td>\n",
              "      <td>aita (d&amp;d edition) for \"sharing\" a bad guy wit...</td>\n",
              "      <td>disclaimer: if you don't play dungeons and dra...</td>\n",
              "      <td>not the asshole</td>\n",
              "      <td>['entire party', 'bad guy', 'sharing', 'editio...</td>\n",
              "    </tr>\n",
              "    <tr>\n",
              "      <th>14384</th>\n",
              "      <td>18410</td>\n",
              "      <td>wibta if i reported my parents dangerous dog</td>\n",
              "      <td>not sure if this is against the rules or not, ...</td>\n",
              "      <td>not the asshole</td>\n",
              "      <td>['parents dangerous dog', 'wibta', 'reported']</td>\n",
              "    </tr>\n",
              "    <tr>\n",
              "      <th>19341</th>\n",
              "      <td>24748</td>\n",
              "      <td>aita for pushing my now ex gf out of my house ...</td>\n",
              "      <td>so before i begin when i say push i don't mean...</td>\n",
              "      <td>asshole</td>\n",
              "      <td>['ex gf', 'pushing', 'house', 'came', 'break',...</td>\n",
              "    </tr>\n",
              "  </tbody>\n",
              "</table>\n",
              "<p>25000 rows × 5 columns</p>\n",
              "</div>\n",
              "      <button class=\"colab-df-convert\" onclick=\"convertToInteractive('df-1c91cbef-9b7e-46f2-ac6e-93de6d6486b2')\"\n",
              "              title=\"Convert this dataframe to an interactive table.\"\n",
              "              style=\"display:none;\">\n",
              "        \n",
              "  <svg xmlns=\"http://www.w3.org/2000/svg\" height=\"24px\"viewBox=\"0 0 24 24\"\n",
              "       width=\"24px\">\n",
              "    <path d=\"M0 0h24v24H0V0z\" fill=\"none\"/>\n",
              "    <path d=\"M18.56 5.44l.94 2.06.94-2.06 2.06-.94-2.06-.94-.94-2.06-.94 2.06-2.06.94zm-11 1L8.5 8.5l.94-2.06 2.06-.94-2.06-.94L8.5 2.5l-.94 2.06-2.06.94zm10 10l.94 2.06.94-2.06 2.06-.94-2.06-.94-.94-2.06-.94 2.06-2.06.94z\"/><path d=\"M17.41 7.96l-1.37-1.37c-.4-.4-.92-.59-1.43-.59-.52 0-1.04.2-1.43.59L10.3 9.45l-7.72 7.72c-.78.78-.78 2.05 0 2.83L4 21.41c.39.39.9.59 1.41.59.51 0 1.02-.2 1.41-.59l7.78-7.78 2.81-2.81c.8-.78.8-2.07 0-2.86zM5.41 20L4 18.59l7.72-7.72 1.47 1.35L5.41 20z\"/>\n",
              "  </svg>\n",
              "      </button>\n",
              "      \n",
              "  <style>\n",
              "    .colab-df-container {\n",
              "      display:flex;\n",
              "      flex-wrap:wrap;\n",
              "      gap: 12px;\n",
              "    }\n",
              "\n",
              "    .colab-df-convert {\n",
              "      background-color: #E8F0FE;\n",
              "      border: none;\n",
              "      border-radius: 50%;\n",
              "      cursor: pointer;\n",
              "      display: none;\n",
              "      fill: #1967D2;\n",
              "      height: 32px;\n",
              "      padding: 0 0 0 0;\n",
              "      width: 32px;\n",
              "    }\n",
              "\n",
              "    .colab-df-convert:hover {\n",
              "      background-color: #E2EBFA;\n",
              "      box-shadow: 0px 1px 2px rgba(60, 64, 67, 0.3), 0px 1px 3px 1px rgba(60, 64, 67, 0.15);\n",
              "      fill: #174EA6;\n",
              "    }\n",
              "\n",
              "    [theme=dark] .colab-df-convert {\n",
              "      background-color: #3B4455;\n",
              "      fill: #D2E3FC;\n",
              "    }\n",
              "\n",
              "    [theme=dark] .colab-df-convert:hover {\n",
              "      background-color: #434B5C;\n",
              "      box-shadow: 0px 1px 3px 1px rgba(0, 0, 0, 0.15);\n",
              "      filter: drop-shadow(0px 1px 2px rgba(0, 0, 0, 0.3));\n",
              "      fill: #FFFFFF;\n",
              "    }\n",
              "  </style>\n",
              "\n",
              "      <script>\n",
              "        const buttonEl =\n",
              "          document.querySelector('#df-1c91cbef-9b7e-46f2-ac6e-93de6d6486b2 button.colab-df-convert');\n",
              "        buttonEl.style.display =\n",
              "          google.colab.kernel.accessAllowed ? 'block' : 'none';\n",
              "\n",
              "        async function convertToInteractive(key) {\n",
              "          const element = document.querySelector('#df-1c91cbef-9b7e-46f2-ac6e-93de6d6486b2');\n",
              "          const dataTable =\n",
              "            await google.colab.kernel.invokeFunction('convertToInteractive',\n",
              "                                                     [key], {});\n",
              "          if (!dataTable) return;\n",
              "\n",
              "          const docLinkHtml = 'Like what you see? Visit the ' +\n",
              "            '<a target=\"_blank\" href=https://colab.research.google.com/notebooks/data_table.ipynb>data table notebook</a>'\n",
              "            + ' to learn more about interactive tables.';\n",
              "          element.innerHTML = '';\n",
              "          dataTable['output_type'] = 'display_data';\n",
              "          await google.colab.output.renderOutput(dataTable, element);\n",
              "          const docLink = document.createElement('div');\n",
              "          docLink.innerHTML = docLinkHtml;\n",
              "          element.appendChild(docLink);\n",
              "        }\n",
              "      </script>\n",
              "    </div>\n",
              "  </div>\n",
              "  "
            ]
          },
          "metadata": {},
          "execution_count": 11
        }
      ]
    },
    {
      "cell_type": "code",
      "source": [
        "data_small = data_small.reset_index(drop = True)\n",
        "data_small = data_small[['title', 'body', 'verdict', 'keywords']]\n",
        "data_small"
      ],
      "metadata": {
        "colab": {
          "base_uri": "https://localhost:8080/",
          "height": 423
        },
        "id": "de7_MxnKdmf7",
        "outputId": "97a771ef-dd27-4946-84db-2e144ac74970"
      },
      "execution_count": null,
      "outputs": [
        {
          "output_type": "execute_result",
          "data": {
            "text/plain": [
              "                                                   title  \\\n",
              "0      aita for taking alcohol even if we all paid fo...   \n",
              "1      aita for trying to date one of my closest frie...   \n",
              "2      wibta if i accepted my grandmothers inheritanc...   \n",
              "3                 aita for not changing my wedding date?   \n",
              "4           aita for telling my ex \"why would you care\"?   \n",
              "...                                                  ...   \n",
              "24995  wibta if i stopped being friends with someone ...   \n",
              "24996  aita for offering waaay low on some guitar gea...   \n",
              "24997  aita (d&d edition) for \"sharing\" a bad guy wit...   \n",
              "24998       wibta if i reported my parents dangerous dog   \n",
              "24999  aita for pushing my now ex gf out of my house ...   \n",
              "\n",
              "                                                    body          verdict  \\\n",
              "0      it was my friend's 25th birthday last week and...  not the asshole   \n",
              "1      some backstory:\\n\\nabout 3 and a half years on...          asshole   \n",
              "2      i am not from an english speaking country, so ...  not the asshole   \n",
              "3      we got engaged in late 2018. my stbh and i cou...  not the asshole   \n",
              "4      for context, we are still going to the same sc...          asshole   \n",
              "...                                                  ...              ...   \n",
              "24995  wibta if i (34f) stopped being friends with my...  not the asshole   \n",
              "24996  so my coworker found out that my son and i are...          asshole   \n",
              "24997  disclaimer: if you don't play dungeons and dra...  not the asshole   \n",
              "24998  not sure if this is against the rules or not, ...  not the asshole   \n",
              "24999  so before i begin when i say push i don't mean...          asshole   \n",
              "\n",
              "                                                keywords  \n",
              "0                ['taking alcohol even', 'paid', 'aita']  \n",
              "1      ['closest friend ’', 'past abuser', 'date one'...  \n",
              "2      ['grandmothers inheritance leaving', 'wibta', ...  \n",
              "3                   ['wedding date', 'changing', 'aita']  \n",
              "4          ['care \"?', 'would', 'telling', 'ex', 'aita']  \n",
              "...                                                  ...  \n",
              "24995  ['29 years', 'wibta', 'wedding', 'stopped', 's...  \n",
              "24996  ['offering waaay low', 'guitar gear', 'coworke...  \n",
              "24997  ['entire party', 'bad guy', 'sharing', 'editio...  \n",
              "24998     ['parents dangerous dog', 'wibta', 'reported']  \n",
              "24999  ['ex gf', 'pushing', 'house', 'came', 'break',...  \n",
              "\n",
              "[25000 rows x 4 columns]"
            ],
            "text/html": [
              "\n",
              "  <div id=\"df-68bbc26a-4cc8-4410-83b1-84df2977dd67\">\n",
              "    <div class=\"colab-df-container\">\n",
              "      <div>\n",
              "<style scoped>\n",
              "    .dataframe tbody tr th:only-of-type {\n",
              "        vertical-align: middle;\n",
              "    }\n",
              "\n",
              "    .dataframe tbody tr th {\n",
              "        vertical-align: top;\n",
              "    }\n",
              "\n",
              "    .dataframe thead th {\n",
              "        text-align: right;\n",
              "    }\n",
              "</style>\n",
              "<table border=\"1\" class=\"dataframe\">\n",
              "  <thead>\n",
              "    <tr style=\"text-align: right;\">\n",
              "      <th></th>\n",
              "      <th>title</th>\n",
              "      <th>body</th>\n",
              "      <th>verdict</th>\n",
              "      <th>keywords</th>\n",
              "    </tr>\n",
              "  </thead>\n",
              "  <tbody>\n",
              "    <tr>\n",
              "      <th>0</th>\n",
              "      <td>aita for taking alcohol even if we all paid fo...</td>\n",
              "      <td>it was my friend's 25th birthday last week and...</td>\n",
              "      <td>not the asshole</td>\n",
              "      <td>['taking alcohol even', 'paid', 'aita']</td>\n",
              "    </tr>\n",
              "    <tr>\n",
              "      <th>1</th>\n",
              "      <td>aita for trying to date one of my closest frie...</td>\n",
              "      <td>some backstory:\\n\\nabout 3 and a half years on...</td>\n",
              "      <td>asshole</td>\n",
              "      <td>['closest friend ’', 'past abuser', 'date one'...</td>\n",
              "    </tr>\n",
              "    <tr>\n",
              "      <th>2</th>\n",
              "      <td>wibta if i accepted my grandmothers inheritanc...</td>\n",
              "      <td>i am not from an english speaking country, so ...</td>\n",
              "      <td>not the asshole</td>\n",
              "      <td>['grandmothers inheritance leaving', 'wibta', ...</td>\n",
              "    </tr>\n",
              "    <tr>\n",
              "      <th>3</th>\n",
              "      <td>aita for not changing my wedding date?</td>\n",
              "      <td>we got engaged in late 2018. my stbh and i cou...</td>\n",
              "      <td>not the asshole</td>\n",
              "      <td>['wedding date', 'changing', 'aita']</td>\n",
              "    </tr>\n",
              "    <tr>\n",
              "      <th>4</th>\n",
              "      <td>aita for telling my ex \"why would you care\"?</td>\n",
              "      <td>for context, we are still going to the same sc...</td>\n",
              "      <td>asshole</td>\n",
              "      <td>['care \"?', 'would', 'telling', 'ex', 'aita']</td>\n",
              "    </tr>\n",
              "    <tr>\n",
              "      <th>...</th>\n",
              "      <td>...</td>\n",
              "      <td>...</td>\n",
              "      <td>...</td>\n",
              "      <td>...</td>\n",
              "    </tr>\n",
              "    <tr>\n",
              "      <th>24995</th>\n",
              "      <td>wibta if i stopped being friends with someone ...</td>\n",
              "      <td>wibta if i (34f) stopped being friends with my...</td>\n",
              "      <td>not the asshole</td>\n",
              "      <td>['29 years', 'wibta', 'wedding', 'stopped', 's...</td>\n",
              "    </tr>\n",
              "    <tr>\n",
              "      <th>24996</th>\n",
              "      <td>aita for offering waaay low on some guitar gea...</td>\n",
              "      <td>so my coworker found out that my son and i are...</td>\n",
              "      <td>asshole</td>\n",
              "      <td>['offering waaay low', 'guitar gear', 'coworke...</td>\n",
              "    </tr>\n",
              "    <tr>\n",
              "      <th>24997</th>\n",
              "      <td>aita (d&amp;d edition) for \"sharing\" a bad guy wit...</td>\n",
              "      <td>disclaimer: if you don't play dungeons and dra...</td>\n",
              "      <td>not the asshole</td>\n",
              "      <td>['entire party', 'bad guy', 'sharing', 'editio...</td>\n",
              "    </tr>\n",
              "    <tr>\n",
              "      <th>24998</th>\n",
              "      <td>wibta if i reported my parents dangerous dog</td>\n",
              "      <td>not sure if this is against the rules or not, ...</td>\n",
              "      <td>not the asshole</td>\n",
              "      <td>['parents dangerous dog', 'wibta', 'reported']</td>\n",
              "    </tr>\n",
              "    <tr>\n",
              "      <th>24999</th>\n",
              "      <td>aita for pushing my now ex gf out of my house ...</td>\n",
              "      <td>so before i begin when i say push i don't mean...</td>\n",
              "      <td>asshole</td>\n",
              "      <td>['ex gf', 'pushing', 'house', 'came', 'break',...</td>\n",
              "    </tr>\n",
              "  </tbody>\n",
              "</table>\n",
              "<p>25000 rows × 4 columns</p>\n",
              "</div>\n",
              "      <button class=\"colab-df-convert\" onclick=\"convertToInteractive('df-68bbc26a-4cc8-4410-83b1-84df2977dd67')\"\n",
              "              title=\"Convert this dataframe to an interactive table.\"\n",
              "              style=\"display:none;\">\n",
              "        \n",
              "  <svg xmlns=\"http://www.w3.org/2000/svg\" height=\"24px\"viewBox=\"0 0 24 24\"\n",
              "       width=\"24px\">\n",
              "    <path d=\"M0 0h24v24H0V0z\" fill=\"none\"/>\n",
              "    <path d=\"M18.56 5.44l.94 2.06.94-2.06 2.06-.94-2.06-.94-.94-2.06-.94 2.06-2.06.94zm-11 1L8.5 8.5l.94-2.06 2.06-.94-2.06-.94L8.5 2.5l-.94 2.06-2.06.94zm10 10l.94 2.06.94-2.06 2.06-.94-2.06-.94-.94-2.06-.94 2.06-2.06.94z\"/><path d=\"M17.41 7.96l-1.37-1.37c-.4-.4-.92-.59-1.43-.59-.52 0-1.04.2-1.43.59L10.3 9.45l-7.72 7.72c-.78.78-.78 2.05 0 2.83L4 21.41c.39.39.9.59 1.41.59.51 0 1.02-.2 1.41-.59l7.78-7.78 2.81-2.81c.8-.78.8-2.07 0-2.86zM5.41 20L4 18.59l7.72-7.72 1.47 1.35L5.41 20z\"/>\n",
              "  </svg>\n",
              "      </button>\n",
              "      \n",
              "  <style>\n",
              "    .colab-df-container {\n",
              "      display:flex;\n",
              "      flex-wrap:wrap;\n",
              "      gap: 12px;\n",
              "    }\n",
              "\n",
              "    .colab-df-convert {\n",
              "      background-color: #E8F0FE;\n",
              "      border: none;\n",
              "      border-radius: 50%;\n",
              "      cursor: pointer;\n",
              "      display: none;\n",
              "      fill: #1967D2;\n",
              "      height: 32px;\n",
              "      padding: 0 0 0 0;\n",
              "      width: 32px;\n",
              "    }\n",
              "\n",
              "    .colab-df-convert:hover {\n",
              "      background-color: #E2EBFA;\n",
              "      box-shadow: 0px 1px 2px rgba(60, 64, 67, 0.3), 0px 1px 3px 1px rgba(60, 64, 67, 0.15);\n",
              "      fill: #174EA6;\n",
              "    }\n",
              "\n",
              "    [theme=dark] .colab-df-convert {\n",
              "      background-color: #3B4455;\n",
              "      fill: #D2E3FC;\n",
              "    }\n",
              "\n",
              "    [theme=dark] .colab-df-convert:hover {\n",
              "      background-color: #434B5C;\n",
              "      box-shadow: 0px 1px 3px 1px rgba(0, 0, 0, 0.15);\n",
              "      filter: drop-shadow(0px 1px 2px rgba(0, 0, 0, 0.3));\n",
              "      fill: #FFFFFF;\n",
              "    }\n",
              "  </style>\n",
              "\n",
              "      <script>\n",
              "        const buttonEl =\n",
              "          document.querySelector('#df-68bbc26a-4cc8-4410-83b1-84df2977dd67 button.colab-df-convert');\n",
              "        buttonEl.style.display =\n",
              "          google.colab.kernel.accessAllowed ? 'block' : 'none';\n",
              "\n",
              "        async function convertToInteractive(key) {\n",
              "          const element = document.querySelector('#df-68bbc26a-4cc8-4410-83b1-84df2977dd67');\n",
              "          const dataTable =\n",
              "            await google.colab.kernel.invokeFunction('convertToInteractive',\n",
              "                                                     [key], {});\n",
              "          if (!dataTable) return;\n",
              "\n",
              "          const docLinkHtml = 'Like what you see? Visit the ' +\n",
              "            '<a target=\"_blank\" href=https://colab.research.google.com/notebooks/data_table.ipynb>data table notebook</a>'\n",
              "            + ' to learn more about interactive tables.';\n",
              "          element.innerHTML = '';\n",
              "          dataTable['output_type'] = 'display_data';\n",
              "          await google.colab.output.renderOutput(dataTable, element);\n",
              "          const docLink = document.createElement('div');\n",
              "          docLink.innerHTML = docLinkHtml;\n",
              "          element.appendChild(docLink);\n",
              "        }\n",
              "      </script>\n",
              "    </div>\n",
              "  </div>\n",
              "  "
            ]
          },
          "metadata": {},
          "execution_count": 12
        }
      ]
    },
    {
      "cell_type": "code",
      "source": [
        "data_small['verdict'].value_counts()"
      ],
      "metadata": {
        "colab": {
          "base_uri": "https://localhost:8080/"
        },
        "id": "Or2ENBk0doMz",
        "outputId": "04740cf6-33d4-4ab2-8bf5-e8ae4749137d"
      },
      "execution_count": null,
      "outputs": [
        {
          "output_type": "execute_result",
          "data": {
            "text/plain": [
              "not the asshole    12913\n",
              "asshole            12087\n",
              "Name: verdict, dtype: int64"
            ]
          },
          "metadata": {},
          "execution_count": 13
        }
      ]
    },
    {
      "cell_type": "code",
      "source": [
        "data_truncated['verdict'].value_counts()"
      ],
      "metadata": {
        "colab": {
          "base_uri": "https://localhost:8080/"
        },
        "id": "lUlyX2kgdpyE",
        "outputId": "3dc716cb-b536-4397-c24e-b4452b0f02fd"
      },
      "execution_count": null,
      "outputs": [
        {
          "output_type": "execute_result",
          "data": {
            "text/plain": [
              "not the asshole    15200\n",
              "asshole            14133\n",
              "Name: verdict, dtype: int64"
            ]
          },
          "metadata": {},
          "execution_count": 14
        }
      ]
    },
    {
      "cell_type": "code",
      "source": [
        "from transformers import GPT2Tokenizer\n",
        "\n",
        "tokenizer = GPT2Tokenizer.from_pretrained('gpt2', \n",
        "                                          bos_token='<|startofprompt|>', \n",
        "                                          eos_token='<|endoftext|>', \n",
        "                                          pad_token='<|pad|>',\n",
        "                                         )\n",
        "\n",
        "\n",
        "tokenizer.encode(\"Sample Text\")"
      ],
      "metadata": {
        "colab": {
          "base_uri": "https://localhost:8080/",
          "height": 148,
          "referenced_widgets": [
            "5d3b141f32f9468c93eed0a7007473b8",
            "47e8c87b90be4fb695cb6e11b20faae4",
            "f631972ccc9f45d188c4a359f853ccc8",
            "f92a0badaf15476ba227aecc1545222d",
            "539858929cda4d8c9aec3d1cf5366d22",
            "8aaeae7f7f324b1391ba307fb9d468bf",
            "9d26e1fa82594d348d2566278dc166a7",
            "624de30f9a60499390456ab9473bb5c1",
            "8f5838dff8bf4ba1870a3b79d6e5955c",
            "d82f760d3ffb418db263d025bbe27585",
            "fc32310c024e4dbc97b8ad77572c0006",
            "4401951a646c417eb68a36ccc7acf785",
            "f7c8cf353e764c789bd06fea594ce81b",
            "71f72731957044d0a4896c5fa1e92e33",
            "1882fc336c714f35bcf8f54366e68a6e",
            "763fd3123db6438392ef89105250c638",
            "78854f7343e7439bbe86934e35dc22c5",
            "de065f90a36948faacb9962873b9c3fe",
            "2ca703767cde471b83fab8e6888074ca",
            "793c3bb1fdb0469caad89a74efd3261b",
            "623b109d241f42c6973899a3a1ec67bf",
            "a344a6b1977a47299a777a051157e349",
            "f55b67561ff44610bc732f6e844ea377",
            "4e1975233ec54882a138bc48a590b4fd",
            "80d591215d054300b65017278991651d",
            "cdb50fc87e294807aff3e5f647d2e04e",
            "05a4a2d96f784218822de68f9dddafb9",
            "d5c8453d1d2d43d29f3252a9fe6a4d07",
            "6ad76b0572ec460f879bb2bdf4320ed3",
            "ae73f4b03d384235a248ee381704ba11",
            "ebabea33c3834b44be4716276b9904fb",
            "c7ad0f14af7d47aabad6965d42350c75",
            "7e6d872372354ad4aee92d37aec54975"
          ]
        },
        "id": "5lk5XpnydsmL",
        "outputId": "fd051706-85d9-4bbb-f1ab-7448a5cd5270"
      },
      "execution_count": null,
      "outputs": [
        {
          "output_type": "display_data",
          "data": {
            "text/plain": [
              "Downloading:   0%|          | 0.00/0.99M [00:00<?, ?B/s]"
            ],
            "application/vnd.jupyter.widget-view+json": {
              "version_major": 2,
              "version_minor": 0,
              "model_id": "5d3b141f32f9468c93eed0a7007473b8"
            }
          },
          "metadata": {}
        },
        {
          "output_type": "display_data",
          "data": {
            "text/plain": [
              "Downloading:   0%|          | 0.00/446k [00:00<?, ?B/s]"
            ],
            "application/vnd.jupyter.widget-view+json": {
              "version_major": 2,
              "version_minor": 0,
              "model_id": "4401951a646c417eb68a36ccc7acf785"
            }
          },
          "metadata": {}
        },
        {
          "output_type": "display_data",
          "data": {
            "text/plain": [
              "Downloading:   0%|          | 0.00/665 [00:00<?, ?B/s]"
            ],
            "application/vnd.jupyter.widget-view+json": {
              "version_major": 2,
              "version_minor": 0,
              "model_id": "f55b67561ff44610bc732f6e844ea377"
            }
          },
          "metadata": {}
        },
        {
          "output_type": "stream",
          "name": "stderr",
          "text": [
            "Special tokens have been added in the vocabulary, make sure the associated word embeddings are fine-tuned or trained.\n"
          ]
        },
        {
          "output_type": "execute_result",
          "data": {
            "text/plain": [
              "[36674, 8255]"
            ]
          },
          "metadata": {},
          "execution_count": 10
        }
      ]
    },
    {
      "cell_type": "code",
      "source": [
        "len(tokenizer)"
      ],
      "metadata": {
        "colab": {
          "base_uri": "https://localhost:8080/"
        },
        "id": "q_s_nrmtdup8",
        "outputId": "1c8ef947-bd28-423d-f17f-1ef25e639ffc"
      },
      "execution_count": null,
      "outputs": [
        {
          "output_type": "execute_result",
          "data": {
            "text/plain": [
              "50259"
            ]
          },
          "metadata": {},
          "execution_count": 16
        }
      ]
    },
    {
      "cell_type": "code",
      "source": [
        "tokenizer.add_tokens(['<|endofprompt|>', '<|startofverdict|>', '<|endofverdict|>', '<|sok|>', '<|eok|>', '<|startoftext|>'], special_tokens=True)\n",
        "tokenizer.convert_tokens_to_ids(['<|endofprompt|>', '<|startofverdict|>', '<|endofverdict|>', '<|sok|>', '<|eok|>', '<|startoftext|>'])"
      ],
      "metadata": {
        "colab": {
          "base_uri": "https://localhost:8080/"
        },
        "id": "ArSCva1Ydwdx",
        "outputId": "a76c9a35-59e4-4310-a9d1-580f88760e74"
      },
      "execution_count": null,
      "outputs": [
        {
          "output_type": "execute_result",
          "data": {
            "text/plain": [
              "[50259, 50260, 50261, 50262, 50263, 50264]"
            ]
          },
          "metadata": {},
          "execution_count": 11
        }
      ]
    },
    {
      "cell_type": "code",
      "source": [
        "len(tokenizer)"
      ],
      "metadata": {
        "colab": {
          "base_uri": "https://localhost:8080/"
        },
        "id": "rud5FXyhd7ld",
        "outputId": "28cf2b7d-7327-41c7-ce02-0b192fa34cea"
      },
      "execution_count": null,
      "outputs": [
        {
          "output_type": "execute_result",
          "data": {
            "text/plain": [
              "50265"
            ]
          },
          "metadata": {},
          "execution_count": 18
        }
      ]
    },
    {
      "cell_type": "code",
      "source": [
        "def join_keywords(keywords, randomize=True):\n",
        "    N = len(keywords)\n",
        "\n",
        "    #random sampling and shuffle\n",
        "    if randomize: \n",
        "        # M = random.choice(range(N+1))\n",
        "        keywords = keywords[:N]\n",
        "        random.shuffle(keywords)\n",
        "\n",
        "    return ','.join(keywords)"
      ],
      "metadata": {
        "id": "maRkdsh0eO6A"
      },
      "execution_count": null,
      "outputs": []
    },
    {
      "cell_type": "code",
      "source": [
        "train_titles = train_data_truncated.title.copy()\n",
        "train_verdicts = train_data_truncated.verdict.copy()\n",
        "train_stories = train_data_truncated.body.copy()\n",
        "train_keywords = train_data_truncated.keywords.copy()\n",
        "train_keywords = pd.Series(list(map(lambda x: ast.literal_eval(x), train_keywords)))\n",
        "train_keywords = list(map(lambda x: join_keywords(x), train_keywords))\n",
        "\n",
        "\n",
        "test_titles = test_data_truncated.title.copy()\n",
        "test_verdicts = test_data_truncated.verdict.copy()\n",
        "test_stories = test_data_truncated.body.copy()\n",
        "test_keywords = test_data_truncated.keywords.copy()\n",
        "test_keywords = pd.Series(list(map(lambda x: ast.literal_eval(x), test_keywords)))\n",
        "test_keywords = list(map(lambda x: join_keywords(x), test_keywords))"
      ],
      "metadata": {
        "id": "1eXXnvKed-dx"
      },
      "execution_count": null,
      "outputs": []
    },
    {
      "cell_type": "code",
      "source": [
        "sample_title = data_small[:1]['title'].values[0]\n",
        "sample_verdict = data_small[:1]['verdict'].values[0]\n",
        "sample_body = data_small[:1]['body'].values[0]\n",
        "# sample_keywords = data_small[:1]['keywords'].values[0]\n",
        "sample_keywords = keywords[0]\n",
        "print(\"Title:\")\n",
        "print(sample_title)\n",
        "print(\"Verdict:\")\n",
        "print(sample_verdict)\n",
        "print(\"Body:\")\n",
        "print(sample_body)\n",
        "print(\"Keywords:\")\n",
        "print(sample_keywords)"
      ],
      "metadata": {
        "colab": {
          "base_uri": "https://localhost:8080/"
        },
        "id": "8bQCrC-2d_9A",
        "outputId": "54404188-3bb6-42ea-9969-a11f75de1ac1"
      },
      "execution_count": null,
      "outputs": [
        {
          "output_type": "stream",
          "name": "stdout",
          "text": [
            "Title:\n",
            "aita for taking alcohol even if we all paid for it?\n",
            "Verdict:\n",
            "not the asshole\n",
            "Body:\n",
            "it was my friend's 25th birthday last week and she threw a party. lets call her mac. mac's always known to be the stingy one amongst our group of friends. she complains that she never has any money but she lives at home and spends money on expensive luxuries like botox, getting her hair and nails done etc. \n",
            "\n",
            "her actual birthday was on the thursday and the party was on the saturday. on thursday we took her to the movies and bought her flowers and her favourite ice-cream, tried to make her birthday really special for her. \n",
            "\n",
            "for her party she decided she wanted to have a cocktail-making party where we all made fancy cocktails and played board games. there were about 15 people going and she asked us all to pay her $30 the week prior to the party and she would buy the ingredients to make the cocktails. i suggested to her that we all just bring a bottle of something each but she said that would be unfair because some people might buy more expensive drinks than others. so we all paid her the $30 and she bought about 10 bottles of different drinks about 700ml-1l in size. \n",
            "\n",
            "she didn't supply any food other than some crisps and dips, despite the party starting at 6pm and she living an hour out of the city. when i asked her if she had any food she said if i was hungry i could order my own pizza. other than that we all had a good night. \n",
            "\n",
            "the next morning myself and two other girl friends got up before mac. we cleaned the place up, not perfectly but we walked around the house and collected all the rubbish, put all the bottles on the counter and the dishes in the sink. once we cleaned up we were talking about how crazy it was that there we all of these bottles left and they were all still half full. my friend and i figured that since we all paid for them we may as well take some home with us. i grabbed 2 (a little less than) half bottles, and my friend grabbed one half bottle, and we went home.\n",
            "\n",
            "later in the day we got a message from mac in our group chat asking us if we took the drinks. she didn't bother thanking us for coming or thanking us for cleaning up. when i told her we took them she immediately started tell us how rude we were, how we stole from her, how we took her favourite ones, how i've ruined her birthday and how we now owe her money. also her mum has been messaging me non stop, threatening me that i have to pay her back etc. \n",
            "\n",
            "i don't think i'm the asshole because if my friend brings a $30 bottle of vodka to my party and doesn't drink it all, i don't message her saying how rude it was that she brought the vodka home with her. she paid for it so of course i would expect her to take it home. so even though mac bought the bottles, we all still paid for them. i definitely wouldn't have taken them if mac bought them but i figured since we all put in and they were only half full, why not? it's not like we took them all, there were 6 half bottles still left. \n",
            "\n",
            "&#x200b;\n",
            "\n",
            "so aita?\n",
            "Keywords:\n",
            "taking alcohol even,paid,aita\n"
          ]
        }
      ]
    },
    {
      "cell_type": "code",
      "source": [
        "bs = 1\n",
        "max_story = 800"
      ],
      "metadata": {
        "id": "Kgyv9TCSe2Jz"
      },
      "execution_count": null,
      "outputs": []
    },
    {
      "cell_type": "code",
      "source": [
        "import torch\n",
        "torch.manual_seed(67)\n",
        "from torch.utils.data import Dataset \n",
        "\n",
        "class AitaDataset(Dataset):\n",
        "\n",
        "  def __init__(self, titles, verdicts, txt_list, keywords, tokenizer, gpt2_type=\"gpt2\", max_length=max_story):\n",
        "\n",
        "    self.tokenizer = tokenizer # the gpt2 tokenizer we instantiated\n",
        "    self.input_ids = []\n",
        "    self.attn_masks = []\n",
        "    self.labels = []\n",
        "\n",
        "    for i in range(len(txt_list)):\n",
        "      \"\"\"\n",
        "      This loop will iterate through each entry in the text corpus.\n",
        "      For each bit of text it will prepend it with the start of text token,\n",
        "      then append the end of text token and pad to the maximum length with the \n",
        "      pad token. \n",
        "      \"\"\"\n",
        "\n",
        "      encodings_dict = tokenizer('<|startofprompt|>'+ titles[i] + \"<|endofprompt|>\" \n",
        "                                 + verdicts[i] + \"<|endofverdict|>\"\n",
        "                                 + keywords[i] + \"<|eok|>\"\n",
        "                                 + txt_list[i] + \"<|endoftext|>\",\n",
        "                                 truncation=True, \n",
        "                                 max_length=max_length, \n",
        "                                 padding=\"max_length\",\n",
        "                                 )\n",
        "      prompts = tokenizer(\"<|startofprompt|>\" + titles[i] + \"<|endofprompt|>\" \n",
        "                          + verdicts[i] + \"<|endofverdict|>\" + keywords[i] \n",
        "                          + \"<|eok|>\", truncation=True, max_length=max_length)\n",
        "      \n",
        "      \"\"\"\n",
        "      Each iteration then appends either the encoded tensor to a list,\n",
        "      or the attention mask for that encoding to a list. The attention mask is\n",
        "      a binary list of 1's or 0's which determine whether the langauge model\n",
        "      should take that token into consideration or not. \n",
        "      \"\"\"\n",
        "      self.input_ids.append(torch.tensor(encodings_dict['input_ids']))\n",
        "      self.attn_masks.append(torch.tensor(encodings_dict['attention_mask']))\n",
        "      self.labels.append(torch.tensor(prompts[\"input_ids\"]))\n",
        "    \n",
        "  def __len__(self):\n",
        "    return len(self.input_ids)\n",
        "\n",
        "  def __getitem__(self, idx):\n",
        "    return self.input_ids[idx], self.labels[idx], self.attn_masks[idx] "
      ],
      "metadata": {
        "id": "gdfFG1lVe58J"
      },
      "execution_count": null,
      "outputs": []
    },
    {
      "cell_type": "code",
      "source": [
        "from torch.utils.data import random_split\n",
        "\n",
        "train_dataset = AitaDataset(train_titles, train_verdicts, train_keywords, train_stories, tokenizer, max_length=800)\n",
        "test_dataset = AitaDataset(test_titles, test_verdicts, test_keywords, test_stories, tokenizer, max_length=800)\n",
        "\n",
        "\"\"\"\n",
        "# Split into training and validation sets\n",
        "train_size = int(0.9 * len(dataset))\n",
        "val_size = len(dataset) - train_size\n",
        "\n",
        "train_dataset, val_dataset = random_split(dataset, [train_size, val_size])\n",
        "\n",
        "f'There are {train_size} samples for training, and {val_size} samples for validation testing'\n",
        "\"\"\""
      ],
      "metadata": {
        "colab": {
          "base_uri": "https://localhost:8080/",
          "height": 53
        },
        "id": "RnReaPUBe7-Z",
        "outputId": "33bf4406-991a-4ff5-9ffb-8110bae3f85b"
      },
      "execution_count": null,
      "outputs": [
        {
          "output_type": "execute_result",
          "data": {
            "text/plain": [
              "\"\\n# Split into training and validation sets\\ntrain_size = int(0.9 * len(dataset))\\nval_size = len(dataset) - train_size\\n\\ntrain_dataset, val_dataset = random_split(dataset, [train_size, val_size])\\n\\nf'There are {train_size} samples for training, and {val_size} samples for validation testing'\\n\""
            ],
            "application/vnd.google.colaboratory.intrinsic+json": {
              "type": "string"
            }
          },
          "metadata": {},
          "execution_count": 26
        }
      ]
    },
    {
      "cell_type": "code",
      "source": [
        "test_dataset = AitaDataset(titles, verdicts, stories, tokenizer, max_length=800)"
      ],
      "metadata": {
        "id": "e_J2KORl3tei"
      },
      "execution_count": null,
      "outputs": []
    },
    {
      "cell_type": "code",
      "source": [
        "train_dataset[0][0].shape"
      ],
      "metadata": {
        "colab": {
          "base_uri": "https://localhost:8080/"
        },
        "id": "VZyAqtu2e976",
        "outputId": "c638ea5d-0f4e-40d7-fa20-9ad01b8b77ad"
      },
      "execution_count": null,
      "outputs": [
        {
          "output_type": "execute_result",
          "data": {
            "text/plain": [
              "torch.Size([800])"
            ]
          },
          "metadata": {},
          "execution_count": 26
        }
      ]
    },
    {
      "cell_type": "code",
      "source": [
        "import random\n",
        "from transformers import GPT2LMHeadModel, GPT2Config\n",
        "import numpy as np\n",
        "\n",
        "# Loading the model configuration and setting it to the GPT2 standard settings.\n",
        "configuration = GPT2Config.from_pretrained('gpt2', output_hidden_states=False)\n",
        "\n",
        "# Create the instance of the model and set the token size embedding length\n",
        "model = GPT2LMHeadModel.from_pretrained(\"gpt2\", config=configuration)\n",
        "model.resize_token_embeddings(len(tokenizer))\n",
        "\n",
        "# Tell pytorch to run this model on the GPU.\n",
        "device = torch.device(\"cuda\")\n",
        "model.cuda()\n",
        "\n",
        "# This step is optional but will enable reproducible runs.\n",
        "seed_val = 67\n",
        "\n",
        "random.seed(seed_val)\n",
        "np.random.seed(seed_val)\n",
        "torch.manual_seed(seed_val)\n",
        "torch.cuda.manual_seed_all(seed_val)"
      ],
      "metadata": {
        "colab": {
          "base_uri": "https://localhost:8080/",
          "height": 49,
          "referenced_widgets": [
            "f422136da96747208807521e26088325",
            "10f3ab60b21d4d8181fed401dd283a84",
            "37d788789ae847a4913d209b785f1c0c",
            "7e19df0ee67b46a981af52e2185045b9",
            "63d85a2ef69941c6bea7a9a2d442485a",
            "a998559ea79440f4b4a484188ce6ea9e",
            "ff8309375b4640149b7ca46fff5155f7",
            "6fec887766c4424580b1d9dd36e21050",
            "60a998298c6349648ab209f93b34d14c",
            "627aa4c9ecfc464dacbbfce5329e9f4f",
            "9c23ecf0012746dfaa2c7897f3cad7ae"
          ]
        },
        "id": "sOMwubRefhE1",
        "outputId": "db22ff16-bac5-4276-e003-cfd841a82cef"
      },
      "execution_count": null,
      "outputs": [
        {
          "output_type": "display_data",
          "data": {
            "text/plain": [
              "Downloading:   0%|          | 0.00/523M [00:00<?, ?B/s]"
            ],
            "application/vnd.jupyter.widget-view+json": {
              "version_major": 2,
              "version_minor": 0,
              "model_id": "f422136da96747208807521e26088325"
            }
          },
          "metadata": {}
        }
      ]
    },
    {
      "cell_type": "code",
      "source": [
        "epochs = 3\n",
        "warmup_steps = 1e2\n",
        "sample_every = 500\n",
        "\n",
        "''' Initializing Optimizer '''\n",
        "from transformers import AdamW\n",
        "# AdamW is a class from the huggingface library, it is the optimizer we will be using, and we will only be instantiating it with the default parameters. \n",
        "optimizer = AdamW(model.parameters(),\n",
        "                  lr = 5e-4,\n",
        "                  eps = 1e-8\n",
        "                )"
      ],
      "metadata": {
        "colab": {
          "base_uri": "https://localhost:8080/"
        },
        "id": "MWamtQiwfkaA",
        "outputId": "fad0695d-45c3-48be-f76b-7aee2366ecee"
      },
      "execution_count": null,
      "outputs": [
        {
          "output_type": "stream",
          "name": "stderr",
          "text": [
            "/usr/local/lib/python3.7/dist-packages/transformers/optimization.py:309: FutureWarning: This implementation of AdamW is deprecated and will be removed in a future version. Use the PyTorch implementation torch.optim.AdamW instead, or set `no_deprecation_warning=True` to disable this warning\n",
            "  FutureWarning,\n"
          ]
        }
      ]
    },
    {
      "cell_type": "code",
      "source": [
        "from torch.utils.data import DataLoader, RandomSampler, SequentialSampler\n",
        "\n",
        "\n",
        "validation_dataloader = DataLoader(\n",
        "            test_dataset, \n",
        "            sampler = SequentialSampler(test_dataset), # Sampling for validation is sequential as the order doesn't matter.\n",
        "            batch_size = bs\n",
        "        )"
      ],
      "metadata": {
        "id": "Vs6sxx3N4hf-"
      },
      "execution_count": null,
      "outputs": []
    },
    {
      "cell_type": "code",
      "source": [
        "from torch.utils.data import DataLoader, RandomSampler, SequentialSampler\n",
        "\n",
        "train_dataloader = DataLoader(\n",
        "            train_dataset,  \n",
        "            sampler = RandomSampler(train_dataset), # Sampling for training is random\n",
        "            batch_size = bs\n",
        "        )\n",
        "\n",
        "validation_dataloader = DataLoader(\n",
        "            test_dataset, \n",
        "            sampler = SequentialSampler(test_dataset), # Sampling for validation is sequential as the order doesn't matter.\n",
        "            batch_size = bs\n",
        "        )"
      ],
      "metadata": {
        "id": "f4Q9aM3tg4d2"
      },
      "execution_count": null,
      "outputs": []
    },
    {
      "cell_type": "code",
      "source": [
        "from transformers import get_linear_schedule_with_warmup\n",
        "\n",
        "\"\"\"\n",
        "Total training steps is the number of data points, times the number of epochs. \n",
        "Essentially, epochs are training cycles, how many times each point will be seen by the model. \n",
        "\"\"\"\n",
        "\n",
        "total_steps = len(train_dataloader) * epochs\n",
        "\n",
        "\"\"\"\n",
        "set a variable learning rate which will help scan larger areas of the \n",
        "problem space at higher LR earlier, then fine tune to find the exact model minima \n",
        "at lower LR later in training.\n",
        "\"\"\"\n",
        "scheduler = get_linear_schedule_with_warmup(optimizer, \n",
        "                                            num_warmup_steps = warmup_steps, \n",
        "                                            num_training_steps = total_steps)"
      ],
      "metadata": {
        "id": "S849vs-og8q6"
      },
      "execution_count": null,
      "outputs": []
    },
    {
      "cell_type": "code",
      "source": [
        "import random\n",
        "import time\n",
        "import datetime\n",
        "\n",
        "def format_time(elapsed):\n",
        "    return str(datetime.timedelta(seconds=int(round((elapsed)))))\n",
        "\n",
        "total_t0 = time.time()\n",
        "\n",
        "training_stats = []\n",
        "\n",
        "model = model.to(device)\n",
        "\n",
        "for epoch_i in range(0, epochs):\n",
        "\n",
        "    print(f'Beginning epoch {epoch_i + 1} of {epochs}')\n",
        "\n",
        "    t0 = time.time()\n",
        "\n",
        "    total_train_loss = 0\n",
        "\n",
        "    model.train()\n",
        "\n",
        "    for step, batch in enumerate(train_dataloader):\n",
        "\n",
        "        b_input_ids = batch[0].to(device)\n",
        "        b_labels = batch[0].to(device)\n",
        "        b_title = batch[1].to(device)\n",
        "        b_masks = batch[2].to(device)\n",
        "\n",
        "        model.zero_grad()        \n",
        "\n",
        "        outputs = model(  b_input_ids,\n",
        "                          labels=b_labels, \n",
        "                          attention_mask = b_masks,\n",
        "                          token_type_ids=None\n",
        "                        )\n",
        "\n",
        "        loss = outputs[0]  \n",
        "\n",
        "        batch_loss = loss.item()\n",
        "        total_train_loss += batch_loss\n",
        "\n",
        "        # Get sample every 500 batches.\n",
        "        if step % sample_every == 0 and not step == 0:\n",
        "\n",
        "            PATH = \"/content/drive/MyDrive/NLP_Proj/modelcheckpoints/keywords_model_1.pt\"\n",
        "            torch.save({\n",
        "                        'step': step,\n",
        "                        'model_state_dict': model.state_dict(),\n",
        "                        'optimizer_state_dict': optimizer.state_dict(),\n",
        "                        }, PATH)    \n",
        "                \n",
        "            elapsed = format_time(time.time() - t0)\n",
        "            print(f'Batch {step} of {len(train_dataloader)}. Loss:{batch_loss}. Time:{elapsed}')\n",
        "\n",
        "            model.eval()\n",
        "            # SAVING MODEL CHECKPOINT EVERY 500 STEPS\n",
        "            sample_outputs = model.generate(\n",
        "                                    input = b_title,\n",
        "                                    do_sample=True,   \n",
        "                                    top_k=50, \n",
        "                                    max_length = 200,\n",
        "                                    top_p=0.95, \n",
        "                                    num_return_sequences=1\n",
        "                                )\n",
        "            for i, sample_output in enumerate(sample_outputs):\n",
        "                  print(f'Example output: {tokenizer.decode(sample_output, skip_special_tokens=True)}')\n",
        "            \n",
        "            model.train()\n",
        "\n",
        "        loss.backward()\n",
        "\n",
        "        optimizer.step()\n",
        "\n",
        "        scheduler.step()\n",
        "\n",
        "    # Calculate the average loss over all of the batches.\n",
        "    avg_train_loss = total_train_loss / len(train_dataloader)       \n",
        "    \n",
        "    # Measure how long this epoch took.\n",
        "    training_time = format_time(time.time() - t0)\n",
        "\n",
        "    print(f'Average Training Loss: {avg_train_loss}. Epoch time: {training_time}')\n",
        "\n",
        "    t0 = time.time()\n",
        "\n",
        "    model.eval()\n",
        "\n",
        "    total_eval_loss = 0\n",
        "    nb_eval_steps = 0\n",
        "\n",
        "    # Evaluate data for one epoch\n",
        "    for batch in validation_dataloader:\n",
        "        \n",
        "        b_input_ids = batch[0].to(device)\n",
        "        b_labels = batch[0].to(device)\n",
        "        b_masks = batch[2].to(device)\n",
        "        \n",
        "        with torch.no_grad():        \n",
        "\n",
        "            outputs  = model(b_input_ids,  \n",
        "                             attention_mask = b_masks,\n",
        "                             labels=b_labels)\n",
        "          \n",
        "            loss = outputs[0]  \n",
        "            \n",
        "        batch_loss = loss.item()\n",
        "        total_eval_loss += batch_loss        \n",
        "\n",
        "    avg_val_loss = total_eval_loss / len(validation_dataloader)\n",
        "    \n",
        "    validation_time = format_time(time.time() - t0)    \n",
        "\n",
        "    print(f'Validation loss: {avg_val_loss}. Validation Time: {validation_time}')\n",
        "\n",
        "    # Record all statistics from this epoch.\n",
        "    training_stats.append(\n",
        "        {\n",
        "            'epoch': epoch_i + 1,\n",
        "            'Training Loss': avg_train_loss,\n",
        "            'Valid. Loss': avg_val_loss,\n",
        "            'Training Time': training_time,\n",
        "            'Validation Time': validation_time\n",
        "        }\n",
        "    )\n",
        "\n",
        "print(f'Total training took {format_time(time.time()-total_t0)}')"
      ],
      "metadata": {
        "colab": {
          "base_uri": "https://localhost:8080/"
        },
        "id": "-NEPmqHmg_gZ",
        "outputId": "d97aadde-505d-4e7e-e689-2427a58ee68c"
      },
      "execution_count": null,
      "outputs": [
        {
          "output_type": "stream",
          "name": "stdout",
          "text": [
            "Beginning epoch 1 of 3\n"
          ]
        },
        {
          "output_type": "stream",
          "name": "stderr",
          "text": [
            "Setting `pad_token_id` to `eos_token_id`:50256 for open-end generation.\n"
          ]
        },
        {
          "output_type": "stream",
          "name": "stdout",
          "text": [
            "Batch 500 of 37512. Loss:2.3680431842803955. Time:0:01:28\n",
            "Example output: wibta if i made a promise that i would never stop driving around the town? <|endofverdict|> not the asshole <|endofverdict|> my sister is driving and i live nearby, right around town. my parents always thought i wasn't going to ask the girls to come drive around the town with me because they always wanted to take photos of the cars to show them, but i always thought they were pretty bored to drive around with me. they seemed just really upset about having the drivers in their car. they weren't really on board with doing this, and just seemed really frustrated with me driving around every day, even though driving around all the time. she drove the car a total of 10 hours a day until she stopped paying a dime so she could drive it around town instead of just driving it around for the long night of a few days, because she never heard the sound of gas.\n",
            "\n",
            "so, what do you think?\n"
          ]
        },
        {
          "output_type": "stream",
          "name": "stderr",
          "text": [
            "Setting `pad_token_id` to `eos_token_id`:50256 for open-end generation.\n"
          ]
        },
        {
          "output_type": "stream",
          "name": "stdout",
          "text": [
            "Batch 1000 of 37512. Loss:1.5757266283035278. Time:0:03:00\n",
            "Example output: wibta for calling my ex a bad person because he cheated on me and was so selfish? <|endofprompt|> asshole <|endofverdict|> first off, i'm not even sure what to make of my ex. he's a decent person, but really just a very selfish asshole, a bit of a bitch and a very passive aggressive asshole (especially since i feel like my ex basically never had the balls to get involved in any of my personal issues with me, but i feel like he made up a lot of lies and lies about me so i wouldn't really think to apologize to him anymore if it weren't for his actions. i understand he's a selfish and irresponsible guy, and i feel like he'd be like the best of anyone if i didn't come out against him even though i feel like i'm being petty, but i also feel like i'm being a shitty person, and that's just not appropriate anymore. \n",
            "\n",
            "but, my boyfriend, who we're all friends, and is\n"
          ]
        },
        {
          "output_type": "stream",
          "name": "stderr",
          "text": [
            "Setting `pad_token_id` to `eos_token_id`:50256 for open-end generation.\n"
          ]
        },
        {
          "output_type": "stream",
          "name": "stdout",
          "text": [
            "Batch 1500 of 37512. Loss:1.3410530090332031. Time:0:04:31\n",
            "Example output: aita for not wanting my step-mother to return my dog <|endofprompt|> not the asshole <|endofverdict|> ok so i got my dog, but he got his dog today from our neighbor's new owners, and the owner has a 2 pound, $5.00 puppy. it's a dog who can do really well.\n",
            "\n",
            "my step-mother loves her dog a lot and this one is really sweet, he had a rough time but the dog has grown into a sweet dog now. i don't want this dog to lose our dog forever and the house that had beenold.\n",
            "\n",
            "my step-mother and i got a dog for free for the rest of the day and we spent some time together because i was so tired. when she came home i was walking about 5 feet away and was so happy that she was happy to see her dog. we were walking around looking at some old dog posters and saw a copy of a copy of my dog's name. she was so happy that\n"
          ]
        },
        {
          "output_type": "stream",
          "name": "stderr",
          "text": [
            "Setting `pad_token_id` to `eos_token_id`:50256 for open-end generation.\n"
          ]
        },
        {
          "output_type": "stream",
          "name": "stdout",
          "text": [
            "Batch 2000 of 37512. Loss:1.109235405921936. Time:0:06:01\n",
            "Example output: aita for ignoring people saying i won’t respect their emotions after i leave a job? <|endofprompt|> asshole <|endofverdict|> the day after my first job in a college is always the day after we leave for work. i am on my first shift now so a lot of the family (co-worker, me, wife and kids) will come visit. however i’m stuck at the one point i can’t help it though that we go back and get a little lunch and if we come to one of the areas i am going to like i will lose my job. i guess that’s what i really like about them coming over at night since we are not going to get my usual dinner until tomorrow. my family and my husband’s dad work at 11am until 4am, they work and they usually sleep until 9.30pm or until 3am. \n",
            "\n",
            "the day after is always around 12am. a lot of people in our family\n"
          ]
        },
        {
          "output_type": "stream",
          "name": "stderr",
          "text": [
            "Setting `pad_token_id` to `eos_token_id`:50256 for open-end generation.\n"
          ]
        },
        {
          "output_type": "stream",
          "name": "stdout",
          "text": [
            "Batch 2500 of 37512. Loss:0.9524747729301453. Time:0:07:31\n",
            "Example output: aita for not calling my bf to apologize for laughing at my girlfriend's face and facial appearance when she has a crush? <|endofprompt|> asshole <|endofverdict|> i have a girlfriend. we got along really well in highschool. they're pretty good friends, but like we used to get along well. however, she was not very good at the joke and was not one for it when she joked about how she would get a girlfriend for every joke. as she said later, if she had done anything like that she would have made her laugh and laugh again. she's a pretty intelligent person, and honestly she was pretty careful with it, and was never going to be the ass with anything about the joke. however, she often joked about her \"face\" getting a girlfriend for every joke, to which i was not really the one to say anything about it, because it's just a very dumb joke.\n",
            "\n",
            "yesterday, my girlfriend was on her birthday dinner, and told the bf\n"
          ]
        },
        {
          "output_type": "stream",
          "name": "stderr",
          "text": [
            "Setting `pad_token_id` to `eos_token_id`:50256 for open-end generation.\n"
          ]
        },
        {
          "output_type": "stream",
          "name": "stdout",
          "text": [
            "Batch 3000 of 37512. Loss:1.570038914680481. Time:0:09:02\n",
            "Example output: aita for not wanting my father to let his daughter get into my daughters wedding? <|endofprompt|> not the asshole <|endofverdict|> this all started in the late december/ early feruary and after an issue in my daughter. my daughter had a 3 year old with a baby on stage 1. my daughter was told that it was her sister (not a child). the daughter had a new boyfriend (2). my daughter, my daughter, i said that he was going to go right back to her family and have a son and would go out and make her daughter promise to watch her until she had a son that came. i didn't care that her son was already a bit late because he had a daughter and i wouldn't be a bit upset with him even if it was his daughter.\n",
            "\n",
            "now he had a son and his daughter had a new baby with a 3 year old (at 4). after he got a new baby it would be her. she thought she was doing the work of raising\n"
          ]
        },
        {
          "output_type": "stream",
          "name": "stderr",
          "text": [
            "Setting `pad_token_id` to `eos_token_id`:50256 for open-end generation.\n"
          ]
        },
        {
          "output_type": "stream",
          "name": "stdout",
          "text": [
            "Batch 3500 of 37512. Loss:1.7408584356307983. Time:0:10:34\n",
            "Example output: aita for not paying my neighbor for her car? <|endofprompt|> asshole <|endofverdict|> i just moved into an apartment that i cannot use. i'm an uni student who i do not really have the power and would like to remain with her parents. now i have her car, which i have not put in place for awhile. i will not say it's the fault of me, but when i live with her parents i don't make a big deal about it. \n",
            "\n",
            "the apartment is small and so much more convenient.  i could leave her a few minutes in it so i could get her gas, vacuum cleaner and a water tank. \n",
            "\n",
            "it's a parking lot and there is a lot of parking on the way in which i do not see her.  but her parents need the money i give them, they want to know how comfortable it is to be in my apartment and my neighbors do their chores.\n",
            "\n",
            "there is also a lot of parking on the way\n"
          ]
        },
        {
          "output_type": "stream",
          "name": "stderr",
          "text": [
            "Setting `pad_token_id` to `eos_token_id`:50256 for open-end generation.\n"
          ]
        },
        {
          "output_type": "stream",
          "name": "stdout",
          "text": [
            "Batch 4000 of 37512. Loss:2.9199330806732178. Time:0:12:04\n",
            "Example output: aita for not paying for a day of college? <|endofprompt|> asshole <|endofverdict|> i have currently graduated college in the second year of my degree. my bs college has a 4 week internship before i graduate from college. so, a good 3 weeks ago i asked my bs student for a month break. i paid for the month so i would get that time in the month, which i am not usually paying. my bs student was offered a 1 week vacation. she was also offered a 1 week trip for a month. \n",
            "\n",
            "in the end, the trip was over 5 hours and she paid $5 and it was about $12. however, she paid $4. she gave a bunch of money back to the student when she was offered a month break. which she was not allowed to do without her being a guest. \n",
            "\n",
            "i am currently paying a half (4 weeks) that i should be able to pay for the trip and pay her back. but in\n"
          ]
        },
        {
          "output_type": "stream",
          "name": "stderr",
          "text": [
            "Setting `pad_token_id` to `eos_token_id`:50256 for open-end generation.\n"
          ]
        },
        {
          "output_type": "stream",
          "name": "stdout",
          "text": [
            "Batch 4500 of 37512. Loss:0.7387368083000183. Time:0:13:35\n",
            "Example output: aita for cutting up a friend’s girlfriend and breaking him up with her now ex-fiance? <|endofprompt|> asshole <|endofverdict|> so i work in highschool, and a friend (m21) and her fiancé (f21) have been best friends forever, we’ve been in close friends’s first relationship, let’s call her hia (hia’s fiancé). hia (f21) and i broke up at a point where hia’s ex-fiance has now been able to get hia’’s girlfriend to break up with hia’s ex-wife. \n",
            "we know hia’s fiancé can’t do anything, but i’m curious about how far hia’s fiancé was and not her.  \n",
            "aita for cutting it up?\n",
            "\n",
            "edit: \n",
            "-i’m a single female\n"
          ]
        },
        {
          "output_type": "stream",
          "name": "stderr",
          "text": [
            "Setting `pad_token_id` to `eos_token_id`:50256 for open-end generation.\n"
          ]
        },
        {
          "output_type": "stream",
          "name": "stdout",
          "text": [
            "Batch 5000 of 37512. Loss:1.0755587816238403. Time:0:15:05\n",
            "Example output: aita for being the asshole for throwing out of an event? <|endofprompt|> not the asshole <|endofverdict|> i’m 20% in my early 30’s now, and for a bit of background my family and siblings had been going to a city a little over 3 years ago. we were going to the beach for the day that we had to move and so the family could come to me and get my kids a ride home. \n",
            "\n",
            "my husband was getting ready to go and i don’t know if it’s really that big deal. we are going to the beach that was going to be going to be taken off and the car we will be driving around with my kids. my husband was really excited at this, he has always shown interest in me for this and is interested in me for this.\n",
            "\n",
            "a week ago i was invited to go out and meet my family. we were planning on getting some food for lunch and it was going to be a big\n"
          ]
        },
        {
          "output_type": "stream",
          "name": "stderr",
          "text": [
            "Setting `pad_token_id` to `eos_token_id`:50256 for open-end generation.\n"
          ]
        },
        {
          "output_type": "stream",
          "name": "stdout",
          "text": [
            "Batch 5500 of 37512. Loss:2.4564099311828613. Time:0:16:38\n",
            "Example output: aiti:the female boyfriend\n",
            "edit info:\n",
            "i (f20) was babysitting for her and my friend’s ’s ’ (not the asshole <|endofverdict|> \n",
            "i was babysitting for this friend of my husband and then have fun while babysitting, he was babysitting and babysitting. when i babysitting myself this friend, we occasionally do things with our other friend. at first when i ask him if he wants to babysitting for kids, or if he wants to babysit them, he says no, he gets babysitting them. i’m very sure he’ll always babysit them. we’re very mutual friends. for example, my wife works with all of us and complains about babysitting. we’re very friendly with one of my co-workers, let us babysitting (n, s.s b. i can’t babysitting) and babysitting because i ’m not the asshole\n"
          ]
        },
        {
          "output_type": "stream",
          "name": "stderr",
          "text": [
            "Setting `pad_token_id` to `eos_token_id`:50256 for open-end generation.\n"
          ]
        },
        {
          "output_type": "stream",
          "name": "stdout",
          "text": [
            "Batch 6000 of 37512. Loss:1.9789979457855225. Time:0:18:08\n",
            "Example output: aita for not wanting to let my friends know that they are my girlfriends boyfriend. <|endofprompt|> tldr - my girlfriends boyfriend is my girlfriend and me and i are going to hang out together. we live together and i don’t have any romantic feelings to her but i will be a partner. \n",
            "i love my girlfriend and they are always good friends that i have. we live together and i have been together for 4 years and i am lucky to have a amazing relationship with her.\n",
            "\n",
            "my boyfriend cheated on me one time and we were in a relationship but he has never cheated on me and in the past it’s been a long time because he cheated on me for so long i would get the feeling. after 4 years of dating a mutual friend of mine who i never met before we’ll get married and i am the sweetest person i’ll ever have.\n",
            "he cheated on me because he wanted to get a divorce and then his life\n"
          ]
        },
        {
          "output_type": "stream",
          "name": "stderr",
          "text": [
            "Setting `pad_token_id` to `eos_token_id`:50256 for open-end generation.\n"
          ]
        },
        {
          "output_type": "stream",
          "name": "stdout",
          "text": [
            "Batch 6500 of 37512. Loss:1.4395010471343994. Time:0:19:39\n",
            "Example output: aita for going out to a friends house to look at some of the kids there? <|endofprompt|> asshole <|endofverdict|> ok so i (f29) want to go out to a friends house for the summer. i love the idea. it's a huge part to me. \n",
            "\n",
            "my friends mom and i have a pretty old friend group. so this guy (m29) has a kid about a year older than me and this friend is in the mid 20's. \n",
            "\n",
            "i see him standing next to me and this is a bit of a story but i don't know if it's too much. \n",
            "i know i’m not sure if the kid is in the school as it’s just my friend's mom’s house. \n",
            "\n",
            "so i texted my dad and texted my mom this and let her know my sister has cancer, so i was happy and let her know so i could call her. \n",
            "now i can only ask\n"
          ]
        },
        {
          "output_type": "stream",
          "name": "stderr",
          "text": [
            "Setting `pad_token_id` to `eos_token_id`:50256 for open-end generation.\n"
          ]
        },
        {
          "output_type": "stream",
          "name": "stdout",
          "text": [
            "Batch 7000 of 37512. Loss:2.7319839000701904. Time:0:21:10\n",
            "Example output: aita for getting upset and moving to another state? <|endofprompt|> asshole <|endofverdict|> hi everyone. sorry everyone is getting frustrated. i’m 22 and my parents divorced in september of this year, our mom's has moved in with us and i believe she’s just a step mom and she never got any support for it. it has been my problem that her family never made any of the money to my parents, but now she’s acting like they’ve left her poor mother alone. they’ve been married to this woman for 5 years before we started dating. we have been fighting for a long time now and they have gotten divorced about 5 months now, so our parents want me to learn how much of my life is spent. my mother and sister are divorced and has always struggled with mental health issues, and i will admit that we have had some ups where my parents were abusive. i grew up in different state towns of america so my\n"
          ]
        },
        {
          "output_type": "stream",
          "name": "stderr",
          "text": [
            "Setting `pad_token_id` to `eos_token_id`:50256 for open-end generation.\n"
          ]
        },
        {
          "output_type": "stream",
          "name": "stdout",
          "text": [
            "Batch 7500 of 37512. Loss:0.6421294212341309. Time:0:22:40\n",
            "Example output: aita for wanting to share my apartment apartment with my roommate? <|endofprompt|> asshole <|endofverdict|> i am moving out because i am in my current situation. it's not like i'm just paying it for my food, not like my apartment.\n",
            "\n",
            "my landlord and i share everything, like food, water, food, a few boxes of boxes of food, whatever.\n",
            "\n",
            "i share my bathroom with a guy who is dating with her. he just isn't happy. he just seems to get uncomfortable when he feels uncomfortable when he sees us have sex or when i'm not ready to be put out with people. he doesn't want to hear me have sex with women. \n",
            "\n",
            "they've come to the conclusion that they need to have sex with guys because it's so hot that we're living together. they've been sleeping together for about an hour, but have been sleeping together for about 6 months now. \n",
            "\n",
            "the issue is that my landlord was always having me take care\n"
          ]
        },
        {
          "output_type": "stream",
          "name": "stderr",
          "text": [
            "Setting `pad_token_id` to `eos_token_id`:50256 for open-end generation.\n"
          ]
        },
        {
          "output_type": "stream",
          "name": "stdout",
          "text": [
            "Batch 8000 of 37512. Loss:2.021214008331299. Time:0:24:18\n",
            "Example output: aita for my ex step mom for her being selfish? <|endofprompt|> asshole <|endofverdict|> i was just out of high school. i am the only one who has ever really found out that my ex stepmom is now married. my ex boyfriend passed away before i got married. i am not on my best relationship with my ex stepmom. i am still with my ex stepmom and i don't want to go around my stepmom is just going to take her out of her life. \n",
            "\n",
            "am i the asshole? <|eok|> aita,wanting,brothersister,sister,stealing\n"
          ]
        },
        {
          "output_type": "stream",
          "name": "stderr",
          "text": [
            "Setting `pad_token_id` to `eos_token_id`:50256 for open-end generation.\n"
          ]
        },
        {
          "output_type": "stream",
          "name": "stdout",
          "text": [
            "Batch 8500 of 37512. Loss:1.5457309484481812. Time:0:25:49\n",
            "Example output: aita for being mad at a guy for wanting to get married. <|endofprompt|> not the asshole <|endofverdict|> my mom is a very married woman. she's a pretty perfect person. she's been her father for about 15 years, she got married a few months ago. she's always been an amazing friend and a hard worker. she's super supportive and easy to talk to but not in any particular order.\n",
            "\n",
            "so, today, i got a call from a mutual friend that my husband's girlfriend will be in a wedding in a couple months. she has a little bit of a tendency to call other people to help. my husband told me i should get in line and help her. my dad can handle me, but he needs to be the one to make sure there's the reception before going back to his bf's house and not to be in an awkward situation. am i the asshole for being a bit coldy to my response?\n",
            "\n",
            "edit: since it was like the other\n"
          ]
        },
        {
          "output_type": "stream",
          "name": "stderr",
          "text": [
            "Setting `pad_token_id` to `eos_token_id`:50256 for open-end generation.\n"
          ]
        },
        {
          "output_type": "stream",
          "name": "stdout",
          "text": [
            "Batch 9000 of 37512. Loss:2.2422962188720703. Time:0:27:20\n",
            "Example output: aita for making someone look at me because i don’t want them to move? <|endofprompt|> not the asshole <|endofverdict|> edit: thank you guys for the feedback! i’ve changed a lot of things.\n",
            "\n",
            "a little context on the situation. i’m 17 now. i’m 16. i was 23 from 7.15 through 4.30 years ago, and my current college friend died 6 years ago to 6 days ago. i did the same because i didn’t want to make someone look at me.\n",
            "\n",
            "i will probably tell them that i’ll not be moving at all, or at least at least take advantage of me for their sake. i’m just trying to save up their lives, but i didn’t see this as acceptable anymore. <|eok|> aita,want,someone look,move\n"
          ]
        },
        {
          "output_type": "stream",
          "name": "stderr",
          "text": [
            "Setting `pad_token_id` to `eos_token_id`:50256 for open-end generation.\n"
          ]
        },
        {
          "output_type": "stream",
          "name": "stdout",
          "text": [
            "Batch 9500 of 37512. Loss:1.7234834432601929. Time:0:28:51\n",
            "Example output: aita for getting upset about my sister’s bf’s bf’s bf’s bf? <|endofprompt|> not the asshole <|endofverdict|> first time posting this, first time posting. \n",
            "\n",
            "hi. a bit of backstory, my sister is 25. she’s 16. i do want to be a bit more patient. i’m really a bit a little bit more patient, but i also know her father was involved in the car accident that caused her to go into a hospital. he was also an attorney when my sister moved in with her mother. \n",
            "\n",
            "my sister’s bf, his brother, and his sister all moved to cali. all this stuff happened is that   my sister came back into a room and my sister went to bed on a couch, my sister sat there on the couch. she started to see my younger sister and ask how her father got his car. \n",
            "\n",
            "i tell\n"
          ]
        },
        {
          "output_type": "stream",
          "name": "stderr",
          "text": [
            "Setting `pad_token_id` to `eos_token_id`:50256 for open-end generation.\n"
          ]
        },
        {
          "output_type": "stream",
          "name": "stdout",
          "text": [
            "Batch 10000 of 37512. Loss:1.1270564794540405. Time:0:30:21\n",
            "Example output: wibta if i cut a colleague from my life? <|endofprompt|> not the asshole <|endofverdict|> background: a few months ago i got a colleague from a job that was a really helpful colleague. the company i work with, a couple of days, really was nice and it was nice. \n",
            "\n",
            "she's one of the main employees, let's call her j. i know the company has a lot of good reputation, and i don't think it's fair of anyone could come into their company from there to do their job.\n",
            "\n",
            "i know i'm the only one who knows, but i'm getting annoyed because my current boss is constantly working on \"what not i?\" and it's \"what not you just expect to know\" and i just don't know how to make that conversation with her, that is in my way, but the only way i can get her to see that i've been working there for a couple years now, that i'm \"really good\" to make\n"
          ]
        },
        {
          "output_type": "stream",
          "name": "stderr",
          "text": [
            "Setting `pad_token_id` to `eos_token_id`:50256 for open-end generation.\n"
          ]
        },
        {
          "output_type": "stream",
          "name": "stdout",
          "text": [
            "Batch 10500 of 37512. Loss:3.123152017593384. Time:0:31:53\n",
            "Example output: wibta if i refused to help my gf come from christianity? <|endofprompt|> asshole <|endofverdict|> so i don't know who this is. i know this but i can't help that it is the issue here.\n",
            "\n",
            "i'm getting ready to hear some of the other ones. \n",
            "\n",
            "i told my gf this when i tried calling her over it. she didn't answer me or text me in anyway.\n",
            "\n",
            "however, when we came back, i asked her to stay at my place. she stayed at my place. when i came back she was getting angry, crying, and i was trying to ask why she didn't go to the bathroom.\n",
            "\n",
            "i was mad and tried to call her. \n",
            "\n",
            "i was trying to get her to help me but she refused.\n",
            "\n",
            "i was pretty hurt and wanted help. i want to be happy. i try to understand that i was being cruel, but i feel like a little selfish.\n"
          ]
        },
        {
          "output_type": "stream",
          "name": "stderr",
          "text": [
            "Setting `pad_token_id` to `eos_token_id`:50256 for open-end generation.\n"
          ]
        },
        {
          "output_type": "stream",
          "name": "stdout",
          "text": [
            "Batch 11000 of 37512. Loss:1.2883665561676025. Time:0:33:24\n",
            "Example output: aita for giving my baby to a baby? <|endofprompt|> not the asshole <|endofverdict|> i was pregnant in a similar position, i'm 26. it's probably a lot of work to do, my family isn't doing anything but it takes me a couple days and i have two teenage girls and a little girl is almost 3. i get very little and my mom is very close with them, her mom wants me to come to a party with my baby, and also wants me to come to a party. no family, no friends, no strangers, no other family. no friends. no family. no friends. but no family. no friends. no friends. no siblings. and no friends. none of my family. not just friends. no siblings. people are. but i know some of my family don't know any of them and i don't want to give the baby to a baby. i can't say no, it's just a baby, my family doesn't think it's\n"
          ]
        },
        {
          "output_type": "stream",
          "name": "stderr",
          "text": [
            "Setting `pad_token_id` to `eos_token_id`:50256 for open-end generation.\n"
          ]
        },
        {
          "output_type": "stream",
          "name": "stdout",
          "text": [
            "Batch 11500 of 37512. Loss:1.3014612197875977. Time:0:34:56\n",
            "Example output: aita for not wanting to help my family? <|endofprompt|> asshole <|endofverdict|> so we have two daughters, which will be three years old. while we are still in contact with my parents. \n",
            "\n",
            "we are very attached. we get along well with the kids and most of the family has never had a problem with my dad. as a result, my father has been helping my mother around the house, with her a lot. \n",
            "\n",
            "his mother is in college and has always helped him out when his mother is sick of school. she always wants to stay in her moms room and watch a movie or movie with his grandmother. i don't know what i do for their mothers because we all go to a movie together and my father will only talk and play in movies. it bothers me because we have my own movie, which we are in and we always watch movies together. \n",
            "\n",
            "he is a really nice guy and he likes to talk with the kids with his parents in the\n"
          ]
        },
        {
          "output_type": "stream",
          "name": "stderr",
          "text": [
            "Setting `pad_token_id` to `eos_token_id`:50256 for open-end generation.\n"
          ]
        },
        {
          "output_type": "stream",
          "name": "stdout",
          "text": [
            "Batch 12000 of 37512. Loss:1.6591616868972778. Time:0:36:27\n",
            "Example output: wibta for moving a baby shower with a stranger, but staying alone as family? <|endofprompt|> asshole <|endofverdict|> a little background info: my mom has always been a bit too harsh with her daughter and she has a difficult time not driving her to the graduation graduation. \n",
            "\n",
            "so i’m just turning 18 and my parents are at a church with one other woman who i knew they would take care of, and that’s when they come back to visit. \n",
            "\n",
            "the new family is very much in a small town that leads to a lake, which is very small, in a large town with an 80+ acres plan. \n",
            "\n",
            "so, we got to a nearby lake for some time. my mom and i were going to be the primary care of this girl so we could stay for 1-2 hours at a time. so we came to her up to visit and stay at a gas station, and then we got together for a few hours and spent\n"
          ]
        },
        {
          "output_type": "stream",
          "name": "stderr",
          "text": [
            "Setting `pad_token_id` to `eos_token_id`:50256 for open-end generation.\n"
          ]
        },
        {
          "output_type": "stream",
          "name": "stdout",
          "text": [
            "Batch 12500 of 37512. Loss:1.8052898645401. Time:0:37:58\n",
            "Example output: aita for not letting my wife feel bad for me not letting my wife feel shitty? <|endofprompt|> not the asshole <|endofverdict|> my wife said she feels bad about feeling bad now, since we had not even talked in 1 years. \n",
            "\n",
            "her first time i was with her, we had talked about how many times her visits were with her or her family, so we could all keep things from her to others. she said something like this was a weird thing that makes her angry because i did not ask for my wife's reaction back or something else, and she was the one in the family to discuss the matter with her, and she said yes, i asked. it was a little different, but she did not really agree with me, like i said, maybe something about what it was like, and she said that no one is here. \n",
            "\n",
            "this time we talked about the matter, and she said no. \n",
            "\n",
            "\n",
            "so, fast forward to now. we are not together\n"
          ]
        },
        {
          "output_type": "stream",
          "name": "stderr",
          "text": [
            "Setting `pad_token_id` to `eos_token_id`:50256 for open-end generation.\n"
          ]
        },
        {
          "output_type": "stream",
          "name": "stdout",
          "text": [
            "Batch 13000 of 37512. Loss:1.597005844116211. Time:0:39:28\n",
            "Example output: aita for wanting to go to a concert halloween concert that my mother told me she wasnt interested <|endofprompt|> asshole <|endofverdict|> i want to go to a concert halloween concert with my friends and my husband. my father and i are about 18 now and there is a ticket going against my father's wishes and i don't mind.\n",
            "\n",
            "my parents don't have money for tickets i'm in the state that is also mine. they don't do this for the money they're in my area. they're asking that i'm on the spot without them, for my money my mother has never said that.\n",
            "\n",
            "however, my mother wants to pay for the tickets. she wants to pay for these tickets and i don't mind, if i went, there would have be a huge concert of a concert halloween concert (around 150+) and i'd be paying if i went and i wouldn't want to pay for anything that i wasn't enjoying or enjoying.\n"
          ]
        },
        {
          "output_type": "stream",
          "name": "stderr",
          "text": [
            "Setting `pad_token_id` to `eos_token_id`:50256 for open-end generation.\n"
          ]
        },
        {
          "output_type": "stream",
          "name": "stdout",
          "text": [
            "Batch 13500 of 37512. Loss:1.125800609588623. Time:0:40:59\n",
            "Example output: aita for ghosting my close friend <|endofprompt|> not the asshole <|endofverdict|> last night i was at dinner because one of my friends who i talk with has cancelled his plans for the remainder of the night. he has said yes to everything. he has texted my friends and messages me. i tell him my plan so that it doesn't matter if it isn't. he says no and says \"if you do your plan, i'll have to text the rest of the night.\" i get really angry, but he says \"yes\" to her text messages me as much as i do mine. she messaged me this morning saying she will text us later. i was actually mad because it was a good decision, but she was very upset. my friend also texted her back saying \"what the hell is up with you\" and that it's wrong of me to text her, even though i can't take it at work at the moment. i replied that, and she was a little annoyed, but\n"
          ]
        },
        {
          "output_type": "stream",
          "name": "stderr",
          "text": [
            "Setting `pad_token_id` to `eos_token_id`:50256 for open-end generation.\n"
          ]
        },
        {
          "output_type": "stream",
          "name": "stdout",
          "text": [
            "Batch 14000 of 37512. Loss:1.5540392398834229. Time:0:42:31\n",
            "Example output: aita for ignoring my mom and dad all my life while her husband is depressed? <|endofprompt|> asshole <|endofverdict|> my mom (40s) has a history of abuse. she abused me as a child and used it to pay for my own education. she would also physically get fired from school when i was 10. my mom would do well at school for a year. she would be fired every year.\n",
            "\n",
            "i was one of the few who went to college, but i haven't gone to college since she went to college. i have 2 brothers who are 10-15.\n",
            "\n",
            "when i was 15 she got fired. my brother moved to a different country and became a mom. i was supposed to be working at college and then she moved to her home country and he could have a job. she did all of this for a while because it was my brother. she would be a dad to my brother and i. i worked, but i worked so much over the years and we\n"
          ]
        },
        {
          "output_type": "stream",
          "name": "stderr",
          "text": [
            "Setting `pad_token_id` to `eos_token_id`:50256 for open-end generation.\n"
          ]
        },
        {
          "output_type": "stream",
          "name": "stdout",
          "text": [
            "Batch 14500 of 37512. Loss:2.3251423835754395. Time:0:44:04\n",
            "Example output: aita for wanting to stay with my husband? <|endofprompt|> not the asshole <|endofverdict|> we've been divorced for about a year. his sister-in-law-law divorced when he was in legal trouble. (he was an alcoholic) she also claimed a lot of abuse. he even had a habit of abusing my husband (the ex husband's sister) in court, which was pretty much the truth. he also claimed she was a bad person and stole from him. he went into the court for 2 years and had to find a new person in the military with similar issues.\n",
            "\n",
            "now, they're still married, while my husband and i are dating. i told my sister-in-law and she refused to talk to him for two years (which is not true, he didn't really seem in the family). \n",
            "\n",
            "my sister-in-law has been dating my husband for a year. my son has been dating her since they divorced. i have a son with similar\n"
          ]
        },
        {
          "output_type": "stream",
          "name": "stderr",
          "text": [
            "Setting `pad_token_id` to `eos_token_id`:50256 for open-end generation.\n"
          ]
        },
        {
          "output_type": "stream",
          "name": "stdout",
          "text": [
            "Batch 15000 of 37512. Loss:2.2745583057403564. Time:0:45:35\n",
            "Example output: aita for not telling a friend that my older brother can take me to a concert with him? <|endofprompt|> not the asshole <|endofverdict|> i’m 19 and i’m planning on telling my older brother soon. i don’t want to make a huge deal but i feel like my younger brother would be ready for me. however i don’t want to have to drive him (especially not me) and my mom (who i haven’t seen in the few years).    \n",
            "\n",
            "\n",
            "ok, my father is 23 and i’m 19. i just don’t want him to drive me as much since he’s in my city where he can take me as much as possible.  \n",
            "\n",
            "\n",
            "so on saturday is a concert, one of the concert is approaching. my mom is coming by tomorrow so i can go to a concert with my older brother (it’s a 6 year old)  i just\n"
          ]
        },
        {
          "output_type": "stream",
          "name": "stderr",
          "text": [
            "Setting `pad_token_id` to `eos_token_id`:50256 for open-end generation.\n"
          ]
        },
        {
          "output_type": "stream",
          "name": "stdout",
          "text": [
            "Batch 15500 of 37512. Loss:0.9075683951377869. Time:0:47:08\n",
            "Example output: aita for telling my husband how much trouble i was in this situation and that it was just a casual interaction? <|endofprompt|> asshole <|endofverdict|> i just had a very serious relationship with a guy (i love him a lot better and he makes me a lot better), i don’t really need him to be out, he is a genuinely fun man and we both agree he is a great person, so even more than we agree, we have both been married to my husband this past weekend. but i know a lot of him and he’s really hard. every time i’ve had this relationship with him, he’s just kind of been an asshole (he’s really not a bad guy for me), but he also doesn’t like the way i’ve talked to him since he’s done something like go to the bathroom, go to bed, etc., just that stuff would seem strange. it’s a great idea\n"
          ]
        },
        {
          "output_type": "stream",
          "name": "stderr",
          "text": [
            "Setting `pad_token_id` to `eos_token_id`:50256 for open-end generation.\n"
          ]
        },
        {
          "output_type": "stream",
          "name": "stdout",
          "text": [
            "Batch 16000 of 37512. Loss:1.1905256509780884. Time:0:48:38\n",
            "Example output: aita for telling my ex-boyfriend of years he’s not in a relationship? <|endofprompt|> asshole <|endofverdict|> i’m dating my ex boyfriend for 2 years while we are dating. we are both in our early 20’s. \n",
            "\n",
            "i recently broke up with my ex boyfriend and have 3 kids together. we both have kids and i’m in love with them. i’m trying my best to be as supportive as possible but i do not think i should have to keep things secret from them.\n",
            "\n",
            "my ex is dating this guy (we’ve been together for a year) and he is not my current boyfriend.  i asked him if he could not have a relationship with him after 3 years. he refused. i told him he could not keep secrets from me because he wasn’t my “best friend” and that he should respect the fact he is not my ex boyfriend and he knows that he can\n"
          ]
        },
        {
          "output_type": "stream",
          "name": "stderr",
          "text": [
            "Setting `pad_token_id` to `eos_token_id`:50256 for open-end generation.\n"
          ]
        },
        {
          "output_type": "stream",
          "name": "stdout",
          "text": [
            "Batch 16500 of 37512. Loss:1.0713369846343994. Time:0:50:09\n",
            "Example output: wibta if i got mad at my wife for buying our food she bought? <|endofprompt|> asshole <|endofverdict|> my wife’s two kids are 10 and 9. she’s the only son that lives in the house. her daughter comes in to us as often as she sees and cooks for her kids and sometimes she usually cooks for her kids as well as a lot of things she cooks for. \n",
            "\n",
            "we are a family and our wife is my main responsibility for cooking for her kids. she is my main babysitter and the mother has a job that requires her daughter to cook for the other kids. our daughter is 15. her daughter can usually eat everything and make it herself without having to make a mess because we were too busy in the morning and it wouldn’t be an issue to buy our food as she was too busy today.\n",
            "\n",
            "after a lot of work and day she gave us two snacks, including her favorite ice cream. it’s a\n"
          ]
        },
        {
          "output_type": "stream",
          "name": "stderr",
          "text": [
            "Setting `pad_token_id` to `eos_token_id`:50256 for open-end generation.\n"
          ]
        },
        {
          "output_type": "stream",
          "name": "stdout",
          "text": [
            "Batch 17000 of 37512. Loss:2.749497890472412. Time:0:51:40\n",
            "Example output: aita for ruining my boyfriend's fun from friends? <|endofprompt|> not the asshole <|endofverdict|> context: my boyfriend and i have been best friends for over 4 years. we met through and it is a great relationship, and we both loved them, but i didn't want them there for more than a few weeks as a whole family, i always believed he wanted me to be his brother. after about a year i made the decision to be away at university and i was so happy. i was very excited to see him, when i had found an apartment i had been trying to help me and was able to pay my loans for it. we weren't close growing up so i would have a lot of opportunity with him. i had a lot of experience in this new hometown and my boyfriend knew i wanted to be closer to him. he was okay with me not going to be around him. he told me i would have to tell him that i wanted to be with my boyfriend, but he told me\n"
          ]
        },
        {
          "output_type": "stream",
          "name": "stderr",
          "text": [
            "Setting `pad_token_id` to `eos_token_id`:50256 for open-end generation.\n"
          ]
        },
        {
          "output_type": "stream",
          "name": "stdout",
          "text": [
            "Batch 17500 of 37512. Loss:1.5346097946166992. Time:0:53:11\n",
            "Example output: aita for trying to do this as an adult? <|endofprompt|> asshole <|endofverdict|> so i have had my boyfriend for a couple years, we got along very well, i would say this was over. he is 30m and i am 27m, he is a 19m and i'm female. he goes out with some buddies to bars and parties and i like it's nice. his girlfriends also live in texas so he goes out with a lot of girls and they all go home. my other boyfriend has a strict curfew for him if it's too late to him but i dont think i'm being an adult, he does this and my girlfriend gets along a great degree and has talked with him a few times and i'm sure it's safe, but this is not a bad thing to do.\n",
            "\n",
            "so we have talked about this many times. the last time he does go out with these girls, i always end up going the same day as him, i would say, he\n"
          ]
        },
        {
          "output_type": "stream",
          "name": "stderr",
          "text": [
            "Setting `pad_token_id` to `eos_token_id`:50256 for open-end generation.\n"
          ]
        },
        {
          "output_type": "stream",
          "name": "stdout",
          "text": [
            "Batch 18000 of 37512. Loss:2.2608487606048584. Time:0:54:43\n",
            "Example output: aita for wanting my siblings to stop sharing my own information in terms of privacy? <|endofprompt|> asshole <|endofverdict|> my sister is my step daughter, i am my only child, my mother is her only child. she has recently got remarried. she still lives in the state, is working and lives here to be. i am currently in the city for my oldest child (i have to keep that as a surprise because that might be a bit rude) and my grandma lives there all of her life with my step-daughter. so far my siblings have been sharing my photos with their dad. i live in a nice college, just 4 hours away, i see my mom a few times a week and she just makes it a big deal.\n",
            "\n",
            "she and my sisters are very close. i am their mom, my sister is my dad. i know my step-grandchildren are sharing photos and sharing things and sharing jokes. i am just trying to keep my anonymity to my sisters,\n"
          ]
        },
        {
          "output_type": "stream",
          "name": "stderr",
          "text": [
            "Setting `pad_token_id` to `eos_token_id`:50256 for open-end generation.\n"
          ]
        },
        {
          "output_type": "stream",
          "name": "stdout",
          "text": [
            "Batch 18500 of 37512. Loss:1.9607075452804565. Time:0:56:15\n",
            "Example output: aita for letting my bf wear a short pair of leggings? <|endofprompt|> not the asshole <|endofverdict|> my boyfriend and i are in his early 40s and he’s an american. he used me when i was a kid, but he was in his early 20s so we're not in the class. he has a large length shirt, a short shirt, blue. he’s pretty attractive, but we have a pair of leggings. his problem is that, because he’s an american, his parents wear leggings. he’s not a white guy and when he does a little longer than the average, he won’t mind either. he is an american who wears leggings, and he’s a black guy, but he’s never gotten a ton of clothes. he will also have his mums hair dyed as if they’re short. i do it too. he�\n"
          ]
        },
        {
          "output_type": "stream",
          "name": "stderr",
          "text": [
            "Setting `pad_token_id` to `eos_token_id`:50256 for open-end generation.\n"
          ]
        },
        {
          "output_type": "stream",
          "name": "stdout",
          "text": [
            "Batch 19000 of 37512. Loss:0.7850381731987. Time:0:57:47\n",
            "Example output: aita for telling my mother not to hang out with me unless she calls me out? <|endofprompt|> asshole <|endofverdict|> so this is my first time post history post and i've never gotten to reddit before.\n",
            "\n",
            "i'm a 18 y/o guy. my mother has always struggled with depression and anxiety and a lot of it is very easy. she's bipolar because of our problems (she's the kind of person to take drugs, and the school is the kind of thing in school with her), and has trouble finding her own way home and she doesn't really get to know me.\n",
            "\n",
            "her main concern here is that i have a huge crush on her, and we've been trying to call her out before she starts, as she's going to be in therapy to help. because of this, and my mental health issues we've decided to not go on vacations with her. i've had two mental breakdowns, which i know they're due to her not calling me out unless\n"
          ]
        },
        {
          "output_type": "stream",
          "name": "stderr",
          "text": [
            "Setting `pad_token_id` to `eos_token_id`:50256 for open-end generation.\n"
          ]
        },
        {
          "output_type": "stream",
          "name": "stdout",
          "text": [
            "Batch 19500 of 37512. Loss:2.755465507507324. Time:0:59:18\n",
            "Example output: aita for snapping at my coworker for getting me to shut down and not telling her? <|endofprompt|> asshole <|endofverdict|> first of all i probably don't know what to do. i've been working as a shift manager at almost 7pm and i work a pretty intense shift and i take the manager in pretty much every day. (even a week in, i take over a few nights a week and i get a lot of free time as it's important that i work with her) last night at 8pm i was talking about a new shift as i'd be going late with the exception of this time. this job just wasn't open. i kept saying, i had this extra day or two and it took me a bunch more time to get over the time i was looking at my emails and i realized they were sending me screenshots of the schedule. a couple of days later i saw someone doing it and a coworker. when i was walking into the other manager and noticed the manager with\n"
          ]
        },
        {
          "output_type": "stream",
          "name": "stderr",
          "text": [
            "Setting `pad_token_id` to `eos_token_id`:50256 for open-end generation.\n"
          ]
        },
        {
          "output_type": "stream",
          "name": "stdout",
          "text": [
            "Batch 20000 of 37512. Loss:2.6821231842041016. Time:1:00:49\n",
            "Example output: aita for being mad at my friend for bringing an old car to drive an old car? <|endofprompt|> asshole <|endofverdict|> my friend let's call him karen. let's call her natalie is currently 26 and is on probation for a couple of months at a time, i'm considering moving to her home country this spring, the thing is she is a big part of the city we live in and is having its second year in her life to work as a contractor, she's a mechanic in her home country where she was raised to work in the car she grew up in. she is unemployed, she worked for years now and just finished college after she moved back home. in my country, there have been numerous instances where she has come home twice a few days ago from a visit and got home in the same time she lives with me, she has a car on a 3 week road trip with 3 times in it that is nearly $400. \n",
            "\n",
            "&#x200b;\n"
          ]
        },
        {
          "output_type": "stream",
          "name": "stderr",
          "text": [
            "Setting `pad_token_id` to `eos_token_id`:50256 for open-end generation.\n"
          ]
        },
        {
          "output_type": "stream",
          "name": "stdout",
          "text": [
            "Batch 20500 of 37512. Loss:1.743468999862671. Time:1:02:20\n",
            "Example output: aita for calling out a baby for calling me selfish? <|endofprompt|> not the asshole <|endofverdict|> we moved up to an apartment complex on my own and had a baby about 2 years ago. since the baby is now 18 month old we have a decent amount of time at home to visit with the baby. \n",
            "\n",
            "recently, the baby will be born and i have found out that, as mentioned, that the baby is pregnant with the baby's mother at the hospital with a bath, i have been very supportive of my friend and mother. my friend and mother of the baby is very close and is very close. \n",
            "\n",
            "i think my friend and mother should be happy. they've been trying to organise a baby with my mother, and i don't want them to think i'm selfish, which i can understand, however, it's been a little over a year. i also found out that they have had about a week to ourselves and it's due in the time the baby will\n"
          ]
        },
        {
          "output_type": "stream",
          "name": "stderr",
          "text": [
            "Setting `pad_token_id` to `eos_token_id`:50256 for open-end generation.\n"
          ]
        },
        {
          "output_type": "stream",
          "name": "stdout",
          "text": [
            "Batch 21000 of 37512. Loss:2.611030101776123. Time:1:03:51\n",
            "Example output: aita for not cleaning up my family for being rude? <|endofprompt|> not the asshole <|endofverdict|> so this is going to be a little bit difficult on the way, but i will try and make it easier and simple. my brother, who has a long time job, takes care of himself and is trying to take care of himself. my brother, on the other hand, hates this. he’s been a single mom since we were kids. he’s been told he doesn’t want to go to college. and when he does go to college, he does it on a different level.\n",
            "\n",
            "so over the last 4 years, he has started to get incredibly rude. for example, he didn’t want to use his wallet to play games online at this point. he doesn’t use my wallet to buy games, eat a game, be rude, etc etc. and then, he didn’t use my wallet to spend his money on food\n"
          ]
        },
        {
          "output_type": "stream",
          "name": "stderr",
          "text": [
            "Setting `pad_token_id` to `eos_token_id`:50256 for open-end generation.\n"
          ]
        },
        {
          "output_type": "stream",
          "name": "stdout",
          "text": [
            "Batch 21500 of 37512. Loss:1.2728646993637085. Time:1:05:22\n",
            "Example output: aita for not including my sister when she was around <|endofprompt|> not the asshole <|endofverdict|> so about a month ago, after a rough childhood experience, my sister asked us if we wanted her daughter (so for that matter, we have never done any of that.) we obviously were okay, except it became more complicated for us and my sister and we decided to just keep it all, despite being together. well, after a few months of no contact, i finally let slip in what we wanted, as we had a kid, and started to plan something and we decided to just keep our promise.\n",
            "\n",
            "we didn’t go out to dinner with any of our friends and we are no longer coming to a dinner, which i am more comfortable having with my friend than just seeing this kid. i don’t particularly care about that kid, but it’s never been my business.\n",
            "\n",
            "a few weeks after they were going out and seeing each other, we decided to just\n"
          ]
        },
        {
          "output_type": "stream",
          "name": "stderr",
          "text": [
            "Setting `pad_token_id` to `eos_token_id`:50256 for open-end generation.\n"
          ]
        },
        {
          "output_type": "stream",
          "name": "stdout",
          "text": [
            "Batch 22000 of 37512. Loss:3.031012535095215. Time:1:06:53\n",
            "Example output: aita for being too close to my mom? <|endofprompt|> asshole <|endofverdict|> this is the first one here. \n",
            "\n",
            "&#x200b;\n",
            "\n",
            "i (26f) live with my mom's dad. dad has been living with us for six years now and is in a retirement home with my sister, who has taken care of our child. her father had a kid in the retirement home, she took care of the child every once in a while but still has this dad. \n",
            "\n",
            "&#x200b;\n",
            "\n",
            "my family is really close to my mother and we have been friends to her for nearly six years. we never had any arguments and i only talked to my mother about it because she's a godparents. she's a grown mother but just wants to be there. she is still a parent and i always want my sister there but i'm not sure if she is in the wrong.\n",
            "\n",
            "&#x200b;\n",
            "\n",
            "so the\n"
          ]
        },
        {
          "output_type": "stream",
          "name": "stderr",
          "text": [
            "Setting `pad_token_id` to `eos_token_id`:50256 for open-end generation.\n"
          ]
        },
        {
          "output_type": "stream",
          "name": "stdout",
          "text": [
            "Batch 22500 of 37512. Loss:2.2420761585235596. Time:1:08:25\n",
            "Example output: aita for giving a girl who's a bully to go home at 2 am? <|endofprompt|> asshole <|endofverdict|> this girl is my friend, let's call her b. i'll call her b. for context, we were all 21. \n",
            "\n",
            "in grade 7, she had her bachelorette party a few months before her boyfriend, let's call her h, asked me if i wanted to go home at 4pm, and i said yes.\n",
            "\n",
            "a day before her boyfriend comes back, she asks me if i wanted to go home at 1 am and just come back as it would take her like 4-5 minutes. my response was \"i wanted to go home at 1am and leave at 10 pm. \n",
            "\n",
            "fast forward to 2/3am (i guess). \n",
            "\n",
            "later that day, she asks me if i want to go home at 2 pm. \n",
            "\n",
            "i say no, because i think this was a good idea. the reason\n"
          ]
        },
        {
          "output_type": "stream",
          "name": "stderr",
          "text": [
            "Setting `pad_token_id` to `eos_token_id`:50256 for open-end generation.\n"
          ]
        },
        {
          "output_type": "stream",
          "name": "stdout",
          "text": [
            "Batch 23000 of 37512. Loss:2.049307346343994. Time:1:09:57\n",
            "Example output: aita for keeping my brother’s ex-boyfriend out of the house? <|endofprompt|> asshole <|endofverdict|> before i start this, i am a 16 year old boy who has 3 daughters and has been living with my boyfriend ever since. i’ve never had that kind of relationship with his first. however, he has his current girlfriend and other kids she will be living with. \n",
            "\n",
            "i had asked my boyfriend to move out of her own place because she has been out of the house a few years, but he said we could have a house together for a couple months as she just wanted to be able to make it work. (i never really talked to him since we lived in a different state but he said it was time to find somewhere and he said there is no one else who could take a job for another week so i was just wondering if it was wrong of me to go out alone and stay in a one-bedroom apartment? i know i’m\n"
          ]
        },
        {
          "output_type": "stream",
          "name": "stderr",
          "text": [
            "Setting `pad_token_id` to `eos_token_id`:50256 for open-end generation.\n"
          ]
        },
        {
          "output_type": "stream",
          "name": "stdout",
          "text": [
            "Batch 23500 of 37512. Loss:1.2305577993392944. Time:1:11:28\n",
            "Example output: wibta if i refuse to give a friend his real name? <|endofprompt|> not the asshole <|endofverdict|> backstory: i am a student in the same school as my high school roommate, and we're in the same room. we have a 2 bedroom apartment together, a 2 bedroom. apartment with 2 bedrooms, a room, the kitchen room that our apartment in with an apartment on the third floor. the bathrooms with a kitchen kitchen, kitchen, bathroom, laundry, living room in the basement, kitchen and kitchen. the bathroom upstairs neighbor lives in the basement which has a bathroom and bathroom in between so the bathroom has to be a place with 1 bathroom each way. she has 2 bed and bathroom and bathroom upstairs in our building with the bathroom upstairs downstairs bathroom and kitchen ( downstairs) and bathroom on the kitchen and sink in the basement.\n",
            "\n",
            "the bathroom upstairs neighbor lives in front downstairs and bathroom in front downstairs. the floor above us are the living room in front upstairs, upstairs downstairs above us in\n"
          ]
        },
        {
          "output_type": "stream",
          "name": "stderr",
          "text": [
            "Setting `pad_token_id` to `eos_token_id`:50256 for open-end generation.\n"
          ]
        },
        {
          "output_type": "stream",
          "name": "stdout",
          "text": [
            "Batch 24000 of 37512. Loss:1.255723476409912. Time:1:12:59\n",
            "Example output: aita for leaving my wife’s bfs family over? <|endofprompt|> asshole <|endofverdict|> my wife (30m) is staying in her moms' house this summer. her parents are divorced from my mom and sister (14m) who is working full time on a farm with an ex-husband. my sister is leaving this month to go back to their hometown because of her new marriage. i (32f) am going to go to college in 2 months, and i am not planning on staying at my parents house. i will not be the most expensive on my terms, as my family is a poor background. i just have to make a little bit of money for the new house (i do have about $1000), and my parents will not pay for my college graduation tuition. i am currently living on the farm with my dad and his two kids, and i am making the move when i will be gone for college (my stepdaughter’s graduation is about 3 months\n"
          ]
        },
        {
          "output_type": "stream",
          "name": "stderr",
          "text": [
            "Setting `pad_token_id` to `eos_token_id`:50256 for open-end generation.\n"
          ]
        },
        {
          "output_type": "stream",
          "name": "stdout",
          "text": [
            "Batch 24500 of 37512. Loss:1.7004151344299316. Time:1:14:29\n",
            "Example output: aita for wanting my wife and our two kids to spend time with us. <|endofprompt|> not the asshole <|endofverdict|> we've talked about having a few kids and i told her i want my kid to go to school next year and get a job, we'll be making about 25k.\n",
            "\n",
            "she said i was being selfish and that the way she talks about it is, she's talking about how she and her husband were going to stay in her moms house and she said i should go and spend time with them when we can.\n",
            "\n",
            "i've expressed my frustration with my mom, but i've told my mom i'm happy about the money, but i don't want her to just keep taking off on herself and have her own life when i am away or get a job in college.\n",
            "\n",
            "am i the asshole?\n",
            "\n",
            "&#x200b;\n",
            "\n",
            "edit: i think people can ask, but in the comments my mom is a more mature person.\n",
            "\n",
            "edit\n"
          ]
        },
        {
          "output_type": "stream",
          "name": "stderr",
          "text": [
            "Setting `pad_token_id` to `eos_token_id`:50256 for open-end generation.\n"
          ]
        },
        {
          "output_type": "stream",
          "name": "stdout",
          "text": [
            "Batch 25000 of 37512. Loss:2.9774601459503174. Time:1:16:00\n",
            "Example output: aita for throwing a dnd campaign into his friends' party? <|endofprompt|> asshole <|endofverdict|> i have been throwing a dnd campaign for a friend for over 2 years now, and we've both been working on his campaign for this. he is very shy, and my other friends and i think its a really good campaign for him. i thought of throwing it in, but decided to throw it away to a party and throw away the dnd campaign, because i've been trying a lot of long to improve my social skills in the past. he is very shy, and is the only person i'm throwing away.\n",
            "\n",
            "i'm starting to throw away the dnd campaign, but the way i see it, i'm a bit annoyed that i threw away the dnd campaign. my buddy thinks he's overreacting, but i'm not really debating whether i'm overreacting to my buddy's reaction.\n",
            "\n",
            "aita? <|eok|> aita,throwing,party,\n"
          ]
        },
        {
          "output_type": "stream",
          "name": "stderr",
          "text": [
            "Setting `pad_token_id` to `eos_token_id`:50256 for open-end generation.\n"
          ]
        },
        {
          "output_type": "stream",
          "name": "stdout",
          "text": [
            "Batch 25500 of 37512. Loss:2.70820951461792. Time:1:17:32\n",
            "Example output: aita for getting upset with my dad for going back on his word <|endofprompt|> not the asshole <|endofverdict|> ok i don’t make a post here, but i thought i might ask you guys to help me settle on this so i’ll let you know my side.\n",
            "\n",
            "so my dad and i are both 27 years old and we’ve both been dating for a few weeks.  and when i first started dating my dad he was an alcoholic. he was also not an alcoholic and he’s been sober for a few years, but he started smoking weed in the past. \n",
            "\n",
            "he stopped when he started and just continued with when he started it again, he always became sober. he got sober but i’m not sure how long he’s been with it, because he’s always been really into smoking. it’s not like i’m mad, or mad over something.  i always say no, i\n"
          ]
        },
        {
          "output_type": "stream",
          "name": "stderr",
          "text": [
            "Setting `pad_token_id` to `eos_token_id`:50256 for open-end generation.\n"
          ]
        },
        {
          "output_type": "stream",
          "name": "stdout",
          "text": [
            "Batch 26000 of 37512. Loss:2.675307035446167. Time:1:19:03\n",
            "Example output: aita for breaking up with this girl who i met through instagram? <|endofprompt|> not the asshole <|endofverdict|> so after a while of dating, i matched for a girl who matched me on fb (i have seen her at least twice). as a girl, i was not interested in the relationship. she wasn't the type of person to be the person who felt betrayed. however, some time ago, i had enough of that, i had decided to go on a “dating someone”, and that would be a good bonding time and such in a good couple. however, i decided to pursue that idea for myself, with the hope that i would leave my other guy.\n",
            "\n",
            "well i am with a girl who was so sweet. it became pretty much the next couple of months. this is her first time meeting me, but since i'm with a girl i feel like this is an opportunity to have alone time without a break-up. \n",
            "\n",
            "about an hour ago\n"
          ]
        },
        {
          "output_type": "stream",
          "name": "stderr",
          "text": [
            "Setting `pad_token_id` to `eos_token_id`:50256 for open-end generation.\n"
          ]
        },
        {
          "output_type": "stream",
          "name": "stdout",
          "text": [
            "Batch 26500 of 37512. Loss:2.8008625507354736. Time:1:20:34\n",
            "Example output: wibta for taking care of my girlfriend? <|endofprompt|> not the asshole <|endofverdict|> i(22m) am a single mother, my girlfriend does not always pay for our own things, and she has always wanted to help us out, even though i am struggling financially. she was supposed to live alone, and got a job offer from a guy she met in hs. she would frequently be working on a laptop, and when she was working she wanted to buy it because she wanted it, and i had been working with a guy who wanted to help out. he got a job offer from a private shop, so we only made $80 on the phone, and she decided to buy it. since she got it, she has been using it as a personal item, but it does still feel wrong, because she feels she is not doing her job, and she thinks it's better to start using it so we can have a few more years to be making this new job (and she has\n"
          ]
        },
        {
          "output_type": "stream",
          "name": "stderr",
          "text": [
            "Setting `pad_token_id` to `eos_token_id`:50256 for open-end generation.\n"
          ]
        },
        {
          "output_type": "stream",
          "name": "stdout",
          "text": [
            "Batch 27000 of 37512. Loss:1.375250220298767. Time:1:22:05\n",
            "Example output: aita for changing a bridesmaid dress? <|endofprompt|> not the asshole <|endofverdict|> sorry to my writing, but i am on mobile.\n",
            "\n",
            "i am a 21 year old male. we have two bridesmaids. i would like to set the scene a bit sooner then you. one of my friends asked me to change her dress if i wear a bridesmaid dress for the first time. i felt a little bad about it and decided not to.\n",
            "\n",
            "later that night, my other male colleague asked me if i could change my dress, because she said that she was planning a bridesmaid dress. i said yes, and she did, but i told my other male colleague that i could change my dress to a full dress that i love and she wouldn't be allowed to wear. she told my male colleague that i could change it. she made it very clear that we are not required to wear the dress.\n",
            "\n",
            "she asked again, but i said no, as\n"
          ]
        },
        {
          "output_type": "stream",
          "name": "stderr",
          "text": [
            "Setting `pad_token_id` to `eos_token_id`:50256 for open-end generation.\n"
          ]
        },
        {
          "output_type": "stream",
          "name": "stdout",
          "text": [
            "Batch 27500 of 37512. Loss:1.172837495803833. Time:1:23:37\n",
            "Example output: aita for asking my husband and i to put away his truck to help him? <|endofprompt|> not the asshole <|endofverdict|> this is so stupid to ask of your people, but i really think i'm the asshole for saying something that might cause a rift.\n",
            "\n",
            "my husband and i have been out to do about 10 nights total since we started doing the month. he works an office job, and we pay a lot of gas, so we both do it regularly.\n",
            "\n",
            "our truck has one of the biggest transmission issues, and the truck is an important transmission issue, and is generally the main issue to us and our neighbors. our neighbors were in a bad situation, but the truck needed a good transmission system (it was an extremely old model to be used properly, and it was just too large to get used as in it's transmission).\n",
            "\n",
            "i was very frustrated at first, but now my husband is mad at me for asking him to help out when he was in a bad situation.\n"
          ]
        },
        {
          "output_type": "stream",
          "name": "stderr",
          "text": [
            "Setting `pad_token_id` to `eos_token_id`:50256 for open-end generation.\n"
          ]
        },
        {
          "output_type": "stream",
          "name": "stdout",
          "text": [
            "Batch 28000 of 37512. Loss:1.2275532484054565. Time:1:25:08\n",
            "Example output: aita for refusing to buy my daughter a birthday gift <|endofprompt|> not the asshole <|endofverdict|> my daughter is 2 and had a boyfriend for about 2 years and she has been constantly acting out of love towards him and the past few years it has been hard for her to be happy and i am proud of that. she is 2 and i am currently trying to get her on the first day but i am struggling to get her to her dad and i don't want the energy for her. she has always made me promise that i would buy and she did the best she could get me. this was just fine. i also made me go for her birthday one day and she was still upset with my sister. \n",
            "\n",
            "she has always been more hurt by my sister than her boyfriend and it really stressed me out. my birthday is coming up. the next time i do this she gets me a few things from a friend and i am more than happy. however, she is being stubborn. she wants to\n"
          ]
        },
        {
          "output_type": "stream",
          "name": "stderr",
          "text": [
            "Setting `pad_token_id` to `eos_token_id`:50256 for open-end generation.\n"
          ]
        },
        {
          "output_type": "stream",
          "name": "stdout",
          "text": [
            "Batch 28500 of 37512. Loss:2.506856918334961. Time:1:26:40\n",
            "Example output: aita for not wanting to be involved in an adult adult friend's \"school trips\" <|endofprompt|> asshole <|endofverdict|> last weekend i had a one-week \"school trips\" where our friends had to get on board at all times. i think most of the people are from a middle-aged, mostly, asper country. i'm not in my late twenties. i am not in my mid twenties and the part of a school program and am interested in going to school with friends, since i am not. i have the easiest, quietest group i've ever been in. i live pretty close by my home and i have a lot of friends who have not been there in years. i have also recently been able to go to parties, parties and lunches. \n",
            "\n",
            "one of these dinners happened yesterday, which i do not want to be involved in. i am very excited about it and want to have a small social circle with my friend in particular. i am afraid that if\n"
          ]
        },
        {
          "output_type": "stream",
          "name": "stderr",
          "text": [
            "Setting `pad_token_id` to `eos_token_id`:50256 for open-end generation.\n"
          ]
        },
        {
          "output_type": "stream",
          "name": "stdout",
          "text": [
            "Batch 29000 of 37512. Loss:1.3630567789077759. Time:1:28:12\n",
            "Example output: aita for saying that i’ve’ve given people in a specific group of girls i don’t like well enough? <|endofprompt|> not the asshole <|endofverdict|> i’ve recently been a shy, insecure. \n",
            "\n",
            "i’m 23 and in the last year of my college, i’ve been very comfortable with people who i am friends with because i have a great sense of humor and it’s funny to see. \n",
            "\n",
            "the reason i don’t think i’m doing this is because i don’t know who’s in the group, and if i were to tell someone i don’t like that, i’d rather people who are not in my opinion about that, or i’m sure people could join that group. i don’t see this as bad of a relationship, but they’re not in it.\n",
            "\n",
            "my parents are always worried that i\n"
          ]
        },
        {
          "output_type": "stream",
          "name": "stderr",
          "text": [
            "Setting `pad_token_id` to `eos_token_id`:50256 for open-end generation.\n"
          ]
        },
        {
          "output_type": "stream",
          "name": "stdout",
          "text": [
            "Batch 29500 of 37512. Loss:1.3493026494979858. Time:1:29:44\n",
            "Example output: aita for telling my mom i didn’t feel comfortable with her taking over more of the house because she’s the one coming <|endofprompt|> asshole <|endofverdict|> my mom has two kids. 2 are both in college. 3 is also the first person i have said anything to her. the youngest of 3 in 5 year olds in her 4 year class, she is getting older now.\n",
            "\n",
            "i want to talk about this more because it’s her house and it’s our responsibility to help her out. \n",
            "\n",
            "i love to do this. this is a house that i’ve seen my mom use. it’s where i live and i don’t go through that much time, because it’s our responsibility to make everyone comfortable for her. (it’s a small town)\n",
            "\n",
            "i want to mention that at some point she has done this too, but for the most part, it’s not something\n"
          ]
        },
        {
          "output_type": "stream",
          "name": "stderr",
          "text": [
            "Setting `pad_token_id` to `eos_token_id`:50256 for open-end generation.\n"
          ]
        },
        {
          "output_type": "stream",
          "name": "stdout",
          "text": [
            "Batch 30000 of 37512. Loss:2.697316884994507. Time:1:31:15\n",
            "Example output: aita for refusing to pay for a plane ticket? <|endofprompt|> asshole <|endofverdict|> last year, we went on a flight from the united states to the united states. i live in the south where europe tickets fly. and then they get there. we get home around 2am, and i come out and the plane tickets are booked. \n",
            "\n",
            "i ask my mom what i can get there before they leave. and she replies that it is a trip that means i won’t be paying for anything. \n",
            "\n",
            "so i tell her i won’t pay $200 since it’s not for me. and she then responds that we can see both her and my brother and the ones in the line. \n",
            "\n",
            "i tell her it’s not a huge deal and then i tell her that i think i’m doing a bad job by refusing. \n",
            "\n",
            "she says i should pay for a plane ticket and i said i will just pay\n"
          ]
        },
        {
          "output_type": "stream",
          "name": "stderr",
          "text": [
            "Setting `pad_token_id` to `eos_token_id`:50256 for open-end generation.\n"
          ]
        },
        {
          "output_type": "stream",
          "name": "stdout",
          "text": [
            "Batch 30500 of 37512. Loss:1.1268267631530762. Time:1:32:47\n",
            "Example output: aita for cutting ties with my family if i can't give a good reason to not forgive them? <|endofprompt|> not the asshole <|endofverdict|> i haven't had a great relationship with them since i was a little kid but i do accept them and it's always been a big fight over a whole day. i think i've always been the one to put down my problems and their way to see things happen and i'm always able to get them off of them and talk to them with my family. however, when my family comes back from work, they are in the living room and just watching tv, and then they're talking loudly. i'm not a confrontational person either because i'm not fond of the idea that they have a big family that only feels like themselves. this whole situation just has been a few days.   \n",
            "\n",
            "i was talking to my mom this morning, and she was about to drop off the groceries for a walk (i have a pretty big heart) i\n"
          ]
        },
        {
          "output_type": "stream",
          "name": "stderr",
          "text": [
            "Setting `pad_token_id` to `eos_token_id`:50256 for open-end generation.\n"
          ]
        },
        {
          "output_type": "stream",
          "name": "stdout",
          "text": [
            "Batch 31000 of 37512. Loss:0.7633959650993347. Time:1:34:19\n",
            "Example output: aita for wanting to be in the hospital? <|endofprompt|> not the asshole <|endofverdict|> hi reddit! so here is what my husband and i need to be clear, \n",
            "\n",
            "&#x200b;\n",
            "\n",
            "last weekend we got from a family that i have a bit of a heart condition. when i started it, i had to be hospitalized, and my heart was weak at the time. i told my husband and his wife about this and she kept saying he was trying to help. apparently when he got back, she got diagnosed with heart failure, and was finally diagnosed with fibromyalgia. \n",
            "\n",
            "&#x200b;\n",
            "\n",
            "he's been a stay at home parent for most of the years. she says she loves him and doesn't really care about him, and thinks of the \"normal\" guy she says that makes it really hard for him. i told her this because i really don't want to leave him and have another daughter in the hospital. i'd\n"
          ]
        },
        {
          "output_type": "stream",
          "name": "stderr",
          "text": [
            "Setting `pad_token_id` to `eos_token_id`:50256 for open-end generation.\n"
          ]
        },
        {
          "output_type": "stream",
          "name": "stdout",
          "text": [
            "Batch 31500 of 37512. Loss:1.4137725830078125. Time:1:35:52\n",
            "Example output: aita for wanting my friend to shut his phone out as she’s broke? <|endofprompt|> not the asshole <|endofverdict|> i recently was a single mother and this friend (lets call him z) has been with this friend (let’s call him james) for about three years now, mostly as we’re both in our mid-30s. z has some issues because he can’t afford his own apartment. he’ll be on disability until i move out. \n",
            "\n",
            "for context, z is currently not working because of disability issues and he has to move into his first bedroom apartment in his own town. it’s just not working for him, he lives in a rental property. \n",
            "\n",
            "now, a little bit of background, z is the sort of person that wants a good house for his own and when he’s broke he has a full time job and he needs a regular roommate to sleep in. (he works part\n"
          ]
        },
        {
          "output_type": "stream",
          "name": "stderr",
          "text": [
            "Setting `pad_token_id` to `eos_token_id`:50256 for open-end generation.\n"
          ]
        },
        {
          "output_type": "stream",
          "name": "stdout",
          "text": [
            "Batch 32000 of 37512. Loss:0.5685951709747314. Time:1:37:24\n",
            "Example output: aita for getting angry and crying while someone else was helping. <|endofprompt|> not the asshole <|endofverdict|> back in february of this year, this person i've been talking to, was helping someone with a story. i told her that she needs to learn how to read the story. she replied that it was because she had been taking a break with her job and it wasn't that bad. \n",
            "\n",
            "now to the problem: my mom is going to her first job so if she was on the phone with someone else, would you know that my mom would also tell me like a ten word answer that i should be okay with it. \n",
            "\n",
            "now, i understand that when i get annoyed and say something i don't understand how it's normal for her to get offended so much, but i'm so concerned that she would think that even though you can't understand that she's just in the process with that and i'm not helping her. \n",
            "\n",
            "am i being wrong or\n"
          ]
        },
        {
          "output_type": "stream",
          "name": "stderr",
          "text": [
            "Setting `pad_token_id` to `eos_token_id`:50256 for open-end generation.\n"
          ]
        },
        {
          "output_type": "stream",
          "name": "stdout",
          "text": [
            "Batch 32500 of 37512. Loss:1.9866448640823364. Time:1:38:54\n",
            "Example output: aita for not wanting to let my mom stay on holiday while my mom's boyfriend works late? <|endofprompt|> not the asshole <|endofverdict|> to add, we moved in 3 months ago and my grandma's father still lives with her. \n",
            "my mom's boyfriend and i met after we moved in, but i couldn't keep seeing them, so when he got back and she moved back, he asked me who i wanted to move in with him, to help him move his stuff into a place to pay for some things he didn't want, so i asked a friend i would bring back once we had a chance. we agreed and they agreed to do a half hour drive home. i also took a long trip from the country a couple months ago to meet new friends. \n",
            "\n",
            "i asked my grandma, who said she was gonna come visit him, but we agreed that she could stay the night at his place for the night (i know that would sound mean, but my cousin doesn't talk\n"
          ]
        },
        {
          "output_type": "stream",
          "name": "stderr",
          "text": [
            "Setting `pad_token_id` to `eos_token_id`:50256 for open-end generation.\n"
          ]
        },
        {
          "output_type": "stream",
          "name": "stdout",
          "text": [
            "Batch 33000 of 37512. Loss:1.3815542459487915. Time:1:40:25\n",
            "Example output: wibta for asking my boyfriend to stop getting into the bathroom asap? <|endofprompt|> not the asshole <|endofverdict|> my boyfriend and i have been together for almost a year and have always been fairly close. he knows i’m not the asshole in this situation but i want to know if i’m an asshole for asking my boyfriend to stop getting into the bathroom while i'm doing so? <|eok|> wibta,stop getting,asking,bathtub,boyfriend\n"
          ]
        },
        {
          "output_type": "stream",
          "name": "stderr",
          "text": [
            "Setting `pad_token_id` to `eos_token_id`:50256 for open-end generation.\n"
          ]
        },
        {
          "output_type": "stream",
          "name": "stdout",
          "text": [
            "Batch 33500 of 37512. Loss:1.317849040031433. Time:1:41:55\n",
            "Example output: aita for yelling at my boyfriend about his phone? <|endofprompt|> asshole <|endofverdict|> my boyfriend (18m) and i (21f) have been together for about 8 years.  since i met him, we've had a hard time communicating on my phone. i never really thought much about it at first because i'm just very shy and i don't know how to say things (he knows me well and i'm on top of most of it) but that changed when i met him.\n",
            "\n",
            " he doesn't trust me and talks about me to me because he doesn't know how to feel. so on and so on, i've just taken it upon himself to tell him to turn down his phone.  he didn't really talk, but he did talk to me later.  he says he doesn't like it and we can't really talk. i apologize, which i understand, but i really didn't want the phone anymore.\n",
            "\n",
            " now i feel really guilty. i've been\n"
          ]
        },
        {
          "output_type": "stream",
          "name": "stderr",
          "text": [
            "Setting `pad_token_id` to `eos_token_id`:50256 for open-end generation.\n"
          ]
        },
        {
          "output_type": "stream",
          "name": "stdout",
          "text": [
            "Batch 34000 of 37512. Loss:1.166658878326416. Time:1:43:26\n",
            "Example output: aita for not wanting to listen to my neighbor's \"dumb\" problems? <|endofprompt|> asshole <|endofverdict|> so i live on a duplex. my neighbor's new house is not my property, so there's no reason to take the duplex without permission. i've been living here since i moved in but, due to my \"humb\" situation, i'm not making any progress at all. i've been in there over the past two years, but i'd never had the chance to be a part of the family. my neighbor also has a very nasty one that i'm friendly and friendly with. i can't ask to move out unless we get a place to stay. i work and will be able to move out in a few weeks. i don't really want to ask my parents, their fiance or sister to give me over here. it's only been a few months now and i just want to let it go without being seen again as it's really been bothering me\n"
          ]
        },
        {
          "output_type": "stream",
          "name": "stderr",
          "text": [
            "Setting `pad_token_id` to `eos_token_id`:50256 for open-end generation.\n"
          ]
        },
        {
          "output_type": "stream",
          "name": "stdout",
          "text": [
            "Batch 34500 of 37512. Loss:3.1343843936920166. Time:1:44:58\n",
            "Example output: aita for letting my son stay at my house after his shift got done? <|endofprompt|> not the asshole <|endofverdict|> my mom is a narcissist and has been since she was 6. she has recently gotten pregnant and wants to stay in her room until next year's. \n",
            "\n",
            "she's offered to spend an hour at my house but i refuse because she is afraid i will come home. she has moved away from home and when she gets a job she will work from home, as it is cheaper.\n",
            "\n",
            "last year she moved out to another state with my family and i work from home, where she said she would be staying after the month, but this weekend she asked if i could help out with her son and stay at her house with him. i don't really want to spend the week helping out financially, as i do my own house. i asked if her sister asked me to help him out at night, as she is a very busy college student, because i have to work\n"
          ]
        },
        {
          "output_type": "stream",
          "name": "stderr",
          "text": [
            "Setting `pad_token_id` to `eos_token_id`:50256 for open-end generation.\n"
          ]
        },
        {
          "output_type": "stream",
          "name": "stdout",
          "text": [
            "Batch 35000 of 37512. Loss:1.370507836341858. Time:1:46:30\n",
            "Example output: aita for calling out my bf? <|endofprompt|> not the asshole <|endofverdict|> so me and my bf are in an argument over something he doesn't know. i brought my boyfriend into work and he was rude to me when he got home from work. i called him out for being rude to me that his mom couldn't come with me and he started crying when i went upstairs and we were having a blast. so i told him to leave me alone. he told me that he'll call the bell bell bell for me as an apology.\n",
            "\n",
            "so i called him out again and he told me that he is just gonna call the bell and yell. i told him that if he didn't give me an apology that that he was mean. he said that's an asshole move of me that i didn't have any remorse for. my bf is still upset and i think i might have. i also feel like he's selfish to call the bell for me so why not say something else\n"
          ]
        },
        {
          "output_type": "stream",
          "name": "stderr",
          "text": [
            "Setting `pad_token_id` to `eos_token_id`:50256 for open-end generation.\n"
          ]
        },
        {
          "output_type": "stream",
          "name": "stdout",
          "text": [
            "Batch 35500 of 37512. Loss:1.176223635673523. Time:1:48:03\n",
            "Example output: aita for getting mad at my boyfriend after he kept asking me to do something else? <|endofprompt|> asshole <|endofverdict|> throwaway so my first post on here.\n",
            "\n",
            "so the day before my boyfriend went to get something for dinner, i got mad at him and he said something about how he wanted to go pick out a table or something, i didn't want him to give it to me, so i stayed the night with him. this wasn't a fancy thing to do, we're both in university and he was a bit of a dumb dumb kid that had a bad head, the rest of the night he didn't even ask me. i just stayed with him, stayed to have dinner and stayed in the car. i have no idea if he's being a jerk, i didn't yell or anything, he just didn't ask me, and i don't think he was dumb for it.\n",
            "\n",
            "so, about a week ago, i talked to his friends about it, and\n"
          ]
        },
        {
          "output_type": "stream",
          "name": "stderr",
          "text": [
            "Setting `pad_token_id` to `eos_token_id`:50256 for open-end generation.\n"
          ]
        },
        {
          "output_type": "stream",
          "name": "stdout",
          "text": [
            "Batch 36000 of 37512. Loss:1.2590028047561646. Time:1:49:34\n",
            "Example output: aita for calling my friend rude? <|endofprompt|> asshole <|endofverdict|> hey guys,\n",
            "i have a new friend, let’s call him sam. recently i found myself in an odd situation and i called him. i’ve had to make friends with him for a bit before our groupchat went on a rant about him and how he was a dick for not wanting to make friends with me (he’s a dick about every other thing). \n",
            "\n",
            "however, i’ve been friends with them a little while. he didn’t say anything, and after a few minutes of talking and talking, we decided he just wanted to make friends. i told him it was just some of his personality and to call me a dick. he went back and forth a bit and it did feel like i needed to know if he was being rude. i explained what had happened to him since he got mad at me over text. i felt that i made a mistake\n"
          ]
        },
        {
          "output_type": "stream",
          "name": "stderr",
          "text": [
            "Setting `pad_token_id` to `eos_token_id`:50256 for open-end generation.\n"
          ]
        },
        {
          "output_type": "stream",
          "name": "stdout",
          "text": [
            "Batch 36500 of 37512. Loss:1.5360453128814697. Time:1:51:05\n",
            "Example output: aita for snapping at my friends at a party when they aren’t? <|endofprompt|> asshole <|endofverdict|> for context, i’m a junior in high school. we go to the same school, and i can’t exactly say this because i’m extremely extverted. i don’t particularly like to do anything about my friends when they try to tell me to do things that i don’t particularly like. i often do things that hurt others feelings about it, and they still like to do it. i’m always polite about it, but recently one of my friends recently told me that he wants to do something that doesn’t make me feel guilty about it. he thinks we’re being mean to each other because it seems like “this is a joke, i’m just trying to share your feelings, and if you want to, you have to respect them. if you feel anything doesn’t go\n"
          ]
        },
        {
          "output_type": "stream",
          "name": "stderr",
          "text": [
            "Setting `pad_token_id` to `eos_token_id`:50256 for open-end generation.\n"
          ]
        },
        {
          "output_type": "stream",
          "name": "stdout",
          "text": [
            "Batch 37000 of 37512. Loss:0.9690199494361877. Time:1:52:37\n",
            "Example output: aita for telling my friend i just don't care about her boyfriend? <|endofprompt|> asshole <|endofverdict|> so i (m15) have been friends with this girl (f17). i met this girl one month ago. we talked and i ended up talking about getting engaged and we started talking. she was super supportive of me, we talked to her a lot, etc. then she started calling me a liar, etc. so i asked her to be interested and she said no. then we started talking again. i kept on talking. after she stopped saying anything. \n",
            "\n",
            "so at the same time, it was just another night. when i asked her about her boyfriend she said, \"we were talking about it\". she said that she wasn't thinking of doing anything but to not see her boyfriend anymore. after i asked her, she started telling me that she felt more comfortable with me talking about her boyfriend and told me that she didn't want her to go back and focus on me\n"
          ]
        },
        {
          "output_type": "stream",
          "name": "stderr",
          "text": [
            "Setting `pad_token_id` to `eos_token_id`:50256 for open-end generation.\n"
          ]
        },
        {
          "output_type": "stream",
          "name": "stdout",
          "text": [
            "Batch 37500 of 37512. Loss:2.5412752628326416. Time:1:54:08\n",
            "Example output: aita for not wanting to visit my best friend’s family? <|endofprompt|> asshole <|endofverdict|> my best friend told me to go on a trip with his family to visit them when we’re not together,  that was not cool, it could be them if we were with them too.\n",
            "\n",
            "my family is a lot of people and it’s not an issue. i’ve been seeing my friend since a few years and we had a few reasons: he’s a new girlfriend and i have never seen him.\n",
            "\n",
            "the thing is, i have no problem visiting my family.\n",
            "\n",
            "i live with them, they’re nice and nice people but i get to know them quite often so i do not want to see them anymore.\n",
            "\n",
            "we were having a small weekend which was the only thing i can afford. it wasn’t anything big like that since we were just hanging out together and we only got to see them for\n",
            "Average Training Loss: 1.7827486782498605. Epoch time: 1:54:12\n",
            "Validation loss: 1.6499137136334192. Validation Time: 0:00:50\n",
            "Beginning epoch 2 of 3\n"
          ]
        },
        {
          "output_type": "stream",
          "name": "stderr",
          "text": [
            "Setting `pad_token_id` to `eos_token_id`:50256 for open-end generation.\n"
          ]
        },
        {
          "output_type": "stream",
          "name": "stdout",
          "text": [
            "Batch 500 of 37512. Loss:2.851598024368286. Time:0:01:29\n",
            "Example output: aita for being concerned about a woman making me pay my phone bill? <|endofprompt|> asshole <|endofverdict|> long story short, i got a text from her asking why she left it on my phone so i could take it off. it basically made me really uncomfortable about this point, i asked her if it was a \"joke\" and she responded that she wanted it to be a joke. so aita for being bothered by this and being bothered?\n",
            "\n",
            "edit: thank you all for your advice, i'm sure it was a very low cut and i thought you would think i was an asshole. i was not going to throw the card back away. i was just being bothered by the fact that you guys gave me the cold shoulder, it was a joke so not to offend anyone. <|eok|> phone bill,aita,woman making,pissed,comfortable\n"
          ]
        },
        {
          "output_type": "stream",
          "name": "stderr",
          "text": [
            "Setting `pad_token_id` to `eos_token_id`:50256 for open-end generation.\n"
          ]
        },
        {
          "output_type": "stream",
          "name": "stdout",
          "text": [
            "Batch 1000 of 37512. Loss:1.0285899639129639. Time:0:03:01\n",
            "Example output: aita for telling my friends not to get my dna shit from them because i found them funny? <|endofprompt|> asshole <|endofverdict|> so, some of my friends (including them, not me, not me) got me dna shit from my bf on snapchat, i was super excited so i said “look look, he’s a lot bigger than me” and they said “your good for me” which i responded with: “i can call you daddy daddy daddy and daddy but my bf was dumb for it so he isn’t a shit father or anything”\n",
            "\n",
            "\n",
            "they looked really surprised and i’ve been wondering if it’s fair because if they were all the same, why didn’t they just laugh? <|eok|> gave,telling,friend,dna shit,joking,possible\n"
          ]
        },
        {
          "output_type": "stream",
          "name": "stderr",
          "text": [
            "Setting `pad_token_id` to `eos_token_id`:50256 for open-end generation.\n"
          ]
        },
        {
          "output_type": "stream",
          "name": "stdout",
          "text": [
            "Batch 1500 of 37512. Loss:1.8377933502197266. Time:0:04:33\n",
            "Example output: aita for wanting my bf to cut off communication with his family? <|endofprompt|> not the asshole <|endofverdict|> so as of late october i (f26) met my boyfriend (m26) in college. we started dating around late october. i met his family at the beginning of august and we ended up going home for spring break/break (we are out of town so college kids and weekends are not important).\n",
            "\n",
            "fast forward to august. he lives with his mom for the rest of the summer due to some financial problems. in addition to being stressed and trying to start a family, we have been working on that for a bit as of june. we were trying very hard on the relationship and i feel very guilty over the amount of drama that she's put us through. i have also had some family issues in the past. \n",
            "\n",
            "i don't exactly want to start a family, but it's important to know we have a lot going on when our\n"
          ]
        },
        {
          "output_type": "stream",
          "name": "stderr",
          "text": [
            "Setting `pad_token_id` to `eos_token_id`:50256 for open-end generation.\n"
          ]
        },
        {
          "output_type": "stream",
          "name": "stdout",
          "text": [
            "Batch 2000 of 37512. Loss:1.1740885972976685. Time:0:06:05\n",
            "Example output: aita for telling my boyfriend of 7 months he wasnt about me sleeping over? <|endofprompt|> not the asshole <|endofverdict|> throwaway because my boyfriend knows my main\n",
            "\n",
            "&#x200b;\n",
            "\n",
            "let me give the context. i know how badly i've felt recently, though i've had some serious mental health issues. i've suffered from ptsd, ptsd, and anxiety, and ptsd so i've been doing some pretty good stuff. i have not slept much over since i was a baby (which it's not that long story)\n",
            "\n",
            "&#x200b;\n",
            "\n",
            "this isnt a story of mine going on. i've struggled with a lot of ptsd and ptsd, but i can't talk about that on any of my own.  \n",
            "\n",
            "&#x200b;\n",
            "\n",
            "i had a long-term boyfriend with benefits, so i decided to give up and let him go, as he does not like me sleeping over.\n"
          ]
        },
        {
          "output_type": "stream",
          "name": "stderr",
          "text": [
            "Setting `pad_token_id` to `eos_token_id`:50256 for open-end generation.\n"
          ]
        },
        {
          "output_type": "stream",
          "name": "stdout",
          "text": [
            "Batch 2500 of 37512. Loss:2.3035964965820312. Time:0:07:37\n",
            "Example output: wibta if i asked my (27f) mother to pay half of my tuition and other tuition? <|endofprompt|> not the asshole <|endofverdict|> for context, i’m in a relationship with my parents who are divorced.  they divorced when i was in 4th grade, and had a couple of grandchildren in a different state.  after high school my grandmother had been diagnosed with breast cancer, and it went to live with my parents for a while.  that year my parents and my father divorced, which has devastated me, because i’m a grown man.  my mother still has a stable job, and i was raised to believe she was in the right.  i think she’s an excellent woman and has great education, but she seems to resent my grandparents for my upbringing.  she always tells me how she misses them.\n",
            "  every time we talk she feels guilty about trying to hide them from me.  i understand this and feel conflicted about this as\n"
          ]
        },
        {
          "output_type": "stream",
          "name": "stderr",
          "text": [
            "Setting `pad_token_id` to `eos_token_id`:50256 for open-end generation.\n"
          ]
        },
        {
          "output_type": "stream",
          "name": "stdout",
          "text": [
            "Batch 3000 of 37512. Loss:1.091902256011963. Time:0:09:10\n",
            "Example output: aita for breaking up with my girlfriend because of a relationship? <|endofprompt|> asshole <|endofverdict|> i’m 16 and my girlfriend is 16. she always has been super into me but i used to be a bit distant to my family from that time (until yesterday) when she was with my grandfather. she’s always gone on the same level of platonic. sometimes she does flirt in class with girls and it doesn’t bother me so i told her that i didn’t think it was any different and she insisted that i have a “relationship” and my family was a couple. the past couple of weeks she also had me on her phone, i started going to her place where they were on an app for watching a show. last night she asked me how i was doing, i told her that i wasn’t busy with work and asked her why i got on the phone and asked if i wanted to talk to her again. i told\n"
          ]
        },
        {
          "output_type": "stream",
          "name": "stderr",
          "text": [
            "Setting `pad_token_id` to `eos_token_id`:50256 for open-end generation.\n"
          ]
        },
        {
          "output_type": "stream",
          "name": "stdout",
          "text": [
            "Batch 3500 of 37512. Loss:1.0574537515640259. Time:0:10:41\n",
            "Example output: wibta for suggesting to my girlfriend i don't like how she treats me? <|endofprompt|> asshole <|endofverdict|> throwaway account since she knows my main one.\n",
            "\n",
            "so we (me and my girlfriend) have been together for two years now. we're both in university and live out of town. we've been together for 10 years and been together for 2. in the past i've been the one to pick our fights pretty often. i've known her for years and this is something that we have bonded over. we're in our mid 30s and are moving closer to working adults. our agreement is that we'll move up there within the time we find a good living situation. \n",
            "\n",
            "however, we've gotten on to the point that we have a lot more responsibilities than we do, including cleaning up after the house for the holidays. the main issue is that our parents (both mid 20s), and myself tend to become spoiled, when i go to school. we\n"
          ]
        },
        {
          "output_type": "stream",
          "name": "stderr",
          "text": [
            "Setting `pad_token_id` to `eos_token_id`:50256 for open-end generation.\n"
          ]
        },
        {
          "output_type": "stream",
          "name": "stdout",
          "text": [
            "Batch 4000 of 37512. Loss:1.794264316558838. Time:0:12:13\n",
            "Example output: aita for telling an old friend i think they've got sex? <|endofprompt|> asshole <|endofverdict|> this happened two months ago but i feel it's gotten to a bit of a point where i feel like a dick for wanting to know.\n",
            "\n",
            "so my good friend has a close relationship with one of my former roommates. we became close as friends through the months. during my first day of college, he asked me for the same sex as her and she agreed. we're in classes together, and during our first day, i asked her if she'd like the whole way. she said she'd do it next year. i'm kind of shy and i don't know what to do. i didn't say anything explicit but i thought this was a bit weird and i feel like maybe they didn't want to put pressure on me. i didn't say anything so we're just friends. \n",
            "\n",
            "after the summer, i found out that his gf is pregnant. he was ecstatic\n"
          ]
        },
        {
          "output_type": "stream",
          "name": "stderr",
          "text": [
            "Setting `pad_token_id` to `eos_token_id`:50256 for open-end generation.\n"
          ]
        },
        {
          "output_type": "stream",
          "name": "stdout",
          "text": [
            "Batch 4500 of 37512. Loss:2.2727532386779785. Time:0:13:43\n",
            "Example output: aita for throwing out someone? <|endofprompt|> not the asshole <|endofverdict|> this guy is really nice and we’re friends, i’ve met him before. i love him and i honestly love him so i have a lot of resentment towards him. \n",
            "\n",
            "he had two girlfriends and he is very attractive, but she also cheated on both of them. it was a bad start because he was dating this girl and i felt bad for him, but i wanted him back. i know he is very attractive and they have an absolutely great relationship but it felt like he was just rubbing this all off so the whole situation was too much work. \n",
            "\n",
            "now it’s my turn to break up with him and i’m still trying to get over our things because i think he’s being a jerk. i understand that he deserves to know that i’m sorry for having feelings for him. and that i can’t trust him. \n",
            "\n",
            "\n"
          ]
        },
        {
          "output_type": "stream",
          "name": "stderr",
          "text": [
            "Setting `pad_token_id` to `eos_token_id`:50256 for open-end generation.\n"
          ]
        },
        {
          "output_type": "stream",
          "name": "stdout",
          "text": [
            "Batch 5000 of 37512. Loss:1.2587625980377197. Time:0:15:15\n",
            "Example output: aita for saying that the baby is mine? <|endofprompt|> asshole <|endofverdict|> i live in new york city. most people in the us are from out of town, or far from work. there are very few new york city employees. i was sitting in the car when the mother came to my building. i was talking to my wife to come over to my house and explain the rules of the car i was parking in was my name, so she could get to her place, then she went for a smoke. i said to her how it's mine, and that's what she can do. she walked out to smoke and left to go go home. she got a call from my other vehicle. she texted me back saying that she wasn't sure how to make sure that i was there. she called me in my face, asked why i was here, etc. i said that she was mine. then she came back the next day, and we got into the car. she\n"
          ]
        },
        {
          "output_type": "stream",
          "name": "stderr",
          "text": [
            "Setting `pad_token_id` to `eos_token_id`:50256 for open-end generation.\n"
          ]
        },
        {
          "output_type": "stream",
          "name": "stdout",
          "text": [
            "Batch 5500 of 37512. Loss:0.6246148943901062. Time:0:16:46\n",
            "Example output: wibta for asking my boyfriend to not let my ex know of my baby? <|endofprompt|> asshole <|endofverdict|> edit: he got me pregnant with our first child. he’s a great person and my gf’s family aren’t super close. we have been divorced since we were 20 and we were both excited for our own baby. we got to the conclusion at the time of the decision and i got more serious with this later that night. the relationship between me and my gf became “official” for me and we have been dating for a bit over a year and a half. \n",
            "\n",
            "he gets married a couple of months away, and he starts telling me about his ex-girlfriend. this is where things go downhill. he’s been an alcoholic in her life for most of our life and in some way it got out of hand for her and my gf. that’s not really a big detail. \n",
            "\n",
            "\n"
          ]
        },
        {
          "output_type": "stream",
          "name": "stderr",
          "text": [
            "Setting `pad_token_id` to `eos_token_id`:50256 for open-end generation.\n"
          ]
        },
        {
          "output_type": "stream",
          "name": "stdout",
          "text": [
            "Batch 6000 of 37512. Loss:2.903585195541382. Time:0:18:17\n",
            "Example output: aita for having a roommate i met at a wedding? <|endofprompt|> asshole <|endofverdict|> my roommate invited me over to her wedding today (monday-friday) and i accepted that and went. we have been together for 9 months and were just starting a new relationship. however, it has happened in the past which she’ll be attending the wedding, which means the wedding is the same weekend as her wedding. my roommate has already been having issues regarding the wedding being on friday and me agreeing to help her attend her wedding without me. i think she’s being a bit dramatic about not wanting to go as she mentioned it in the past and it’s making me feel guilty. i don’t want to upset her at all so aita for agreeing to help her go on the weekend? i still think i need to consider our friendship and should i just suck it up and not go as much if i didn’t? <|eok|> wedding,\n"
          ]
        },
        {
          "output_type": "stream",
          "name": "stderr",
          "text": [
            "Setting `pad_token_id` to `eos_token_id`:50256 for open-end generation.\n"
          ]
        },
        {
          "output_type": "stream",
          "name": "stdout",
          "text": [
            "Batch 6500 of 37512. Loss:1.0525994300842285. Time:0:19:48\n",
            "Example output: aita for yelling at my friend? <|endofprompt|> not the asshole <|endofverdict|> i am a 16f. this happened a couple of months ago. \n",
            "\n",
            "basically i have a group of friends i met at university, we'll call them han (18f). we've all graduated together and i have been trying to make friends. \n",
            "\n",
            "this one is important to this story, i'm 15f. han works in a warehouse and is an accountant. he's in a position where his ex has to make an occasional allowance, so they never go out of their way to visit. we're on the same page about getting together (he has to do all the travel to visit) and i tell them how that's how it works in the warehouse. han laughs it off and asks if he can go because he feels bad that his ex is doing everything.\n",
            "\n",
            "i tell him to just wait because it's fine. he says, \"well you need to go somewhere\n"
          ]
        },
        {
          "output_type": "stream",
          "name": "stderr",
          "text": [
            "Setting `pad_token_id` to `eos_token_id`:50256 for open-end generation.\n"
          ]
        },
        {
          "output_type": "stream",
          "name": "stdout",
          "text": [
            "Batch 7000 of 37512. Loss:1.4969769716262817. Time:0:21:18\n",
            "Example output: aita for refusing to pay for my family's new dog? <|endofprompt|> not the asshole <|endofverdict|> so i’m getting a new dog. about the second of october she had a heart attack. she has to be put down very often and they're already getting the ball rolling on her for the rest of her life. i have always wanted a dog but recently i’ve decided i need to pay. i also have another dog that i love as a family. so last week i told my family i don’t have the money to buy an animal like that. they have a 4 year old mixed breed cat that’s roughly 5 years old but in a large, healthy, energetic and well behaved manner.  i also told them in advance when they were asking for me to come and buy them a house as well (they had a new dog around the same time as me, but i have no doubt that they would be ok with that because they’re\n"
          ]
        },
        {
          "output_type": "stream",
          "name": "stderr",
          "text": [
            "Setting `pad_token_id` to `eos_token_id`:50256 for open-end generation.\n"
          ]
        },
        {
          "output_type": "stream",
          "name": "stdout",
          "text": [
            "Batch 7500 of 37512. Loss:0.8152910470962524. Time:0:22:50\n",
            "Example output: wibta if i (21f) cut off a friend (18f) after his gf cheated on him last year after he got out of a long-distance relationship? <|endofprompt|> not the asshole <|endofverdict|> so i have this friendship with my gf's long-distance gf who we'll call mia.\n",
            "\n",
            "&#x200b;\n",
            "\n",
            "mia is very good friends with mia. mia is very nice to be around in my house. i've been in a relationship for about 6 years now and she was the one who gave me the impression that i was the one who broke the deal, which is the gist. it's been about 2 years since we were even officially officially dating. since then i've noticed mia's behavior very weird. she looks like a typical typical, straight-eye woman and looks very different than i do.\n",
            "\n",
            "&#x200b;\n",
            "\n",
            "my family are pretty close friends and she's pretty much one\n"
          ]
        },
        {
          "output_type": "stream",
          "name": "stderr",
          "text": [
            "Setting `pad_token_id` to `eos_token_id`:50256 for open-end generation.\n"
          ]
        },
        {
          "output_type": "stream",
          "name": "stdout",
          "text": [
            "Batch 8000 of 37512. Loss:0.5484967231750488. Time:0:24:21\n",
            "Example output: aita if i don't take a student's bus <|endofprompt|> asshole <|endofverdict|> so for the bus, i have a group of 4.  so i don't know the exact amount of money but there's a 3 bus station in this village where i have had a few problems.  there's a huge bus park near a park.  since there are multiple bus stops, i'll take them.  i don't know what you'll get there until you get home.  the bus is just 45 minutes away.  i don't know how long the bus will take and i don't want to risk it for something like that.  it takes way to get there.\n",
            "\n",
            "then when we get back, a professor sits by us on his phone and tells us to take the bus, as well as some kind of attention.  he gets a bus from his seat directly across the road from us.  i don't know what to ask.  he asks if i take the\n"
          ]
        },
        {
          "output_type": "stream",
          "name": "stderr",
          "text": [
            "Setting `pad_token_id` to `eos_token_id`:50256 for open-end generation.\n"
          ]
        },
        {
          "output_type": "stream",
          "name": "stdout",
          "text": [
            "Batch 8500 of 37512. Loss:1.2958593368530273. Time:0:25:53\n",
            "Example output: wibta if i asked someone not to bring a friend to our friend's wedding? <|endofprompt|> not the asshole <|endofverdict|> okay so i'm going to be a little bit short about it, but i'll post more detail later.\n",
            "\n",
            "so a few years ago one of my friends, lina, was asked to work a wedding after finishing high school. she's also got her diploma in law. she has a degree in law in law so it's a bit hard to find a friend.\n",
            "\n",
            "when she got it, i took a little bit of a interest in her. she was really into me and i started talking to her quite a bit. then things were gonna escalate to me talking about getting married and stuff so i mentioned our friends and acquaintances who were invited. \n",
            "\n",
            "well it got awkward with me for some time. for some reason, i would ask lina and friends to bring her to our friend group to which she would invite me. i asked lina\n"
          ]
        },
        {
          "output_type": "stream",
          "name": "stderr",
          "text": [
            "Setting `pad_token_id` to `eos_token_id`:50256 for open-end generation.\n"
          ]
        },
        {
          "output_type": "stream",
          "name": "stdout",
          "text": [
            "Batch 9000 of 37512. Loss:1.9973770380020142. Time:0:27:25\n",
            "Example output: aita for telling my husband we don't want him sleeping at my house? <|endofprompt|> not the asshole <|endofverdict|> i (50 f) and my husband (37 m) have never had the best relationship. i always had a rough relationship with my husband, but ever since i went to college with him he only ever went to football (to our hometown) and went to a football track/coaching game. this was a year ago, when i was younger and he was a senior in high school.\n",
            "\n",
            "the first time i saw him i always thought that he was the biggest asshole. i always got on my nerves and asked my husband why he went out with a bunch of other friends that night. my husband never said he didn't like any of it and just kept acting like a loser because \"he's so smart and we should stop hanging out if he wanted\" and i told him we weren't comfortable with our relationship anymore so we kept him from seeing his friends.\n",
            "\n",
            "i\n"
          ]
        },
        {
          "output_type": "stream",
          "name": "stderr",
          "text": [
            "Setting `pad_token_id` to `eos_token_id`:50256 for open-end generation.\n"
          ]
        },
        {
          "output_type": "stream",
          "name": "stdout",
          "text": [
            "Batch 9500 of 37512. Loss:0.73924320936203. Time:0:28:56\n",
            "Example output: aita for wanting my sister to leave the apartment building? <|endofprompt|> asshole <|endofverdict|> background info:\n",
            "\n",
            "\n",
            "so my sister and i have a rocky relationship and her husband does not respect our relationship and has said that he doesn't want to ever look at us or our lives anymore, although he's not in a position to comment or demand anything in any way.\n",
            "\n",
            "so we live in a house in a house i live in, with 5 doors, the kitchen on the floor and the bedroom upstairs (we've been sharing since the start of the lease). we've lived together for a year and a half and have a son together. we do have the same goals of living together but don't want to be married, but my husband and i work so hard so hard. so this leads to this story: my sister came down to my husband and his wife in the house when i was living downstairs, i told them about a while ago that the boyfriend was in the apartment, so they\n"
          ]
        },
        {
          "output_type": "stream",
          "name": "stderr",
          "text": [
            "Setting `pad_token_id` to `eos_token_id`:50256 for open-end generation.\n"
          ]
        },
        {
          "output_type": "stream",
          "name": "stdout",
          "text": [
            "Batch 10000 of 37512. Loss:2.203026533126831. Time:0:30:28\n",
            "Example output: aita for not wanting to meet my friends? <|endofprompt|> not the asshole <|endofverdict|> as soon as i'm done with being the outsider, i'll move on.\n",
            "\n",
            "when we were younger (18 or 14) my closest friend started to meet a woman. we drifted a bit and became pretty much equal. she's known to say \"you can't see her on any of your social media\" and \"what? you're the weirdo\"? everytime she spoke to her she would remind me of their relationship. it's like this.\n",
            "\n",
            "anyhow, over the last 6 months or so my \"friends\" have known that i'm not attracted to the other girls. they know i'm dating her, and the thought of them meeting someone when i was younger really put me off. one of them even made a post saying \"this isn't fair\" and i asked her if she knew i dated someone who wasn't my friend. so i responded with \"yes, i do,\n"
          ]
        },
        {
          "output_type": "stream",
          "name": "stderr",
          "text": [
            "Setting `pad_token_id` to `eos_token_id`:50256 for open-end generation.\n"
          ]
        },
        {
          "output_type": "stream",
          "name": "stdout",
          "text": [
            "Batch 10500 of 37512. Loss:1.8535351753234863. Time:0:31:59\n",
            "Example output: aita for being uncomfortable my mom comes over sometimes to visit the family? <|endofprompt|> not the asshole <|endofverdict|> a little bit of background, my moms family consists of 7 families, but my brother and his wife are a couple of weeks away. i'm really close to them too. however, i'm always the type of person who always tries to stay organized or talk to my parents, which means that i get pretty close to these people every now and then. however, in a week, my mom has been visiting one family member (call her k). i'm not so happy about it, but i'm not sure exactly what to do for them.\n",
            "\n",
            "a few weeks back k and i were in their town, but she went to stay until 3:00, so i don't really talk to her, but she was staying while i got dinner (the night before) and was having some dinner. the night before, my mom goes and tells me she'll be staying (a lot\n"
          ]
        },
        {
          "output_type": "stream",
          "name": "stderr",
          "text": [
            "Setting `pad_token_id` to `eos_token_id`:50256 for open-end generation.\n"
          ]
        },
        {
          "output_type": "stream",
          "name": "stdout",
          "text": [
            "Batch 11000 of 37512. Loss:1.067837119102478. Time:0:33:30\n",
            "Example output: wibta if i tell my husband's mother he's using money from the money i inherited? <|endofprompt|> asshole <|endofverdict|> husband and i split 3 months ago. i'm in grad school, which pays off very little to us. however, my finances have become extremely tight and i'm starting to worry i'll eventually be able to go back to school. we still work, rent, utilities, bills, paycheck account, and pay everything off together (except rent) because he works long hours. recently, i've been going to grad school and doing grad school. today, he asked me to pay his portion of rent and bills for the day, and i said sure, and then told him that he would pay his part for everything (mostly utilities, water, gas, gas, etc) and that we couldn't get any more income from that month. he replied \"oh, yeah. what's your deal?\" and i answered that he was using money from the money i owed from\n"
          ]
        },
        {
          "output_type": "stream",
          "name": "stderr",
          "text": [
            "Setting `pad_token_id` to `eos_token_id`:50256 for open-end generation.\n"
          ]
        },
        {
          "output_type": "stream",
          "name": "stdout",
          "text": [
            "Batch 11500 of 37512. Loss:1.7224271297454834. Time:0:35:00\n",
            "Example output: aita for telling our dad i was pregnant? <|endofprompt|> asshole <|endofverdict|> so my dad was not on speaking terms with me. my family has a rocky relationship and when i am around him my sisters (f 17 and 15) have made out that they would never date me and he is very against this kind of behavior. we never really had a relationship where we would always argue and they would constantly talk about me being pregnant and not wanting my sons future so whatever. it would always make my sister sad and sad, especially because she lives with me and my dad but doesn't need any help. when i was pregnant we went in together and we got a vasectomy and we ended up going back together.\n",
            "\n",
            "since then and i haven't been able to go out for her thanksgiving but when she gets over the moon and we all hang out together we do. my siblings and i have done everything for her. she comes to me to comfort me and sometimes my dad will not stop talking\n"
          ]
        },
        {
          "output_type": "stream",
          "name": "stderr",
          "text": [
            "Setting `pad_token_id` to `eos_token_id`:50256 for open-end generation.\n"
          ]
        },
        {
          "output_type": "stream",
          "name": "stdout",
          "text": [
            "Batch 12000 of 37512. Loss:1.6100748777389526. Time:0:36:31\n",
            "Example output: aita for being mad at my fiancé because i’m not allowed to make my own food, or eat a cup of water my mom made? <|endofprompt|> asshole <|endofverdict|> so, my fiancé and i were talking and getting drunk.  i’m going to start this by saying that we both have large savings, which i am paying for and that we share a car with our roommates.  i told my fiancé that the reason i can’t afford to have my own food is because of my mental health issues, which also includes depression.  he said if he has to help me with food, which was no big deal, he shouldn’t worry about me having it.  so basically aita for being angry with him? <|eok|> aita,allowed,make,’,mad,mush,pup,drink,dad made,fiancé\n"
          ]
        },
        {
          "output_type": "stream",
          "name": "stderr",
          "text": [
            "Setting `pad_token_id` to `eos_token_id`:50256 for open-end generation.\n"
          ]
        },
        {
          "output_type": "stream",
          "name": "stdout",
          "text": [
            "Batch 12500 of 37512. Loss:1.34514319896698. Time:0:38:03\n",
            "Example output: aita for being hurt that my roommate wanted a new bed instead of his \"one week notice\" after he changed his mind <|endofprompt|> not the asshole <|endofverdict|> some background, i rent a 2 bed 2 bed 2 bathroom, and he has 2 cats. he decided to have a new bed which was an issue but i agreed to it because the reason why he wanted it was the only reason why i needed to be able to move it. i was the one that was moving it (i was also the one that was moving it), i was asked to come and i did. when i moved it, i didn't really care too much, but since he hadn't said anything, he is the asshole for having such a different opinion. \n",
            "\n",
            "my reasoning is i want the new bed, i don't like it either. i have said i want the other beds too but it isn't going to be the only way for me to move my current bed. i have also said i really want\n"
          ]
        },
        {
          "output_type": "stream",
          "name": "stderr",
          "text": [
            "Setting `pad_token_id` to `eos_token_id`:50256 for open-end generation.\n"
          ]
        },
        {
          "output_type": "stream",
          "name": "stdout",
          "text": [
            "Batch 13000 of 37512. Loss:3.141746759414673. Time:0:39:34\n",
            "Example output: wibta if i got my own parking spot and sold it to one of our friends? <|endofprompt|> asshole <|endofverdict|> i'm going to try to keep this short, i'm not sure how much detail will be relevant, but here's the issue - i just recently moved in with one of my friends on monday. we hang out every friday, friday and friday, sometimes on friday. we're not too close with this friend group so it's understandable that we don't all go out often, but a few of us have known her for about 6 months, and we're pretty close with two others. we hang out at our place every friday night (about the same age) and she invited us to one of our friends' birthday parties. this guy was an asshole at first, but we eventually just made up and moved on with our lives. \n",
            "\n",
            "&#x200b;\n",
            "\n",
            "however, yesterday we were hanging out on friday night\n"
          ]
        },
        {
          "output_type": "stream",
          "name": "stderr",
          "text": [
            "Setting `pad_token_id` to `eos_token_id`:50256 for open-end generation.\n"
          ]
        },
        {
          "output_type": "stream",
          "name": "stdout",
          "text": [
            "Batch 13500 of 37512. Loss:1.2353260517120361. Time:0:41:06\n",
            "Example output: aita for telling my wife and i (both 30/f) that she needs to stop eating her junk food? <|endofprompt|> asshole <|endofverdict|> my wife is very, very stubborn and just hates being in a relationship, doesn't like it when i'm around. sometimes she will start complaining about it and she will not stop until i say something, which usually leaves her feeling sick and won't eat. sometimes she will stay up all night, and when i say \"i don't really wanna eat my junk food anymore\", she'll just cry and storm off. she says it makes her sad because she'll be up all night (she's an early waking up). sometimes i just tell her \"oh, i'm not going to go anywhere and sleep all night\", but today she just started crying. and i just lost it. aita?\n",
            "\n",
            "edit: i should also mention that i don't have any kind of disability, i just have to sit up in the morning to get something\n"
          ]
        },
        {
          "output_type": "stream",
          "name": "stderr",
          "text": [
            "Setting `pad_token_id` to `eos_token_id`:50256 for open-end generation.\n"
          ]
        },
        {
          "output_type": "stream",
          "name": "stdout",
          "text": [
            "Batch 14000 of 37512. Loss:2.338616132736206. Time:0:42:38\n",
            "Example output: aita for not staying with my friend’s family for the weekend after? <|endofprompt|> not the asshole <|endofverdict|> this happened a few years ago and i wanted to put some context into it. i’ve met the friend group about 30 times. they’re both college kids, and i don’t remember exactly how much of a party their kids had in the form of the actual events.\n",
            "\n",
            "about 6 months in we began talking less and less and less every time we’ve hung out at a different school. we were all in different high-school classes and we always enjoyed hanging out by being together. that doesn’t mean it’s a really good way to do things like go to the movies, hang out at shows and movies.\n",
            "\n",
            "over the last few months, it’s become an issue of mine. he tries to be a good friend and is constantly talking about life things like life and what i should be doing.\n"
          ]
        },
        {
          "output_type": "stream",
          "name": "stderr",
          "text": [
            "Setting `pad_token_id` to `eos_token_id`:50256 for open-end generation.\n"
          ]
        },
        {
          "output_type": "stream",
          "name": "stdout",
          "text": [
            "Batch 14500 of 37512. Loss:1.5484473705291748. Time:0:44:09\n",
            "Example output: aita for asking my wife to just take care of our dog while i go for vacation <|endofprompt|> not the asshole <|endofverdict|> i (38f) work a very demanding job and i get to see my family and my daughter. i do not have a license, so i decided to go to visit her and her brother. we were very excited about our daughter's first birthday. \n",
            "\n",
            "my wife's brother (38m) is retired and is working all week. he does not pay much attention to my daughter. \n",
            "\n",
            "my wife has a habit of taking care of our dog around our daughter, so they have a separate yard between us each night. they take turns to take pictures to take pictures with us as friends, but usually there is a family emergency that my wife cannot handle. one day my wife gets up after a shift and says \"hey mom, i was wondering if you would be interested in coming get her back together,\"  when the dog came into the yard he was\n"
          ]
        },
        {
          "output_type": "stream",
          "name": "stderr",
          "text": [
            "Setting `pad_token_id` to `eos_token_id`:50256 for open-end generation.\n"
          ]
        },
        {
          "output_type": "stream",
          "name": "stdout",
          "text": [
            "Batch 15000 of 37512. Loss:2.3282363414764404. Time:0:45:41\n",
            "Example output: wibta for asking my girlfriend to stop caring about my baby? <|endofprompt|> not the asshole <|endofverdict|> i'm a 16 year old in this case. i'm currently a full time student, and have a job that pays about $60/month. my girlfriend, (18) has never really been very open about my future career choices or interests, and it's a hard position for me to spend time with her in case of one of her bad experiences. \n",
            "\n",
            "&#x200b;\n",
            "\n",
            "i really want to spend time with her and spend time with her. she is a really great mother, but it seems like she likes to make fun of my past or my personal life. she will make jokes about how i'm a selfish child and \"what i did when i was a kid is unacceptable.\" for example: \n",
            "\n",
            "&#x200b;\n",
            "\n",
            "\\[this is a throwaway\\]\n",
            "\n",
            "so, wibta if i asked her to\n"
          ]
        },
        {
          "output_type": "stream",
          "name": "stderr",
          "text": [
            "Setting `pad_token_id` to `eos_token_id`:50256 for open-end generation.\n"
          ]
        },
        {
          "output_type": "stream",
          "name": "stdout",
          "text": [
            "Batch 15500 of 37512. Loss:1.8282221555709839. Time:0:47:13\n",
            "Example output: aita for telling my friend not to hang out anymore? <|endofprompt|> not the asshole <|endofverdict|> so this guy that i know from school that is now friends with this girl, i’m sure that he knows about my friend, but then he told me that he wasn’t interested in seeing her, and then asked her to hang out, i told him no, he just mentioned that he was uncomfortable with it, and after a few drinks he told me that he was gonna try some stuff, (for me, being alone) for the most part, because he thought that it was “the right thing to do,” and that he didn’t really see her. he then started saying stuff about me, and being very weird, so i started to make a point, i told him this, and he started to talk to me about things that i said and that i’d told him before, and that he would never want to hang out with her again\n"
          ]
        },
        {
          "output_type": "stream",
          "name": "stderr",
          "text": [
            "Setting `pad_token_id` to `eos_token_id`:50256 for open-end generation.\n"
          ]
        },
        {
          "output_type": "stream",
          "name": "stdout",
          "text": [
            "Batch 16000 of 37512. Loss:2.823230504989624. Time:0:48:46\n",
            "Example output: aita for cutting my friend out of my life after they were together for 5 years and finally ending the friendship over them? <|endofprompt|> not the asshole <|endofverdict|> so basically i don't know if i'm a asshole for cutting them out of my life. the first time i spoke up for some reason is in the 2nd grade when they graduated from highschool. after this, i told them that i couldn't handle this anymore. i was tired of them taking me for free and they always seemed fine with me. however, today (8th grade) my friend messaged me saying that i didn't feel like enough of them and she was disappointed and that it felt so rude to cut me out of her life. i said i understood that it felt bad but i feel like i need to move past this and be more accepting than the things she's going through. she was really mad about it. but now i'm not sure.\n",
            "\n",
            "edit: it feels like it wasn't a good\n"
          ]
        },
        {
          "output_type": "stream",
          "name": "stderr",
          "text": [
            "Setting `pad_token_id` to `eos_token_id`:50256 for open-end generation.\n"
          ]
        },
        {
          "output_type": "stream",
          "name": "stdout",
          "text": [
            "Batch 16500 of 37512. Loss:2.7490429878234863. Time:0:50:18\n",
            "Example output: wibta if i didn’t want to go on the date with my old friend, even though i’m going through an separation with a girl i’m not interested in? <|endofprompt|> not the asshole <|endofverdict|> my ex-friend and i dated for 6 years and we decided to keep our relationship. i was a part time student and recently we’re due to graduate college. \n",
            "\n",
            "however, her husband wants me to go on the date. he’s not his usual type of guy and in that year and a half, i’ve become really attached to him and we’ve been trying for a long time. \n",
            "\n",
            "however, yesterday, however, the thing is that we both want to go to this wedding and i’m going to take some distance with him. our ex-friend is also the one who asked him if he would be okay with me going. \n",
            "\n",
            "i really can’\n"
          ]
        },
        {
          "output_type": "stream",
          "name": "stderr",
          "text": [
            "Setting `pad_token_id` to `eos_token_id`:50256 for open-end generation.\n"
          ]
        },
        {
          "output_type": "stream",
          "name": "stdout",
          "text": [
            "Batch 17000 of 37512. Loss:2.246192216873169. Time:0:51:52\n",
            "Example output: aita for getting annoyed that i don’t want to hang out with my friends? <|endofprompt|> asshole <|endofverdict|> my parents are divorced. my mum remarried to my dad. they’ve never really been together. i’m a bit of a introvert but not too much time into it. my mum had some mental health problems and wanted to get help. (a lot of them were because she was on drugs and alcohol to make it worse.) i got a job with them but it’s a new position because they’re a bit more open to me. my mum has a history of lying to friends.\n",
            "\n",
            "about 3 months ago my mum asked me to hang out with my friends. i told her no because i didn’t want to go. she then said she’s scared, and that she wants to see my friends, and she wants to start dating another guy. i think that’s the end of that\n"
          ]
        },
        {
          "output_type": "stream",
          "name": "stderr",
          "text": [
            "Setting `pad_token_id` to `eos_token_id`:50256 for open-end generation.\n"
          ]
        },
        {
          "output_type": "stream",
          "name": "stdout",
          "text": [
            "Batch 17500 of 37512. Loss:0.8660253882408142. Time:0:53:23\n",
            "Example output: aita for getting my girlfriend mad at me for giving her food? <|endofprompt|> not the asshole <|endofverdict|> last week, i went to her house for a visit with her. we were pretty busy with school so she said she would rather eat at my house since her parents were trying to get her to have dinner (at their house) and that she should be alone. she then got mad at me for not giving her food (despite her being at my house, not complaining at her parents, but even pointing out that she is \"really hungry\" because she \"really eats that much of her food\". but i was sick of it so i asked her what was wrong so i didn't tell her that. i explained to her that she was getting really frustrated with me and asked her to just eat some of it herself since the rest were already in the fridge. she responded by saying she did it for her and she can't make it herself, but she was mad at me. aita? <|eok|>\n"
          ]
        },
        {
          "output_type": "stream",
          "name": "stderr",
          "text": [
            "Setting `pad_token_id` to `eos_token_id`:50256 for open-end generation.\n"
          ]
        },
        {
          "output_type": "stream",
          "name": "stdout",
          "text": [
            "Batch 18000 of 37512. Loss:1.6130690574645996. Time:0:54:54\n",
            "Example output: aita for making a joke about a person who called a girl out of her life? <|endofprompt|> not the asshole <|endofverdict|> it’s the best case scenario in the world for me.\n",
            "\n",
            "i was hanging out with a group of friends and we were talking about a girl, i had only met her 5 days ago. she was pretty funny, but not all good at her type. she started talking about her life (she’s bisexual, she’s pretty smart) and i was just kinda looking for a real answer. i said “she’s pretty smart, and i’ve been interested in you for 10 years, you were dating someone. she’s a huge asshole.” and went on a rant about how she needs to learn how to take care of a baby.\n",
            "\n",
            "i don’t know if she’s a bit of an ass or not, but i was just curious to see what people think,\n"
          ]
        },
        {
          "output_type": "stream",
          "name": "stderr",
          "text": [
            "Setting `pad_token_id` to `eos_token_id`:50256 for open-end generation.\n"
          ]
        },
        {
          "output_type": "stream",
          "name": "stdout",
          "text": [
            "Batch 18500 of 37512. Loss:2.734851121902466. Time:0:56:26\n",
            "Example output: aita for being mad my wife won’t let my cousin stay with me when she has no plans? <|endofprompt|> asshole <|endofverdict|> my wife and i are in a tight spot with one thing we don’t mind at the moment. we’ve been together for 8 years and have had great communication with her. it’s also been a rough year for both of us but not great. a few days ago i told her that i would pick her up and drive her back and forth about it later. she was visibly upset but i brushed it off with “it’s been hard for me to do this”. anyway she got upset and said that my other cousin wouldn’t want to leave his wife to be with me and she doesn’t think he should be with us anymore. aita?? <|eok|> ’,cousin stay,mad,plans,aita\n"
          ]
        },
        {
          "output_type": "stream",
          "name": "stderr",
          "text": [
            "Setting `pad_token_id` to `eos_token_id`:50256 for open-end generation.\n"
          ]
        },
        {
          "output_type": "stream",
          "name": "stdout",
          "text": [
            "Batch 19000 of 37512. Loss:0.9365788698196411. Time:0:57:58\n",
            "Example output: aita for calling out a guy on his dating app? <|endofprompt|> asshole <|endofverdict|> it’s a few hours ago and i was at a party while drinking so i was kind of sitting with my friend who had a bunch of drinks and he asked me if i thought we were interested in a sexy, gay wedding. i said yes and i said “yes!”. well after i said yes and he said “no one knows that, haha why don’t they?” i just said “uh no.” but my friend was pissed at me for saying that and told me that i should apologize (he has a girlfriend and she has a boyfriend) because he has a girlfriend but she can’t be with another guy. i didn’t think he was being serious but he was being kind of nasty. am i the asshole here? i’m a girl and in my 30s and i can’t just\n"
          ]
        },
        {
          "output_type": "stream",
          "name": "stderr",
          "text": [
            "Setting `pad_token_id` to `eos_token_id`:50256 for open-end generation.\n"
          ]
        },
        {
          "output_type": "stream",
          "name": "stdout",
          "text": [
            "Batch 19500 of 37512. Loss:0.9777058959007263. Time:0:59:30\n",
            "Example output: aita for refusing to pay for my own gas? <|endofprompt|> not the asshole <|endofverdict|> tldr at the bottom.\n",
            "\n",
            "so my boyfriend lives with me in another country, so he lives at home. he's going into the process of getting back with me. he said he'll be happy to get back in time (on a better timeline) but i don't feel comfortable doing that. i asked my friend if i can pay for gas that way because i'm really happy with paying for gas for him. my friend agreed to pay me back if he said it was only fair if he would pay me back. i told him i'm happy to pay for it, because i'd like to get that paid for. i feel that would be very reasonable for me to not have that paid me for gas. i feel like he's entitled to me the same thing to the other way. i've offered to pay him back for half of my own gas. i told him i'd get\n"
          ]
        },
        {
          "output_type": "stream",
          "name": "stderr",
          "text": [
            "Setting `pad_token_id` to `eos_token_id`:50256 for open-end generation.\n"
          ]
        },
        {
          "output_type": "stream",
          "name": "stdout",
          "text": [
            "Batch 20000 of 37512. Loss:1.3871115446090698. Time:1:01:00\n",
            "Example output: wibta if i told my boyfriend to stop talking to me? <|endofprompt|> asshole <|endofverdict|> my bf(22) started having some issues with social cues and i’ve been trying to help him as much as i can, so he doesn’t have any mental issues. he’s been very active on his part with social cues and social scenes in the past. we used to have fights often over text and stuff like that, but eventually he just moved in with his mother and i don’t mind since i just moved in with his mom and his dad and it is his first time getting to know her (his mother is still living with him and they get along great).\n",
            "\n",
            "now, i have been feeling he has the same thing with social cues and i feel he’s ignoring me as much as his friends, like she just ignored me and talks with her bf all day. he is doing this to the point where he doesn’\n"
          ]
        },
        {
          "output_type": "stream",
          "name": "stderr",
          "text": [
            "Setting `pad_token_id` to `eos_token_id`:50256 for open-end generation.\n"
          ]
        },
        {
          "output_type": "stream",
          "name": "stdout",
          "text": [
            "Batch 20500 of 37512. Loss:1.7787487506866455. Time:1:02:31\n",
            "Example output: aita for wanting my bf to get help with our work <|endofprompt|> not the asshole <|endofverdict|> my (29m) bf (24m) has a habit of going to different places to help and get help. last month, he wanted to go to another place that i was okay with him going to. he's also going to take part in bringing a friend of his, let's call him larry. it has all been fun, but lately i have been having serious problems. one of the most stressful things that has come to the point of me becoming depressed. i have tried talking to larry about helping and giving him advice, and at first he would listen to me telling him things that are difficult (it's very common to support my partner and i). i also tried talking to him about a specific topic that he wants to pursue. he seemed to listen all through to me and would go home in a huff. \n",
            "\n",
            "yesterday, i had enough of the\n"
          ]
        },
        {
          "output_type": "stream",
          "name": "stderr",
          "text": [
            "Setting `pad_token_id` to `eos_token_id`:50256 for open-end generation.\n"
          ]
        },
        {
          "output_type": "stream",
          "name": "stdout",
          "text": [
            "Batch 21000 of 37512. Loss:1.8251941204071045. Time:1:04:03\n",
            "Example output: aita for giving the girl who rejected me to prom my number? <|endofprompt|> asshole <|endofverdict|> my friends and i got together on a night of the weekend and i had a one friend girl and one friend who wasn't particularly into me. the first friend i gave a crush on was a girl who wasn't interested in me and we ended up talking all the time. after about 2 weeks we decided to meet at a supermarket. it's about a 2 hour drive from one of my friends’ school, we get to the supermarket, our girl gets to the supermarket and she gets to the supermarket. at the end of the night we decide to head back to the supermarket. we meet up on the same day and meet up again on the same night. she has the car keys so we can talk a little bit.\n",
            "\n",
            "after about a week she calls back to tell me she’s done it and she’s alright. then at the end of the night she calls again\n"
          ]
        },
        {
          "output_type": "stream",
          "name": "stderr",
          "text": [
            "Setting `pad_token_id` to `eos_token_id`:50256 for open-end generation.\n"
          ]
        },
        {
          "output_type": "stream",
          "name": "stdout",
          "text": [
            "Batch 21500 of 37512. Loss:1.5582953691482544. Time:1:05:36\n",
            "Example output: aita for leaving my mom with money to travel? <|endofprompt|> not the asshole <|endofverdict|> so my mom moved out a couple months ago. we never had money to go back then and we were just happy we could finally live together. so i just started dating the love of my life. she wanted to go on a trip to europe and we’d come see her before and we were in an open budget and she wanted to rent a room together. i told her that i don’t think it’s fair to my mom and it’s her money. so when we went to europe. i told my mom about this and she said that i should let her use her laptop because we use my laptop and can take pictures on it with friends. she wanted to come with me to the new place we were going. i was fine with this idea because we were in college at the time and my grades were good as well. my dad was also a student in\n"
          ]
        },
        {
          "output_type": "stream",
          "name": "stderr",
          "text": [
            "Setting `pad_token_id` to `eos_token_id`:50256 for open-end generation.\n"
          ]
        },
        {
          "output_type": "stream",
          "name": "stdout",
          "text": [
            "Batch 22000 of 37512. Loss:1.929287075996399. Time:1:07:07\n",
            "Example output: aita for wanting to get rid of dogs for my mom's sake? <|endofprompt|> not the asshole <|endofverdict|> i am a 19 yr old woman and i'm an indoor dog lover who walks my dog around the house once a week. my dog (f31) lives with my fiancé. i have a 3 month old and he sleeps in our bed in my bed with me. he doesn't like anyone. my dog and i have been together for almost 3 years. my dog can't keep up with anything and is in some accidents when i've had him. i don't feel he can handle him. i've had him for over 4 years. it hasn't gotten any better for a year. it has hurt my fiancé's ears, my arms, my ears etc and he was recently told he would be better off with a cat because it was \"not your dog, i have a dog\". my fiancé and i have taken up a large amount of the responsibility of cleaning the dog\n"
          ]
        },
        {
          "output_type": "stream",
          "name": "stderr",
          "text": [
            "Setting `pad_token_id` to `eos_token_id`:50256 for open-end generation.\n"
          ]
        },
        {
          "output_type": "stream",
          "name": "stdout",
          "text": [
            "Batch 22500 of 37512. Loss:0.9021802544593811. Time:1:08:37\n",
            "Example output: wibta if i told my mother if she wants a childless woman i’ll support her and give her money? <|endofprompt|> asshole <|endofverdict|> okay so backstory. my mother has since had her second child and had a son. the baby in question is around 20 months old with the first being a teen. she gave birth to her first son and everything was fine until last week. she doesn’t work at the moment and has made no plans to take the baby back to her home country and leave them for the foreseeable future. the other day my mom called my mom begging her for money. i told her no, she’s having a baby right now which she should do. she seemed angry but decided to take the baby out and give it to her son. this did not go over well. her son is a year old now and he’s been in the hospital in between. i have no idea of how the pregnancy went down as he has never\n"
          ]
        },
        {
          "output_type": "stream",
          "name": "stderr",
          "text": [
            "Setting `pad_token_id` to `eos_token_id`:50256 for open-end generation.\n"
          ]
        },
        {
          "output_type": "stream",
          "name": "stdout",
          "text": [
            "Batch 23000 of 37512. Loss:2.410707712173462. Time:1:10:08\n",
            "Example output: aita for not wanting to take care of a dog while he is trying to sleep? <|endofprompt|> not the asshole <|endofverdict|> i have a dog of my own who is supposed to sleep at 1 in the morning to make up for a long weekend and the dog can't sleep well after a few moments. i can't really sleep until late for work but i have a hard time getting up early because of the stress.\n",
            "\n",
            "the dog that was supposed to stay with me is trying to go up later than him. however when i got him, he was a little bit tired. we have a new rescue dog that is always coming down, we keep him in the other room on the couch, but he isn't sleeping properly.\n",
            "\n",
            "a couple of hours ago, he went up to me and said \"you don't get to spend 5 minutes trying to get him up\" i was just really confused and told him i would go down the stairs. i was like \"what??\"\n",
            "\n",
            "\n"
          ]
        },
        {
          "output_type": "stream",
          "name": "stderr",
          "text": [
            "Setting `pad_token_id` to `eos_token_id`:50256 for open-end generation.\n"
          ]
        },
        {
          "output_type": "stream",
          "name": "stdout",
          "text": [
            "Batch 23500 of 37512. Loss:0.8010550141334534. Time:1:11:39\n",
            "Example output: aita for being upset because my bf won't pay for his gas to his friend’s house? <|endofprompt|> not the asshole <|endofverdict|> backstory: my bf and his friend, let’s call her mary, have their 3 yr old son. this was a pretty nice surprise for me since they had a kid and my parents, i’m just fine with that. she’s super nice and all... but i’m not a big fan of her driving as she is always being late, even if i’m late, she still drives on empty-handed streets to get home from a 1 yr old and has a friend/bab and a kid. it’s not like i’m getting annoyed because i’m the babysitter that is babysitting her kids, she drives my bf when i get up at 1 am and drive home. \n",
            "\n",
            "so last night she’s out of\n"
          ]
        },
        {
          "output_type": "stream",
          "name": "stderr",
          "text": [
            "Setting `pad_token_id` to `eos_token_id`:50256 for open-end generation.\n"
          ]
        },
        {
          "output_type": "stream",
          "name": "stdout",
          "text": [
            "Batch 24000 of 37512. Loss:1.5088406801223755. Time:1:13:09\n",
            "Example output: aita for asking my parents to pay for my car to go on a family trip? <|endofprompt|> not the asshole <|endofverdict|> i work full time in a part-time job. my dad, and mom both live separately and we both drive cars. both are able to make the trip up by plane and the next trip with a 2 hour plane. \n",
            "\n",
            "however, i don’t have a car myself, although i’m on the road to work soon as well. last week, i asked my dad (he was driving) if we could put a spare key on our trip (which was on the same day) as my car to keep the trip safe. he was really mad. he said he thought we would be fine letting guests come in at our place, since my car is a bigger family, that’s why people come in. my mom and dad were upset. the trip is coming up in the middle of september. they asked if we\n"
          ]
        },
        {
          "output_type": "stream",
          "name": "stderr",
          "text": [
            "Setting `pad_token_id` to `eos_token_id`:50256 for open-end generation.\n"
          ]
        },
        {
          "output_type": "stream",
          "name": "stdout",
          "text": [
            "Batch 24500 of 37512. Loss:1.532881259918213. Time:1:14:41\n",
            "Example output: wibta if i left my brother-in-law after he died? <|endofprompt|> not the asshole <|endofverdict|> my husband and i had a very rocky relationship. in the years that we've been married, i've seen him get married before our marriage had come to a head. we are in my wedding photos, i see him twice a year. i love him very much and he is the best man i know. \n",
            "\n",
            "my brother-in-law, whose death is about 4 weeks ago, was the first time he saw my husband and i on our wedding anniversary. he left to be with his long-term gf and her family for the past 4 days, leaving me with 7 others that he hadn't seen in a while. we have had a very rocky relationship at this point, but since the death has spread, it has changed our lives and everything. my family, however, has a lot of contact with both of our families. \n",
            "\n",
            "he had a son\n"
          ]
        },
        {
          "output_type": "stream",
          "name": "stderr",
          "text": [
            "Setting `pad_token_id` to `eos_token_id`:50256 for open-end generation.\n"
          ]
        },
        {
          "output_type": "stream",
          "name": "stdout",
          "text": [
            "Batch 25000 of 37512. Loss:1.4406999349594116. Time:1:16:12\n",
            "Example output: aita for being upset over how things work? <|endofprompt|> asshole <|endofverdict|> i'm 15 and my mom is 28 (and she's a nurse, not a therapist, she's just an hour away from the office). i have one mom who works with my mom. she's told me she's done with this kid since she was 17 and he just wanted to do something for himself instead of me. i was a bit upset but not much. i was the only adult working with my mom. my mom would just have me all the time talking about how i should be more involved with my mom now, i'm 23 now. so when she was finally doing something about this kid, she got mad, started screaming and being super dramatic about it and basically being like \"what the fuck, you can't even get mad at me\". she got upset after she screamed and started telling me that i'm a whore and that i don't care about her anymore. i just responded with: \"well\n"
          ]
        },
        {
          "output_type": "stream",
          "name": "stderr",
          "text": [
            "Setting `pad_token_id` to `eos_token_id`:50256 for open-end generation.\n"
          ]
        },
        {
          "output_type": "stream",
          "name": "stdout",
          "text": [
            "Batch 25500 of 37512. Loss:2.028153896331787. Time:1:17:43\n",
            "Example output: aita for not being happy my husband left my house when he promised to pay me rent and back to back when i could? <|endofprompt|> not the asshole <|endofverdict|> we both live with our parents (different moms). \n",
            "\n",
            "we have been together for almost 4 years. he's a first class professional and works as a cashier. \n",
            "\n",
            "my husband and i haven't been married since september 2018. we aren't in the same room but both of us work in the same apartment we grew up in. \n",
            "\n",
            "when i started dating a girl, she started talking about her ex husband. i was a little taken aback by this but i thought nothing of it. we only dated for a few months until she broke up with me. \n",
            "\n",
            "once the baby was born she told me everything, including that my husband should have had a bit of a time before he left. i've been very understanding. \n",
            "\n",
            "i got in touch with her a while later and\n"
          ]
        },
        {
          "output_type": "stream",
          "name": "stderr",
          "text": [
            "Setting `pad_token_id` to `eos_token_id`:50256 for open-end generation.\n"
          ]
        },
        {
          "output_type": "stream",
          "name": "stdout",
          "text": [
            "Batch 26000 of 37512. Loss:1.9155999422073364. Time:1:19:15\n",
            "Example output: aita for not wanting to take care of my sick parents? <|endofprompt|> asshole <|endofverdict|> backstory: when i was 11 i got sick and had to go to school. a couple weeks after i got sick my mother decided that she would be raising me and going and helping me raise my father (who was now my mom and we’re not getting married). \n",
            "\n",
            "\n",
            "i didn’t get into any more fight with my parents since it was nothing like i got sick or anything so everything was relatively well. the things my father did were pretty much everything like my father was like my mother was always taking care of him and me. the only times i saw my mother was when he would refuse to go out and say “i don’t want to go alone.” so then my mother would take care of me and my sister at all costs. \n",
            "\n",
            "i was going through a pretty big weight loss after all this and my dad was going to drop\n"
          ]
        },
        {
          "output_type": "stream",
          "name": "stderr",
          "text": [
            "Setting `pad_token_id` to `eos_token_id`:50256 for open-end generation.\n"
          ]
        },
        {
          "output_type": "stream",
          "name": "stdout",
          "text": [
            "Batch 26500 of 37512. Loss:0.701135516166687. Time:1:20:47\n",
            "Example output: aita for being pissed off with my fiancée for wanting to go somewhere else without her in the equation? <|endofprompt|> asshole <|endofverdict|> so for some background, my fiancée and i met through a third party and for some time after that we went out for a drink, get drunk and do something about the night before. we’re all very social, so we went out at around 11pm and she knew this. i knew her that we were still going to be having sex and stuff but when she asked if we could go anywhere that’s fine, but i didn’t see why i was having to have sex with a guy just for her so i said yes. she wanted to go to the bars for a bit and i didn’t think this was a good idea as it’s the third party that i was going to go with. i ended up getting drunk again and went to the bars, but i went with her. i got\n"
          ]
        },
        {
          "output_type": "stream",
          "name": "stderr",
          "text": [
            "Setting `pad_token_id` to `eos_token_id`:50256 for open-end generation.\n"
          ]
        },
        {
          "output_type": "stream",
          "name": "stdout",
          "text": [
            "Batch 27000 of 37512. Loss:0.9655420184135437. Time:1:22:19\n",
            "Example output: aita for not letting my boyfriend ride his car? <|endofprompt|> not the asshole <|endofverdict|> he just bought my car about a month ago. he started going on his days off, and since then he's been driving the car to get the cash he owes. so i always pay back when he's on his days off.\n",
            "\n",
            " now we live in california, and my boyfriend has a car he likes. in the last 5 years we've met he drives my car, sometimes my car with my dad (who drives and is a wreck driver, which the first time around), and sometimes he drives my car with me. \n",
            "\n",
            "my boyfriend is still doing this. i'm constantly in a bad mood during his days off as he drives his car every other weekend. and this time he was on his days off. i took my car with me. i just assumed he could ride his car. he went to his car on his days off, he started driving it before his days off.\n"
          ]
        },
        {
          "output_type": "stream",
          "name": "stderr",
          "text": [
            "Setting `pad_token_id` to `eos_token_id`:50256 for open-end generation.\n"
          ]
        },
        {
          "output_type": "stream",
          "name": "stdout",
          "text": [
            "Batch 27500 of 37512. Loss:1.5137288570404053. Time:1:23:52\n",
            "Example output: wibta if i didn't go to my best friend's father's (my son) funeral? <|endofprompt|> asshole <|endofverdict|> my friend jess got married to mr. jess and i are great friends, and i have always been supportive for her as a child. since jess got married, jess has had a few issues, but the biggest one being that jess's boyfriend, who i don't like, would never visit their place because he would start things with his ex-wife and make fun of him as a kid. mr. jess and i met because we were going to a concert this weekend and jess knew this, so it was only a few days after. she texted me about this a few days later. this just set me off, and it wasn't that big of a deal. i had just heard he was planning a family trip, but had my sister over and would be spending the day with him and his family, that would be\n"
          ]
        },
        {
          "output_type": "stream",
          "name": "stderr",
          "text": [
            "Setting `pad_token_id` to `eos_token_id`:50256 for open-end generation.\n"
          ]
        },
        {
          "output_type": "stream",
          "name": "stdout",
          "text": [
            "Batch 28000 of 37512. Loss:0.6046671867370605. Time:1:25:24\n",
            "Example output: wibta for not paying the fee for my friends? <|endofprompt|> not the asshole <|endofverdict|> this is pretty simple. my friends who always have an awkward friendship group usually go to a concert and a few others do that on their own. they have been really weird this past year, and in order to keep the same person in touch they want to send us a few tickets. \n",
            "\n",
            "recently, one of my friends who i will call p, sent me a message today telling me i shouldn't send her a photo because i am putting on a photo album and will most likely end up taking that photo. i don't know if it will just cause a big fight, or the other, but it is also kinda gross as hell. \n",
            "\n",
            "i feel bad, especially since my friends have been together for years. but it's not really going to last or anything for that matter. \n",
            "\n",
            "they are paying me back for the photo album and i think it is really gross.\n"
          ]
        },
        {
          "output_type": "stream",
          "name": "stderr",
          "text": [
            "Setting `pad_token_id` to `eos_token_id`:50256 for open-end generation.\n"
          ]
        },
        {
          "output_type": "stream",
          "name": "stdout",
          "text": [
            "Batch 28500 of 37512. Loss:1.712640643119812. Time:1:26:56\n",
            "Example output: aita for not giving my parents extra money? <|endofprompt|> not the asshole <|endofverdict|> my parents split when i was 19 and my dad worked at the same place he worked as a waitress and he made pretty good money. my parents then had multiple affairs that caused both of us to end up failing college as soon as we graduated.\n",
            "\n",
            "&#x200b;\n",
            "\n",
            "i’m 18 now and my parents are still split up. i live with my younger brother, who is currently in sixth grade, so it would get closer. when i turned 16 my dad paid my tuition and food as well, which he has done for over 7 years.\n",
            "\n",
            "&#x200b;\n",
            "\n",
            "i’m lucky enough to live with my parents, so my older brother lives at home with my parents, who are both single. my younger brother also has very little time to spare, so i help my dad out a lot. my younger brother always cooks alone aswell, so\n"
          ]
        },
        {
          "output_type": "stream",
          "name": "stderr",
          "text": [
            "Setting `pad_token_id` to `eos_token_id`:50256 for open-end generation.\n"
          ]
        },
        {
          "output_type": "stream",
          "name": "stdout",
          "text": [
            "Batch 29000 of 37512. Loss:0.8898618221282959. Time:1:28:28\n",
            "Example output: aita for not taking my mom to the grocery store? <|endofprompt|> asshole <|endofverdict|> so here is what happened. my (f24) parents and i was driving back from my parents house. i get a call from my mom and ask how we are going. she starts berating me and goes on about how i should have taken her grocery shopping. i tell her i don’t have any groceries but i need to go somewhere. (and that i don’t get groceries with my mom because i get them with my dad’s money too, because he doesn’t have any)\n",
            "\n",
            "she then says i should take her to the grocery store since it’s my dad’s family too. i tell her that i didn’t have any groceries and she has to go with the rest of her family in the house. she goes on about how i shouldn’t take her since she didn’t ask me. i told\n"
          ]
        },
        {
          "output_type": "stream",
          "name": "stderr",
          "text": [
            "Setting `pad_token_id` to `eos_token_id`:50256 for open-end generation.\n"
          ]
        },
        {
          "output_type": "stream",
          "name": "stdout",
          "text": [
            "Batch 29500 of 37512. Loss:2.3900537490844727. Time:1:29:59\n",
            "Example output: aita for wanting to leave home? <|endofprompt|> not the asshole <|endofverdict|> we live in a state of the us so there’s a large house on my mom’s side of the country where i rent from my dad.  i have a friend who lives with my mom and i don’t have much of a relationship with her. recently, she’s started to message me and her husband with the same ex that has “my name”. i told her to stop, and told her that he’s being an asshole and i should leave.  now my friend can’t keep up.  i’m thinking about giving her her money if she doesn’t give it back. i feel like an asshole to my mom because i’ve been ignoring her messages before today. so am i the asshole for wanting to leave her to my parents? <|eok|> wanting,aita,leave home\n"
          ]
        },
        {
          "output_type": "stream",
          "name": "stderr",
          "text": [
            "Setting `pad_token_id` to `eos_token_id`:50256 for open-end generation.\n"
          ]
        },
        {
          "output_type": "stream",
          "name": "stdout",
          "text": [
            "Batch 30000 of 37512. Loss:1.464826226234436. Time:1:31:31\n",
            "Example output: aita for making my friend pay the bill for her mistake of the night? <|endofprompt|> not the asshole <|endofverdict|> tldr at the bottom.  \n",
            "\n",
            "i [24f] have been friends with j [25f] since kindergarten (he is a recovering alcoholic and suffers from anxiety),  we've had a very good relationship over the years and it's been tough but in the last 6 months my life had been a little better with my mental health and school. we both have our own ways and have worked with our therapist to help keep him on track but it's been the same.\n",
            "\n",
            "&#x200b;\n",
            "\n",
            "yesterday was my final day at work. i was at a party. j asked me what was wrong and what was going on. i told him that it was not an accident but he needed to get his hand changed. when he asked for the money he asked if i was sure, i said no because i was worried about his feelings.\n"
          ]
        },
        {
          "output_type": "stream",
          "name": "stderr",
          "text": [
            "Setting `pad_token_id` to `eos_token_id`:50256 for open-end generation.\n"
          ]
        },
        {
          "output_type": "stream",
          "name": "stdout",
          "text": [
            "Batch 30500 of 37512. Loss:2.2322192192077637. Time:1:33:03\n",
            "Example output: aita for giving my friends boyfriend his laptop back? <|endofprompt|> not the asshole <|endofverdict|> throwaway account because people i know will make the same situation me or my boyfriend like i did i apologize to them for being petty about this. \n",
            "\n",
            "for a while now i (24m) am in an open relationship with someone who i am completely fine with (just not that close, i don’t see this much of a problem with him) and also i don’t like his bfs best friends boyfriends best friend (i’m also not close with them, but they’ll just hang out whenever we hang out together), so we were talking about moving in together about 2 weeks ago, and i brought his laptop back from the back because it was the only laptop i had and it was the only thing i could have for a while, now he never seems to bother since he’s never showed any interest in taking it back though. i asked him\n"
          ]
        },
        {
          "output_type": "stream",
          "name": "stderr",
          "text": [
            "Setting `pad_token_id` to `eos_token_id`:50256 for open-end generation.\n"
          ]
        },
        {
          "output_type": "stream",
          "name": "stdout",
          "text": [
            "Batch 31000 of 37512. Loss:1.2111433744430542. Time:1:34:35\n",
            "Example output: aita for wanting my kids to go to therapy instead of doing it for them? <|endofprompt|> asshole <|endofverdict|> i'm a single dad, we had an agreement when we decided that we wanted their support system because they will do most of the childcare with their parent's permission. it was just the two of them, and i thought it would be good.\n",
            "\n",
            "as i got our house settled down and made changes, all three of them took off the day. so, the four of us decided to go see a movie and see the new show, but one of them had to go to another school.\n",
            "\n",
            "my wife and i decided that we would go to see the theater we love, and then see some pictures of the show and the kids together. my wife's family, which we will call sam and jane, is also in the family. we both love video games together. sam is very into it, and her daughter can't really talk about anything at home. so when\n"
          ]
        },
        {
          "output_type": "stream",
          "name": "stderr",
          "text": [
            "Setting `pad_token_id` to `eos_token_id`:50256 for open-end generation.\n"
          ]
        },
        {
          "output_type": "stream",
          "name": "stdout",
          "text": [
            "Batch 31500 of 37512. Loss:0.7285345196723938. Time:1:36:08\n",
            "Example output: aita for not wanting to be around my dad during my pregnancy? <|endofprompt|> not the asshole <|endofverdict|> so i want to preface this by saying that i am a 16 year old male in a relationship with my dad and we are trying to get married next summer. he is the type of person that goes out to get his stuff and then says that he and his wife are in love. that was until he said it all of july and i said that i was not comfortable with being around him because he will likely be in a very stressful situation and that he should stop trying to make me feel bad even though he wants his kids to be a lot better. i am thinking about not doing that. aita? <|eok|> pregnancy,wanting,around,aita,dad\n"
          ]
        },
        {
          "output_type": "stream",
          "name": "stderr",
          "text": [
            "Setting `pad_token_id` to `eos_token_id`:50256 for open-end generation.\n"
          ]
        },
        {
          "output_type": "stream",
          "name": "stdout",
          "text": [
            "Batch 32000 of 37512. Loss:1.122721791267395. Time:1:37:40\n",
            "Example output: aita for getting mad at my friend for not respecting my wishes? <|endofprompt|> not the asshole <|endofverdict|> this is all from the beginning of september, i just feel like i'm still ta. \n",
            "\n",
            "a little bit of backstory:\n",
            "i am really confused about the title. i'm not as experienced in being upset over my feelings towards my friend. she's always been very critical of me and always makes me feel uncomfortable when i'm in an uncomfortable state. i just don't understand why she's being so critical of me in a specific sense. \n",
            "\n",
            "a good friend of mine was coming to visit. she told us that the city he comes from was very poor, that the apartment could be rent-free because there was a nice park near the park, and that since we could all visit her, we should both go to the park on the days she was coming. we all kind of agreed, but we would pay for gas and food and that was it.\n",
            "\n"
          ]
        },
        {
          "output_type": "stream",
          "name": "stderr",
          "text": [
            "Setting `pad_token_id` to `eos_token_id`:50256 for open-end generation.\n"
          ]
        },
        {
          "output_type": "stream",
          "name": "stdout",
          "text": [
            "Batch 32500 of 37512. Loss:1.520612120628357. Time:1:39:12\n",
            "Example output: aita for having a panic attack? <|endofprompt|> not the asshole <|endofverdict|> i (19f) have been seeing a therapist for about a month. over the past few months, i have been really struggling with the mental health issues involved with my anxiety. i have a fairly severe anxiety disorder and recently started a new path to overcome mental illness. i’ve done a lot of research on it. i am trying to get better and see what other people think and what other people think and have done etc etc. \n",
            "\n",
            "the problem is that my family has been slowly getting the treatment i have been trying to get treatment for. i have a really great relationship with my family and friends that we talk to a lot. i’m not sure how much time to just tell myself something that’s not really affecting me as much as my other mental health issues. \n",
            "\n",
            "my parents recently got into a heated argument and my sister got into a whole new rant about how we were\n"
          ]
        },
        {
          "output_type": "stream",
          "name": "stderr",
          "text": [
            "Setting `pad_token_id` to `eos_token_id`:50256 for open-end generation.\n"
          ]
        },
        {
          "output_type": "stream",
          "name": "stdout",
          "text": [
            "Batch 33000 of 37512. Loss:2.2523140907287598. Time:1:40:45\n",
            "Example output: aita for telling my mom i won't let her keep driving and driving? <|endofprompt|> asshole <|endofverdict|> so my mother is a huge fan of driving (which she refuses to do so she won't drive) so she always asks me for permission to drive while she does the driving (which she'll do because she doesn't want to drive). when we're driving (not driving) she doesn't tell me what she wants, so she gets annoyed at the fact that we aren't going to move our cars to her friends' because she knows what we want, and i don't see why i should be helping her because she doesn't care. she gets annoyed and calls me a controlling freak and acts like she has a right to know what she wants. it's just a 'no' attitude and the fact that she is constantly driving and i've never asked her to stop is one of the reasons why she doesn't want to drive. so aita for not letting her have driving? <|eok|>\n"
          ]
        },
        {
          "output_type": "stream",
          "name": "stderr",
          "text": [
            "Setting `pad_token_id` to `eos_token_id`:50256 for open-end generation.\n"
          ]
        },
        {
          "output_type": "stream",
          "name": "stdout",
          "text": [
            "Batch 33500 of 37512. Loss:0.9438121318817139. Time:1:42:19\n",
            "Example output: aita for not being comfortable living in my boyfriend's apartment while i'm pregnant <|endofprompt|> not the asshole <|endofverdict|> so a bit of backstory: i've been dating my boyfriend for the last two years now. we've been dating for a little over a year now, and i'm due for the mid-term. we have been living together for two years now, and we've been happy, for the most part. he doesn't have a problem with that, but recently we've been living together. he recently started getting a bit of a nosejob while i was out of the country, and i'm not opposed to that idea. we're still living together on the surface, and i don't feel comfortable living in his apartment. he has since moved out. the issue is that i still get pretty upset when i hear about him wanting to have sex with me because i'm already home when i get home from work (work in the afternoon so he can sleep at home). he also has\n"
          ]
        },
        {
          "output_type": "stream",
          "name": "stderr",
          "text": [
            "Setting `pad_token_id` to `eos_token_id`:50256 for open-end generation.\n"
          ]
        },
        {
          "output_type": "stream",
          "name": "stdout",
          "text": [
            "Batch 34000 of 37512. Loss:1.8619943857192993. Time:1:43:50\n",
            "Example output: wibta if i asked my friends for money <|endofprompt|> asshole <|endofverdict|> so, for context, i am 17f and in a different school district. a couple of friends we used to hang out with were always super nice to me. \n",
            "\n",
            "anyways. i’m in a private room and we all take turns using the hallways, and i’ve always been kind of an introvert so it wasn’t a problem until they began making comments like “you have to be nice,” “i can’t stand you for a few minutes” and “you’ll be really busy”. \n",
            "\n",
            "they would try to get away from me so i could study and they’d say we could join them to hang out. \n",
            "\n",
            "we would constantly call each other after a time, and they would constantly be the only people to join us. \n",
            "\n",
            "after a while they started making comments\n"
          ]
        },
        {
          "output_type": "stream",
          "name": "stderr",
          "text": [
            "Setting `pad_token_id` to `eos_token_id`:50256 for open-end generation.\n"
          ]
        },
        {
          "output_type": "stream",
          "name": "stdout",
          "text": [
            "Batch 34500 of 37512. Loss:1.7751439809799194. Time:1:45:22\n",
            "Example output: aita for wanting to be paid to help raise a baby? <|endofprompt|> asshole <|endofverdict|> i am going to try to make this as objective as possible. i'm going to move out of this apartment soon as i move out, so i would be leaving soon. \n",
            "\n",
            "the plan is that i am on my way out. my landlord let me borrow his car and i will pay $150 for gas money to drive over to a friends house (which is a good idea. my boyfriend will use this car and has offered to let me borrow his car). i agreed to pitch a little extra $50 so i can borrow it so i didn't miss the extra gas money. \n",
            "\n",
            "i don't mind paying, since i have paid a lot more than i initially was due and i don't mind paying for gas. plus it's my money right now, i will need it. so i figured i could use it. \n",
            "\n",
            "i get home from work and am about to\n"
          ]
        },
        {
          "output_type": "stream",
          "name": "stderr",
          "text": [
            "Setting `pad_token_id` to `eos_token_id`:50256 for open-end generation.\n"
          ]
        },
        {
          "output_type": "stream",
          "name": "stdout",
          "text": [
            "Batch 35000 of 37512. Loss:1.3454399108886719. Time:1:46:54\n",
            "Example output: aita for not wanting to attend a wedding of my boyfriend and his parents? <|endofprompt|> not the asshole <|endofverdict|> i don't feel like i've done anything wrong, i just need some outside opinions.\n",
            "\n",
            "my boyfriend's parents are planning a wedding with a wedding that has around an hours drive from our apartment and my boyfriend's apartment. as a friend to them, they offered to give him and his sister a ride back to the apartment to visit the family and they'd make it so that they could meet up with their dad and get to know the family more. i have been dating this guy for about 9 months now and i love him. i'm not his only girlfriend and i don't want to be her only girlfriend for the same reasons.\n",
            "\n",
            "i feel like if she wasn't a friend then i'd be missing out on going.\n",
            "\n",
            "&#x200b;\n",
            "\n",
            "edit: i forgot to add my boyfriend and his sister do not have a driver permit. they\n"
          ]
        },
        {
          "output_type": "stream",
          "name": "stderr",
          "text": [
            "Setting `pad_token_id` to `eos_token_id`:50256 for open-end generation.\n"
          ]
        },
        {
          "output_type": "stream",
          "name": "stdout",
          "text": [
            "Batch 35500 of 37512. Loss:2.233137607574463. Time:1:48:27\n",
            "Example output: aita for being mad at my best friend? <|endofprompt|> asshole <|endofverdict|> so, i (16f) have been best friends with my best friend (15m) and we both are in our late high school, but i met my friend (16f) a few years ago, and we still talk, but i always get pissed when i do, and she also complains that she can't sleep easily, she doesn't know if i have headphones, can't sleep, and the worst part is that i'm the only girl she can sleep with. \n",
            "\n",
            "it's the second time she's tried to sleep with me, we've both tried to move forward together, and it was always about her not sleeping as much, and just the feeling when she was already asleep. \n",
            "\n",
            "then, last month, she told me that she wanted to go to the mall with me to meet someone at work. the thing is, i already knew her name (she's been there for\n"
          ]
        },
        {
          "output_type": "stream",
          "name": "stderr",
          "text": [
            "Setting `pad_token_id` to `eos_token_id`:50256 for open-end generation.\n"
          ]
        },
        {
          "output_type": "stream",
          "name": "stdout",
          "text": [
            "Batch 36000 of 37512. Loss:1.2157421112060547. Time:1:49:58\n",
            "Example output: aita for refusing to pay for a part of my car when the rest of us pay for it? <|endofprompt|> asshole <|endofverdict|> i was driving with a friend and he had recently come up to me and said he wanted to sell his car to help with the costs of fixing one and then the other car is gone. \n",
            "i said that he should let me know when the rest of us pay, and that if i wanted to keep him in my name i would split the bill, then. \n",
            "\n",
            "he didn't believe me and said he did know from the start that he had been paying since he got it. \n",
            "\n",
            "i thought it was a little weird but i said he should pay the rest for him using his own gas card since he doesn't drive on a daily basis, (he's been driving it almost every day for a year) and i didn't think he would be able to pay me back until he was 100% done paying me back (he never asked\n"
          ]
        },
        {
          "output_type": "stream",
          "name": "stderr",
          "text": [
            "Setting `pad_token_id` to `eos_token_id`:50256 for open-end generation.\n"
          ]
        },
        {
          "output_type": "stream",
          "name": "stdout",
          "text": [
            "Batch 36500 of 37512. Loss:2.096958637237549. Time:1:51:31\n",
            "Example output: aita for not wanting to go to my parents' wedding? <|endofprompt|> asshole <|endofverdict|> my mom told me that she would be having a traditional wedding with friends from my childhood home town. while i love my mom and want to see her and my brother but, i also don't want to go to that place with my grandparents at all. i told her if i were to go, i would have to either choose my grandparents for the rest of my life or i would prefer to go.\n",
            "\n",
            "she gave me a cold shoulder the whole time and i am still upset because she is forcing me to go now and again for the rest of my life with my grandparents at once. <|eok|> wanting,parents,wedding,aita,go\n"
          ]
        },
        {
          "output_type": "stream",
          "name": "stderr",
          "text": [
            "Setting `pad_token_id` to `eos_token_id`:50256 for open-end generation.\n"
          ]
        },
        {
          "output_type": "stream",
          "name": "stdout",
          "text": [
            "Batch 37000 of 37512. Loss:0.8178223371505737. Time:1:53:03\n",
            "Example output: aita for giving a girl an old phone instead of a new one? <|endofprompt|> not the asshole <|endofverdict|> i (19m) bought a phone a while ago. it came about 6 months later and had just come around. i had just gotten a new phone when i found out the girl i wanted had gotten a phone. she asked to switch phones with me in case they could have kept one. it was a new phone for almost a year now, so i thought it was perfectly worth buying the same deal.\n",
            "\n",
            "&#x200b;\n",
            "\n",
            "this morning, i get a notification that the girl got a phone. i didn't say anything about it, but i had also noticed she had moved her phone, so i went to check.\n",
            "\n",
            "&#x200b;\n",
            "\n",
            "&#x200b;\n",
            "\n",
            "&#x200b;\n",
            "\n",
            "&#x200b;\n",
            "\n",
            "&#x200b;\n",
            "\n",
            "&#x200b;\n"
          ]
        },
        {
          "output_type": "stream",
          "name": "stderr",
          "text": [
            "Setting `pad_token_id` to `eos_token_id`:50256 for open-end generation.\n"
          ]
        },
        {
          "output_type": "stream",
          "name": "stdout",
          "text": [
            "Batch 37500 of 37512. Loss:1.1176074743270874. Time:1:54:35\n",
            "Example output: wibta if i called animal control to find out what i'm feeding animals in the cage that i found? <|endofprompt|> asshole <|endofverdict|> background info: i have known people for years that had pets, so i moved in with them. it's a pretty big space, and i love my animals a lot.\n",
            "\n",
            "but this is happening tonight! \n",
            "\n",
            "i was on the train the other day on the last night. it was the middle of an evening train ride to the bank with a coworker who i'm always friends with, and the train ride back was 10 minutes in total. i had seen some cute animals running around on the train that they would pet-feed while walking around, so i was really not in the mood, so i left and went back to the bathroom as quickly as possible before my coworker walked in the other direction. \n",
            "\n",
            "now i'm not a crazy pet person. i do not touch any animals. it's not just some weird small\n",
            "Average Training Loss: 1.599408473964883. Epoch time: 1:54:38\n",
            "Validation loss: 1.5754986517205685. Validation Time: 0:00:49\n",
            "Beginning epoch 3 of 3\n"
          ]
        },
        {
          "output_type": "stream",
          "name": "stderr",
          "text": [
            "Setting `pad_token_id` to `eos_token_id`:50256 for open-end generation.\n"
          ]
        },
        {
          "output_type": "stream",
          "name": "stdout",
          "text": [
            "Batch 500 of 37512. Loss:1.376430869102478. Time:0:01:30\n",
            "Example output: wibta for ignoring a friend? <|endofprompt|> asshole <|endofverdict|> i have a friend who just recently started going to university and started going to uni. over the past 2 weeks, he has been telling me about how great it is that i have to study because it's been the only reason he's starting university this fall (it's also only one week long and has gone from one week to one). he mentioned how his brother was doing a really good job and that he wished he had done so much for him.\n",
            "\n",
            "he then mentioned that he was really looking forward to getting into uni and he wanted to have a good life. i mentioned that i was also considering applying for a scholarship in college since i had no experience applying and he suggested that i could do it by saying that i would just do it after graduating with my degree.\n",
            "\n",
            "i haven't replied but the thing that bothers me is that he seems to have a bit of a hard time thinking about how much he\n"
          ]
        },
        {
          "output_type": "stream",
          "name": "stderr",
          "text": [
            "Setting `pad_token_id` to `eos_token_id`:50256 for open-end generation.\n"
          ]
        },
        {
          "output_type": "stream",
          "name": "stdout",
          "text": [
            "Batch 1000 of 37512. Loss:1.3142937421798706. Time:0:03:01\n",
            "Example output: aita for not wanting to hang out with my friends after they invited me over when i invited them over? <|endofprompt|> asshole <|endofverdict|> some backstory: i started hanging out with my best friend last year for about 6 months. they invited me over 4 years ago and we were pretty good friends since then. now we get along great and they are great friends with me. now i’m not saying i’m gonna be friends with them but rather having a conversation with them and whatnot. \n",
            "\n",
            "now i have a girlfriend who i will call kelly. kelly and i were pretty good friends but i don’t hang out with them now. i usually hang out with them a few times a month for small things and they invite me over every once in a while. now it’s not usually an issue because i’m busy with school. today kelly invited me over to go hangout with her. it was the first time i met her\n"
          ]
        },
        {
          "output_type": "stream",
          "name": "stderr",
          "text": [
            "Setting `pad_token_id` to `eos_token_id`:50256 for open-end generation.\n"
          ]
        },
        {
          "output_type": "stream",
          "name": "stdout",
          "text": [
            "Batch 1500 of 37512. Loss:1.3308708667755127. Time:0:04:34\n",
            "Example output: aita for trying to take care of my stepdad's dogs? <|endofprompt|> not the asshole <|endofverdict|> my stepdad has two pitbulls (that my mom doesn't want to have) that i've never seen before. it seems odd, but i just never see them. so, i had my mom move away from the place i grew up in and they came into the house. i haven't seen them since i was a kid. \n",
            "\n",
            "they're sweet, kind, sweet, and i'd estimate they're very friendly. but i'm worried about them too. they seem to have a lot of energy for my mom, and they're kind of old, and i can't imagine her not being comfortable with them at all. i'm an adult, and i'm worried about them all the time. \n",
            "\n",
            "my mom is in her mid-30's, and she's worried she might break up with her long-term girlfriend (who doesn't live with us)\n"
          ]
        },
        {
          "output_type": "stream",
          "name": "stderr",
          "text": [
            "Setting `pad_token_id` to `eos_token_id`:50256 for open-end generation.\n"
          ]
        },
        {
          "output_type": "stream",
          "name": "stdout",
          "text": [
            "Batch 2000 of 37512. Loss:1.6334577798843384. Time:0:06:06\n",
            "Example output: aita for making a joke on my best friend? <|endofprompt|> asshole <|endofverdict|> i (19f) and my best friend (20f) live about 40 minutes away from each other in college. i’m not good at social situations aside from my best friend. she’s not quite social but in her typical friendships she has fun. lately things have been rocky. lately she has been feeling overwhelmed with work and is not really doing anything with herself, just going to her house for the night and drinking with her friends.  \n",
            "\n",
            "i told her this and she’s pretty upset at me saying i should’ve known this until recently. i thought it was odd that she would feel so distant if she didn’t want to go to my house anymore. <|eok|> joke,aita,best friend,making\n"
          ]
        },
        {
          "output_type": "stream",
          "name": "stderr",
          "text": [
            "Setting `pad_token_id` to `eos_token_id`:50256 for open-end generation.\n"
          ]
        },
        {
          "output_type": "stream",
          "name": "stdout",
          "text": [
            "Batch 2500 of 37512. Loss:0.7336313724517822. Time:0:07:38\n",
            "Example output: aita for wanting to get my brother off a trip with our mother, and going alone? <|endofprompt|> not the asshole <|endofverdict|> so my mother and i are in our early 50s. she has always been very close, and since my sisters and i were babies my mom didn't seem to be the best with my brother. whenever my brother would be alone and wanted to go, she would come. i would always ask if i could help, it would be nice to get a babysitter. now, my mom's job pays a little bit more, and my brother doesn't have the money, so i would never offer to babysit him all of his nights. the family has always had it's fair split on weekends.\n",
            "\n",
            "the time she works has always been the first and last couple of nights i've wanted to help him with anything, not just on weekends. he does not have a job, and only ever goes with his sister on weekends, but i always told him to always\n"
          ]
        },
        {
          "output_type": "stream",
          "name": "stderr",
          "text": [
            "Setting `pad_token_id` to `eos_token_id`:50256 for open-end generation.\n"
          ]
        },
        {
          "output_type": "stream",
          "name": "stdout",
          "text": [
            "Batch 3000 of 37512. Loss:2.27241849899292. Time:0:09:10\n",
            "Example output: aita for letting my niece do a favor for her cousin <|endofprompt|> not the asshole <|endofverdict|> my niece is 16, but she's decided to go to a different school after school, which is about an hour away. she was supposed to take public transportation. it's an hour away, and the only way she can get through is by public transportation. but after doing it for a while, she has decided that her cousin is going to get her and her sister to take her to the bus stop.\n",
            "\n",
            "while she is going through the same school, i find out that she had told me that she would be picking her sister up at 2:30 am when her cousin got back at 1:25. when i called her and she told me that her cousin had picked her, i thought she'd be fine. i told her that, and that she was a good kid. i told her that since she had a lot of money and time to go, she couldn't make that decision.\n"
          ]
        },
        {
          "output_type": "stream",
          "name": "stderr",
          "text": [
            "Setting `pad_token_id` to `eos_token_id`:50256 for open-end generation.\n"
          ]
        },
        {
          "output_type": "stream",
          "name": "stdout",
          "text": [
            "Batch 3500 of 37512. Loss:2.263856887817383. Time:0:10:42\n",
            "Example output: aita for cutting ties with my mother because she stole my childhood home from me? <|endofprompt|> asshole <|endofverdict|> i(21f) live in the uk and my parents are planning on selling the house they own. it will be very likely i'll be able to sell it but it would likely be an hour or two before the official sale. they've never tried to make my siblings choose their houses or anything with their current. i've always been a bit more of a neat freak than my older sister (11, also) and i didn't mind if she asked me to do anything with my life, she was always the one giving me everything i needed and the only one who came over and started everything, the last time i met her, she took a half hour drive and left without even calling me when she came back, i knew the owner was gone when she came back. that said she never asked me to do anything.\n",
            "\n",
            "&#x200b;\n",
            "\n",
            "i\n"
          ]
        },
        {
          "output_type": "stream",
          "name": "stderr",
          "text": [
            "Setting `pad_token_id` to `eos_token_id`:50256 for open-end generation.\n"
          ]
        },
        {
          "output_type": "stream",
          "name": "stdout",
          "text": [
            "Batch 4000 of 37512. Loss:1.1238313913345337. Time:0:12:14\n",
            "Example output: aita for throwing away my husbands cat? <|endofprompt|> asshole <|endofverdict|> my husband is a very clean person and is very patient with keeping the cats clean. he is a very loving cat, has been in every conversation with her and has never once laid her down. his cat would always eat and lick the food, wash her hands, and even put food away at her mouth. he’s a very sweet and loving cat, but there is no doubt that he’ll fully love her. it’s a thing that he loves to eat. i’ve tried bringing this up but i don’t know what to do. \n",
            "\n",
            "anyway, we have a cat. she’s not terribly old or disabled and is very well behaved. she’s a sweet and kind, and she’s loved me for a long time. my husband has a great relationship with her. she has been very active when he is asleep in the mornings\n"
          ]
        },
        {
          "output_type": "stream",
          "name": "stderr",
          "text": [
            "Setting `pad_token_id` to `eos_token_id`:50256 for open-end generation.\n"
          ]
        },
        {
          "output_type": "stream",
          "name": "stdout",
          "text": [
            "Batch 4500 of 37512. Loss:1.122437834739685. Time:0:13:47\n",
            "Example output: aita for being pissed my brother has no job? <|endofprompt|> not the asshole <|endofverdict|> my brother and his girlfriend have two kids (2 and 7) with a guy from his home.  they've been dating for about 8 months and it's been really hard to put the kids to sleep on weekends and be able to spend time with him on a consistent basis. they've been dating for a few months, and i feel like that's not the point of a relationship, i'd just rather be with him on my weekends at least. \n",
            "\n",
            "my brother is going to work and i'm not sure if i'm overreacting, but i'm a middle schooler and want to be able to spend some time with him.  he's very young and they're a lot older than we are, so he's only just been able to do one job (i think he'll be able to do it), and i don't feel like he should have to do much else. \n"
          ]
        },
        {
          "output_type": "stream",
          "name": "stderr",
          "text": [
            "Setting `pad_token_id` to `eos_token_id`:50256 for open-end generation.\n"
          ]
        },
        {
          "output_type": "stream",
          "name": "stdout",
          "text": [
            "Batch 5000 of 37512. Loss:2.4709887504577637. Time:0:15:18\n",
            "Example output: aita for buying an expensive ticket? <|endofprompt|> asshole <|endofverdict|> my boyfriend has two older siblings, so i guess they had a bad time. i bought them their tickets on black friday. they were going to have to work on saturday.\n",
            "\n",
            "my boyfriend had a bad day and wasn't working, so i texted him the next day and asked if i could come over and hang out.\n",
            "\n",
            "when i went down there, he didn't answer, so i offered to buy him his ticket. he said no.\n",
            "\n",
            "today, my boyfriend and i talked about buying tickets and the idea of me spending $20 and 20 on the ticket (which was a lot. we didn't want $10, right?)\n",
            "\n",
            "when i texted my boyfriend this, he got pissed and said \"oh you should probably spend $10 on your ticket.\"  he then said \"when he doesn't need me to give him money then i can have your ticket.\"\n",
            "\n",
            "i can only\n"
          ]
        },
        {
          "output_type": "stream",
          "name": "stderr",
          "text": [
            "Setting `pad_token_id` to `eos_token_id`:50256 for open-end generation.\n"
          ]
        },
        {
          "output_type": "stream",
          "name": "stdout",
          "text": [
            "Batch 5500 of 37512. Loss:0.6072206497192383. Time:0:16:50\n",
            "Example output: aita for eating my dad's \"japanese food\" even though he didn't know it had been there for me? <|endofprompt|> not the asshole <|endofverdict|> we are a family of four people.  my father is of indian descent, not blood related. he is also a traditional american food-eating american food.\n",
            "\n",
            "he has been telling me that i am not allowed to eat this food, he is \"allowed\" to eat it in indian restaurants in his own house.\n",
            "\n",
            "but when he told me that, i told him i was only going to eat what he was eating, but that he couldn't say anything. so, i said that he could be allowed to eat what he wanted. he asked me, again, whether i was going to eat something. i told him no, no.\n",
            "\n",
            "after a while, he said something along the lines of \"that is not the problem, i don't think it is an issue to eat it.\"\n"
          ]
        },
        {
          "output_type": "stream",
          "name": "stderr",
          "text": [
            "Setting `pad_token_id` to `eos_token_id`:50256 for open-end generation.\n"
          ]
        },
        {
          "output_type": "stream",
          "name": "stdout",
          "text": [
            "Batch 6000 of 37512. Loss:0.9812220335006714. Time:0:18:21\n",
            "Example output: wibta if i called out a coworker for having a \"fat\" face? <|endofprompt|> asshole <|endofverdict|> i have this coworker who doesn't seem to be doing much work to help with the job search. he comes in late, tries to be attentive, but seems to rarely do his job, or care about what other people are doing, and is constantly saying stupid things, etc. i just don't know if he's working hard or if he's just being a lazy jerk. \n",
            "\n",
            "he comes in on his lunch break, tries to be friendly by saying hello as soon as he can, and he's honestly sorta funny. he's really good at it, and he's also kind of hard to get along with. he also kind of sucks at taking his breaks, so he only calls in front of the two of us. this started a few weeks ago when he was just sitting outside, which is fine by me because i don't care who he's talking\n"
          ]
        },
        {
          "output_type": "stream",
          "name": "stderr",
          "text": [
            "Setting `pad_token_id` to `eos_token_id`:50256 for open-end generation.\n"
          ]
        },
        {
          "output_type": "stream",
          "name": "stdout",
          "text": [
            "Batch 6500 of 37512. Loss:0.7937942743301392. Time:0:19:53\n",
            "Example output: aita for getting my daughter to drive herself? <|endofprompt|> asshole <|endofverdict|> throwaway so my daughter can get a better sense of privacy. \n",
            "\n",
            "my daughter is 17 and recently her mother gave her a divorce. she's in the adult world and we want to help her because we want her to be happy as much as possible, but we also want her to be able to tell us where she's going, and that she would need to tell us her plans. \n",
            "\n",
            "some background, my daughter loves her independence and has the freedom to do what she wants. she's been into big boy cars but has never broken any rules in the adult world because she doesn't want to be pulled over for a speeding ticket. she has never broken any rules in the adult world.\n",
            "\n",
            "our mother has always been very cold to us and has told us in the past that we need to leave her alone whenever she needs something, which i find quite unfair.\n",
            "\n",
            "we recently got her\n"
          ]
        },
        {
          "output_type": "stream",
          "name": "stderr",
          "text": [
            "Setting `pad_token_id` to `eos_token_id`:50256 for open-end generation.\n"
          ]
        },
        {
          "output_type": "stream",
          "name": "stdout",
          "text": [
            "Batch 7000 of 37512. Loss:1.765626072883606. Time:0:21:25\n",
            "Example output: aita for eating in my girlfriend’s car? <|endofprompt|> not the asshole <|endofverdict|> so last night i ate in my girlfriend’s car and i told her i’d eat there but she had not brought her food and so i was just gonna eat there as we went to bed together, i was going to go to the store tomorrow when we were both out because she was going to work early. today i came home and i realized that i took her car keys in front of me, and i did not want to eat there, so i did and went to my moms car and took her keys out, and went to my sister’s house, (he’s in jail because of some legal stuff, and in my area he is also an alcoholic and has a dui). my sister said i was the asshole because i took their keys and i don’t know why. so i took her keys, ate and cleaned out her car. i didn\n"
          ]
        },
        {
          "output_type": "stream",
          "name": "stderr",
          "text": [
            "Setting `pad_token_id` to `eos_token_id`:50256 for open-end generation.\n"
          ]
        },
        {
          "output_type": "stream",
          "name": "stdout",
          "text": [
            "Batch 7500 of 37512. Loss:0.9668642282485962. Time:0:22:58\n",
            "Example output: aita for not letting my friend’s fiancée stay over with me after she made her move? <|endofprompt|> not the asshole <|endofverdict|> my friend (joe) and i (both 31f) were supposed to take a friend trip overseas. however, she asked if we could go on a 2 week weekend away, since she wanted to see joe. i didn’t know either of them beforehand. i got a message from joe saying she wouldn’t be able to stay over since she’s busy (that i offered to let her stay).\n",
            "\n",
            "here’s what happened: her fiancée said that joe is going to bring her bf and her house to stay at her house. i said no because i’m not comfortable sharing with her boyfriend. she said she’ll bring her bf, and asked me if i would let joe stay with me while i stayed on the vacation. i told her i\n"
          ]
        },
        {
          "output_type": "stream",
          "name": "stderr",
          "text": [
            "Setting `pad_token_id` to `eos_token_id`:50256 for open-end generation.\n"
          ]
        },
        {
          "output_type": "stream",
          "name": "stdout",
          "text": [
            "Batch 8000 of 37512. Loss:0.894199013710022. Time:0:24:28\n",
            "Example output: aita for giving up my job? <|endofprompt|> not the asshole <|endofverdict|> i'm 27m and i just started a new job at a fast food restaurant. my manager, who is a manager at the same time, who is also a manager is also a manager at the same fast food restaurant i'm at now. i'll call her amy.  \n",
            "\n",
            "\n",
            "i work in a fast food restaurant. i make good money, and there's an owner that comes in and cooks/managers while i take care of the servers.   \n",
            "\n",
            "\n",
            "amy comes in and sits in the bathroom while i cook and she's sitting in the kitchen talking to me. she comes in for about an hour or so and sits in the kitchen with her laptop. i tell her \"hey where's your macbook? we all put the macbook away, i've got one on there, if you put it away, i'll get it back.\" she asks what the hell it's with, and\n"
          ]
        },
        {
          "output_type": "stream",
          "name": "stderr",
          "text": [
            "Setting `pad_token_id` to `eos_token_id`:50256 for open-end generation.\n"
          ]
        },
        {
          "output_type": "stream",
          "name": "stdout",
          "text": [
            "Batch 8500 of 37512. Loss:1.279226541519165. Time:0:26:01\n",
            "Example output: aita for not wanting to visit my grandpa in hospital? <|endofprompt|> asshole <|endofverdict|> so my grandma passed away in january of last year. she had her first major surgery and she was in so much pain from a stroke last spring.\n",
            "now there's a lot of pressure in my family to visit her so this summer i decided i would go. so my mom decided to let me stay with my grandpa so he can come and help. so i can start visiting him once every few months. \n",
            "my mom told me that she would like me to visit him before i come back so that he won't be lonely. \n",
            "i didn't tell her i couldn't come over due to how my grandma's job is (it's in a building on the lake so there is no way to transport to the lake). but i did give my mom my plane tickets in order to use the city. \n",
            "so last month my mom started making comments about how i would be homeless\n"
          ]
        },
        {
          "output_type": "stream",
          "name": "stderr",
          "text": [
            "Setting `pad_token_id` to `eos_token_id`:50256 for open-end generation.\n"
          ]
        },
        {
          "output_type": "stream",
          "name": "stdout",
          "text": [
            "Batch 9000 of 37512. Loss:1.6457756757736206. Time:0:27:33\n",
            "Example output: aita for not wanting to take care of my mother's car anymore <|endofprompt|> asshole <|endofverdict|> backstory: we've got three housemates. one of them has a pretty big, tiny car, one about 10 years old and one small, maybe a quarter long drive from work. the other has a much larger trunk. i get to use the kitchen, she takes my cats, i pick them up with her, i drop them at my place when she's not home, i usually leave the laundry on her bedside table. the other day when i went to use the laundry she had a big toy truck that had an exhaust pipe, she was supposed to use it for the day but her boss was working the morning of so it was only 10 minutes after i got home from work, so i had to run to use the restroom. she didn't tell me until 10 min after i got home and the truck was gone.\n",
            "\n",
            "the day i got home i had to wake up and\n"
          ]
        },
        {
          "output_type": "stream",
          "name": "stderr",
          "text": [
            "Setting `pad_token_id` to `eos_token_id`:50256 for open-end generation.\n"
          ]
        },
        {
          "output_type": "stream",
          "name": "stdout",
          "text": [
            "Batch 9500 of 37512. Loss:1.0853571891784668. Time:0:29:05\n",
            "Example output: aita for not going to my friend's birthday <|endofprompt|> not the asshole <|endofverdict|> this story happened a few months ago and it was really stressing me out. one of my close friends (let's call him tom) that i know has been struggling with depression for years has come to me, asking to go to a party to help me out. i agreed. we went, we talked and decided on a date. our topic hit the fan and he said he wanted me to go. i felt guilty, but said i didn't wanna go because he's a genuinely nice guy. when we got home he's asked why i didn't come. i told him it hurt me that he kept asking why i didn't come and told him if he felt bad he can hang out with me. he says it's fine if i go with him because he's my friend and i love him. am i the asshole for not going to his birthday? <|eok|> friend,going,aita,birthday\n"
          ]
        },
        {
          "output_type": "stream",
          "name": "stderr",
          "text": [
            "Setting `pad_token_id` to `eos_token_id`:50256 for open-end generation.\n"
          ]
        },
        {
          "output_type": "stream",
          "name": "stdout",
          "text": [
            "Batch 10000 of 37512. Loss:2.3918986320495605. Time:0:30:37\n",
            "Example output: aita for being mad at my father for bringing up the holiday with my girlfriend? <|endofprompt|> asshole <|endofverdict|> so i'm 22 and my girlfriend is 22.\n",
            "\n",
            "                                                                                                                                                                       \n"
          ]
        },
        {
          "output_type": "stream",
          "name": "stderr",
          "text": [
            "Setting `pad_token_id` to `eos_token_id`:50256 for open-end generation.\n"
          ]
        },
        {
          "output_type": "stream",
          "name": "stdout",
          "text": [
            "Batch 10500 of 37512. Loss:1.3708478212356567. Time:0:32:09\n",
            "Example output: aita for not buying my stepmother a gift for her birthday? <|endofprompt|> asshole <|endofverdict|> my father recently passed away and my mother decided to have a baby shower for us, which is a big deal to me because i have a baby on my own. \n",
            "\n",
            "my stepmother on the other hand is getting a lot of shit. the reason is that her and my mother are going to sell their house in a few months and she wants me to take care of her responsibilities (she has already tried to sell the house in hopes of selling it for something else). \n",
            "\n",
            "the thing is, that was the first we've spoken about this. my father and i have been discussing this for a while. my mom is getting a lot more money now and going through a really rough time financially. my father and i have a very strong bond. my mother is getting older.\n",
            "\n",
            "when i told my mother about this, my mom got very mad. she said the only way i\n"
          ]
        },
        {
          "output_type": "stream",
          "name": "stderr",
          "text": [
            "Setting `pad_token_id` to `eos_token_id`:50256 for open-end generation.\n"
          ]
        },
        {
          "output_type": "stream",
          "name": "stdout",
          "text": [
            "Batch 11000 of 37512. Loss:1.0148886442184448. Time:0:33:40\n",
            "Example output: wibta for getting the nazi flag back after he called the cops on me? <|endofprompt|> not the asshole <|endofverdict|> so i'm a guy who has lived in the us for more than a few years.  i am also jewish.  i have 3 jewish cousins, one of which is very anti-abortion.  i'm not really that religious, so i really don't see anything wrong with the nazi flag as a problem. \n",
            "\n",
            "however, i've been seeing a lot of nazi facebook posts this week.  i don't particularly want anything to do with them because i know it will likely be a nightmare for them and i would not be able to hide anything.  i thought it would be funny to post a flag in my area and send them to family members.  my other cousin who is very anti-abortion has been calling me in the past and called me a racist for not keeping this up and getting the nazi flag back. \n"
          ]
        },
        {
          "output_type": "stream",
          "name": "stderr",
          "text": [
            "Setting `pad_token_id` to `eos_token_id`:50256 for open-end generation.\n"
          ]
        },
        {
          "output_type": "stream",
          "name": "stdout",
          "text": [
            "Batch 11500 of 37512. Loss:1.4530166387557983. Time:0:35:10\n",
            "Example output: aita for getting mad at my aunt when she kept her room for all of her stuff? <|endofprompt|> not the asshole <|endofverdict|> yesterday, my family was heading out, and my aunt got a house. i was out of town for my last few days, so i was gone for an hour before getting my car and my mom was just texting me. \n",
            "\n",
            "i'm at a stop light, but i see a car coming out of nowhere. i quickly knock on her door, saying to my aunt to come in. she said to come in, and i asked what was going on. \n",
            "\n",
            "my uncle, who lives with my aunt, was just saying what was going on. he said that he is leaving his stuff at his aunt's house when everyone leaves at midnight. i tell him that i'm not going to talk to him, because he kept his room and i already had my mother's key. he just said, \"it was a accident\". \n",
            "\n",
            "my\n"
          ]
        },
        {
          "output_type": "stream",
          "name": "stderr",
          "text": [
            "Setting `pad_token_id` to `eos_token_id`:50256 for open-end generation.\n"
          ]
        },
        {
          "output_type": "stream",
          "name": "stdout",
          "text": [
            "Batch 12000 of 37512. Loss:2.3895766735076904. Time:0:36:41\n",
            "Example output: wibta if i tell my best friend that her bf is a shitty person for judging her boyfriend and my friend for not giving her a chance? <|endofprompt|> asshole <|endofverdict|> hey guys,\n",
            "\n",
            "my best friend is dating a guy she's been seeing for almost a month. they have been dating since the beginning of her senior year. they have been together for a year. it was their first serious relationship. he was extremely good friend in high school and got out of the military and moved around for 4 months before her boyfriend got out and they ended up getting back together. this has been a pattern with him for years.\n",
            "\n",
            "this guy is in the military. he met this girl when he got engaged and has dated her a lot. after the wedding, she has repeatedly said he would never be with her and that she doesn't need him. she's always had some problems with him leading up to the wedding and he's never been with her. \n",
            "\n",
            "the breaking point\n"
          ]
        },
        {
          "output_type": "stream",
          "name": "stderr",
          "text": [
            "Setting `pad_token_id` to `eos_token_id`:50256 for open-end generation.\n"
          ]
        },
        {
          "output_type": "stream",
          "name": "stdout",
          "text": [
            "Batch 12500 of 37512. Loss:0.7251601219177246. Time:0:38:12\n",
            "Example output: wibta for refusing to help my uncle with his kids? <|endofprompt|> asshole <|endofverdict|> first post here, sorry for grammar/spelling/grammer. on mobile.\n",
            "\n",
            "i'm a teacher at a highschool in my town. this school has a fairly large and formal competition, where students win in a pretty severe case of severe bullying. it is extremely difficult and challenging to get into and get a good place in a school, and i can barely take two classes at home. \n",
            "\n",
            "my uncle on the other hand,  has two kids, aged 6, age 5 and 4. he is a good father and a good student, but his two children do not want to meet any of their future grandchildren unless they grow up here and start working and/or have kids in our town. they are currently about 3 months old and 5 month old, and my uncle is planning on proposing to his oldest daughter a little while before her birthday. \n",
            "\n",
            "wibta if\n"
          ]
        },
        {
          "output_type": "stream",
          "name": "stderr",
          "text": [
            "Setting `pad_token_id` to `eos_token_id`:50256 for open-end generation.\n"
          ]
        },
        {
          "output_type": "stream",
          "name": "stdout",
          "text": [
            "Batch 13000 of 37512. Loss:2.1139039993286133. Time:0:39:44\n",
            "Example output: aita for going behind my dad's back to get my mom? <|endofprompt|> not the asshole <|endofverdict|> first of all, this happened just the other day.  my parents moved to california in early august 2018 and i'm now 27.\n",
            "\n",
            "i'm living with my dad, and i have 2 younger brothers and a 3 year old daughter.  when i was a kid i was pretty much the only child of the family, so i used to babysit and all that stuff, but since i'm still a young adult now, my older brother basically only ever babysits with me when i'm alone.  he works full time and the only days i have off are nights when i'm sleeping, and because my mom doesn't work, i'm always busy, so i've been home in the mornings as well.\n",
            "\n",
            "my mom works a minimum wage job, i've been living off my salary for about two months.  recently it came to the point where she's\n"
          ]
        },
        {
          "output_type": "stream",
          "name": "stderr",
          "text": [
            "Setting `pad_token_id` to `eos_token_id`:50256 for open-end generation.\n"
          ]
        },
        {
          "output_type": "stream",
          "name": "stdout",
          "text": [
            "Batch 13500 of 37512. Loss:2.6544106006622314. Time:0:41:15\n",
            "Example output: aita if i don't want to help my gf with rent anymore? <|endofprompt|> asshole <|endofverdict|> my gf has been here about 5 months now, and i'm paying all her bills. we split rent evenly, she pays half and half. i'm paying 80% of the bills and i'm paying 35% of her bills. i have a job but get paid $450 a month plus pay raise. and she doesn't know how much i pay. she just wants to be independent. \n",
            "\n",
            "i have a job. and work full time. she also gets paid less than her normal pay. she also gets paid $800 a month. if i'm not working or working. i am working to provide for her. and she has two pets.\n",
            "\n",
            "we can't just split rent anymore. if i'm only working part time i'll do my chores and take out the trash and pick up the dogs. but she needs to get her own house, i won't\n"
          ]
        },
        {
          "output_type": "stream",
          "name": "stderr",
          "text": [
            "Setting `pad_token_id` to `eos_token_id`:50256 for open-end generation.\n"
          ]
        },
        {
          "output_type": "stream",
          "name": "stdout",
          "text": [
            "Batch 14000 of 37512. Loss:1.3031938076019287. Time:0:42:47\n",
            "Example output: aita for cutting my friend out of a friendship? <|endofprompt|> not the asshole <|endofverdict|> my friend/roommate has a very toxic personality. for some background, she has been living with my roommate for over two years. i can't remember the last few months but it's something that has been a constant reminder to me when it gets to me. we have tried and everything has worked out so far.\n",
            "\n",
            "i moved in about six months ago. we lived in a house with three other people for a long time (we moved in two years ago and lived separately but in separate rooms). since moving in we have all gotten along fine, but i have some issues with my girlfriend that have been bothering me about not being able to have a relationship with her. i tried and politely said we didn't really have a lot of space and that i wouldn't be able to deal with her anymore.\n",
            "\n",
            "a few weeks ago she was being really toxic. like screaming, crying, and generally\n"
          ]
        },
        {
          "output_type": "stream",
          "name": "stderr",
          "text": [
            "Setting `pad_token_id` to `eos_token_id`:50256 for open-end generation.\n"
          ]
        },
        {
          "output_type": "stream",
          "name": "stdout",
          "text": [
            "Batch 14500 of 37512. Loss:2.34676194190979. Time:0:44:18\n",
            "Example output: aita for trying to get the girl i’m crushing on (now ex) back when she has sex. <|endofprompt|> asshole <|endofverdict|> so i’ve been crushing on this girl for about 6 months now. last month was the first time i tried to be in serious. i’m in my late 20s and she’s a year younger than me. we hit it off and it went well. fast forward to the other day. she goes to a party we’ve never been to before and i was pretty drunk. she asks if i’m alright because she’s too skinny and wants me to lose weight. obviously i told her no. i told her that she’s really thin. she told me i’m not anorexic (it’s a really common thing, guys take a long time for a girl) and that i look like a fatass and i should be more understanding. i told\n"
          ]
        },
        {
          "output_type": "stream",
          "name": "stderr",
          "text": [
            "Setting `pad_token_id` to `eos_token_id`:50256 for open-end generation.\n"
          ]
        },
        {
          "output_type": "stream",
          "name": "stdout",
          "text": [
            "Batch 15000 of 37512. Loss:2.2123076915740967. Time:0:45:51\n",
            "Example output: aita for snapping at my boyfriend for making his stepdaughter cry <|endofprompt|> asshole <|endofverdict|> we were having a movie tonight at a cinema. my boyfriend (30m) got married in a very fancy and fancy dress. when we went to the movies, his stepdaughter asked for a dress. she really wanted one, but it took forever to get ready for the movie. he got married in a fancy, fancy dress and looked up at it. it looked great! i didn't mind it, but when i realized he didn't want a dress he got angry and asked her to wear it for a few seconds and he was mad at her. i told her to wear something different and she wasn't feeling up for it, so i told her to wear it as her stepdaughter asked her to wear it. my boyfriend said it wasn't a big deal and she should be careful because i was getting too excited for it. after that, we watched the movie and she didn't enjoy it.\n"
          ]
        },
        {
          "output_type": "stream",
          "name": "stderr",
          "text": [
            "Setting `pad_token_id` to `eos_token_id`:50256 for open-end generation.\n"
          ]
        },
        {
          "output_type": "stream",
          "name": "stdout",
          "text": [
            "Batch 15500 of 37512. Loss:1.8018256425857544. Time:0:47:23\n",
            "Example output: aita for not taking someones money <|endofprompt|> not the asshole <|endofverdict|> (sorry for the bad formatting i'm on mobile)\n",
            "\n",
            "last week my dad decided we needed to go to a church with my stepmom and my step-mom. one of my step moms was pretty poor and my stepmom seemed like she had never been able to pay for school because she made too much. she was underweight so we didn't know how to get to school and we made plans to leave at the next day for dinner to eat later in the week. my dad decided to just sell her some money to pay for college. i had some money saved up from the money i went to help my stepmom get out of debt and save some for college. now i don't talk to my dad and i still don't talk to my stepmom because my stepmom's attitude seems a bit off. my sister says that because i don't talk to my dad i should take some money from my dad\n"
          ]
        },
        {
          "output_type": "stream",
          "name": "stderr",
          "text": [
            "Setting `pad_token_id` to `eos_token_id`:50256 for open-end generation.\n"
          ]
        },
        {
          "output_type": "stream",
          "name": "stdout",
          "text": [
            "Batch 16000 of 37512. Loss:0.956263542175293. Time:0:48:55\n",
            "Example output: aita for refusing to help my dad financially? <|endofprompt|> not the asshole <|endofverdict|> hello,\n",
            "\n",
            "me(19f) and my siblings(23m, 16f and 17f) are living with my family while i finish college. my dad, who i don't talk to often, tells me he can't afford my mother and i can't help him at all. he pays way more than my mother and i can't afford a good job, and he also spends a lot of his money on things such as alcohol or drugs.\n",
            "\n",
            "since i've graduated, i've basically been living under his roof and doing nothing. i've even made my own payments in school and am financially independent. i feel very guilty every time he asks to pay me rent or pay me for something i give it. he says that's not the point in helping him. he also goes out of his way to pay me bills and buy me flowers, but he asks because he has free money so he\n"
          ]
        },
        {
          "output_type": "stream",
          "name": "stderr",
          "text": [
            "Setting `pad_token_id` to `eos_token_id`:50256 for open-end generation.\n"
          ]
        },
        {
          "output_type": "stream",
          "name": "stdout",
          "text": [
            "Batch 16500 of 37512. Loss:0.9489364624023438. Time:0:50:28\n",
            "Example output: aita for not wanting to go to my mom's wedding? <|endofprompt|> asshole <|endofverdict|> okay, for starters, i dont like my mom's friends, let alone the same people.\n",
            "\n",
            "my mom and dad got divorced when i was young. they got along and have a great relationship, but he recently lost his love for her as she wants to be involved in his wedding. she wants him to be involved in the wedding (to be fair, he did propose to her, she doesnt even like my mom's friends). and my mom is not. they haven't seen each other for almost 2 years.\n",
            "\n",
            "my mom's been going through some shit, she's been in rehab for a few months at the very least.\n",
            "\n",
            "last week, we were talking. i asked her what she was thinking about this. she said she'd want me to go but i dont want to. shes been dealing with some really serious shit and wants me to go for the wedding.\n"
          ]
        },
        {
          "output_type": "stream",
          "name": "stderr",
          "text": [
            "Setting `pad_token_id` to `eos_token_id`:50256 for open-end generation.\n"
          ]
        },
        {
          "output_type": "stream",
          "name": "stdout",
          "text": [
            "Batch 17000 of 37512. Loss:1.2098387479782104. Time:0:52:00\n",
            "Example output: wibta for asking my dad to pay back my pc even though he promised. <|endofprompt|> not the asshole <|endofverdict|> i just moved to a new city after a year of university and it has been a year before that and i only have one pc. my pc is the first pc i got. i have no real issue with it. i pay my dad money for the entire lease and all of my utilities when he moves out. \n",
            "\n",
            "\n",
            "i asked him if he could pay towards my college and gave the exact amount. my dad said he would pay towards it back. \n",
            "\n",
            "\n",
            "i said he couldn't afford to buy me a pc. he got really mad about it and told me i can put any money back towards my parents. i refused to do so. he still said he would pay back if i brought up the amount he promised. i still refuse to do so. he says i'm greedy for not getting a pc for college.\n",
            "\n",
            "\n",
            "wibta if i asked him\n"
          ]
        },
        {
          "output_type": "stream",
          "name": "stderr",
          "text": [
            "Setting `pad_token_id` to `eos_token_id`:50256 for open-end generation.\n"
          ]
        },
        {
          "output_type": "stream",
          "name": "stdout",
          "text": [
            "Batch 17500 of 37512. Loss:0.6456138491630554. Time:0:53:31\n",
            "Example output: aita for asking my boyfriend to delete a snapchat picture? <|endofprompt|> asshole <|endofverdict|> i(20m) have been with my boyfriend (21m) for nearly 5 years. he always had a snapchat and every time he sees a photo of himself on his insta, he doesn’t stop. recently, he went on a rampage about posting tons of things that he didn’t like, including nudes of himself, and his friends asking him for nude pictures of them and just calling them all “teen girls”. this really irked me since he just doesn’t want to do that. it’s also just kind of awkward, it makes me really upset. i want to ask him to delete them so he can stop talking to them, and i don’t want any guilt trip from him. am i the asshole for asking? <|eok|> delete,boyfriend,asking,snapchat picture,aita\n"
          ]
        },
        {
          "output_type": "stream",
          "name": "stderr",
          "text": [
            "Setting `pad_token_id` to `eos_token_id`:50256 for open-end generation.\n"
          ]
        },
        {
          "output_type": "stream",
          "name": "stdout",
          "text": [
            "Batch 18000 of 37512. Loss:1.640280842781067. Time:0:55:03\n",
            "Example output: aita for taking an uber home from work? <|endofprompt|> not the asshole <|endofverdict|> i work in the engineering/phys manufacturing part of an engineering building that has an underground garage. there are two shops that are one from my building, one from my building, and one from an alleyway. i work in a office setting (think tiny parking garage) and i drive to one of the first and very last shops so i go there on breaks.\n",
            "\n",
            "i took my car on a 5 day break last friday, and i parked beside the entrance. on the way out one of the shops the person who was holding my car pulled out to an alleyway in front of me. i stopped and went to a store to get gas from the alleyway. they were already inside the alleyway so i went inside (no big deal, i thought it was a pretty normal thing to do).\n",
            "\n",
            "they started running at me, telling me i was stealing their car and going out of their way\n"
          ]
        },
        {
          "output_type": "stream",
          "name": "stderr",
          "text": [
            "Setting `pad_token_id` to `eos_token_id`:50256 for open-end generation.\n"
          ]
        },
        {
          "output_type": "stream",
          "name": "stdout",
          "text": [
            "Batch 18500 of 37512. Loss:0.935741662979126. Time:0:56:35\n",
            "Example output: aita for asking my mom to stop saying things like “fuck” “fuck” <|endofprompt|> not the asshole <|endofverdict|> i (15f) live with my parents and two little brothers. both of them have a habit of going out with us in the kitchen. it’s never just about me and them talking and having fun. it’s about my younger brothers who have no idea what’s going on. they often are talking about girls and how they’re going to get laid. but my mom constantly says “fuck” or “fuck”. my younger brother is just like “fuck” and my mom just just brushes him off. my dad on the other hand just does the same thing. he gets mad at her and leaves. when she does come to our house, he always talks about her and my younger brother and talks about other things we can’t control. my mom just gives him all kinds\n"
          ]
        },
        {
          "output_type": "stream",
          "name": "stderr",
          "text": [
            "Setting `pad_token_id` to `eos_token_id`:50256 for open-end generation.\n"
          ]
        },
        {
          "output_type": "stream",
          "name": "stdout",
          "text": [
            "Batch 19000 of 37512. Loss:2.0435214042663574. Time:0:58:07\n",
            "Example output: aita for not cleaning my room when my dad is there? <|endofprompt|> asshole <|endofverdict|> i (17f) live with my parents and brother, my parents have been pretty abusive. i hate myself, i'm constantly berated, and my brother, whom i call dad, is on my parents bad side because he's the one who yells at all of us. he's very narcissistic and disrespectful to my mom. \n",
            "\n",
            "when i was a kid, i never really cared if he was there, and when i was 15, i started to cry, and i didn't really go to school (we're both adults). i got depressed at 13, i got my depression out, then my dad started to come to my room.\n",
            "\n",
            "now i'm sure you've got some information but it's important for me to make this very clear. my mom thinks i'm being too hard on her and is pretty rude when i'm really trying to get through with the rest of my life\n"
          ]
        },
        {
          "output_type": "stream",
          "name": "stderr",
          "text": [
            "Setting `pad_token_id` to `eos_token_id`:50256 for open-end generation.\n"
          ]
        },
        {
          "output_type": "stream",
          "name": "stdout",
          "text": [
            "Batch 19500 of 37512. Loss:1.2398998737335205. Time:0:59:38\n",
            "Example output: aita for making an honest mistake? <|endofprompt|> not the asshole <|endofverdict|> i was out with a group of friends. there were like 8 of us and this particular one (m23) was just there. there were some girls there and she was just dancing around and talking and was having fun. she had a drink, but she was too hungover to handle any of that. it was really getting on my nerves, but she just sat there and didn’t seem to like dancing and didn’t speak much english. i know that i was ta for not being upfront in the fact she did have to make an honest mistake. but still i didn’t feel like we really did anything wrong. i could be wrong. thanks for reading. <|eok|> making,aita,honest mistake\n"
          ]
        },
        {
          "output_type": "stream",
          "name": "stderr",
          "text": [
            "Setting `pad_token_id` to `eos_token_id`:50256 for open-end generation.\n"
          ]
        },
        {
          "output_type": "stream",
          "name": "stdout",
          "text": [
            "Batch 20000 of 37512. Loss:2.280660390853882. Time:1:01:10\n",
            "Example output: aita for not allowing my sister in law to move in <|endofprompt|> asshole <|endofverdict|> so i’m pregnant and i have been working full time to save money. when i was pregnant with my first child my in laws decided to move in with me, so i made a post on facebook and asked all my family to send me a link to it. i was upset and upset because my sister in law decided to leave when she found out she had my child.  \n",
            "\n",
            "she said it’s her right to live whatever she wants but i really like her and it’s not up to her to move in so she can be a mom to my child. my nephew said he didn’t really want to live where he lives so his father can have her over and stay at home until he finds a house that he wants so there wouldn’t be any problems for us. \n",
            "\n",
            "but now when my nephew found out about the situation he got upset\n"
          ]
        },
        {
          "output_type": "stream",
          "name": "stderr",
          "text": [
            "Setting `pad_token_id` to `eos_token_id`:50256 for open-end generation.\n"
          ]
        },
        {
          "output_type": "stream",
          "name": "stdout",
          "text": [
            "Batch 20500 of 37512. Loss:1.188727617263794. Time:1:02:42\n",
            "Example output: wibta for telling my friend to get her shit together? <|endofprompt|> asshole <|endofverdict|> so the title sounds awful but hear me out. \n",
            "so my friend and i have been friends for like five years.  we always talk about our travels, vacations and whatnot. we always make plans for each other. but she recently had her baby brother move in and is going through a rough patch and her parents haven’t seen the baby as often as they’ve been. she is a stay at home mom. \n",
            "now this is kind of the problem because the baby is already a lot of stress. she feels like a burden. and that’s one of the main reasons she’s this worried. \n",
            "because of this i haven’t really tried to get her to hang out. she just seems to always need me there and i’m always trying to help her. i’ve even gone to one of her sister’\n"
          ]
        },
        {
          "output_type": "stream",
          "name": "stderr",
          "text": [
            "Setting `pad_token_id` to `eos_token_id`:50256 for open-end generation.\n"
          ]
        },
        {
          "output_type": "stream",
          "name": "stdout",
          "text": [
            "Batch 21000 of 37512. Loss:0.9854348301887512. Time:1:04:14\n",
            "Example output: aita for giving my friend a phone number? <|endofprompt|> not the asshole <|endofverdict|> hello reddit. i know how this sounds so apologies for the format. \n",
            "\n",
            "today me and a group of friends were out shopping and having a bit of fun as usual. there was a guy there, he's gay, so he had his phone number. \n",
            "\n",
            "for whatever reason as we are hanging out i see him having a photo of himself. i thought it was funny to have a photo of him because it really looks like he was gay. i decided to give him my phone and he seemed really uncomfortable. \n",
            "\n",
            "i looked a bit relieved so i asked him about it and he said he just thought it looked funny. i said he couldn't believe how i was acting. he got angry and went off on me. telling me i was being so insensitive. when we got home he didn't even look at me and acted like i didn't exist. we're all hanging out with friends\n"
          ]
        },
        {
          "output_type": "stream",
          "name": "stderr",
          "text": [
            "Setting `pad_token_id` to `eos_token_id`:50256 for open-end generation.\n"
          ]
        },
        {
          "output_type": "stream",
          "name": "stdout",
          "text": [
            "Batch 21500 of 37512. Loss:1.806941270828247. Time:1:05:47\n",
            "Example output: aita for talking about my mental health to my girlfriend? <|endofprompt|> asshole <|endofverdict|> i've struggled with mental health, and i've always wondered whether it would be best if i told her something as self-diagnosed as a way of coping.\n",
            "\n",
            "&#x200b;\n",
            "\n",
            "**context:** i've been with my girlfriend for almost 3 years. in that time, i was going through a lot of stuff and we made it really hard for me to make a move. she was pretty much my only friend, and i loved her. after a while, i just stopped talking to her at all because of the things she did.\n",
            "\n",
            "&#x200b;\n",
            "\n",
            "**now:** my girlfriend started to talk about how much she loved me. i've had an incredibly hard few months of not hearing from her. and i haven't, i've just decided to stay as quiet as possible. i'm glad she's at least willing to hear about it\n"
          ]
        },
        {
          "output_type": "stream",
          "name": "stderr",
          "text": [
            "Setting `pad_token_id` to `eos_token_id`:50256 for open-end generation.\n"
          ]
        },
        {
          "output_type": "stream",
          "name": "stdout",
          "text": [
            "Batch 22000 of 37512. Loss:2.4389641284942627. Time:1:07:19\n",
            "Example output: aita for wanting my boyfriend to pay for our cat- litter while i watch his puppy while he’s gone? <|endofprompt|> asshole <|endofverdict|> i (30f) and my boyfriend (26m) have been together for a year. he’s a dog-owner so if we want a new dog i need to come home before bed so my boyfriend can get my cats attention while he goes to bed (we live together). the issue is that my boyfriend is very attached to his puppy, i like him. he’s my first pet and i’ve been trying to get him to spend as much time with me as i can, and i don’t want to hurt our relationship. my boyfriend says that i should pay him more since i want to spend time with him and he also wants to “spend more time together” since he doesn’t have the energy to do anything right now. we only really have one apartment so if\n"
          ]
        },
        {
          "output_type": "stream",
          "name": "stderr",
          "text": [
            "Setting `pad_token_id` to `eos_token_id`:50256 for open-end generation.\n"
          ]
        },
        {
          "output_type": "stream",
          "name": "stdout",
          "text": [
            "Batch 22500 of 37512. Loss:1.307722568511963. Time:1:08:51\n",
            "Example output: aita for getting upset/upset? <|endofprompt|> not the asshole <|endofverdict|> to give some background on my family...i have always been an introvert with adhd and anxiety. when i would come home from school, i would try to hide and play d&d with my friends which would be weird because i had just moved out of state. the only time i could spend time outside of school were after school with some friends. i was also working a full-time job and my hours with these friends added up quickly. now, recently, i have finally grown out of the toxic phase of life which is when i began to talk to friends. \n",
            "\n",
            "as a result, i do not have much in common with friends. we are usually on talking terms but i do talk to my friends. we are not close at all but i am used to people being nice about how they have treated me, for example. \n",
            "\n",
            "one of my friends recently came into the conversation about me\n"
          ]
        },
        {
          "output_type": "stream",
          "name": "stderr",
          "text": [
            "Setting `pad_token_id` to `eos_token_id`:50256 for open-end generation.\n"
          ]
        },
        {
          "output_type": "stream",
          "name": "stdout",
          "text": [
            "Batch 23000 of 37512. Loss:1.9493759870529175. Time:1:10:23\n",
            "Example output: aita for not wanting to drive my dad to get me a new car? <|endofprompt|> not the asshole <|endofverdict|> my dad has been in and out of hospitals for the past few years and recently we bought our first car, we are at my parents house and my dad is not here.\n",
            "\n",
            "the thing is, my dad had just bought a new car (a new one) and was about to go home. this was about a week ago and i am currently looking for a new car. the thing is, i didn't want to drive and i don't feel like i can have the time or energy to get that new car because it isn't brand new and i would be stuck for a few weeks until i can buy the new car. the problem is this: my dad is really pushing me to get the new car but is saying it'll be expensive and i should spend my $5 dollars to get it done in 2 weeks.\n",
            "\n",
            "am i the asshole for thinking this way or\n"
          ]
        },
        {
          "output_type": "stream",
          "name": "stderr",
          "text": [
            "Setting `pad_token_id` to `eos_token_id`:50256 for open-end generation.\n"
          ]
        },
        {
          "output_type": "stream",
          "name": "stdout",
          "text": [
            "Batch 23500 of 37512. Loss:0.5258991718292236. Time:1:11:55\n",
            "Example output: wibta if i told my mom i didn’t like her cooking? <|endofprompt|> asshole <|endofverdict|> hey,\n",
            "\n",
            "this isn’t really the best subreddit, but i would like to hear the opinion on this. \n",
            "\n",
            "my mom and i are always in a feud about the smallest things and she doesn’t seem to get why i want to eat less. she is constantly taking the “eat better than you” side. i don’t like eating so much and i’m sure it would be best if i told her i wasn’t in it and told her to get over it and not do that again. but when i said that to her, she started crying and said that i “did nothing wrong, i was just trying to show appreciation for the cooking!” i have tried everything to work it out but she still won’t do it. my dad is a chef and he likes to cook well\n"
          ]
        },
        {
          "output_type": "stream",
          "name": "stderr",
          "text": [
            "Setting `pad_token_id` to `eos_token_id`:50256 for open-end generation.\n"
          ]
        },
        {
          "output_type": "stream",
          "name": "stdout",
          "text": [
            "Batch 24000 of 37512. Loss:1.3456577062606812. Time:1:13:26\n",
            "Example output: wibta for telling my girlfriend she can’t wear the karaoke clip for her bday? <|endofprompt|> not the asshole <|endofverdict|> background:\n",
            "\n",
            "about 6 months ago my girlfriend and i took the final decision that she would no longer be a part of a bday party for her bf (who is known for being really cheap and materialistic).  the party was only to host a bday party, as the bf would be working there, and most of the guests were staying in another country. the bday party would be hosted within 15 days of the date and would be a big, intimate event for the entire 4 of us.  it would be to celebrate our 18th birthday, as it is a milestone milestone birthday for our entire friend group.  the bday party would be in one state, where my girlfriend and i live.\n",
            "\n",
            "the issue:\n",
            "\n",
            "so on to the issue.\n",
            "\n",
            "my girlfriend had been on her bday for\n"
          ]
        },
        {
          "output_type": "stream",
          "name": "stderr",
          "text": [
            "Setting `pad_token_id` to `eos_token_id`:50256 for open-end generation.\n"
          ]
        },
        {
          "output_type": "stream",
          "name": "stdout",
          "text": [
            "Batch 24500 of 37512. Loss:1.0736395120620728. Time:1:14:59\n",
            "Example output: aita for being mad about what my ex told me? <|endofprompt|> not the asshole <|endofverdict|> my ex and i dated for 4 years. we had been together for 2 years before we broke up. we broke up on good terms after. i moved out of her house, and now live in a different city. i have been living with her for a while now.\n",
            "\n",
            "we have talked more than one thing, and i don't see why she should tell me. i am happy and i love her but i don't want to take advantage of her happiness.\n",
            "\n",
            "i have told her many times to get her own life and she always gets mad at me. she is very manipulative and i am very hurt by what i told her. i don't feel sorry for her at all. she is a very manipulative person. but she is really good friends with all the people that she talks to, and it's not like i am trying to say anything to her.\n",
            "\n",
            "a couple nights\n"
          ]
        },
        {
          "output_type": "stream",
          "name": "stderr",
          "text": [
            "Setting `pad_token_id` to `eos_token_id`:50256 for open-end generation.\n"
          ]
        },
        {
          "output_type": "stream",
          "name": "stdout",
          "text": [
            "Batch 25000 of 37512. Loss:0.6591522693634033. Time:1:16:31\n",
            "Example output: aita for thinking my friend is being childish? <|endofprompt|> not the asshole <|endofverdict|> my friend, t, is constantly messaging my ex (we're both juniors in high school).\n",
            "\n",
            "she's always been emotionally absent, very nosy, and generally insecure about herself and other people, though she can get upset easily.\n",
            "\n",
            "when she met me (and at one point she told me she liked me), she told me that she was depressed (she claims she's depressed), had a boyfriend, a little boy and a half and that she wanted to be with me, while also struggling with her depression and the guy. (she's been on and off since the divorce). \n",
            "\n",
            "i was not trying to sabotage either of them. she was more so upset that she just told me about my depression and how she found it hard to be with guys, or that she wanted me to lose myself for more than one night every two months. i told her she can try to lose weight\n"
          ]
        },
        {
          "output_type": "stream",
          "name": "stderr",
          "text": [
            "Setting `pad_token_id` to `eos_token_id`:50256 for open-end generation.\n"
          ]
        },
        {
          "output_type": "stream",
          "name": "stdout",
          "text": [
            "Batch 25500 of 37512. Loss:0.7347431778907776. Time:1:18:02\n",
            "Example output: aita for giving money to my daughter <|endofprompt|> not the asshole <|endofverdict|> i’m 50(f) and my two daughters (13f)  are finishing up high school and have been working in tech for 10 years now. i was in their school the other day and i decided to give them $400 in cash to help out with a project. i usually give her $10 in cash just so they can get their assignments. \n",
            "they are doing fine without me but my daughter is acting very selfishly towards me. she says she hates me and that she doesn’t want to see me. she even said she didn’t want to see me and that i gave it to her. \n",
            "\n",
            "so am i the asshole for giving this money to my daughter? i don’t like to give money in cash. it’s my money. <|eok|> giving money,daughter,aita\n"
          ]
        }
      ]
    },
    {
      "cell_type": "markdown",
      "source": [
        "# **Metrics**"
      ],
      "metadata": {
        "id": "Imog5fTZ4rBq"
      }
    },
    {
      "cell_type": "code",
      "source": [
        "torch.load('/content/drive/MyDrive/NLP_Proj/modelcheckpoints/keywords_model_1.pt').keys()"
      ],
      "metadata": {
        "colab": {
          "base_uri": "https://localhost:8080/"
        },
        "id": "eqsEqsM_7Wm0",
        "outputId": "a769f2f7-668b-413d-e1c9-b58f1dd8dcd5"
      },
      "execution_count": null,
      "outputs": [
        {
          "output_type": "execute_result",
          "data": {
            "text/plain": [
              "dict_keys(['step', 'model_state_dict', 'optimizer_state_dict'])"
            ]
          },
          "metadata": {},
          "execution_count": 24
        }
      ]
    },
    {
      "cell_type": "code",
      "source": [
        "model.load_state_dict(torch.load('/content/drive/MyDrive/NLP_Proj/modelcheckpoints/keywords_model_1.pt')['model_state_dict'])"
      ],
      "metadata": {
        "colab": {
          "base_uri": "https://localhost:8080/"
        },
        "id": "khn3rh4c5Aem",
        "outputId": "fb214f88-cd4c-46b7-cac4-a86ac576f7e3"
      },
      "execution_count": null,
      "outputs": [
        {
          "output_type": "execute_result",
          "data": {
            "text/plain": [
              "<All keys matched successfully>"
            ]
          },
          "metadata": {},
          "execution_count": 23
        }
      ]
    },
    {
      "cell_type": "code",
      "source": [
        "optimizer.load_state_dict(torch.load('/content/drive/MyDrive/NLP_Proj/modelcheckpoints/keywords_model_1.pt')['optimizer_state_dict'])"
      ],
      "metadata": {
        "id": "8YvFmGlD6Qdd"
      },
      "execution_count": null,
      "outputs": []
    },
    {
      "cell_type": "code",
      "source": [
        "def calculate_perplexity(model, input_ids, attention_mask, pad_token, stride):\n",
        "  max_len = model.config.n_positions\n",
        "  loss_fn = torch.nn.CrossEntropyLoss()\n",
        "  loss = []\n",
        "  for i in range(0, input_ids.size(1), stride):\n",
        "    begin = max(i+stride-max_len, 0)\n",
        "    end = min(i+stride, input_ids.size(1))\n",
        "    trg_len = end - i\n",
        "    ip = input_ids[:, begin:end].to(device)\n",
        "    mask = attention_mask[:, begin:end].to(device)\n",
        "    target_ids = ip.clone()\n",
        "\n",
        "    with torch.no_grad():\n",
        "        output = model (ip,\n",
        "                          labels=target_ids, \n",
        "                          attention_mask = mask,\n",
        "                          token_type_ids=None\n",
        "                        )\n",
        "        l = output[0]*trg_len\n",
        "    loss.append(l)\n",
        "  \n",
        "  ppl = torch.exp(torch.stack(loss).sum() / end)\n",
        "  return ppl.item()"
      ],
      "metadata": {
        "id": "3Pcr4FGU7i1o"
      },
      "execution_count": null,
      "outputs": []
    },
    {
      "cell_type": "code",
      "source": [
        "perp = 0\n",
        "\n",
        "for batch in validation_dataloader:\n",
        "        \n",
        "        b_input_ids = batch[0].to(device)\n",
        "        b_labels = batch[0].to(device)\n",
        "        b_title = batch[1].to(device)\n",
        "        b_masks = batch[2].to(device)\n",
        "        \n",
        "        with torch.no_grad():        \n",
        "\n",
        "            outputs  = model(b_input_ids,  \n",
        "                             attention_mask = b_masks,\n",
        "                             labels=b_labels)\n",
        "          \n",
        "            loss = outputs[0]  \n",
        "            \n",
        "        batch_loss = loss.item()\n",
        "        #total_eval_loss += batch_loss\n",
        "        perp += calculate_perplexity(model, b_input_ids, b_masks, tokenizer.convert_tokens_to_ids('<|pad|>'), 100)\n",
        "        print(perp)\n",
        "\n",
        "\n",
        "#avg_val_loss = total_eval_loss / len(validation_dataloader)\n",
        "\n",
        "avg_perplexity = float(perp)/len(validation_dataloader)\n",
        "    \n",
        "validation_time = format_time(time.time() - t0)    \n",
        "\n",
        "print(f'Perplexity: {avg_perplexity}')"
      ],
      "metadata": {
        "colab": {
          "base_uri": "https://localhost:8080/",
          "height": 1000
        },
        "id": "UP00zpgA7bb-",
        "outputId": "7c66d01c-6008-4116-f8ff-5ca4e83a8da4"
      },
      "execution_count": null,
      "outputs": [
        {
          "output_type": "stream",
          "name": "stdout",
          "text": [
            "6.839884281158447\n",
            "19.86700677871704\n",
            "27.6565580368042\n",
            "38.257229804992676\n",
            "43.7414345741272\n",
            "57.95604372024536\n",
            "66.9105896949768\n",
            "83.24180269241333\n",
            "93.76914167404175\n",
            "98.52001190185547\n",
            "105.45832109451294\n",
            "125.56390428543091\n",
            "140.20087480545044\n",
            "146.98819780349731\n",
            "165.5769715309143\n",
            "173.96206903457642\n",
            "182.98652410507202\n",
            "191.46329164505005\n",
            "194.9773805141449\n",
            "207.0375955104828\n",
            "217.41059947013855\n",
            "221.4540297985077\n",
            "238.35623049736023\n",
            "250.7284438610077\n",
            "256.8436734676361\n",
            "263.70267367362976\n",
            "276.32600474357605\n",
            "281.199560880661\n",
            "292.8910548686981\n",
            "298.7321922779083\n",
            "316.91979908943176\n",
            "338.36301922798157\n",
            "362.3727276325226\n",
            "383.0516617298126\n",
            "391.628901720047\n",
            "421.8249065876007\n",
            "429.619464635849\n",
            "435.1171109676361\n",
            "443.4346663951874\n",
            "449.93537497520447\n",
            "455.75472807884216\n",
            "463.799772977829\n",
            "478.17502665519714\n",
            "500.27883791923523\n",
            "505.9998314380646\n",
            "513.1240766048431\n",
            "522.4159381389618\n",
            "526.0439567565918\n",
            "536.7835369110107\n",
            "543.3439245223999\n",
            "548.6717162132263\n",
            "553.8413505554199\n",
            "572.8638401031494\n",
            "577.0744180679321\n",
            "588.393482208252\n",
            "597.4385795593262\n",
            "608.0224113464355\n",
            "618.8897905349731\n",
            "627.8642587661743\n",
            "633.7068419456482\n",
            "650.6922926902771\n",
            "657.0820636749268\n",
            "669.3675088882446\n",
            "681.6224069595337\n",
            "685.0280449390411\n",
            "704.2394936084747\n",
            "719.275726556778\n",
            "734.3439676761627\n",
            "749.4497005939484\n",
            "757.0425355434418\n",
            "767.0974586009979\n",
            "773.4638669490814\n",
            "787.3790214061737\n",
            "796.8837125301361\n",
            "802.7422425746918\n",
            "814.871589422226\n",
            "818.2520117759705\n",
            "827.1379256248474\n",
            "836.9449591636658\n",
            "842.4041256904602\n",
            "853.2375874519348\n",
            "860.9021983146667\n",
            "864.6855766773224\n",
            "871.5105321407318\n",
            "875.9483082294464\n",
            "890.3610308170319\n",
            "894.6689846515656\n",
            "899.9033081531525\n",
            "913.9323351383209\n",
            "924.3620417118073\n",
            "931.8324744701385\n",
            "955.2619082927704\n",
            "961.5079534053802\n",
            "967.6776864528656\n",
            "980.9325835704803\n",
            "987.6388399600983\n",
            "996.9633333683014\n",
            "1007.0731880664825\n",
            "1023.1485188007355\n",
            "1037.3618566989899\n",
            "1053.418865442276\n",
            "1056.688726425171\n",
            "1062.092158794403\n",
            "1068.5791487693787\n",
            "1076.2331318855286\n",
            "1095.1629967689514\n",
            "1108.6423497200012\n",
            "1121.065960407257\n",
            "1124.573001384735\n",
            "1129.834077835083\n",
            "1134.1417841911316\n",
            "1145.7965950965881\n",
            "1150.278256893158\n",
            "1162.6423869132996\n",
            "1166.8844909667969\n",
            "1200.584674835205\n",
            "1208.0607986450195\n",
            "1212.1568098068237\n",
            "1223.790449142456\n",
            "1241.851474761963\n",
            "1252.1554107666016\n",
            "1260.5549182891846\n",
            "1268.5868825912476\n",
            "1286.5521078109741\n",
            "1291.01597738266\n",
            "1296.8134593963623\n",
            "1304.322606086731\n",
            "1311.2670941352844\n",
            "1322.6847882270813\n",
            "1327.7789463996887\n",
            "1339.2674536705017\n",
            "1344.2263679504395\n",
            "1359.678134918213\n",
            "1365.3867206573486\n",
            "1376.389651298523\n",
            "1384.0182266235352\n",
            "1398.4652118682861\n",
            "1404.3534321784973\n",
            "1413.1555218696594\n",
            "1425.3509335517883\n",
            "1432.6075406074524\n",
            "1444.400872707367\n",
            "1459.2163195610046\n",
            "1470.840343952179\n",
            "1478.6722741127014\n",
            "1483.6704330444336\n",
            "1494.066668510437\n",
            "1503.5344552993774\n",
            "1514.3166780471802\n",
            "1522.2159156799316\n",
            "1543.9259014129639\n",
            "1559.462999343872\n",
            "1573.3145971298218\n",
            "1591.4477128982544\n",
            "1604.3517436981201\n",
            "1616.9134922027588\n",
            "1622.038345336914\n",
            "1626.1172180175781\n",
            "1643.1769714355469\n",
            "1651.112521648407\n",
            "1661.6119236946106\n",
            "1671.2982659339905\n",
            "1684.2745079994202\n",
            "1691.8119778633118\n",
            "1712.3372654914856\n",
            "1729.8980660438538\n",
            "1748.9258370399475\n",
            "1763.7459015846252\n",
            "1792.2299256324768\n",
            "1798.0325207710266\n",
            "1805.1269540786743\n",
            "1811.7568411827087\n",
            "1818.0949058532715\n",
            "1827.3145122528076\n",
            "1834.6096849441528\n",
            "1848.0252170562744\n",
            "1852.6365365982056\n",
            "1870.306824684143\n",
            "1875.9770259857178\n",
            "1880.0613656044006\n",
            "1896.1680550575256\n",
            "1909.2950377464294\n",
            "1923.99999666214\n",
            "1930.6610589027405\n",
            "1937.3153085708618\n",
            "1944.9724950790405\n",
            "1954.7009859085083\n",
            "1960.2742810249329\n",
            "1969.606647014618\n",
            "1980.6493563652039\n",
            "1992.4249377250671\n",
            "1997.5282588005066\n",
            "2003.7135949134827\n",
            "2021.8595261573792\n",
            "2042.8689579963684\n",
            "2048.8714203834534\n",
            "2067.1000332832336\n",
            "2097.9748463630676\n",
            "2109.533937931061\n",
            "2115.0390973091125\n",
            "2148.7714772224426\n",
            "2162.738362789154\n",
            "2171.94153547287\n",
            "2175.263978242874\n",
            "2180.082943201065\n",
            "2189.94748711586\n",
            "2195.002909421921\n",
            "2201.8389241695404\n",
            "2219.327071905136\n",
            "2238.3872373104095\n",
            "2248.819008588791\n",
            "2252.693316221237\n",
            "2266.4185721874237\n",
            "2274.3664700984955\n",
            "2282.9522302150726\n",
            "2298.103676557541\n",
            "2316.226786375046\n",
            "2325.7319810390472\n",
            "2335.107456922531\n",
            "2339.13684630394\n",
            "2345.9704926013947\n",
            "2359.3733904361725\n",
            "2373.679402589798\n",
            "2384.490434885025\n",
            "2392.5990335941315\n",
            "2414.127210855484\n",
            "2436.1785395145416\n",
            "2448.5212366580963\n",
            "2465.5639708042145\n",
            "2471.9435379505157\n",
            "2481.5683691501617\n",
            "2500.5439188480377\n",
            "2514.552718400955\n",
            "2521.8406302928925\n",
            "2536.270259618759\n",
            "2543.629473924637\n",
            "2548.0175182819366\n",
            "2570.2422955036163\n",
            "2584.470876932144\n",
            "2594.2122280597687\n",
            "2608.3491184711456\n",
            "2614.0439240932465\n",
            "2620.463795900345\n",
            "2624.86483502388\n",
            "2633.618053674698\n",
            "2640.4380729198456\n",
            "2646.803085565567\n",
            "2656.168645143509\n",
            "2664.8967955112457\n",
            "2679.6823542118073\n",
            "2694.386594057083\n",
            "2709.4762909412384\n",
            "2713.6647951602936\n",
            "2726.626888513565\n",
            "2734.404490709305\n",
            "2752.7150967121124\n",
            "2763.50036072731\n",
            "2774.891288995743\n",
            "2779.717211008072\n",
            "2787.1806972026825\n",
            "2797.380067586899\n",
            "2801.873796224594\n",
            "2808.7073380947113\n",
            "2815.8110105991364\n",
            "2828.3944132328033\n",
            "2843.2947285175323\n",
            "2851.036197900772\n",
            "2855.637051343918\n",
            "2862.360169649124\n",
            "2874.67644906044\n",
            "2884.974007844925\n",
            "2889.723495721817\n",
            "2899.913012742996\n",
            "2908.880378961563\n",
            "2911.480719804764\n",
            "2932.240920305252\n",
            "2942.3189260959625\n",
            "2966.6526415348053\n",
            "2971.2570679187775\n",
            "2999.590523958206\n",
            "3006.4675390720367\n",
            "3010.720116376877\n",
            "3015.8150613307953\n",
            "3027.282511472702\n",
            "3031.4851977825165\n",
            "3041.4010560512543\n",
            "3044.8795788288116\n",
            "3066.4514305591583\n",
            "3078.0410540103912\n",
            "3094.480591058731\n",
            "3099.9023315906525\n",
            "3113.4622480869293\n",
            "3148.6564009189606\n",
            "3156.3601405620575\n",
            "3163.9608595371246\n",
            "3169.290796995163\n",
            "3180.6827895641327\n",
            "3191.5702521800995\n",
            "3197.005779981613\n",
            "3215.1638934612274\n",
            "3226.4222037792206\n",
            "3235.752945661545\n",
            "3250.7157237529755\n",
            "3262.2498700618744\n",
            "3269.8531358242035\n",
            "3274.4515311717987\n",
            "3286.531513929367\n",
            "3291.989069223404\n",
            "3303.2860691547394\n",
            "3319.3173344135284\n",
            "3332.057051897049\n",
            "3356.839600801468\n",
            "3361.174251317978\n",
            "3377.693111181259\n",
            "3383.612077474594\n",
            "3390.0397527217865\n",
            "3396.1416404247284\n",
            "3412.5374801158905\n",
            "3426.544055700302\n",
            "3439.356055021286\n",
            "3445.175400018692\n",
            "3459.2569410800934\n",
            "3469.04278588295\n",
            "3475.787210226059\n",
            "3481.545159101486\n",
            "3485.755261182785\n",
            "3490.414524793625\n",
            "3500.6128375530243\n",
            "3504.583869934082\n",
            "3509.3770875930786\n",
            "3514.9247875213623\n",
            "3521.9952602386475\n",
            "3532.3378114700317\n",
            "3548.3135385513306\n",
            "3564.210955619812\n",
            "3567.7389557361603\n",
            "3589.167496919632\n",
            "3600.1888983249664\n",
            "3604.453765630722\n",
            "3614.9861829280853\n",
            "3628.695992231369\n",
            "3649.5464160442352\n",
            "3656.2169744968414\n",
            "3662.3373749256134\n",
            "3675.172289133072\n",
            "3689.2851889133453\n",
            "3694.827134370804\n",
            "3704.2450592517853\n",
            "3712.021066427231\n",
            "3722.9808576107025\n",
            "3733.64675116539\n",
            "3740.915271997452\n",
            "3750.854752779007\n",
            "3758.027294397354\n",
            "3777.694942712784\n",
            "3783.4594814777374\n",
            "3792.067371606827\n",
            "3815.9341776371\n",
            "3823.8399345874786\n",
            "3828.883965730667\n",
            "3849.900069475174\n",
            "3858.0938227176666\n",
            "3863.2939994335175\n",
            "3873.3813207149506\n",
            "3878.6098845005035\n",
            "3885.3728988170624\n",
            "3891.4864432811737\n",
            "3898.762838602066\n",
            "3905.057163000107\n",
            "3921.788726568222\n",
            "3926.9985115528107\n",
            "3939.738173723221\n",
            "3949.938601732254\n",
            "3957.5277659893036\n",
            "3976.1545016765594\n",
            "3985.3159081935883\n",
            "3992.422991037369\n",
            "3998.7425220012665\n",
            "4014.26428771019\n",
            "4022.0835530757904\n",
            "4033.8714406490326\n",
            "4044.0618512630463\n",
            "4060.2617661952972\n",
            "4092.2875649929047\n",
            "4113.52148604393\n",
            "4117.239698648453\n",
            "4120.499742507935\n",
            "4125.587265014648\n",
            "4139.1476221084595\n",
            "4154.504717826843\n",
            "4165.03662776947\n",
            "4172.462639331818\n",
            "4189.439827442169\n",
            "4202.114194393158\n",
            "4228.779412746429\n",
            "4231.556549787521\n",
            "4242.507353544235\n",
            "4249.979509115219\n",
            "4255.973454713821\n",
            "4265.5504286289215\n",
            "4272.984624624252\n",
            "4290.184682607651\n",
            "4295.509023427963\n",
            "4323.730766057968\n",
            "4333.364145040512\n",
            "4355.021173238754\n",
            "4370.02249789238\n",
            "4380.933893918991\n",
            "4386.324336767197\n",
            "4391.275097608566\n",
            "4404.62677359581\n",
            "4423.647056341171\n",
            "4436.678073644638\n",
            "4444.4008705616\n",
            "4465.388262987137\n",
            "4469.651601076126\n",
            "4479.190879106522\n",
            "4494.216798067093\n",
            "4502.37873005867\n",
            "4515.513489961624\n",
            "4534.421630144119\n",
            "4539.700578927994\n",
            "4546.978044271469\n",
            "4559.793985128403\n",
            "4574.522805929184\n",
            "4583.453067541122\n",
            "4593.712357282639\n",
            "4598.555141687393\n",
            "4609.8627989292145\n",
            "4621.548368692398\n",
            "4636.927280664444\n",
            "4647.799269914627\n",
            "4659.747099161148\n",
            "4665.480118513107\n",
            "4675.3564031124115\n",
            "4687.548500776291\n",
            "4699.397476911545\n",
            "4707.593271970749\n",
            "4715.555969953537\n",
            "4722.549879312515\n",
            "4733.412968873978\n",
            "4741.886446237564\n",
            "4753.03077340126\n",
            "4773.29740357399\n",
            "4803.286314249039\n",
            "4820.910927057266\n",
            "4828.101072072983\n",
            "4837.253368139267\n",
            "4849.772479772568\n",
            "4854.720900774002\n",
            "4868.585711717606\n",
            "4884.321990251541\n",
            "4906.061587572098\n",
            "4920.591874361038\n",
            "4931.352089166641\n",
            "4947.383678674698\n",
            "4968.561327219009\n",
            "4972.909171819687\n",
            "4985.606491804123\n",
            "5001.47679400444\n",
            "5047.736201047897\n",
            "5070.398382902145\n",
            "5074.845801591873\n",
            "5079.036363363266\n",
            "5083.1381986141205\n",
            "5089.182859659195\n",
            "5106.0229551792145\n",
            "5125.325474023819\n",
            "5139.390101671219\n",
            "5144.3059504032135\n",
            "5155.591331720352\n",
            "5172.565410852432\n",
            "5192.4150602817535\n",
            "5206.36789059639\n",
            "5212.170445203781\n",
            "5215.200495481491\n",
            "5224.682343244553\n",
            "5229.0972011089325\n",
            "5247.202767133713\n",
            "5254.156824350357\n",
            "5271.641786813736\n",
            "5299.8424208164215\n",
            "5303.7080514431\n",
            "5317.854058980942\n",
            "5321.669248819351\n",
            "5336.261182069778\n",
            "5347.5813047885895\n",
            "5356.3286917209625\n",
            "5360.786995172501\n",
            "5374.507602930069\n",
            "5382.322252988815\n",
            "5402.670548200607\n",
            "5407.762232065201\n",
            "5426.234466791153\n",
            "5432.924342393875\n",
            "5450.354779481888\n",
            "5469.182614564896\n",
            "5493.790538072586\n",
            "5505.993166208267\n",
            "5552.044996500015\n",
            "5566.594230890274\n",
            "5578.859490633011\n",
            "5598.378434419632\n",
            "5605.456932783127\n",
            "5608.926005125046\n",
            "5618.042213201523\n",
            "5635.855960607529\n",
            "5659.441726446152\n",
            "5678.8993146419525\n",
            "5682.96022105217\n",
            "5702.740685224533\n",
            "5712.181470632553\n",
            "5717.507444620132\n",
            "5727.372707605362\n",
            "5735.537304162979\n",
            "5742.60250878334\n",
            "5754.568014383316\n",
            "5763.956784486771\n",
            "5769.876069784164\n",
            "5776.547205686569\n",
            "5790.023307561874\n",
            "5800.988803625107\n",
            "5809.871165037155\n",
            "5821.82697558403\n",
            "5829.7855813503265\n",
            "5835.164596319199\n",
            "5841.512987852097\n",
            "5891.822481870651\n",
            "5903.0794942379\n",
            "5913.78501200676\n",
            "5922.804691076279\n",
            "5937.13720202446\n",
            "5951.6111171245575\n",
            "5966.55510020256\n",
            "5981.303312063217\n",
            "5987.385712862015\n",
            "5990.874355792999\n",
            "6001.05415391922\n",
            "6005.804002285004\n",
            "6023.8823828697205\n",
            "6037.559495449066\n",
            "6045.626824855804\n",
            "6054.640674114227\n",
            "6068.519339084625\n",
            "6083.0402274131775\n",
            "6104.330701351166\n",
            "6112.76006269455\n",
            "6133.02960729599\n",
            "6150.251903057098\n",
            "6166.599009990692\n",
            "6179.007741451263\n",
            "6190.288455486298\n",
            "6199.926770687103\n",
            "6229.386815547943\n",
            "6249.376576900482\n",
            "6253.320967197418\n",
            "6257.973094940186\n",
            "6264.001310825348\n",
            "6268.291969299316\n",
            "6276.748914718628\n",
            "6283.358006954193\n",
            "6296.398478984833\n",
            "6305.248718738556\n",
            "6310.712319850922\n",
            "6324.502189159393\n",
            "6336.293598651886\n",
            "6345.0832324028015\n",
            "6352.065003395081\n",
            "6356.792161941528\n",
            "6364.232904434204\n",
            "6396.469385147095\n",
            "6415.580492019653\n",
            "6419.6976952552795\n",
            "6425.8888993263245\n",
            "6446.3395256996155\n",
            "6454.902103900909\n",
            "6461.120234489441\n",
            "6475.547527313232\n",
            "6487.826500892639\n",
            "6492.4184284210205\n",
            "6503.347533226013\n",
            "6524.588345527649\n",
            "6528.329352140427\n",
            "6538.603201627731\n",
            "6542.531512260437\n",
            "6555.747539520264\n",
            "6558.911035299301\n",
            "6566.013665437698\n",
            "6579.754411935806\n",
            "6600.725698709488\n",
            "6605.072996377945\n",
            "6613.839505434036\n",
            "6624.517159700394\n",
            "6633.9033834934235\n",
            "6643.910889863968\n",
            "6655.826951265335\n",
            "6666.081844568253\n",
            "6669.259722709656\n",
            "6687.7998304367065\n",
            "6696.657605171204\n",
            "6708.789194107056\n",
            "6725.696687698364\n",
            "6746.384994506836\n",
            "6757.610570907593\n",
            "6765.784155845642\n",
            "6774.717047691345\n",
            "6785.765766143799\n",
            "6796.354868888855\n",
            "6815.970536231995\n",
            "6844.223965644836\n",
            "6850.786756515503\n",
            "6866.705015182495\n",
            "6882.547769546509\n",
            "6886.757966041565\n",
            "6905.934950828552\n",
            "6923.131909370422\n",
            "6938.87726688385\n",
            "6952.644706726074\n",
            "6967.944123268127\n",
            "6974.501935482025\n",
            "6987.81005525589\n",
            "7003.863478183746\n",
            "7008.755900859833\n",
            "7013.534223556519\n",
            "7018.517808914185\n",
            "7035.399377822876\n",
            "7038.9425137043\n",
            "7060.639832735062\n",
            "7079.421546220779\n",
            "7091.0525505542755\n",
            "7103.6920120716095\n",
            "7114.09693646431\n",
            "7129.7536079883575\n",
            "7140.483233690262\n",
            "7143.9081382751465\n",
            "7152.897879600525\n",
            "7160.72692155838\n",
            "7164.811248779297\n",
            "7183.513883590698\n",
            "7198.019932746887\n",
            "7207.371223449707\n",
            "7239.841045379639\n",
            "7246.396717071533\n",
            "7259.22795009613\n",
            "7266.71329832077\n",
            "7273.049481868744\n",
            "7295.572412014008\n",
            "7309.119568347931\n",
            "7326.446049213409\n",
            "7336.557186603546\n",
            "7357.145357608795\n",
            "7368.702812671661\n",
            "7376.378911972046\n",
            "7391.471947669983\n",
            "7410.335871696472\n",
            "7415.480091094971\n",
            "7433.402462005615\n",
            "7438.67541217804\n",
            "7447.3336000442505\n",
            "7452.540436267853\n",
            "7472.371647357941\n",
            "7482.367628574371\n",
            "7497.352009296417\n",
            "7505.817163944244\n",
            "7516.11438035965\n",
            "7522.0333704948425\n",
            "7528.677643299103\n",
            "7545.089970111847\n",
            "7551.662735462189\n",
            "7562.844232082367\n",
            "7577.677654743195\n",
            "7585.2569789886475\n",
            "7588.84774851799\n",
            "7593.983158349991\n",
            "7607.594144105911\n",
            "7625.286666154861\n",
            "7649.212270021439\n",
            "7662.846484422684\n",
            "7677.33208489418\n",
            "7692.271703958511\n",
            "7703.690102815628\n",
            "7708.00829911232\n",
            "7727.931152582169\n",
            "7741.464534044266\n",
            "7754.71583199501\n",
            "7773.778057336807\n",
            "7797.151380777359\n",
            "7802.416492700577\n",
            "7806.481854200363\n",
            "7820.803031682968\n",
            "7826.2639400959015\n",
            "7844.654488801956\n",
            "7851.653960466385\n",
            "7862.557096719742\n",
            "7873.281522035599\n",
            "7882.322830438614\n",
            "7890.979656457901\n",
            "7901.749776124954\n",
            "7907.418233156204\n",
            "7924.017232179642\n",
            "7944.59265255928\n",
            "7949.452582120895\n",
            "7962.708405256271\n",
            "7969.880869626999\n",
            "7984.105967283249\n",
            "7989.036688089371\n",
            "7993.745360612869\n",
            "8005.822035074234\n",
            "8012.826475381851\n",
            "8017.048892259598\n",
            "8022.484752416611\n",
            "8045.738189458847\n",
            "8055.992239713669\n",
            "8070.548004865646\n",
            "8080.630884885788\n",
            "8102.4329154491425\n",
            "8107.77209353447\n",
            "8113.50973200798\n",
            "8150.511856794357\n",
            "8157.900232553482\n",
            "8173.070739984512\n",
            "8178.727096796036\n",
            "8193.609657526016\n",
            "8204.36800980568\n",
            "8207.650077342987\n",
            "8240.78683423996\n",
            "8248.90146112442\n",
            "8253.830302238464\n",
            "8266.472063064575\n",
            "8285.50752067566\n",
            "8302.66958618164\n",
            "8306.58623123169\n",
            "8312.625278949738\n",
            "8340.23928117752\n",
            "8355.367049694061\n",
            "8367.4675822258\n",
            "8381.732147693634\n",
            "8391.266214847565\n",
            "8415.68970155716\n",
            "8419.262907028198\n",
            "8425.820921421051\n",
            "8431.702471256256\n",
            "8438.669227600098\n",
            "8457.466848373413\n",
            "8460.714761972427\n",
            "8472.038492441177\n",
            "8481.695674180984\n",
            "8499.257554292679\n",
            "8503.11380147934\n",
            "8510.653221130371\n",
            "8516.472510814667\n",
            "8521.483926296234\n",
            "8529.442691326141\n",
            "8547.368358135223\n",
            "8557.451037883759\n",
            "8566.793323040009\n",
            "8586.152369976044\n",
            "8599.069501399994\n",
            "8612.085109233856\n",
            "8624.721858501434\n",
            "8631.920599460602\n",
            "8640.778759479523\n",
            "8663.001274585724\n",
            "8667.73471403122\n",
            "8677.96243429184\n",
            "8683.488279819489\n",
            "8694.136022090912\n",
            "8705.156613826752\n",
            "8717.482999324799\n",
            "8720.766323804855\n",
            "8742.71681857109\n",
            "8746.501809358597\n",
            "8752.564033269882\n",
            "8763.641232252121\n",
            "8785.096699476242\n",
            "8793.012154340744\n",
            "8804.4797103405\n",
            "8813.848901510239\n",
            "8819.897754907608\n",
            "8840.800745248795\n",
            "8851.910240411758\n",
            "8858.488911867142\n",
            "8864.53255200386\n",
            "8868.350143671036\n",
            "8874.224472284317\n",
            "8882.594964265823\n",
            "8899.055672883987\n",
            "8905.997550725937\n",
            "8923.5634496212\n",
            "8931.05515408516\n",
            "8934.984577417374\n",
            "8952.465946435928\n",
            "8970.423095941544\n",
            "8978.94724202156\n",
            "8988.573378801346\n",
            "8999.821513414383\n",
            "9003.033007621765\n",
            "9013.906710624695\n",
            "9030.209843635559\n",
            "9034.980957984924\n",
            "9048.73390007019\n",
            "9071.934251785278\n",
            "9081.6721200943\n",
            "9093.845329284668\n",
            "9100.861811637878\n",
            "9112.729223251343\n",
            "9137.22603225708\n",
            "9141.117579221725\n",
            "9147.952132463455\n",
            "9161.059587717056\n",
            "9166.249525308609\n",
            "9174.105359315872\n",
            "9195.819688081741\n",
            "9216.552258729935\n",
            "9223.510223150253\n",
            "9231.50197482109\n",
            "9248.983969449997\n",
            "9268.07686305046\n",
            "9274.897509813309\n",
            "9284.128247499466\n",
            "9297.008189439774\n",
            "9304.577243566513\n",
            "9317.973894834518\n",
            "9333.740250349045\n",
            "9343.163291692734\n",
            "9358.362406492233\n",
            "9367.805832624435\n",
            "9379.833310842514\n",
            "9410.319026708603\n",
            "9417.505908250809\n",
            "9422.44497704506\n",
            "9428.535591363907\n",
            "9433.681941747665\n",
            "9443.268449544907\n",
            "9459.215642690659\n",
            "9479.431106328964\n",
            "9484.095437765121\n",
            "9491.216402769089\n",
            "9508.075937986374\n",
            "9521.569020032883\n",
            "9538.997021436691\n",
            "9544.61887383461\n",
            "9553.252865076065\n",
            "9562.93896985054\n",
            "9570.360496282578\n",
            "9581.275391340256\n",
            "9594.200144529343\n",
            "9605.040744543076\n",
            "9610.568783044815\n",
            "9627.95331788063\n",
            "9633.410915136337\n",
            "9649.78602194786\n",
            "9667.856635808945\n",
            "9677.49429678917\n",
            "9685.260710477829\n",
            "9695.31734919548\n",
            "9702.571384191513\n",
            "9720.588947057724\n",
            "9739.460387945175\n",
            "9751.36077094078\n",
            "9761.10738158226\n",
            "9769.407792806625\n",
            "9780.798881292343\n",
            "9787.316212892532\n",
            "9793.294183969498\n",
            "9804.164273500443\n",
            "9817.780721902847\n",
            "9821.986552476883\n",
            "9842.700629472733\n",
            "9860.100960969925\n",
            "9876.64220547676\n",
            "9881.988197565079\n",
            "9891.604670763016\n",
            "9906.980440378189\n",
            "9914.935170412064\n",
            "9922.140543699265\n",
            "9940.134859800339\n",
            "9949.090712308884\n",
            "9959.931302785873\n",
            "9971.71279501915\n",
            "9993.682750463486\n",
            "10002.274766683578\n",
            "10011.548375844955\n",
            "10015.442902326584\n",
            "10019.36472773552\n",
            "10028.260886907578\n",
            "10047.075093984604\n",
            "10051.734888792038\n",
            "10069.753639936447\n",
            "10077.328862905502\n",
            "10093.250950574875\n",
            "10098.698209524155\n",
            "10109.581906080246\n",
            "10133.664492368698\n",
            "10148.31301188469\n",
            "10156.742180585861\n",
            "10164.0963037014\n",
            "10172.039067983627\n",
            "10176.604365110397\n",
            "10190.985684156418\n",
            "10212.736243009567\n",
            "10216.61075258255\n",
            "10238.395689487457\n",
            "10256.947187900543\n",
            "10286.34737443924\n",
            "10291.88386106491\n",
            "10301.178923130035\n",
            "10313.571194171906\n",
            "10323.01155424118\n",
            "10333.651698589325\n",
            "10343.87119436264\n",
            "10352.087898731232\n",
            "10372.838503360748\n",
            "10384.649202823639\n",
            "10395.697112560272\n",
            "10407.789577960968\n",
            "10417.096688747406\n",
            "10432.21229314804\n",
            "10452.356343746185\n",
            "10458.12857913971\n",
            "10465.602318286896\n",
            "10491.73324251175\n",
            "10501.089167118073\n",
            "10532.143726825714\n",
            "10543.159135341644\n",
            "10550.400512218475\n",
            "10560.538254261017\n",
            "10569.680197238922\n",
            "10575.120162963867\n",
            "10581.22726392746\n",
            "10587.633848667145\n",
            "10593.726376056671\n",
            "10601.121024608612\n",
            "10633.735064983368\n",
            "10644.122349262238\n",
            "10653.340344905853\n",
            "10674.502902507782\n",
            "10685.099204540253\n",
            "10699.344048023224\n",
            "10705.324443817139\n",
            "10739.816986083984\n",
            "10758.390382766724\n",
            "10764.971123218536\n",
            "10774.94961309433\n",
            "10812.042520046234\n",
            "10833.15541601181\n",
            "10840.101167678833\n",
            "10851.762442588806\n",
            "10867.243462562561\n",
            "10874.303300380707\n",
            "10887.703714847565\n",
            "10893.026400566101\n",
            "10903.302253723145\n",
            "10907.93126153946\n",
            "10913.386470794678\n",
            "10923.650362968445\n",
            "10943.762726783752\n",
            "10964.590374946594\n",
            "10975.113304138184\n",
            "10980.849420070648\n",
            "10990.196315288544\n",
            "11000.752426624298\n",
            "11009.851459026337\n",
            "11018.823227405548\n",
            "11023.112017154694\n",
            "11030.385954380035\n",
            "11054.818111896515\n",
            "11064.939549922943\n",
            "11069.589786052704\n",
            "11088.53377866745\n",
            "11104.376854419708\n",
            "11113.53741312027\n",
            "11138.463757038116\n",
            "11151.533496379852\n",
            "11157.106792926788\n",
            "11169.301245212555\n",
            "11181.12150812149\n",
            "11187.429722309113\n",
            "11206.200851917267\n",
            "11211.97752571106\n",
            "11222.57061290741\n",
            "11226.915442943573\n",
            "11240.211558818817\n",
            "11250.500638484955\n",
            "11257.914306163788\n",
            "11267.513909816742\n",
            "11272.86760187149\n",
            "11285.137638568878\n",
            "11303.988914966583\n",
            "11340.948673725128\n",
            "11345.955303192139\n",
            "11356.741781234741\n",
            "11360.900626182556\n",
            "11367.562171936035\n",
            "11380.310914039612\n",
            "11385.36561012268\n",
            "11410.22935295105\n",
            "11426.196005821228\n",
            "11441.515951156616\n",
            "11455.329879760742\n",
            "11471.573305130005\n",
            "11477.690634727478\n"
          ]
        },
        {
          "output_type": "error",
          "ename": "NameError",
          "evalue": "ignored",
          "traceback": [
            "\u001b[0;31m---------------------------------------------------------------------------\u001b[0m",
            "\u001b[0;31mNameError\u001b[0m                                 Traceback (most recent call last)",
            "\u001b[0;32m<ipython-input-30-47a4f5e64c7c>\u001b[0m in \u001b[0;36m<module>\u001b[0;34m()\u001b[0m\n\u001b[1;32m     26\u001b[0m \u001b[0mavg_perplexity\u001b[0m \u001b[0;34m=\u001b[0m \u001b[0mfloat\u001b[0m\u001b[0;34m(\u001b[0m\u001b[0mperp\u001b[0m\u001b[0;34m)\u001b[0m\u001b[0;34m/\u001b[0m\u001b[0mlen\u001b[0m\u001b[0;34m(\u001b[0m\u001b[0mvalidation_dataloader\u001b[0m\u001b[0;34m)\u001b[0m\u001b[0;34m\u001b[0m\u001b[0;34m\u001b[0m\u001b[0m\n\u001b[1;32m     27\u001b[0m \u001b[0;34m\u001b[0m\u001b[0m\n\u001b[0;32m---> 28\u001b[0;31m \u001b[0mvalidation_time\u001b[0m \u001b[0;34m=\u001b[0m \u001b[0mformat_time\u001b[0m\u001b[0;34m(\u001b[0m\u001b[0mtime\u001b[0m\u001b[0;34m.\u001b[0m\u001b[0mtime\u001b[0m\u001b[0;34m(\u001b[0m\u001b[0;34m)\u001b[0m \u001b[0;34m-\u001b[0m \u001b[0mt0\u001b[0m\u001b[0;34m)\u001b[0m\u001b[0;34m\u001b[0m\u001b[0;34m\u001b[0m\u001b[0m\n\u001b[0m\u001b[1;32m     29\u001b[0m \u001b[0;34m\u001b[0m\u001b[0m\n\u001b[1;32m     30\u001b[0m \u001b[0mprint\u001b[0m\u001b[0;34m(\u001b[0m\u001b[0;34mf'Perplexity: {avg_perplexity}'\u001b[0m\u001b[0;34m)\u001b[0m\u001b[0;34m\u001b[0m\u001b[0;34m\u001b[0m\u001b[0m\n",
            "\u001b[0;31mNameError\u001b[0m: name 'format_time' is not defined"
          ]
        }
      ]
    },
    {
      "cell_type": "code",
      "source": [
        "avg_perplexity"
      ],
      "metadata": {
        "colab": {
          "base_uri": "https://localhost:8080/"
        },
        "id": "KIMPnICd7nSn",
        "outputId": "bc1ac916-6a19-4a67-edca-7625379c86d8"
      },
      "execution_count": null,
      "outputs": [
        {
          "output_type": "execute_result",
          "data": {
            "text/plain": [
              "11.454781072582314"
            ]
          },
          "metadata": {},
          "execution_count": 31
        }
      ]
    },
    {
      "cell_type": "markdown",
      "source": [
        "# **BLEU**"
      ],
      "metadata": {
        "id": "_e-xTmIxEkoV"
      }
    },
    {
      "cell_type": "code",
      "source": [
        "from nltk.translate.bleu_score import sentence_bleu\n",
        "bleu = 0\n",
        "\n",
        "for batch in validation_dataloader:\n",
        "        \n",
        "        b_input_ids = batch[0].to(device)\n",
        "        b_labels = batch[0].to(device)\n",
        "        b_title = batch[1].to(device)\n",
        "        b_masks = batch[2].to(device)\n",
        "        \n",
        "        with torch.no_grad():        \n",
        "\n",
        "  \n",
        "            output = model.generate(input = b_title,\n",
        "                           do_sample=True,   \n",
        "                           top_k=50, \n",
        "                           max_length = 800,\n",
        "                           top_p=0.95, \n",
        "                           num_return_sequences=1\n",
        "                           )\n",
        "          \n",
        "            ref = tokenizer.decode(b_input_ids[0], skip_special_tokens=True).split()\n",
        "            candidate = (tokenizer.decode(output[0], skip_special_tokens=True)).split()\n",
        "            bleu += sentence_bleu(ref, candidate)\n",
        "        \n",
        "\n",
        "\n",
        "#avg_val_loss = total_eval_loss / len(validation_dataloader)\n",
        "\n",
        "avg_bleu = float(bleu)/len(validation_dataloader)"
      ],
      "metadata": {
        "colab": {
          "base_uri": "https://localhost:8080/"
        },
        "id": "EPFs4UGQ-Dwy",
        "outputId": "0dccc757-e9dc-49e1-d8d5-4fff074cd054"
      },
      "execution_count": null,
      "outputs": [
        {
          "output_type": "stream",
          "name": "stderr",
          "text": [
            "Setting `pad_token_id` to `eos_token_id`:50256 for open-end generation.\n",
            "/usr/local/lib/python3.7/dist-packages/nltk/translate/bleu_score.py:490: UserWarning: \n",
            "Corpus/Sentence contains 0 counts of 2-gram overlaps.\n",
            "BLEU scores might be undesirable; use SmoothingFunction().\n",
            "  warnings.warn(_msg)\n",
            "Setting `pad_token_id` to `eos_token_id`:50256 for open-end generation.\n",
            "Setting `pad_token_id` to `eos_token_id`:50256 for open-end generation.\n",
            "Setting `pad_token_id` to `eos_token_id`:50256 for open-end generation.\n",
            "Setting `pad_token_id` to `eos_token_id`:50256 for open-end generation.\n",
            "Setting `pad_token_id` to `eos_token_id`:50256 for open-end generation.\n",
            "Setting `pad_token_id` to `eos_token_id`:50256 for open-end generation.\n",
            "Setting `pad_token_id` to `eos_token_id`:50256 for open-end generation.\n",
            "Setting `pad_token_id` to `eos_token_id`:50256 for open-end generation.\n",
            "Setting `pad_token_id` to `eos_token_id`:50256 for open-end generation.\n",
            "Setting `pad_token_id` to `eos_token_id`:50256 for open-end generation.\n",
            "Setting `pad_token_id` to `eos_token_id`:50256 for open-end generation.\n",
            "Setting `pad_token_id` to `eos_token_id`:50256 for open-end generation.\n",
            "Setting `pad_token_id` to `eos_token_id`:50256 for open-end generation.\n",
            "Setting `pad_token_id` to `eos_token_id`:50256 for open-end generation.\n",
            "Setting `pad_token_id` to `eos_token_id`:50256 for open-end generation.\n",
            "Setting `pad_token_id` to `eos_token_id`:50256 for open-end generation.\n",
            "Setting `pad_token_id` to `eos_token_id`:50256 for open-end generation.\n",
            "Setting `pad_token_id` to `eos_token_id`:50256 for open-end generation.\n",
            "Setting `pad_token_id` to `eos_token_id`:50256 for open-end generation.\n",
            "Setting `pad_token_id` to `eos_token_id`:50256 for open-end generation.\n",
            "Setting `pad_token_id` to `eos_token_id`:50256 for open-end generation.\n",
            "Setting `pad_token_id` to `eos_token_id`:50256 for open-end generation.\n",
            "Setting `pad_token_id` to `eos_token_id`:50256 for open-end generation.\n",
            "Setting `pad_token_id` to `eos_token_id`:50256 for open-end generation.\n",
            "Setting `pad_token_id` to `eos_token_id`:50256 for open-end generation.\n",
            "Setting `pad_token_id` to `eos_token_id`:50256 for open-end generation.\n",
            "Setting `pad_token_id` to `eos_token_id`:50256 for open-end generation.\n",
            "Setting `pad_token_id` to `eos_token_id`:50256 for open-end generation.\n",
            "Setting `pad_token_id` to `eos_token_id`:50256 for open-end generation.\n",
            "Setting `pad_token_id` to `eos_token_id`:50256 for open-end generation.\n",
            "Setting `pad_token_id` to `eos_token_id`:50256 for open-end generation.\n",
            "Setting `pad_token_id` to `eos_token_id`:50256 for open-end generation.\n",
            "Setting `pad_token_id` to `eos_token_id`:50256 for open-end generation.\n",
            "Setting `pad_token_id` to `eos_token_id`:50256 for open-end generation.\n",
            "Setting `pad_token_id` to `eos_token_id`:50256 for open-end generation.\n",
            "Setting `pad_token_id` to `eos_token_id`:50256 for open-end generation.\n",
            "Setting `pad_token_id` to `eos_token_id`:50256 for open-end generation.\n",
            "Setting `pad_token_id` to `eos_token_id`:50256 for open-end generation.\n",
            "Setting `pad_token_id` to `eos_token_id`:50256 for open-end generation.\n",
            "Setting `pad_token_id` to `eos_token_id`:50256 for open-end generation.\n",
            "Setting `pad_token_id` to `eos_token_id`:50256 for open-end generation.\n",
            "Setting `pad_token_id` to `eos_token_id`:50256 for open-end generation.\n",
            "Setting `pad_token_id` to `eos_token_id`:50256 for open-end generation.\n",
            "Setting `pad_token_id` to `eos_token_id`:50256 for open-end generation.\n",
            "Setting `pad_token_id` to `eos_token_id`:50256 for open-end generation.\n",
            "Setting `pad_token_id` to `eos_token_id`:50256 for open-end generation.\n",
            "Setting `pad_token_id` to `eos_token_id`:50256 for open-end generation.\n",
            "Setting `pad_token_id` to `eos_token_id`:50256 for open-end generation.\n",
            "Setting `pad_token_id` to `eos_token_id`:50256 for open-end generation.\n",
            "Setting `pad_token_id` to `eos_token_id`:50256 for open-end generation.\n",
            "Setting `pad_token_id` to `eos_token_id`:50256 for open-end generation.\n",
            "Setting `pad_token_id` to `eos_token_id`:50256 for open-end generation.\n",
            "Setting `pad_token_id` to `eos_token_id`:50256 for open-end generation.\n",
            "Setting `pad_token_id` to `eos_token_id`:50256 for open-end generation.\n",
            "Setting `pad_token_id` to `eos_token_id`:50256 for open-end generation.\n",
            "Setting `pad_token_id` to `eos_token_id`:50256 for open-end generation.\n",
            "Setting `pad_token_id` to `eos_token_id`:50256 for open-end generation.\n",
            "Setting `pad_token_id` to `eos_token_id`:50256 for open-end generation.\n",
            "Setting `pad_token_id` to `eos_token_id`:50256 for open-end generation.\n",
            "Setting `pad_token_id` to `eos_token_id`:50256 for open-end generation.\n",
            "Setting `pad_token_id` to `eos_token_id`:50256 for open-end generation.\n",
            "Setting `pad_token_id` to `eos_token_id`:50256 for open-end generation.\n",
            "Setting `pad_token_id` to `eos_token_id`:50256 for open-end generation.\n",
            "Setting `pad_token_id` to `eos_token_id`:50256 for open-end generation.\n",
            "Setting `pad_token_id` to `eos_token_id`:50256 for open-end generation.\n",
            "Setting `pad_token_id` to `eos_token_id`:50256 for open-end generation.\n",
            "Setting `pad_token_id` to `eos_token_id`:50256 for open-end generation.\n",
            "Setting `pad_token_id` to `eos_token_id`:50256 for open-end generation.\n",
            "Setting `pad_token_id` to `eos_token_id`:50256 for open-end generation.\n",
            "Setting `pad_token_id` to `eos_token_id`:50256 for open-end generation.\n",
            "Setting `pad_token_id` to `eos_token_id`:50256 for open-end generation.\n",
            "Setting `pad_token_id` to `eos_token_id`:50256 for open-end generation.\n",
            "Setting `pad_token_id` to `eos_token_id`:50256 for open-end generation.\n",
            "Setting `pad_token_id` to `eos_token_id`:50256 for open-end generation.\n",
            "Setting `pad_token_id` to `eos_token_id`:50256 for open-end generation.\n",
            "Setting `pad_token_id` to `eos_token_id`:50256 for open-end generation.\n",
            "Setting `pad_token_id` to `eos_token_id`:50256 for open-end generation.\n",
            "Setting `pad_token_id` to `eos_token_id`:50256 for open-end generation.\n",
            "Setting `pad_token_id` to `eos_token_id`:50256 for open-end generation.\n",
            "Setting `pad_token_id` to `eos_token_id`:50256 for open-end generation.\n",
            "Setting `pad_token_id` to `eos_token_id`:50256 for open-end generation.\n",
            "Setting `pad_token_id` to `eos_token_id`:50256 for open-end generation.\n",
            "Setting `pad_token_id` to `eos_token_id`:50256 for open-end generation.\n",
            "Setting `pad_token_id` to `eos_token_id`:50256 for open-end generation.\n",
            "Setting `pad_token_id` to `eos_token_id`:50256 for open-end generation.\n",
            "Setting `pad_token_id` to `eos_token_id`:50256 for open-end generation.\n",
            "Setting `pad_token_id` to `eos_token_id`:50256 for open-end generation.\n",
            "Setting `pad_token_id` to `eos_token_id`:50256 for open-end generation.\n",
            "Setting `pad_token_id` to `eos_token_id`:50256 for open-end generation.\n",
            "Setting `pad_token_id` to `eos_token_id`:50256 for open-end generation.\n",
            "Setting `pad_token_id` to `eos_token_id`:50256 for open-end generation.\n",
            "Setting `pad_token_id` to `eos_token_id`:50256 for open-end generation.\n",
            "Setting `pad_token_id` to `eos_token_id`:50256 for open-end generation.\n",
            "Setting `pad_token_id` to `eos_token_id`:50256 for open-end generation.\n",
            "Setting `pad_token_id` to `eos_token_id`:50256 for open-end generation.\n",
            "Setting `pad_token_id` to `eos_token_id`:50256 for open-end generation.\n",
            "Setting `pad_token_id` to `eos_token_id`:50256 for open-end generation.\n",
            "Setting `pad_token_id` to `eos_token_id`:50256 for open-end generation.\n",
            "Setting `pad_token_id` to `eos_token_id`:50256 for open-end generation.\n",
            "Setting `pad_token_id` to `eos_token_id`:50256 for open-end generation.\n",
            "Setting `pad_token_id` to `eos_token_id`:50256 for open-end generation.\n",
            "Setting `pad_token_id` to `eos_token_id`:50256 for open-end generation.\n",
            "Setting `pad_token_id` to `eos_token_id`:50256 for open-end generation.\n",
            "Setting `pad_token_id` to `eos_token_id`:50256 for open-end generation.\n",
            "Setting `pad_token_id` to `eos_token_id`:50256 for open-end generation.\n",
            "Setting `pad_token_id` to `eos_token_id`:50256 for open-end generation.\n",
            "Setting `pad_token_id` to `eos_token_id`:50256 for open-end generation.\n",
            "Setting `pad_token_id` to `eos_token_id`:50256 for open-end generation.\n",
            "Setting `pad_token_id` to `eos_token_id`:50256 for open-end generation.\n",
            "Setting `pad_token_id` to `eos_token_id`:50256 for open-end generation.\n",
            "Setting `pad_token_id` to `eos_token_id`:50256 for open-end generation.\n",
            "Setting `pad_token_id` to `eos_token_id`:50256 for open-end generation.\n",
            "Setting `pad_token_id` to `eos_token_id`:50256 for open-end generation.\n",
            "Setting `pad_token_id` to `eos_token_id`:50256 for open-end generation.\n",
            "Setting `pad_token_id` to `eos_token_id`:50256 for open-end generation.\n",
            "Setting `pad_token_id` to `eos_token_id`:50256 for open-end generation.\n",
            "Setting `pad_token_id` to `eos_token_id`:50256 for open-end generation.\n",
            "Setting `pad_token_id` to `eos_token_id`:50256 for open-end generation.\n",
            "Setting `pad_token_id` to `eos_token_id`:50256 for open-end generation.\n",
            "Setting `pad_token_id` to `eos_token_id`:50256 for open-end generation.\n",
            "Setting `pad_token_id` to `eos_token_id`:50256 for open-end generation.\n",
            "Setting `pad_token_id` to `eos_token_id`:50256 for open-end generation.\n",
            "Setting `pad_token_id` to `eos_token_id`:50256 for open-end generation.\n",
            "Setting `pad_token_id` to `eos_token_id`:50256 for open-end generation.\n",
            "Setting `pad_token_id` to `eos_token_id`:50256 for open-end generation.\n",
            "Setting `pad_token_id` to `eos_token_id`:50256 for open-end generation.\n",
            "Setting `pad_token_id` to `eos_token_id`:50256 for open-end generation.\n",
            "Setting `pad_token_id` to `eos_token_id`:50256 for open-end generation.\n",
            "Setting `pad_token_id` to `eos_token_id`:50256 for open-end generation.\n",
            "Setting `pad_token_id` to `eos_token_id`:50256 for open-end generation.\n",
            "Setting `pad_token_id` to `eos_token_id`:50256 for open-end generation.\n",
            "Setting `pad_token_id` to `eos_token_id`:50256 for open-end generation.\n",
            "Setting `pad_token_id` to `eos_token_id`:50256 for open-end generation.\n",
            "Setting `pad_token_id` to `eos_token_id`:50256 for open-end generation.\n",
            "Setting `pad_token_id` to `eos_token_id`:50256 for open-end generation.\n",
            "Setting `pad_token_id` to `eos_token_id`:50256 for open-end generation.\n",
            "Setting `pad_token_id` to `eos_token_id`:50256 for open-end generation.\n",
            "Setting `pad_token_id` to `eos_token_id`:50256 for open-end generation.\n",
            "Setting `pad_token_id` to `eos_token_id`:50256 for open-end generation.\n",
            "Setting `pad_token_id` to `eos_token_id`:50256 for open-end generation.\n",
            "Setting `pad_token_id` to `eos_token_id`:50256 for open-end generation.\n",
            "Setting `pad_token_id` to `eos_token_id`:50256 for open-end generation.\n",
            "Setting `pad_token_id` to `eos_token_id`:50256 for open-end generation.\n",
            "Setting `pad_token_id` to `eos_token_id`:50256 for open-end generation.\n",
            "Setting `pad_token_id` to `eos_token_id`:50256 for open-end generation.\n",
            "Setting `pad_token_id` to `eos_token_id`:50256 for open-end generation.\n",
            "Setting `pad_token_id` to `eos_token_id`:50256 for open-end generation.\n",
            "Setting `pad_token_id` to `eos_token_id`:50256 for open-end generation.\n",
            "Setting `pad_token_id` to `eos_token_id`:50256 for open-end generation.\n",
            "Setting `pad_token_id` to `eos_token_id`:50256 for open-end generation.\n",
            "Setting `pad_token_id` to `eos_token_id`:50256 for open-end generation.\n",
            "Setting `pad_token_id` to `eos_token_id`:50256 for open-end generation.\n",
            "Setting `pad_token_id` to `eos_token_id`:50256 for open-end generation.\n",
            "Setting `pad_token_id` to `eos_token_id`:50256 for open-end generation.\n",
            "Setting `pad_token_id` to `eos_token_id`:50256 for open-end generation.\n",
            "Setting `pad_token_id` to `eos_token_id`:50256 for open-end generation.\n",
            "Setting `pad_token_id` to `eos_token_id`:50256 for open-end generation.\n",
            "Setting `pad_token_id` to `eos_token_id`:50256 for open-end generation.\n",
            "Setting `pad_token_id` to `eos_token_id`:50256 for open-end generation.\n",
            "Setting `pad_token_id` to `eos_token_id`:50256 for open-end generation.\n",
            "Setting `pad_token_id` to `eos_token_id`:50256 for open-end generation.\n",
            "Setting `pad_token_id` to `eos_token_id`:50256 for open-end generation.\n",
            "Setting `pad_token_id` to `eos_token_id`:50256 for open-end generation.\n",
            "Setting `pad_token_id` to `eos_token_id`:50256 for open-end generation.\n",
            "Setting `pad_token_id` to `eos_token_id`:50256 for open-end generation.\n",
            "Setting `pad_token_id` to `eos_token_id`:50256 for open-end generation.\n",
            "Setting `pad_token_id` to `eos_token_id`:50256 for open-end generation.\n",
            "Setting `pad_token_id` to `eos_token_id`:50256 for open-end generation.\n",
            "Setting `pad_token_id` to `eos_token_id`:50256 for open-end generation.\n",
            "Setting `pad_token_id` to `eos_token_id`:50256 for open-end generation.\n",
            "Setting `pad_token_id` to `eos_token_id`:50256 for open-end generation.\n",
            "Setting `pad_token_id` to `eos_token_id`:50256 for open-end generation.\n",
            "Setting `pad_token_id` to `eos_token_id`:50256 for open-end generation.\n",
            "Setting `pad_token_id` to `eos_token_id`:50256 for open-end generation.\n",
            "Setting `pad_token_id` to `eos_token_id`:50256 for open-end generation.\n",
            "Setting `pad_token_id` to `eos_token_id`:50256 for open-end generation.\n",
            "Setting `pad_token_id` to `eos_token_id`:50256 for open-end generation.\n",
            "Setting `pad_token_id` to `eos_token_id`:50256 for open-end generation.\n",
            "Setting `pad_token_id` to `eos_token_id`:50256 for open-end generation.\n",
            "Setting `pad_token_id` to `eos_token_id`:50256 for open-end generation.\n",
            "Setting `pad_token_id` to `eos_token_id`:50256 for open-end generation.\n",
            "Setting `pad_token_id` to `eos_token_id`:50256 for open-end generation.\n",
            "Setting `pad_token_id` to `eos_token_id`:50256 for open-end generation.\n",
            "Setting `pad_token_id` to `eos_token_id`:50256 for open-end generation.\n",
            "Setting `pad_token_id` to `eos_token_id`:50256 for open-end generation.\n",
            "Setting `pad_token_id` to `eos_token_id`:50256 for open-end generation.\n",
            "Setting `pad_token_id` to `eos_token_id`:50256 for open-end generation.\n",
            "Setting `pad_token_id` to `eos_token_id`:50256 for open-end generation.\n",
            "Setting `pad_token_id` to `eos_token_id`:50256 for open-end generation.\n",
            "Setting `pad_token_id` to `eos_token_id`:50256 for open-end generation.\n",
            "Setting `pad_token_id` to `eos_token_id`:50256 for open-end generation.\n",
            "Setting `pad_token_id` to `eos_token_id`:50256 for open-end generation.\n",
            "Setting `pad_token_id` to `eos_token_id`:50256 for open-end generation.\n",
            "Setting `pad_token_id` to `eos_token_id`:50256 for open-end generation.\n",
            "Setting `pad_token_id` to `eos_token_id`:50256 for open-end generation.\n",
            "Setting `pad_token_id` to `eos_token_id`:50256 for open-end generation.\n",
            "Setting `pad_token_id` to `eos_token_id`:50256 for open-end generation.\n",
            "Setting `pad_token_id` to `eos_token_id`:50256 for open-end generation.\n",
            "Setting `pad_token_id` to `eos_token_id`:50256 for open-end generation.\n",
            "Setting `pad_token_id` to `eos_token_id`:50256 for open-end generation.\n",
            "Setting `pad_token_id` to `eos_token_id`:50256 for open-end generation.\n",
            "Setting `pad_token_id` to `eos_token_id`:50256 for open-end generation.\n",
            "Setting `pad_token_id` to `eos_token_id`:50256 for open-end generation.\n",
            "Setting `pad_token_id` to `eos_token_id`:50256 for open-end generation.\n",
            "Setting `pad_token_id` to `eos_token_id`:50256 for open-end generation.\n",
            "Setting `pad_token_id` to `eos_token_id`:50256 for open-end generation.\n",
            "Setting `pad_token_id` to `eos_token_id`:50256 for open-end generation.\n",
            "Setting `pad_token_id` to `eos_token_id`:50256 for open-end generation.\n",
            "Setting `pad_token_id` to `eos_token_id`:50256 for open-end generation.\n",
            "Setting `pad_token_id` to `eos_token_id`:50256 for open-end generation.\n",
            "Setting `pad_token_id` to `eos_token_id`:50256 for open-end generation.\n",
            "Setting `pad_token_id` to `eos_token_id`:50256 for open-end generation.\n",
            "Setting `pad_token_id` to `eos_token_id`:50256 for open-end generation.\n",
            "Setting `pad_token_id` to `eos_token_id`:50256 for open-end generation.\n",
            "Setting `pad_token_id` to `eos_token_id`:50256 for open-end generation.\n",
            "Setting `pad_token_id` to `eos_token_id`:50256 for open-end generation.\n",
            "Setting `pad_token_id` to `eos_token_id`:50256 for open-end generation.\n",
            "Setting `pad_token_id` to `eos_token_id`:50256 for open-end generation.\n",
            "Setting `pad_token_id` to `eos_token_id`:50256 for open-end generation.\n",
            "Setting `pad_token_id` to `eos_token_id`:50256 for open-end generation.\n",
            "Setting `pad_token_id` to `eos_token_id`:50256 for open-end generation.\n",
            "Setting `pad_token_id` to `eos_token_id`:50256 for open-end generation.\n",
            "Setting `pad_token_id` to `eos_token_id`:50256 for open-end generation.\n",
            "Setting `pad_token_id` to `eos_token_id`:50256 for open-end generation.\n",
            "Setting `pad_token_id` to `eos_token_id`:50256 for open-end generation.\n",
            "Setting `pad_token_id` to `eos_token_id`:50256 for open-end generation.\n",
            "Setting `pad_token_id` to `eos_token_id`:50256 for open-end generation.\n",
            "Setting `pad_token_id` to `eos_token_id`:50256 for open-end generation.\n",
            "Setting `pad_token_id` to `eos_token_id`:50256 for open-end generation.\n",
            "Setting `pad_token_id` to `eos_token_id`:50256 for open-end generation.\n",
            "Setting `pad_token_id` to `eos_token_id`:50256 for open-end generation.\n",
            "Setting `pad_token_id` to `eos_token_id`:50256 for open-end generation.\n",
            "Setting `pad_token_id` to `eos_token_id`:50256 for open-end generation.\n",
            "Setting `pad_token_id` to `eos_token_id`:50256 for open-end generation.\n",
            "Setting `pad_token_id` to `eos_token_id`:50256 for open-end generation.\n",
            "Setting `pad_token_id` to `eos_token_id`:50256 for open-end generation.\n",
            "Setting `pad_token_id` to `eos_token_id`:50256 for open-end generation.\n",
            "Setting `pad_token_id` to `eos_token_id`:50256 for open-end generation.\n",
            "Setting `pad_token_id` to `eos_token_id`:50256 for open-end generation.\n",
            "Setting `pad_token_id` to `eos_token_id`:50256 for open-end generation.\n",
            "Setting `pad_token_id` to `eos_token_id`:50256 for open-end generation.\n",
            "Setting `pad_token_id` to `eos_token_id`:50256 for open-end generation.\n",
            "Setting `pad_token_id` to `eos_token_id`:50256 for open-end generation.\n",
            "Setting `pad_token_id` to `eos_token_id`:50256 for open-end generation.\n",
            "Setting `pad_token_id` to `eos_token_id`:50256 for open-end generation.\n",
            "Setting `pad_token_id` to `eos_token_id`:50256 for open-end generation.\n",
            "Setting `pad_token_id` to `eos_token_id`:50256 for open-end generation.\n",
            "Setting `pad_token_id` to `eos_token_id`:50256 for open-end generation.\n",
            "Setting `pad_token_id` to `eos_token_id`:50256 for open-end generation.\n",
            "Setting `pad_token_id` to `eos_token_id`:50256 for open-end generation.\n",
            "Setting `pad_token_id` to `eos_token_id`:50256 for open-end generation.\n",
            "Setting `pad_token_id` to `eos_token_id`:50256 for open-end generation.\n",
            "Setting `pad_token_id` to `eos_token_id`:50256 for open-end generation.\n",
            "Setting `pad_token_id` to `eos_token_id`:50256 for open-end generation.\n",
            "Setting `pad_token_id` to `eos_token_id`:50256 for open-end generation.\n",
            "Setting `pad_token_id` to `eos_token_id`:50256 for open-end generation.\n",
            "Setting `pad_token_id` to `eos_token_id`:50256 for open-end generation.\n",
            "Setting `pad_token_id` to `eos_token_id`:50256 for open-end generation.\n",
            "Setting `pad_token_id` to `eos_token_id`:50256 for open-end generation.\n",
            "Setting `pad_token_id` to `eos_token_id`:50256 for open-end generation.\n",
            "Setting `pad_token_id` to `eos_token_id`:50256 for open-end generation.\n",
            "Setting `pad_token_id` to `eos_token_id`:50256 for open-end generation.\n",
            "Setting `pad_token_id` to `eos_token_id`:50256 for open-end generation.\n",
            "Setting `pad_token_id` to `eos_token_id`:50256 for open-end generation.\n",
            "Setting `pad_token_id` to `eos_token_id`:50256 for open-end generation.\n",
            "Setting `pad_token_id` to `eos_token_id`:50256 for open-end generation.\n",
            "Setting `pad_token_id` to `eos_token_id`:50256 for open-end generation.\n",
            "Setting `pad_token_id` to `eos_token_id`:50256 for open-end generation.\n",
            "Setting `pad_token_id` to `eos_token_id`:50256 for open-end generation.\n",
            "Setting `pad_token_id` to `eos_token_id`:50256 for open-end generation.\n",
            "Setting `pad_token_id` to `eos_token_id`:50256 for open-end generation.\n",
            "Setting `pad_token_id` to `eos_token_id`:50256 for open-end generation.\n",
            "Setting `pad_token_id` to `eos_token_id`:50256 for open-end generation.\n",
            "Setting `pad_token_id` to `eos_token_id`:50256 for open-end generation.\n",
            "Setting `pad_token_id` to `eos_token_id`:50256 for open-end generation.\n",
            "Setting `pad_token_id` to `eos_token_id`:50256 for open-end generation.\n",
            "Setting `pad_token_id` to `eos_token_id`:50256 for open-end generation.\n",
            "Setting `pad_token_id` to `eos_token_id`:50256 for open-end generation.\n",
            "Setting `pad_token_id` to `eos_token_id`:50256 for open-end generation.\n",
            "Setting `pad_token_id` to `eos_token_id`:50256 for open-end generation.\n",
            "Setting `pad_token_id` to `eos_token_id`:50256 for open-end generation.\n",
            "Setting `pad_token_id` to `eos_token_id`:50256 for open-end generation.\n",
            "/usr/local/lib/python3.7/dist-packages/nltk/translate/bleu_score.py:490: UserWarning: \n",
            "Corpus/Sentence contains 0 counts of 3-gram overlaps.\n",
            "BLEU scores might be undesirable; use SmoothingFunction().\n",
            "  warnings.warn(_msg)\n",
            "Setting `pad_token_id` to `eos_token_id`:50256 for open-end generation.\n",
            "Setting `pad_token_id` to `eos_token_id`:50256 for open-end generation.\n",
            "Setting `pad_token_id` to `eos_token_id`:50256 for open-end generation.\n",
            "Setting `pad_token_id` to `eos_token_id`:50256 for open-end generation.\n",
            "Setting `pad_token_id` to `eos_token_id`:50256 for open-end generation.\n",
            "Setting `pad_token_id` to `eos_token_id`:50256 for open-end generation.\n",
            "Setting `pad_token_id` to `eos_token_id`:50256 for open-end generation.\n",
            "Setting `pad_token_id` to `eos_token_id`:50256 for open-end generation.\n",
            "Setting `pad_token_id` to `eos_token_id`:50256 for open-end generation.\n",
            "Setting `pad_token_id` to `eos_token_id`:50256 for open-end generation.\n",
            "Setting `pad_token_id` to `eos_token_id`:50256 for open-end generation.\n",
            "Setting `pad_token_id` to `eos_token_id`:50256 for open-end generation.\n",
            "Setting `pad_token_id` to `eos_token_id`:50256 for open-end generation.\n",
            "Setting `pad_token_id` to `eos_token_id`:50256 for open-end generation.\n",
            "Setting `pad_token_id` to `eos_token_id`:50256 for open-end generation.\n",
            "Setting `pad_token_id` to `eos_token_id`:50256 for open-end generation.\n",
            "Setting `pad_token_id` to `eos_token_id`:50256 for open-end generation.\n",
            "Setting `pad_token_id` to `eos_token_id`:50256 for open-end generation.\n",
            "Setting `pad_token_id` to `eos_token_id`:50256 for open-end generation.\n",
            "Setting `pad_token_id` to `eos_token_id`:50256 for open-end generation.\n",
            "Setting `pad_token_id` to `eos_token_id`:50256 for open-end generation.\n",
            "Setting `pad_token_id` to `eos_token_id`:50256 for open-end generation.\n",
            "Setting `pad_token_id` to `eos_token_id`:50256 for open-end generation.\n",
            "Setting `pad_token_id` to `eos_token_id`:50256 for open-end generation.\n",
            "Setting `pad_token_id` to `eos_token_id`:50256 for open-end generation.\n",
            "Setting `pad_token_id` to `eos_token_id`:50256 for open-end generation.\n",
            "Setting `pad_token_id` to `eos_token_id`:50256 for open-end generation.\n",
            "Setting `pad_token_id` to `eos_token_id`:50256 for open-end generation.\n",
            "Setting `pad_token_id` to `eos_token_id`:50256 for open-end generation.\n",
            "Setting `pad_token_id` to `eos_token_id`:50256 for open-end generation.\n",
            "Setting `pad_token_id` to `eos_token_id`:50256 for open-end generation.\n",
            "Setting `pad_token_id` to `eos_token_id`:50256 for open-end generation.\n",
            "Setting `pad_token_id` to `eos_token_id`:50256 for open-end generation.\n",
            "Setting `pad_token_id` to `eos_token_id`:50256 for open-end generation.\n",
            "Setting `pad_token_id` to `eos_token_id`:50256 for open-end generation.\n",
            "Setting `pad_token_id` to `eos_token_id`:50256 for open-end generation.\n",
            "Setting `pad_token_id` to `eos_token_id`:50256 for open-end generation.\n",
            "Setting `pad_token_id` to `eos_token_id`:50256 for open-end generation.\n",
            "Setting `pad_token_id` to `eos_token_id`:50256 for open-end generation.\n",
            "Setting `pad_token_id` to `eos_token_id`:50256 for open-end generation.\n",
            "Setting `pad_token_id` to `eos_token_id`:50256 for open-end generation.\n",
            "Setting `pad_token_id` to `eos_token_id`:50256 for open-end generation.\n",
            "Setting `pad_token_id` to `eos_token_id`:50256 for open-end generation.\n",
            "Setting `pad_token_id` to `eos_token_id`:50256 for open-end generation.\n",
            "Setting `pad_token_id` to `eos_token_id`:50256 for open-end generation.\n",
            "Setting `pad_token_id` to `eos_token_id`:50256 for open-end generation.\n",
            "Setting `pad_token_id` to `eos_token_id`:50256 for open-end generation.\n",
            "Setting `pad_token_id` to `eos_token_id`:50256 for open-end generation.\n",
            "Setting `pad_token_id` to `eos_token_id`:50256 for open-end generation.\n",
            "Setting `pad_token_id` to `eos_token_id`:50256 for open-end generation.\n",
            "Setting `pad_token_id` to `eos_token_id`:50256 for open-end generation.\n",
            "Setting `pad_token_id` to `eos_token_id`:50256 for open-end generation.\n",
            "Setting `pad_token_id` to `eos_token_id`:50256 for open-end generation.\n",
            "Setting `pad_token_id` to `eos_token_id`:50256 for open-end generation.\n",
            "Setting `pad_token_id` to `eos_token_id`:50256 for open-end generation.\n",
            "Setting `pad_token_id` to `eos_token_id`:50256 for open-end generation.\n",
            "Setting `pad_token_id` to `eos_token_id`:50256 for open-end generation.\n",
            "Setting `pad_token_id` to `eos_token_id`:50256 for open-end generation.\n",
            "Setting `pad_token_id` to `eos_token_id`:50256 for open-end generation.\n",
            "Setting `pad_token_id` to `eos_token_id`:50256 for open-end generation.\n",
            "Setting `pad_token_id` to `eos_token_id`:50256 for open-end generation.\n",
            "Setting `pad_token_id` to `eos_token_id`:50256 for open-end generation.\n",
            "Setting `pad_token_id` to `eos_token_id`:50256 for open-end generation.\n",
            "Setting `pad_token_id` to `eos_token_id`:50256 for open-end generation.\n",
            "Setting `pad_token_id` to `eos_token_id`:50256 for open-end generation.\n",
            "Setting `pad_token_id` to `eos_token_id`:50256 for open-end generation.\n",
            "Setting `pad_token_id` to `eos_token_id`:50256 for open-end generation.\n",
            "Setting `pad_token_id` to `eos_token_id`:50256 for open-end generation.\n",
            "Setting `pad_token_id` to `eos_token_id`:50256 for open-end generation.\n",
            "Setting `pad_token_id` to `eos_token_id`:50256 for open-end generation.\n",
            "Setting `pad_token_id` to `eos_token_id`:50256 for open-end generation.\n",
            "Setting `pad_token_id` to `eos_token_id`:50256 for open-end generation.\n",
            "Setting `pad_token_id` to `eos_token_id`:50256 for open-end generation.\n",
            "Setting `pad_token_id` to `eos_token_id`:50256 for open-end generation.\n",
            "Setting `pad_token_id` to `eos_token_id`:50256 for open-end generation.\n",
            "Setting `pad_token_id` to `eos_token_id`:50256 for open-end generation.\n",
            "Setting `pad_token_id` to `eos_token_id`:50256 for open-end generation.\n",
            "Setting `pad_token_id` to `eos_token_id`:50256 for open-end generation.\n",
            "Setting `pad_token_id` to `eos_token_id`:50256 for open-end generation.\n",
            "Setting `pad_token_id` to `eos_token_id`:50256 for open-end generation.\n",
            "Setting `pad_token_id` to `eos_token_id`:50256 for open-end generation.\n",
            "Setting `pad_token_id` to `eos_token_id`:50256 for open-end generation.\n",
            "Setting `pad_token_id` to `eos_token_id`:50256 for open-end generation.\n",
            "Setting `pad_token_id` to `eos_token_id`:50256 for open-end generation.\n",
            "Setting `pad_token_id` to `eos_token_id`:50256 for open-end generation.\n",
            "Setting `pad_token_id` to `eos_token_id`:50256 for open-end generation.\n",
            "Setting `pad_token_id` to `eos_token_id`:50256 for open-end generation.\n",
            "Setting `pad_token_id` to `eos_token_id`:50256 for open-end generation.\n",
            "Setting `pad_token_id` to `eos_token_id`:50256 for open-end generation.\n",
            "Setting `pad_token_id` to `eos_token_id`:50256 for open-end generation.\n",
            "Setting `pad_token_id` to `eos_token_id`:50256 for open-end generation.\n",
            "Setting `pad_token_id` to `eos_token_id`:50256 for open-end generation.\n",
            "Setting `pad_token_id` to `eos_token_id`:50256 for open-end generation.\n",
            "Setting `pad_token_id` to `eos_token_id`:50256 for open-end generation.\n",
            "Setting `pad_token_id` to `eos_token_id`:50256 for open-end generation.\n",
            "Setting `pad_token_id` to `eos_token_id`:50256 for open-end generation.\n",
            "Setting `pad_token_id` to `eos_token_id`:50256 for open-end generation.\n",
            "Setting `pad_token_id` to `eos_token_id`:50256 for open-end generation.\n",
            "Setting `pad_token_id` to `eos_token_id`:50256 for open-end generation.\n",
            "Setting `pad_token_id` to `eos_token_id`:50256 for open-end generation.\n",
            "Setting `pad_token_id` to `eos_token_id`:50256 for open-end generation.\n",
            "Setting `pad_token_id` to `eos_token_id`:50256 for open-end generation.\n",
            "Setting `pad_token_id` to `eos_token_id`:50256 for open-end generation.\n",
            "Setting `pad_token_id` to `eos_token_id`:50256 for open-end generation.\n",
            "Setting `pad_token_id` to `eos_token_id`:50256 for open-end generation.\n",
            "Setting `pad_token_id` to `eos_token_id`:50256 for open-end generation.\n",
            "Setting `pad_token_id` to `eos_token_id`:50256 for open-end generation.\n",
            "Setting `pad_token_id` to `eos_token_id`:50256 for open-end generation.\n",
            "Setting `pad_token_id` to `eos_token_id`:50256 for open-end generation.\n",
            "Setting `pad_token_id` to `eos_token_id`:50256 for open-end generation.\n",
            "Setting `pad_token_id` to `eos_token_id`:50256 for open-end generation.\n",
            "Setting `pad_token_id` to `eos_token_id`:50256 for open-end generation.\n",
            "Setting `pad_token_id` to `eos_token_id`:50256 for open-end generation.\n",
            "Setting `pad_token_id` to `eos_token_id`:50256 for open-end generation.\n",
            "Setting `pad_token_id` to `eos_token_id`:50256 for open-end generation.\n",
            "Setting `pad_token_id` to `eos_token_id`:50256 for open-end generation.\n",
            "Setting `pad_token_id` to `eos_token_id`:50256 for open-end generation.\n",
            "Setting `pad_token_id` to `eos_token_id`:50256 for open-end generation.\n",
            "Setting `pad_token_id` to `eos_token_id`:50256 for open-end generation.\n",
            "Setting `pad_token_id` to `eos_token_id`:50256 for open-end generation.\n",
            "Setting `pad_token_id` to `eos_token_id`:50256 for open-end generation.\n",
            "Setting `pad_token_id` to `eos_token_id`:50256 for open-end generation.\n",
            "Setting `pad_token_id` to `eos_token_id`:50256 for open-end generation.\n",
            "Setting `pad_token_id` to `eos_token_id`:50256 for open-end generation.\n",
            "Setting `pad_token_id` to `eos_token_id`:50256 for open-end generation.\n",
            "Setting `pad_token_id` to `eos_token_id`:50256 for open-end generation.\n",
            "Setting `pad_token_id` to `eos_token_id`:50256 for open-end generation.\n",
            "Setting `pad_token_id` to `eos_token_id`:50256 for open-end generation.\n",
            "Setting `pad_token_id` to `eos_token_id`:50256 for open-end generation.\n",
            "Setting `pad_token_id` to `eos_token_id`:50256 for open-end generation.\n",
            "Setting `pad_token_id` to `eos_token_id`:50256 for open-end generation.\n",
            "Setting `pad_token_id` to `eos_token_id`:50256 for open-end generation.\n",
            "Setting `pad_token_id` to `eos_token_id`:50256 for open-end generation.\n",
            "Setting `pad_token_id` to `eos_token_id`:50256 for open-end generation.\n",
            "Setting `pad_token_id` to `eos_token_id`:50256 for open-end generation.\n",
            "Setting `pad_token_id` to `eos_token_id`:50256 for open-end generation.\n",
            "Setting `pad_token_id` to `eos_token_id`:50256 for open-end generation.\n",
            "Setting `pad_token_id` to `eos_token_id`:50256 for open-end generation.\n",
            "Setting `pad_token_id` to `eos_token_id`:50256 for open-end generation.\n",
            "Setting `pad_token_id` to `eos_token_id`:50256 for open-end generation.\n",
            "Setting `pad_token_id` to `eos_token_id`:50256 for open-end generation.\n",
            "Setting `pad_token_id` to `eos_token_id`:50256 for open-end generation.\n",
            "Setting `pad_token_id` to `eos_token_id`:50256 for open-end generation.\n",
            "Setting `pad_token_id` to `eos_token_id`:50256 for open-end generation.\n",
            "Setting `pad_token_id` to `eos_token_id`:50256 for open-end generation.\n",
            "Setting `pad_token_id` to `eos_token_id`:50256 for open-end generation.\n",
            "Setting `pad_token_id` to `eos_token_id`:50256 for open-end generation.\n",
            "Setting `pad_token_id` to `eos_token_id`:50256 for open-end generation.\n",
            "Setting `pad_token_id` to `eos_token_id`:50256 for open-end generation.\n",
            "Setting `pad_token_id` to `eos_token_id`:50256 for open-end generation.\n",
            "Setting `pad_token_id` to `eos_token_id`:50256 for open-end generation.\n",
            "Setting `pad_token_id` to `eos_token_id`:50256 for open-end generation.\n",
            "Setting `pad_token_id` to `eos_token_id`:50256 for open-end generation.\n",
            "Setting `pad_token_id` to `eos_token_id`:50256 for open-end generation.\n",
            "Setting `pad_token_id` to `eos_token_id`:50256 for open-end generation.\n",
            "Setting `pad_token_id` to `eos_token_id`:50256 for open-end generation.\n",
            "Setting `pad_token_id` to `eos_token_id`:50256 for open-end generation.\n",
            "Setting `pad_token_id` to `eos_token_id`:50256 for open-end generation.\n",
            "Setting `pad_token_id` to `eos_token_id`:50256 for open-end generation.\n",
            "Setting `pad_token_id` to `eos_token_id`:50256 for open-end generation.\n",
            "Setting `pad_token_id` to `eos_token_id`:50256 for open-end generation.\n",
            "Setting `pad_token_id` to `eos_token_id`:50256 for open-end generation.\n",
            "Setting `pad_token_id` to `eos_token_id`:50256 for open-end generation.\n",
            "Setting `pad_token_id` to `eos_token_id`:50256 for open-end generation.\n",
            "Setting `pad_token_id` to `eos_token_id`:50256 for open-end generation.\n",
            "Setting `pad_token_id` to `eos_token_id`:50256 for open-end generation.\n",
            "Setting `pad_token_id` to `eos_token_id`:50256 for open-end generation.\n",
            "Setting `pad_token_id` to `eos_token_id`:50256 for open-end generation.\n",
            "Setting `pad_token_id` to `eos_token_id`:50256 for open-end generation.\n",
            "Setting `pad_token_id` to `eos_token_id`:50256 for open-end generation.\n",
            "Setting `pad_token_id` to `eos_token_id`:50256 for open-end generation.\n",
            "Setting `pad_token_id` to `eos_token_id`:50256 for open-end generation.\n",
            "Setting `pad_token_id` to `eos_token_id`:50256 for open-end generation.\n",
            "Setting `pad_token_id` to `eos_token_id`:50256 for open-end generation.\n",
            "Setting `pad_token_id` to `eos_token_id`:50256 for open-end generation.\n",
            "Setting `pad_token_id` to `eos_token_id`:50256 for open-end generation.\n",
            "Setting `pad_token_id` to `eos_token_id`:50256 for open-end generation.\n",
            "Setting `pad_token_id` to `eos_token_id`:50256 for open-end generation.\n",
            "Setting `pad_token_id` to `eos_token_id`:50256 for open-end generation.\n",
            "Setting `pad_token_id` to `eos_token_id`:50256 for open-end generation.\n",
            "Setting `pad_token_id` to `eos_token_id`:50256 for open-end generation.\n",
            "Setting `pad_token_id` to `eos_token_id`:50256 for open-end generation.\n",
            "Setting `pad_token_id` to `eos_token_id`:50256 for open-end generation.\n",
            "Setting `pad_token_id` to `eos_token_id`:50256 for open-end generation.\n",
            "Setting `pad_token_id` to `eos_token_id`:50256 for open-end generation.\n",
            "Setting `pad_token_id` to `eos_token_id`:50256 for open-end generation.\n",
            "Setting `pad_token_id` to `eos_token_id`:50256 for open-end generation.\n",
            "Setting `pad_token_id` to `eos_token_id`:50256 for open-end generation.\n",
            "Setting `pad_token_id` to `eos_token_id`:50256 for open-end generation.\n",
            "Setting `pad_token_id` to `eos_token_id`:50256 for open-end generation.\n",
            "Setting `pad_token_id` to `eos_token_id`:50256 for open-end generation.\n",
            "Setting `pad_token_id` to `eos_token_id`:50256 for open-end generation.\n",
            "Setting `pad_token_id` to `eos_token_id`:50256 for open-end generation.\n",
            "Setting `pad_token_id` to `eos_token_id`:50256 for open-end generation.\n",
            "Setting `pad_token_id` to `eos_token_id`:50256 for open-end generation.\n",
            "Setting `pad_token_id` to `eos_token_id`:50256 for open-end generation.\n",
            "Setting `pad_token_id` to `eos_token_id`:50256 for open-end generation.\n",
            "Setting `pad_token_id` to `eos_token_id`:50256 for open-end generation.\n",
            "Setting `pad_token_id` to `eos_token_id`:50256 for open-end generation.\n",
            "Setting `pad_token_id` to `eos_token_id`:50256 for open-end generation.\n",
            "Setting `pad_token_id` to `eos_token_id`:50256 for open-end generation.\n",
            "Setting `pad_token_id` to `eos_token_id`:50256 for open-end generation.\n",
            "Setting `pad_token_id` to `eos_token_id`:50256 for open-end generation.\n",
            "Setting `pad_token_id` to `eos_token_id`:50256 for open-end generation.\n",
            "Setting `pad_token_id` to `eos_token_id`:50256 for open-end generation.\n",
            "Setting `pad_token_id` to `eos_token_id`:50256 for open-end generation.\n",
            "Setting `pad_token_id` to `eos_token_id`:50256 for open-end generation.\n",
            "Setting `pad_token_id` to `eos_token_id`:50256 for open-end generation.\n",
            "Setting `pad_token_id` to `eos_token_id`:50256 for open-end generation.\n",
            "Setting `pad_token_id` to `eos_token_id`:50256 for open-end generation.\n",
            "Setting `pad_token_id` to `eos_token_id`:50256 for open-end generation.\n",
            "Setting `pad_token_id` to `eos_token_id`:50256 for open-end generation.\n",
            "Setting `pad_token_id` to `eos_token_id`:50256 for open-end generation.\n",
            "Setting `pad_token_id` to `eos_token_id`:50256 for open-end generation.\n",
            "Setting `pad_token_id` to `eos_token_id`:50256 for open-end generation.\n",
            "Setting `pad_token_id` to `eos_token_id`:50256 for open-end generation.\n",
            "Setting `pad_token_id` to `eos_token_id`:50256 for open-end generation.\n",
            "Setting `pad_token_id` to `eos_token_id`:50256 for open-end generation.\n",
            "Setting `pad_token_id` to `eos_token_id`:50256 for open-end generation.\n",
            "Setting `pad_token_id` to `eos_token_id`:50256 for open-end generation.\n",
            "Setting `pad_token_id` to `eos_token_id`:50256 for open-end generation.\n",
            "Setting `pad_token_id` to `eos_token_id`:50256 for open-end generation.\n",
            "Setting `pad_token_id` to `eos_token_id`:50256 for open-end generation.\n",
            "Setting `pad_token_id` to `eos_token_id`:50256 for open-end generation.\n",
            "Setting `pad_token_id` to `eos_token_id`:50256 for open-end generation.\n",
            "Setting `pad_token_id` to `eos_token_id`:50256 for open-end generation.\n",
            "Setting `pad_token_id` to `eos_token_id`:50256 for open-end generation.\n",
            "Setting `pad_token_id` to `eos_token_id`:50256 for open-end generation.\n",
            "Setting `pad_token_id` to `eos_token_id`:50256 for open-end generation.\n",
            "Setting `pad_token_id` to `eos_token_id`:50256 for open-end generation.\n",
            "Setting `pad_token_id` to `eos_token_id`:50256 for open-end generation.\n",
            "Setting `pad_token_id` to `eos_token_id`:50256 for open-end generation.\n",
            "Setting `pad_token_id` to `eos_token_id`:50256 for open-end generation.\n",
            "Setting `pad_token_id` to `eos_token_id`:50256 for open-end generation.\n",
            "Setting `pad_token_id` to `eos_token_id`:50256 for open-end generation.\n",
            "Setting `pad_token_id` to `eos_token_id`:50256 for open-end generation.\n",
            "Setting `pad_token_id` to `eos_token_id`:50256 for open-end generation.\n",
            "Setting `pad_token_id` to `eos_token_id`:50256 for open-end generation.\n",
            "Setting `pad_token_id` to `eos_token_id`:50256 for open-end generation.\n",
            "Setting `pad_token_id` to `eos_token_id`:50256 for open-end generation.\n",
            "Setting `pad_token_id` to `eos_token_id`:50256 for open-end generation.\n",
            "Setting `pad_token_id` to `eos_token_id`:50256 for open-end generation.\n",
            "Setting `pad_token_id` to `eos_token_id`:50256 for open-end generation.\n",
            "Setting `pad_token_id` to `eos_token_id`:50256 for open-end generation.\n",
            "Setting `pad_token_id` to `eos_token_id`:50256 for open-end generation.\n",
            "Setting `pad_token_id` to `eos_token_id`:50256 for open-end generation.\n",
            "Setting `pad_token_id` to `eos_token_id`:50256 for open-end generation.\n",
            "Setting `pad_token_id` to `eos_token_id`:50256 for open-end generation.\n",
            "Setting `pad_token_id` to `eos_token_id`:50256 for open-end generation.\n",
            "Setting `pad_token_id` to `eos_token_id`:50256 for open-end generation.\n",
            "Setting `pad_token_id` to `eos_token_id`:50256 for open-end generation.\n",
            "Setting `pad_token_id` to `eos_token_id`:50256 for open-end generation.\n",
            "Setting `pad_token_id` to `eos_token_id`:50256 for open-end generation.\n",
            "Setting `pad_token_id` to `eos_token_id`:50256 for open-end generation.\n",
            "Setting `pad_token_id` to `eos_token_id`:50256 for open-end generation.\n",
            "Setting `pad_token_id` to `eos_token_id`:50256 for open-end generation.\n",
            "Setting `pad_token_id` to `eos_token_id`:50256 for open-end generation.\n",
            "Setting `pad_token_id` to `eos_token_id`:50256 for open-end generation.\n",
            "Setting `pad_token_id` to `eos_token_id`:50256 for open-end generation.\n",
            "Setting `pad_token_id` to `eos_token_id`:50256 for open-end generation.\n",
            "Setting `pad_token_id` to `eos_token_id`:50256 for open-end generation.\n",
            "Setting `pad_token_id` to `eos_token_id`:50256 for open-end generation.\n",
            "Setting `pad_token_id` to `eos_token_id`:50256 for open-end generation.\n",
            "Setting `pad_token_id` to `eos_token_id`:50256 for open-end generation.\n",
            "Setting `pad_token_id` to `eos_token_id`:50256 for open-end generation.\n",
            "Setting `pad_token_id` to `eos_token_id`:50256 for open-end generation.\n",
            "Setting `pad_token_id` to `eos_token_id`:50256 for open-end generation.\n",
            "Setting `pad_token_id` to `eos_token_id`:50256 for open-end generation.\n",
            "Setting `pad_token_id` to `eos_token_id`:50256 for open-end generation.\n",
            "Setting `pad_token_id` to `eos_token_id`:50256 for open-end generation.\n",
            "Setting `pad_token_id` to `eos_token_id`:50256 for open-end generation.\n",
            "Setting `pad_token_id` to `eos_token_id`:50256 for open-end generation.\n",
            "Setting `pad_token_id` to `eos_token_id`:50256 for open-end generation.\n",
            "Setting `pad_token_id` to `eos_token_id`:50256 for open-end generation.\n",
            "Setting `pad_token_id` to `eos_token_id`:50256 for open-end generation.\n",
            "Setting `pad_token_id` to `eos_token_id`:50256 for open-end generation.\n",
            "Setting `pad_token_id` to `eos_token_id`:50256 for open-end generation.\n",
            "Setting `pad_token_id` to `eos_token_id`:50256 for open-end generation.\n",
            "Setting `pad_token_id` to `eos_token_id`:50256 for open-end generation.\n",
            "Setting `pad_token_id` to `eos_token_id`:50256 for open-end generation.\n",
            "Setting `pad_token_id` to `eos_token_id`:50256 for open-end generation.\n",
            "Setting `pad_token_id` to `eos_token_id`:50256 for open-end generation.\n",
            "Setting `pad_token_id` to `eos_token_id`:50256 for open-end generation.\n",
            "Setting `pad_token_id` to `eos_token_id`:50256 for open-end generation.\n",
            "Setting `pad_token_id` to `eos_token_id`:50256 for open-end generation.\n",
            "Setting `pad_token_id` to `eos_token_id`:50256 for open-end generation.\n",
            "Setting `pad_token_id` to `eos_token_id`:50256 for open-end generation.\n",
            "Setting `pad_token_id` to `eos_token_id`:50256 for open-end generation.\n",
            "Setting `pad_token_id` to `eos_token_id`:50256 for open-end generation.\n",
            "Setting `pad_token_id` to `eos_token_id`:50256 for open-end generation.\n",
            "Setting `pad_token_id` to `eos_token_id`:50256 for open-end generation.\n",
            "Setting `pad_token_id` to `eos_token_id`:50256 for open-end generation.\n",
            "Setting `pad_token_id` to `eos_token_id`:50256 for open-end generation.\n",
            "Setting `pad_token_id` to `eos_token_id`:50256 for open-end generation.\n",
            "Setting `pad_token_id` to `eos_token_id`:50256 for open-end generation.\n",
            "Setting `pad_token_id` to `eos_token_id`:50256 for open-end generation.\n",
            "Setting `pad_token_id` to `eos_token_id`:50256 for open-end generation.\n",
            "Setting `pad_token_id` to `eos_token_id`:50256 for open-end generation.\n",
            "Setting `pad_token_id` to `eos_token_id`:50256 for open-end generation.\n",
            "Setting `pad_token_id` to `eos_token_id`:50256 for open-end generation.\n",
            "Setting `pad_token_id` to `eos_token_id`:50256 for open-end generation.\n",
            "Setting `pad_token_id` to `eos_token_id`:50256 for open-end generation.\n",
            "Setting `pad_token_id` to `eos_token_id`:50256 for open-end generation.\n",
            "Setting `pad_token_id` to `eos_token_id`:50256 for open-end generation.\n",
            "Setting `pad_token_id` to `eos_token_id`:50256 for open-end generation.\n",
            "Setting `pad_token_id` to `eos_token_id`:50256 for open-end generation.\n",
            "Setting `pad_token_id` to `eos_token_id`:50256 for open-end generation.\n",
            "Setting `pad_token_id` to `eos_token_id`:50256 for open-end generation.\n",
            "Setting `pad_token_id` to `eos_token_id`:50256 for open-end generation.\n",
            "Setting `pad_token_id` to `eos_token_id`:50256 for open-end generation.\n",
            "Setting `pad_token_id` to `eos_token_id`:50256 for open-end generation.\n",
            "Setting `pad_token_id` to `eos_token_id`:50256 for open-end generation.\n",
            "Setting `pad_token_id` to `eos_token_id`:50256 for open-end generation.\n",
            "Setting `pad_token_id` to `eos_token_id`:50256 for open-end generation.\n",
            "Setting `pad_token_id` to `eos_token_id`:50256 for open-end generation.\n",
            "Setting `pad_token_id` to `eos_token_id`:50256 for open-end generation.\n",
            "Setting `pad_token_id` to `eos_token_id`:50256 for open-end generation.\n",
            "Setting `pad_token_id` to `eos_token_id`:50256 for open-end generation.\n",
            "Setting `pad_token_id` to `eos_token_id`:50256 for open-end generation.\n",
            "Setting `pad_token_id` to `eos_token_id`:50256 for open-end generation.\n",
            "Setting `pad_token_id` to `eos_token_id`:50256 for open-end generation.\n",
            "Setting `pad_token_id` to `eos_token_id`:50256 for open-end generation.\n",
            "Setting `pad_token_id` to `eos_token_id`:50256 for open-end generation.\n",
            "Setting `pad_token_id` to `eos_token_id`:50256 for open-end generation.\n",
            "Setting `pad_token_id` to `eos_token_id`:50256 for open-end generation.\n",
            "Setting `pad_token_id` to `eos_token_id`:50256 for open-end generation.\n",
            "Setting `pad_token_id` to `eos_token_id`:50256 for open-end generation.\n",
            "Setting `pad_token_id` to `eos_token_id`:50256 for open-end generation.\n",
            "Setting `pad_token_id` to `eos_token_id`:50256 for open-end generation.\n",
            "Setting `pad_token_id` to `eos_token_id`:50256 for open-end generation.\n",
            "Setting `pad_token_id` to `eos_token_id`:50256 for open-end generation.\n",
            "Setting `pad_token_id` to `eos_token_id`:50256 for open-end generation.\n",
            "Setting `pad_token_id` to `eos_token_id`:50256 for open-end generation.\n",
            "Setting `pad_token_id` to `eos_token_id`:50256 for open-end generation.\n",
            "Setting `pad_token_id` to `eos_token_id`:50256 for open-end generation.\n",
            "Setting `pad_token_id` to `eos_token_id`:50256 for open-end generation.\n",
            "Setting `pad_token_id` to `eos_token_id`:50256 for open-end generation.\n",
            "Setting `pad_token_id` to `eos_token_id`:50256 for open-end generation.\n",
            "Setting `pad_token_id` to `eos_token_id`:50256 for open-end generation.\n",
            "Setting `pad_token_id` to `eos_token_id`:50256 for open-end generation.\n",
            "Setting `pad_token_id` to `eos_token_id`:50256 for open-end generation.\n",
            "Setting `pad_token_id` to `eos_token_id`:50256 for open-end generation.\n",
            "Setting `pad_token_id` to `eos_token_id`:50256 for open-end generation.\n",
            "Setting `pad_token_id` to `eos_token_id`:50256 for open-end generation.\n",
            "Setting `pad_token_id` to `eos_token_id`:50256 for open-end generation.\n",
            "Setting `pad_token_id` to `eos_token_id`:50256 for open-end generation.\n",
            "Setting `pad_token_id` to `eos_token_id`:50256 for open-end generation.\n",
            "Setting `pad_token_id` to `eos_token_id`:50256 for open-end generation.\n",
            "Setting `pad_token_id` to `eos_token_id`:50256 for open-end generation.\n",
            "Setting `pad_token_id` to `eos_token_id`:50256 for open-end generation.\n",
            "Setting `pad_token_id` to `eos_token_id`:50256 for open-end generation.\n",
            "Setting `pad_token_id` to `eos_token_id`:50256 for open-end generation.\n",
            "Setting `pad_token_id` to `eos_token_id`:50256 for open-end generation.\n",
            "Setting `pad_token_id` to `eos_token_id`:50256 for open-end generation.\n",
            "Setting `pad_token_id` to `eos_token_id`:50256 for open-end generation.\n",
            "Setting `pad_token_id` to `eos_token_id`:50256 for open-end generation.\n",
            "Setting `pad_token_id` to `eos_token_id`:50256 for open-end generation.\n",
            "Setting `pad_token_id` to `eos_token_id`:50256 for open-end generation.\n",
            "Setting `pad_token_id` to `eos_token_id`:50256 for open-end generation.\n",
            "Setting `pad_token_id` to `eos_token_id`:50256 for open-end generation.\n",
            "Setting `pad_token_id` to `eos_token_id`:50256 for open-end generation.\n",
            "Setting `pad_token_id` to `eos_token_id`:50256 for open-end generation.\n",
            "Setting `pad_token_id` to `eos_token_id`:50256 for open-end generation.\n",
            "Setting `pad_token_id` to `eos_token_id`:50256 for open-end generation.\n",
            "Setting `pad_token_id` to `eos_token_id`:50256 for open-end generation.\n",
            "Setting `pad_token_id` to `eos_token_id`:50256 for open-end generation.\n",
            "Setting `pad_token_id` to `eos_token_id`:50256 for open-end generation.\n",
            "Setting `pad_token_id` to `eos_token_id`:50256 for open-end generation.\n",
            "Setting `pad_token_id` to `eos_token_id`:50256 for open-end generation.\n",
            "Setting `pad_token_id` to `eos_token_id`:50256 for open-end generation.\n",
            "Setting `pad_token_id` to `eos_token_id`:50256 for open-end generation.\n",
            "Setting `pad_token_id` to `eos_token_id`:50256 for open-end generation.\n",
            "Setting `pad_token_id` to `eos_token_id`:50256 for open-end generation.\n",
            "Setting `pad_token_id` to `eos_token_id`:50256 for open-end generation.\n",
            "Setting `pad_token_id` to `eos_token_id`:50256 for open-end generation.\n",
            "Setting `pad_token_id` to `eos_token_id`:50256 for open-end generation.\n",
            "Setting `pad_token_id` to `eos_token_id`:50256 for open-end generation.\n",
            "Setting `pad_token_id` to `eos_token_id`:50256 for open-end generation.\n",
            "Setting `pad_token_id` to `eos_token_id`:50256 for open-end generation.\n",
            "Setting `pad_token_id` to `eos_token_id`:50256 for open-end generation.\n",
            "Setting `pad_token_id` to `eos_token_id`:50256 for open-end generation.\n",
            "Setting `pad_token_id` to `eos_token_id`:50256 for open-end generation.\n",
            "Setting `pad_token_id` to `eos_token_id`:50256 for open-end generation.\n",
            "Setting `pad_token_id` to `eos_token_id`:50256 for open-end generation.\n",
            "Setting `pad_token_id` to `eos_token_id`:50256 for open-end generation.\n",
            "Setting `pad_token_id` to `eos_token_id`:50256 for open-end generation.\n",
            "Setting `pad_token_id` to `eos_token_id`:50256 for open-end generation.\n",
            "Setting `pad_token_id` to `eos_token_id`:50256 for open-end generation.\n",
            "Setting `pad_token_id` to `eos_token_id`:50256 for open-end generation.\n",
            "Setting `pad_token_id` to `eos_token_id`:50256 for open-end generation.\n",
            "Setting `pad_token_id` to `eos_token_id`:50256 for open-end generation.\n",
            "Setting `pad_token_id` to `eos_token_id`:50256 for open-end generation.\n",
            "Setting `pad_token_id` to `eos_token_id`:50256 for open-end generation.\n",
            "Setting `pad_token_id` to `eos_token_id`:50256 for open-end generation.\n",
            "Setting `pad_token_id` to `eos_token_id`:50256 for open-end generation.\n",
            "Setting `pad_token_id` to `eos_token_id`:50256 for open-end generation.\n",
            "Setting `pad_token_id` to `eos_token_id`:50256 for open-end generation.\n",
            "Setting `pad_token_id` to `eos_token_id`:50256 for open-end generation.\n",
            "Setting `pad_token_id` to `eos_token_id`:50256 for open-end generation.\n",
            "Setting `pad_token_id` to `eos_token_id`:50256 for open-end generation.\n",
            "Setting `pad_token_id` to `eos_token_id`:50256 for open-end generation.\n",
            "Setting `pad_token_id` to `eos_token_id`:50256 for open-end generation.\n",
            "Setting `pad_token_id` to `eos_token_id`:50256 for open-end generation.\n",
            "Setting `pad_token_id` to `eos_token_id`:50256 for open-end generation.\n",
            "Setting `pad_token_id` to `eos_token_id`:50256 for open-end generation.\n",
            "Setting `pad_token_id` to `eos_token_id`:50256 for open-end generation.\n",
            "Setting `pad_token_id` to `eos_token_id`:50256 for open-end generation.\n",
            "Setting `pad_token_id` to `eos_token_id`:50256 for open-end generation.\n",
            "Setting `pad_token_id` to `eos_token_id`:50256 for open-end generation.\n",
            "Setting `pad_token_id` to `eos_token_id`:50256 for open-end generation.\n",
            "Setting `pad_token_id` to `eos_token_id`:50256 for open-end generation.\n",
            "Setting `pad_token_id` to `eos_token_id`:50256 for open-end generation.\n",
            "Setting `pad_token_id` to `eos_token_id`:50256 for open-end generation.\n",
            "Setting `pad_token_id` to `eos_token_id`:50256 for open-end generation.\n",
            "Setting `pad_token_id` to `eos_token_id`:50256 for open-end generation.\n",
            "Setting `pad_token_id` to `eos_token_id`:50256 for open-end generation.\n",
            "Setting `pad_token_id` to `eos_token_id`:50256 for open-end generation.\n",
            "Setting `pad_token_id` to `eos_token_id`:50256 for open-end generation.\n",
            "Setting `pad_token_id` to `eos_token_id`:50256 for open-end generation.\n",
            "Setting `pad_token_id` to `eos_token_id`:50256 for open-end generation.\n",
            "Setting `pad_token_id` to `eos_token_id`:50256 for open-end generation.\n",
            "Setting `pad_token_id` to `eos_token_id`:50256 for open-end generation.\n",
            "Setting `pad_token_id` to `eos_token_id`:50256 for open-end generation.\n",
            "Setting `pad_token_id` to `eos_token_id`:50256 for open-end generation.\n",
            "Setting `pad_token_id` to `eos_token_id`:50256 for open-end generation.\n",
            "Setting `pad_token_id` to `eos_token_id`:50256 for open-end generation.\n",
            "Setting `pad_token_id` to `eos_token_id`:50256 for open-end generation.\n",
            "Setting `pad_token_id` to `eos_token_id`:50256 for open-end generation.\n",
            "Setting `pad_token_id` to `eos_token_id`:50256 for open-end generation.\n",
            "Setting `pad_token_id` to `eos_token_id`:50256 for open-end generation.\n",
            "Setting `pad_token_id` to `eos_token_id`:50256 for open-end generation.\n",
            "Setting `pad_token_id` to `eos_token_id`:50256 for open-end generation.\n",
            "Setting `pad_token_id` to `eos_token_id`:50256 for open-end generation.\n",
            "Setting `pad_token_id` to `eos_token_id`:50256 for open-end generation.\n",
            "Setting `pad_token_id` to `eos_token_id`:50256 for open-end generation.\n",
            "Setting `pad_token_id` to `eos_token_id`:50256 for open-end generation.\n",
            "Setting `pad_token_id` to `eos_token_id`:50256 for open-end generation.\n",
            "Setting `pad_token_id` to `eos_token_id`:50256 for open-end generation.\n",
            "Setting `pad_token_id` to `eos_token_id`:50256 for open-end generation.\n",
            "Setting `pad_token_id` to `eos_token_id`:50256 for open-end generation.\n",
            "Setting `pad_token_id` to `eos_token_id`:50256 for open-end generation.\n",
            "Setting `pad_token_id` to `eos_token_id`:50256 for open-end generation.\n",
            "Setting `pad_token_id` to `eos_token_id`:50256 for open-end generation.\n",
            "Setting `pad_token_id` to `eos_token_id`:50256 for open-end generation.\n",
            "Setting `pad_token_id` to `eos_token_id`:50256 for open-end generation.\n",
            "Setting `pad_token_id` to `eos_token_id`:50256 for open-end generation.\n",
            "Setting `pad_token_id` to `eos_token_id`:50256 for open-end generation.\n",
            "Setting `pad_token_id` to `eos_token_id`:50256 for open-end generation.\n",
            "Setting `pad_token_id` to `eos_token_id`:50256 for open-end generation.\n",
            "Setting `pad_token_id` to `eos_token_id`:50256 for open-end generation.\n",
            "Setting `pad_token_id` to `eos_token_id`:50256 for open-end generation.\n",
            "Setting `pad_token_id` to `eos_token_id`:50256 for open-end generation.\n",
            "Setting `pad_token_id` to `eos_token_id`:50256 for open-end generation.\n",
            "Setting `pad_token_id` to `eos_token_id`:50256 for open-end generation.\n",
            "Setting `pad_token_id` to `eos_token_id`:50256 for open-end generation.\n",
            "Setting `pad_token_id` to `eos_token_id`:50256 for open-end generation.\n",
            "Setting `pad_token_id` to `eos_token_id`:50256 for open-end generation.\n",
            "Setting `pad_token_id` to `eos_token_id`:50256 for open-end generation.\n",
            "Setting `pad_token_id` to `eos_token_id`:50256 for open-end generation.\n",
            "Setting `pad_token_id` to `eos_token_id`:50256 for open-end generation.\n",
            "Setting `pad_token_id` to `eos_token_id`:50256 for open-end generation.\n",
            "Setting `pad_token_id` to `eos_token_id`:50256 for open-end generation.\n",
            "Setting `pad_token_id` to `eos_token_id`:50256 for open-end generation.\n",
            "Setting `pad_token_id` to `eos_token_id`:50256 for open-end generation.\n",
            "Setting `pad_token_id` to `eos_token_id`:50256 for open-end generation.\n",
            "Setting `pad_token_id` to `eos_token_id`:50256 for open-end generation.\n",
            "Setting `pad_token_id` to `eos_token_id`:50256 for open-end generation.\n",
            "Setting `pad_token_id` to `eos_token_id`:50256 for open-end generation.\n",
            "Setting `pad_token_id` to `eos_token_id`:50256 for open-end generation.\n",
            "Setting `pad_token_id` to `eos_token_id`:50256 for open-end generation.\n",
            "Setting `pad_token_id` to `eos_token_id`:50256 for open-end generation.\n",
            "Setting `pad_token_id` to `eos_token_id`:50256 for open-end generation.\n",
            "Setting `pad_token_id` to `eos_token_id`:50256 for open-end generation.\n",
            "Setting `pad_token_id` to `eos_token_id`:50256 for open-end generation.\n",
            "Setting `pad_token_id` to `eos_token_id`:50256 for open-end generation.\n",
            "Setting `pad_token_id` to `eos_token_id`:50256 for open-end generation.\n",
            "Setting `pad_token_id` to `eos_token_id`:50256 for open-end generation.\n",
            "Setting `pad_token_id` to `eos_token_id`:50256 for open-end generation.\n",
            "Setting `pad_token_id` to `eos_token_id`:50256 for open-end generation.\n",
            "Setting `pad_token_id` to `eos_token_id`:50256 for open-end generation.\n",
            "Setting `pad_token_id` to `eos_token_id`:50256 for open-end generation.\n",
            "Setting `pad_token_id` to `eos_token_id`:50256 for open-end generation.\n",
            "Setting `pad_token_id` to `eos_token_id`:50256 for open-end generation.\n",
            "Setting `pad_token_id` to `eos_token_id`:50256 for open-end generation.\n",
            "Setting `pad_token_id` to `eos_token_id`:50256 for open-end generation.\n",
            "Setting `pad_token_id` to `eos_token_id`:50256 for open-end generation.\n",
            "Setting `pad_token_id` to `eos_token_id`:50256 for open-end generation.\n",
            "Setting `pad_token_id` to `eos_token_id`:50256 for open-end generation.\n",
            "Setting `pad_token_id` to `eos_token_id`:50256 for open-end generation.\n",
            "Setting `pad_token_id` to `eos_token_id`:50256 for open-end generation.\n",
            "Setting `pad_token_id` to `eos_token_id`:50256 for open-end generation.\n",
            "Setting `pad_token_id` to `eos_token_id`:50256 for open-end generation.\n",
            "Setting `pad_token_id` to `eos_token_id`:50256 for open-end generation.\n",
            "Setting `pad_token_id` to `eos_token_id`:50256 for open-end generation.\n",
            "Setting `pad_token_id` to `eos_token_id`:50256 for open-end generation.\n",
            "Setting `pad_token_id` to `eos_token_id`:50256 for open-end generation.\n",
            "Setting `pad_token_id` to `eos_token_id`:50256 for open-end generation.\n",
            "Setting `pad_token_id` to `eos_token_id`:50256 for open-end generation.\n",
            "Setting `pad_token_id` to `eos_token_id`:50256 for open-end generation.\n",
            "Setting `pad_token_id` to `eos_token_id`:50256 for open-end generation.\n",
            "Setting `pad_token_id` to `eos_token_id`:50256 for open-end generation.\n",
            "Setting `pad_token_id` to `eos_token_id`:50256 for open-end generation.\n",
            "Setting `pad_token_id` to `eos_token_id`:50256 for open-end generation.\n",
            "Setting `pad_token_id` to `eos_token_id`:50256 for open-end generation.\n",
            "Setting `pad_token_id` to `eos_token_id`:50256 for open-end generation.\n",
            "Setting `pad_token_id` to `eos_token_id`:50256 for open-end generation.\n",
            "Setting `pad_token_id` to `eos_token_id`:50256 for open-end generation.\n",
            "Setting `pad_token_id` to `eos_token_id`:50256 for open-end generation.\n",
            "Setting `pad_token_id` to `eos_token_id`:50256 for open-end generation.\n",
            "Setting `pad_token_id` to `eos_token_id`:50256 for open-end generation.\n",
            "Setting `pad_token_id` to `eos_token_id`:50256 for open-end generation.\n",
            "Setting `pad_token_id` to `eos_token_id`:50256 for open-end generation.\n",
            "Setting `pad_token_id` to `eos_token_id`:50256 for open-end generation.\n",
            "Setting `pad_token_id` to `eos_token_id`:50256 for open-end generation.\n",
            "Setting `pad_token_id` to `eos_token_id`:50256 for open-end generation.\n",
            "Setting `pad_token_id` to `eos_token_id`:50256 for open-end generation.\n",
            "Setting `pad_token_id` to `eos_token_id`:50256 for open-end generation.\n",
            "Setting `pad_token_id` to `eos_token_id`:50256 for open-end generation.\n",
            "Setting `pad_token_id` to `eos_token_id`:50256 for open-end generation.\n",
            "Setting `pad_token_id` to `eos_token_id`:50256 for open-end generation.\n",
            "Setting `pad_token_id` to `eos_token_id`:50256 for open-end generation.\n",
            "Setting `pad_token_id` to `eos_token_id`:50256 for open-end generation.\n",
            "Setting `pad_token_id` to `eos_token_id`:50256 for open-end generation.\n",
            "Setting `pad_token_id` to `eos_token_id`:50256 for open-end generation.\n",
            "Setting `pad_token_id` to `eos_token_id`:50256 for open-end generation.\n",
            "Setting `pad_token_id` to `eos_token_id`:50256 for open-end generation.\n",
            "Setting `pad_token_id` to `eos_token_id`:50256 for open-end generation.\n",
            "Setting `pad_token_id` to `eos_token_id`:50256 for open-end generation.\n",
            "Setting `pad_token_id` to `eos_token_id`:50256 for open-end generation.\n",
            "Setting `pad_token_id` to `eos_token_id`:50256 for open-end generation.\n",
            "Setting `pad_token_id` to `eos_token_id`:50256 for open-end generation.\n",
            "Setting `pad_token_id` to `eos_token_id`:50256 for open-end generation.\n",
            "Setting `pad_token_id` to `eos_token_id`:50256 for open-end generation.\n",
            "Setting `pad_token_id` to `eos_token_id`:50256 for open-end generation.\n",
            "Setting `pad_token_id` to `eos_token_id`:50256 for open-end generation.\n",
            "Setting `pad_token_id` to `eos_token_id`:50256 for open-end generation.\n",
            "Setting `pad_token_id` to `eos_token_id`:50256 for open-end generation.\n",
            "Setting `pad_token_id` to `eos_token_id`:50256 for open-end generation.\n",
            "Setting `pad_token_id` to `eos_token_id`:50256 for open-end generation.\n",
            "Setting `pad_token_id` to `eos_token_id`:50256 for open-end generation.\n",
            "Setting `pad_token_id` to `eos_token_id`:50256 for open-end generation.\n",
            "Setting `pad_token_id` to `eos_token_id`:50256 for open-end generation.\n",
            "Setting `pad_token_id` to `eos_token_id`:50256 for open-end generation.\n",
            "Setting `pad_token_id` to `eos_token_id`:50256 for open-end generation.\n",
            "Setting `pad_token_id` to `eos_token_id`:50256 for open-end generation.\n",
            "Setting `pad_token_id` to `eos_token_id`:50256 for open-end generation.\n",
            "Setting `pad_token_id` to `eos_token_id`:50256 for open-end generation.\n",
            "Setting `pad_token_id` to `eos_token_id`:50256 for open-end generation.\n",
            "Setting `pad_token_id` to `eos_token_id`:50256 for open-end generation.\n",
            "Setting `pad_token_id` to `eos_token_id`:50256 for open-end generation.\n",
            "Setting `pad_token_id` to `eos_token_id`:50256 for open-end generation.\n",
            "Setting `pad_token_id` to `eos_token_id`:50256 for open-end generation.\n",
            "Setting `pad_token_id` to `eos_token_id`:50256 for open-end generation.\n",
            "Setting `pad_token_id` to `eos_token_id`:50256 for open-end generation.\n",
            "Setting `pad_token_id` to `eos_token_id`:50256 for open-end generation.\n",
            "Setting `pad_token_id` to `eos_token_id`:50256 for open-end generation.\n",
            "Setting `pad_token_id` to `eos_token_id`:50256 for open-end generation.\n",
            "Setting `pad_token_id` to `eos_token_id`:50256 for open-end generation.\n",
            "Setting `pad_token_id` to `eos_token_id`:50256 for open-end generation.\n",
            "Setting `pad_token_id` to `eos_token_id`:50256 for open-end generation.\n",
            "Setting `pad_token_id` to `eos_token_id`:50256 for open-end generation.\n",
            "Setting `pad_token_id` to `eos_token_id`:50256 for open-end generation.\n",
            "Setting `pad_token_id` to `eos_token_id`:50256 for open-end generation.\n",
            "Setting `pad_token_id` to `eos_token_id`:50256 for open-end generation.\n",
            "Setting `pad_token_id` to `eos_token_id`:50256 for open-end generation.\n",
            "Setting `pad_token_id` to `eos_token_id`:50256 for open-end generation.\n",
            "Setting `pad_token_id` to `eos_token_id`:50256 for open-end generation.\n",
            "Setting `pad_token_id` to `eos_token_id`:50256 for open-end generation.\n",
            "Setting `pad_token_id` to `eos_token_id`:50256 for open-end generation.\n",
            "Setting `pad_token_id` to `eos_token_id`:50256 for open-end generation.\n",
            "Setting `pad_token_id` to `eos_token_id`:50256 for open-end generation.\n",
            "Setting `pad_token_id` to `eos_token_id`:50256 for open-end generation.\n",
            "Setting `pad_token_id` to `eos_token_id`:50256 for open-end generation.\n",
            "Setting `pad_token_id` to `eos_token_id`:50256 for open-end generation.\n",
            "Setting `pad_token_id` to `eos_token_id`:50256 for open-end generation.\n",
            "Setting `pad_token_id` to `eos_token_id`:50256 for open-end generation.\n",
            "Setting `pad_token_id` to `eos_token_id`:50256 for open-end generation.\n",
            "Setting `pad_token_id` to `eos_token_id`:50256 for open-end generation.\n",
            "Setting `pad_token_id` to `eos_token_id`:50256 for open-end generation.\n",
            "Setting `pad_token_id` to `eos_token_id`:50256 for open-end generation.\n",
            "Setting `pad_token_id` to `eos_token_id`:50256 for open-end generation.\n",
            "Setting `pad_token_id` to `eos_token_id`:50256 for open-end generation.\n",
            "Setting `pad_token_id` to `eos_token_id`:50256 for open-end generation.\n",
            "Setting `pad_token_id` to `eos_token_id`:50256 for open-end generation.\n",
            "Setting `pad_token_id` to `eos_token_id`:50256 for open-end generation.\n",
            "Setting `pad_token_id` to `eos_token_id`:50256 for open-end generation.\n",
            "Setting `pad_token_id` to `eos_token_id`:50256 for open-end generation.\n",
            "Setting `pad_token_id` to `eos_token_id`:50256 for open-end generation.\n",
            "Setting `pad_token_id` to `eos_token_id`:50256 for open-end generation.\n",
            "Setting `pad_token_id` to `eos_token_id`:50256 for open-end generation.\n",
            "Setting `pad_token_id` to `eos_token_id`:50256 for open-end generation.\n",
            "Setting `pad_token_id` to `eos_token_id`:50256 for open-end generation.\n",
            "Setting `pad_token_id` to `eos_token_id`:50256 for open-end generation.\n",
            "Setting `pad_token_id` to `eos_token_id`:50256 for open-end generation.\n",
            "Setting `pad_token_id` to `eos_token_id`:50256 for open-end generation.\n",
            "Setting `pad_token_id` to `eos_token_id`:50256 for open-end generation.\n",
            "Setting `pad_token_id` to `eos_token_id`:50256 for open-end generation.\n",
            "Setting `pad_token_id` to `eos_token_id`:50256 for open-end generation.\n",
            "Setting `pad_token_id` to `eos_token_id`:50256 for open-end generation.\n",
            "Setting `pad_token_id` to `eos_token_id`:50256 for open-end generation.\n",
            "Setting `pad_token_id` to `eos_token_id`:50256 for open-end generation.\n",
            "Setting `pad_token_id` to `eos_token_id`:50256 for open-end generation.\n",
            "Setting `pad_token_id` to `eos_token_id`:50256 for open-end generation.\n",
            "Setting `pad_token_id` to `eos_token_id`:50256 for open-end generation.\n",
            "Setting `pad_token_id` to `eos_token_id`:50256 for open-end generation.\n",
            "Setting `pad_token_id` to `eos_token_id`:50256 for open-end generation.\n",
            "Setting `pad_token_id` to `eos_token_id`:50256 for open-end generation.\n",
            "Setting `pad_token_id` to `eos_token_id`:50256 for open-end generation.\n",
            "Setting `pad_token_id` to `eos_token_id`:50256 for open-end generation.\n",
            "Setting `pad_token_id` to `eos_token_id`:50256 for open-end generation.\n",
            "Setting `pad_token_id` to `eos_token_id`:50256 for open-end generation.\n",
            "Setting `pad_token_id` to `eos_token_id`:50256 for open-end generation.\n",
            "Setting `pad_token_id` to `eos_token_id`:50256 for open-end generation.\n",
            "Setting `pad_token_id` to `eos_token_id`:50256 for open-end generation.\n",
            "Setting `pad_token_id` to `eos_token_id`:50256 for open-end generation.\n",
            "Setting `pad_token_id` to `eos_token_id`:50256 for open-end generation.\n",
            "Setting `pad_token_id` to `eos_token_id`:50256 for open-end generation.\n",
            "Setting `pad_token_id` to `eos_token_id`:50256 for open-end generation.\n",
            "Setting `pad_token_id` to `eos_token_id`:50256 for open-end generation.\n",
            "Setting `pad_token_id` to `eos_token_id`:50256 for open-end generation.\n",
            "Setting `pad_token_id` to `eos_token_id`:50256 for open-end generation.\n",
            "Setting `pad_token_id` to `eos_token_id`:50256 for open-end generation.\n",
            "Setting `pad_token_id` to `eos_token_id`:50256 for open-end generation.\n",
            "Setting `pad_token_id` to `eos_token_id`:50256 for open-end generation.\n",
            "Setting `pad_token_id` to `eos_token_id`:50256 for open-end generation.\n",
            "Setting `pad_token_id` to `eos_token_id`:50256 for open-end generation.\n",
            "Setting `pad_token_id` to `eos_token_id`:50256 for open-end generation.\n",
            "Setting `pad_token_id` to `eos_token_id`:50256 for open-end generation.\n",
            "Setting `pad_token_id` to `eos_token_id`:50256 for open-end generation.\n",
            "Setting `pad_token_id` to `eos_token_id`:50256 for open-end generation.\n",
            "Setting `pad_token_id` to `eos_token_id`:50256 for open-end generation.\n",
            "Setting `pad_token_id` to `eos_token_id`:50256 for open-end generation.\n",
            "Setting `pad_token_id` to `eos_token_id`:50256 for open-end generation.\n",
            "Setting `pad_token_id` to `eos_token_id`:50256 for open-end generation.\n",
            "Setting `pad_token_id` to `eos_token_id`:50256 for open-end generation.\n",
            "Setting `pad_token_id` to `eos_token_id`:50256 for open-end generation.\n",
            "Setting `pad_token_id` to `eos_token_id`:50256 for open-end generation.\n",
            "Setting `pad_token_id` to `eos_token_id`:50256 for open-end generation.\n",
            "Setting `pad_token_id` to `eos_token_id`:50256 for open-end generation.\n",
            "Setting `pad_token_id` to `eos_token_id`:50256 for open-end generation.\n",
            "Setting `pad_token_id` to `eos_token_id`:50256 for open-end generation.\n",
            "Setting `pad_token_id` to `eos_token_id`:50256 for open-end generation.\n",
            "Setting `pad_token_id` to `eos_token_id`:50256 for open-end generation.\n",
            "Setting `pad_token_id` to `eos_token_id`:50256 for open-end generation.\n",
            "Setting `pad_token_id` to `eos_token_id`:50256 for open-end generation.\n",
            "Setting `pad_token_id` to `eos_token_id`:50256 for open-end generation.\n",
            "Setting `pad_token_id` to `eos_token_id`:50256 for open-end generation.\n",
            "Setting `pad_token_id` to `eos_token_id`:50256 for open-end generation.\n",
            "Setting `pad_token_id` to `eos_token_id`:50256 for open-end generation.\n",
            "Setting `pad_token_id` to `eos_token_id`:50256 for open-end generation.\n",
            "Setting `pad_token_id` to `eos_token_id`:50256 for open-end generation.\n",
            "Setting `pad_token_id` to `eos_token_id`:50256 for open-end generation.\n",
            "Setting `pad_token_id` to `eos_token_id`:50256 for open-end generation.\n",
            "Setting `pad_token_id` to `eos_token_id`:50256 for open-end generation.\n",
            "Setting `pad_token_id` to `eos_token_id`:50256 for open-end generation.\n",
            "Setting `pad_token_id` to `eos_token_id`:50256 for open-end generation.\n",
            "Setting `pad_token_id` to `eos_token_id`:50256 for open-end generation.\n",
            "Setting `pad_token_id` to `eos_token_id`:50256 for open-end generation.\n",
            "Setting `pad_token_id` to `eos_token_id`:50256 for open-end generation.\n",
            "Setting `pad_token_id` to `eos_token_id`:50256 for open-end generation.\n",
            "Setting `pad_token_id` to `eos_token_id`:50256 for open-end generation.\n",
            "Setting `pad_token_id` to `eos_token_id`:50256 for open-end generation.\n",
            "Setting `pad_token_id` to `eos_token_id`:50256 for open-end generation.\n",
            "Setting `pad_token_id` to `eos_token_id`:50256 for open-end generation.\n",
            "Setting `pad_token_id` to `eos_token_id`:50256 for open-end generation.\n",
            "Setting `pad_token_id` to `eos_token_id`:50256 for open-end generation.\n",
            "Setting `pad_token_id` to `eos_token_id`:50256 for open-end generation.\n",
            "Setting `pad_token_id` to `eos_token_id`:50256 for open-end generation.\n",
            "Setting `pad_token_id` to `eos_token_id`:50256 for open-end generation.\n",
            "Setting `pad_token_id` to `eos_token_id`:50256 for open-end generation.\n",
            "Setting `pad_token_id` to `eos_token_id`:50256 for open-end generation.\n",
            "Setting `pad_token_id` to `eos_token_id`:50256 for open-end generation.\n",
            "Setting `pad_token_id` to `eos_token_id`:50256 for open-end generation.\n",
            "Setting `pad_token_id` to `eos_token_id`:50256 for open-end generation.\n",
            "Setting `pad_token_id` to `eos_token_id`:50256 for open-end generation.\n",
            "Setting `pad_token_id` to `eos_token_id`:50256 for open-end generation.\n",
            "Setting `pad_token_id` to `eos_token_id`:50256 for open-end generation.\n",
            "Setting `pad_token_id` to `eos_token_id`:50256 for open-end generation.\n",
            "Setting `pad_token_id` to `eos_token_id`:50256 for open-end generation.\n",
            "Setting `pad_token_id` to `eos_token_id`:50256 for open-end generation.\n",
            "Setting `pad_token_id` to `eos_token_id`:50256 for open-end generation.\n",
            "Setting `pad_token_id` to `eos_token_id`:50256 for open-end generation.\n",
            "Setting `pad_token_id` to `eos_token_id`:50256 for open-end generation.\n",
            "Setting `pad_token_id` to `eos_token_id`:50256 for open-end generation.\n",
            "Setting `pad_token_id` to `eos_token_id`:50256 for open-end generation.\n",
            "Setting `pad_token_id` to `eos_token_id`:50256 for open-end generation.\n",
            "Setting `pad_token_id` to `eos_token_id`:50256 for open-end generation.\n",
            "Setting `pad_token_id` to `eos_token_id`:50256 for open-end generation.\n",
            "Setting `pad_token_id` to `eos_token_id`:50256 for open-end generation.\n",
            "Setting `pad_token_id` to `eos_token_id`:50256 for open-end generation.\n",
            "Setting `pad_token_id` to `eos_token_id`:50256 for open-end generation.\n",
            "Setting `pad_token_id` to `eos_token_id`:50256 for open-end generation.\n",
            "Setting `pad_token_id` to `eos_token_id`:50256 for open-end generation.\n",
            "Setting `pad_token_id` to `eos_token_id`:50256 for open-end generation.\n",
            "Setting `pad_token_id` to `eos_token_id`:50256 for open-end generation.\n",
            "Setting `pad_token_id` to `eos_token_id`:50256 for open-end generation.\n",
            "Setting `pad_token_id` to `eos_token_id`:50256 for open-end generation.\n",
            "Setting `pad_token_id` to `eos_token_id`:50256 for open-end generation.\n",
            "Setting `pad_token_id` to `eos_token_id`:50256 for open-end generation.\n",
            "Setting `pad_token_id` to `eos_token_id`:50256 for open-end generation.\n",
            "Setting `pad_token_id` to `eos_token_id`:50256 for open-end generation.\n",
            "Setting `pad_token_id` to `eos_token_id`:50256 for open-end generation.\n",
            "Setting `pad_token_id` to `eos_token_id`:50256 for open-end generation.\n",
            "Setting `pad_token_id` to `eos_token_id`:50256 for open-end generation.\n",
            "Setting `pad_token_id` to `eos_token_id`:50256 for open-end generation.\n",
            "Setting `pad_token_id` to `eos_token_id`:50256 for open-end generation.\n",
            "Setting `pad_token_id` to `eos_token_id`:50256 for open-end generation.\n",
            "Setting `pad_token_id` to `eos_token_id`:50256 for open-end generation.\n",
            "Setting `pad_token_id` to `eos_token_id`:50256 for open-end generation.\n",
            "Setting `pad_token_id` to `eos_token_id`:50256 for open-end generation.\n",
            "Setting `pad_token_id` to `eos_token_id`:50256 for open-end generation.\n",
            "Setting `pad_token_id` to `eos_token_id`:50256 for open-end generation.\n",
            "Setting `pad_token_id` to `eos_token_id`:50256 for open-end generation.\n",
            "Setting `pad_token_id` to `eos_token_id`:50256 for open-end generation.\n",
            "Setting `pad_token_id` to `eos_token_id`:50256 for open-end generation.\n",
            "Setting `pad_token_id` to `eos_token_id`:50256 for open-end generation.\n",
            "Setting `pad_token_id` to `eos_token_id`:50256 for open-end generation.\n",
            "Setting `pad_token_id` to `eos_token_id`:50256 for open-end generation.\n",
            "Setting `pad_token_id` to `eos_token_id`:50256 for open-end generation.\n"
          ]
        }
      ]
    },
    {
      "cell_type": "code",
      "source": [
        "len(validation_dataloader)"
      ],
      "metadata": {
        "colab": {
          "base_uri": "https://localhost:8080/"
        },
        "id": "0txRW0hNFdNh",
        "outputId": "06ea0774-0940-4e48-85b5-cb569427e812"
      },
      "execution_count": null,
      "outputs": [
        {
          "output_type": "execute_result",
          "data": {
            "text/plain": [
              "1002"
            ]
          },
          "metadata": {},
          "execution_count": 35
        }
      ]
    },
    {
      "cell_type": "code",
      "source": [
        "avg_bleu"
      ],
      "metadata": {
        "colab": {
          "base_uri": "https://localhost:8080/"
        },
        "id": "nivOrw13McN_",
        "outputId": "c17edfbd-05e3-42ab-b923-b5c9d3214fbc"
      },
      "execution_count": null,
      "outputs": [
        {
          "output_type": "execute_result",
          "data": {
            "text/plain": [
              "0.36538703758430674"
            ]
          },
          "metadata": {},
          "execution_count": 37
        }
      ]
    },
    {
      "cell_type": "code",
      "source": [
        ""
      ],
      "metadata": {
        "id": "YY9zqDnuj2sj"
      },
      "execution_count": null,
      "outputs": []
    }
  ]
}
